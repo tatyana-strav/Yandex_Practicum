{
 "cells": [
  {
   "cell_type": "markdown",
   "metadata": {
    "toc": true
   },
   "source": [
    "<h1>Содержание<span class=\"tocSkip\"></span></h1>\n",
    "<div class=\"toc\"><ul class=\"toc-item\"><li><span><a href=\"#Обзор-данных\" data-toc-modified-id=\"Обзор-данных-1\"><span class=\"toc-item-num\">1&nbsp;&nbsp;</span>Обзор данных</a></span></li><li><span><a href=\"#Предобработка-данных\" data-toc-modified-id=\"Предобработка-данных-2\"><span class=\"toc-item-num\">2&nbsp;&nbsp;</span>Предобработка данных</a></span><ul class=\"toc-item\"><li><span><a href=\"#Стиль-заголовков\" data-toc-modified-id=\"Стиль-заголовков-2.1\"><span class=\"toc-item-num\">2.1&nbsp;&nbsp;</span>Стиль заголовков</a></span></li><li><span><a href=\"#Пропуски-значений\" data-toc-modified-id=\"Пропуски-значений-2.2\"><span class=\"toc-item-num\">2.2&nbsp;&nbsp;</span>Пропуски значений</a></span></li><li><span><a href=\"#Дубликаты\" data-toc-modified-id=\"Дубликаты-2.3\"><span class=\"toc-item-num\">2.3&nbsp;&nbsp;</span>Дубликаты</a></span></li></ul></li><li><span><a href=\"#Проверка-гипотез\" data-toc-modified-id=\"Проверка-гипотез-3\"><span class=\"toc-item-num\">3&nbsp;&nbsp;</span>Проверка гипотез</a></span><ul class=\"toc-item\"><li><span><a href=\"#Сравнение-поведения-пользователей-двух-столиц\" data-toc-modified-id=\"Сравнение-поведения-пользователей-двух-столиц-3.1\"><span class=\"toc-item-num\">3.1&nbsp;&nbsp;</span>Сравнение поведения пользователей двух столиц</a></span></li><li><span><a href=\"#Музыка-в-начале-и-в-конце-недели\" data-toc-modified-id=\"Музыка-в-начале-и-в-конце-недели-3.2\"><span class=\"toc-item-num\">3.2&nbsp;&nbsp;</span>Музыка в начале и в конце недели</a></span></li><li><span><a href=\"#Жанровые-предпочтения-в-Москве-и-Петербурге\" data-toc-modified-id=\"Жанровые-предпочтения-в-Москве-и-Петербурге-3.3\"><span class=\"toc-item-num\">3.3&nbsp;&nbsp;</span>Жанровые предпочтения в Москве и Петербурге</a></span></li></ul></li><li><span><a href=\"#Итоги-исследования\" data-toc-modified-id=\"Итоги-исследования-4\"><span class=\"toc-item-num\">4&nbsp;&nbsp;</span>Итоги исследования</a></span></li></ul></div>"
   ]
  },
  {
   "cell_type": "markdown",
   "metadata": {
    "id": "E0vqbgi9ay0H"
   },
   "source": [
    "# Яндекс.Музыка"
   ]
  },
  {
   "cell_type": "markdown",
   "metadata": {
    "id": "VUC88oWjTJw2"
   },
   "source": [
    "Сравнение Москвы и Петербурга окружено мифами. Например:\n",
    " * Москва — мегаполис, подчинённый жёсткому ритму рабочей недели;\n",
    " * Петербург — культурная столица, со своими вкусами.\n",
    "\n",
    "На данных Яндекс.Музыки вы сравните поведение пользователей двух столиц.\n",
    "\n",
    "**Цель исследования** — проверьте три гипотезы:\n",
    "1. Активность пользователей зависит от дня недели. Причём в Москве и Петербурге это проявляется по-разному.\n",
    "2. В понедельник утром в Москве преобладают одни жанры, а в Петербурге — другие. Так же и вечером пятницы преобладают разные жанры — в зависимости от города. \n",
    "3. Москва и Петербург предпочитают разные жанры музыки. В Москве чаще слушают поп-музыку, в Петербурге — русский рэп.\n",
    "\n",
    "**Ход исследования**\n",
    "\n",
    "Данные о поведении пользователей вы получите из файла `yandex_music_project.csv`. О качестве данных ничего не известно. Поэтому перед проверкой гипотез понадобится обзор данных. \n",
    "\n",
    "Вы проверите данные на ошибки и оцените их влияние на исследование. Затем, на этапе предобработки вы поищете возможность исправить самые критичные ошибки данных.\n",
    " \n",
    "Таким образом, исследование пройдёт в три этапа:\n",
    " 1. Обзор данных.\n",
    " 2. Предобработка данных.\n",
    " 3. Проверка гипотез.\n",
    "\n"
   ]
  },
  {
   "cell_type": "markdown",
   "metadata": {
    "id": "Ml1hmfXC_Zcs"
   },
   "source": [
    "## Обзор данных\n",
    "\n",
    "Составьте первое представление о данных Яндекс.Музыки.\n",
    "\n",
    "\n"
   ]
  },
  {
   "cell_type": "markdown",
   "metadata": {
    "id": "57eAOGIz_Zcs"
   },
   "source": [
    "Основной инструмент аналитика — `pandas`. Импортируйте эту библиотеку."
   ]
  },
  {
   "cell_type": "code",
   "execution_count": 1,
   "metadata": {
    "id": "AXN7PHPN_Zcs"
   },
   "outputs": [],
   "source": [
    "# импорт библиотеки pandas\n",
    "import pandas as pd"
   ]
  },
  {
   "cell_type": "markdown",
   "metadata": {
    "id": "SG23P8tt_Zcs"
   },
   "source": [
    "Прочитайте файл `yandex_music_project.csv` из папки `/datasets` и сохраните его в переменной `df`:"
   ]
  },
  {
   "cell_type": "code",
   "execution_count": 2,
   "metadata": {
    "id": "fFVu7vqh_Zct"
   },
   "outputs": [],
   "source": [
    "# чтение файла с данными и сохранение в df\n",
    "df = pd.read_csv(r'01_music\\yandex_music_project.csv')"
   ]
  },
  {
   "cell_type": "markdown",
   "metadata": {
    "id": "rDoOMd3uTqnZ"
   },
   "source": [
    "Выведите на экран первые десять строк таблицы:"
   ]
  },
  {
   "cell_type": "code",
   "execution_count": 3,
   "metadata": {
    "id": "oWTVX3gW_Zct"
   },
   "outputs": [
    {
     "data": {
      "text/html": [
       "<div>\n",
       "<style scoped>\n",
       "    .dataframe tbody tr th:only-of-type {\n",
       "        vertical-align: middle;\n",
       "    }\n",
       "\n",
       "    .dataframe tbody tr th {\n",
       "        vertical-align: top;\n",
       "    }\n",
       "\n",
       "    .dataframe thead th {\n",
       "        text-align: right;\n",
       "    }\n",
       "</style>\n",
       "<table border=\"1\" class=\"dataframe\">\n",
       "  <thead>\n",
       "    <tr style=\"text-align: right;\">\n",
       "      <th></th>\n",
       "      <th>userID</th>\n",
       "      <th>Track</th>\n",
       "      <th>artist</th>\n",
       "      <th>genre</th>\n",
       "      <th>City</th>\n",
       "      <th>time</th>\n",
       "      <th>Day</th>\n",
       "    </tr>\n",
       "  </thead>\n",
       "  <tbody>\n",
       "    <tr>\n",
       "      <td>0</td>\n",
       "      <td>FFB692EC</td>\n",
       "      <td>Kamigata To Boots</td>\n",
       "      <td>The Mass Missile</td>\n",
       "      <td>rock</td>\n",
       "      <td>Saint-Petersburg</td>\n",
       "      <td>20:28:33</td>\n",
       "      <td>Wednesday</td>\n",
       "    </tr>\n",
       "    <tr>\n",
       "      <td>1</td>\n",
       "      <td>55204538</td>\n",
       "      <td>Delayed Because of Accident</td>\n",
       "      <td>Andreas Rönnberg</td>\n",
       "      <td>rock</td>\n",
       "      <td>Moscow</td>\n",
       "      <td>14:07:09</td>\n",
       "      <td>Friday</td>\n",
       "    </tr>\n",
       "    <tr>\n",
       "      <td>2</td>\n",
       "      <td>20EC38</td>\n",
       "      <td>Funiculì funiculà</td>\n",
       "      <td>Mario Lanza</td>\n",
       "      <td>pop</td>\n",
       "      <td>Saint-Petersburg</td>\n",
       "      <td>20:58:07</td>\n",
       "      <td>Wednesday</td>\n",
       "    </tr>\n",
       "    <tr>\n",
       "      <td>3</td>\n",
       "      <td>A3DD03C9</td>\n",
       "      <td>Dragons in the Sunset</td>\n",
       "      <td>Fire + Ice</td>\n",
       "      <td>folk</td>\n",
       "      <td>Saint-Petersburg</td>\n",
       "      <td>08:37:09</td>\n",
       "      <td>Monday</td>\n",
       "    </tr>\n",
       "    <tr>\n",
       "      <td>4</td>\n",
       "      <td>E2DC1FAE</td>\n",
       "      <td>Soul People</td>\n",
       "      <td>Space Echo</td>\n",
       "      <td>dance</td>\n",
       "      <td>Moscow</td>\n",
       "      <td>08:34:34</td>\n",
       "      <td>Monday</td>\n",
       "    </tr>\n",
       "    <tr>\n",
       "      <td>5</td>\n",
       "      <td>842029A1</td>\n",
       "      <td>Преданная</td>\n",
       "      <td>IMPERVTOR</td>\n",
       "      <td>rusrap</td>\n",
       "      <td>Saint-Petersburg</td>\n",
       "      <td>13:09:41</td>\n",
       "      <td>Friday</td>\n",
       "    </tr>\n",
       "    <tr>\n",
       "      <td>6</td>\n",
       "      <td>4CB90AA5</td>\n",
       "      <td>True</td>\n",
       "      <td>Roman Messer</td>\n",
       "      <td>dance</td>\n",
       "      <td>Moscow</td>\n",
       "      <td>13:00:07</td>\n",
       "      <td>Wednesday</td>\n",
       "    </tr>\n",
       "    <tr>\n",
       "      <td>7</td>\n",
       "      <td>F03E1C1F</td>\n",
       "      <td>Feeling This Way</td>\n",
       "      <td>Polina Griffith</td>\n",
       "      <td>dance</td>\n",
       "      <td>Moscow</td>\n",
       "      <td>20:47:49</td>\n",
       "      <td>Wednesday</td>\n",
       "    </tr>\n",
       "    <tr>\n",
       "      <td>8</td>\n",
       "      <td>8FA1D3BE</td>\n",
       "      <td>И вновь продолжается бой</td>\n",
       "      <td>NaN</td>\n",
       "      <td>ruspop</td>\n",
       "      <td>Moscow</td>\n",
       "      <td>09:17:40</td>\n",
       "      <td>Friday</td>\n",
       "    </tr>\n",
       "    <tr>\n",
       "      <td>9</td>\n",
       "      <td>E772D5C0</td>\n",
       "      <td>Pessimist</td>\n",
       "      <td>NaN</td>\n",
       "      <td>dance</td>\n",
       "      <td>Saint-Petersburg</td>\n",
       "      <td>21:20:49</td>\n",
       "      <td>Wednesday</td>\n",
       "    </tr>\n",
       "  </tbody>\n",
       "</table>\n",
       "</div>"
      ],
      "text/plain": [
       "     userID                        Track            artist   genre  \\\n",
       "0  FFB692EC            Kamigata To Boots  The Mass Missile    rock   \n",
       "1  55204538  Delayed Because of Accident  Andreas Rönnberg    rock   \n",
       "2    20EC38            Funiculì funiculà       Mario Lanza     pop   \n",
       "3  A3DD03C9        Dragons in the Sunset        Fire + Ice    folk   \n",
       "4  E2DC1FAE                  Soul People        Space Echo   dance   \n",
       "5  842029A1                    Преданная         IMPERVTOR  rusrap   \n",
       "6  4CB90AA5                         True      Roman Messer   dance   \n",
       "7  F03E1C1F             Feeling This Way   Polina Griffith   dance   \n",
       "8  8FA1D3BE     И вновь продолжается бой               NaN  ruspop   \n",
       "9  E772D5C0                    Pessimist               NaN   dance   \n",
       "\n",
       "             City        time        Day  \n",
       "0  Saint-Petersburg  20:28:33  Wednesday  \n",
       "1            Moscow  14:07:09     Friday  \n",
       "2  Saint-Petersburg  20:58:07  Wednesday  \n",
       "3  Saint-Petersburg  08:37:09     Monday  \n",
       "4            Moscow  08:34:34     Monday  \n",
       "5  Saint-Petersburg  13:09:41     Friday  \n",
       "6            Moscow  13:00:07  Wednesday  \n",
       "7            Moscow  20:47:49  Wednesday  \n",
       "8            Moscow  09:17:40     Friday  \n",
       "9  Saint-Petersburg  21:20:49  Wednesday  "
      ]
     },
     "execution_count": 3,
     "metadata": {},
     "output_type": "execute_result"
    }
   ],
   "source": [
    "# получение первых 10 строк таблицы df\n",
    "df.head(10)"
   ]
  },
  {
   "cell_type": "markdown",
   "metadata": {
    "id": "EO73Kwic_Zct"
   },
   "source": [
    "Одной командой получить общую информацию о таблице:"
   ]
  },
  {
   "cell_type": "code",
   "execution_count": 4,
   "metadata": {
    "id": "DSf2kIb-_Zct"
   },
   "outputs": [
    {
     "name": "stdout",
     "output_type": "stream",
     "text": [
      "<class 'pandas.core.frame.DataFrame'>\n",
      "RangeIndex: 65079 entries, 0 to 65078\n",
      "Data columns (total 7 columns):\n",
      "  userID    65079 non-null object\n",
      "Track       63848 non-null object\n",
      "artist      57876 non-null object\n",
      "genre       63881 non-null object\n",
      "  City      65079 non-null object\n",
      "time        65079 non-null object\n",
      "Day         65079 non-null object\n",
      "dtypes: object(7)\n",
      "memory usage: 3.5+ MB\n"
     ]
    }
   ],
   "source": [
    "# получение общей информации о данных в таблице df\n",
    "df.info()"
   ]
  },
  {
   "cell_type": "markdown",
   "metadata": {
    "id": "TaQ2Iwbr_Zct"
   },
   "source": [
    "Итак, в таблице семь столбцов. Тип данных во всех столбцах — `object`.\n",
    "\n",
    "Согласно документации к данным:\n",
    "* `userID` — идентификатор пользователя;\n",
    "* `Track` — название трека;  \n",
    "* `artist` — имя исполнителя;\n",
    "* `genre` — название жанра;\n",
    "* `City` — город пользователя;\n",
    "* `time` — время начала прослушивания;\n",
    "* `Day` — день недели.\n",
    "\n",
    "В названиях колонок видны три нарушения стиля:\n",
    "1. Строчные буквы сочетаются с прописными.\n",
    "2. Встречаются пробелы.\n",
    "3. Найдите ещё одну проблему в названии колонок и опишите её в этом пункте: помимо использования строчных и прописных букв при написании названия столбца `userID` использован \"верблюжий\" регистр. Лучше оформить данный столбец следующим образом — `user_id`.\n",
    "\n",
    "\n",
    "\n",
    "Количество значений в столбцах различается. Значит, в данных есть пропущенные значения.\n"
   ]
  },
  {
   "cell_type": "markdown",
   "metadata": {
    "id": "MCB6-dXG_Zct"
   },
   "source": [
    "**Выводы**\n",
    "\n",
    "В каждой строке таблицы — данные о прослушанном треке. Часть колонок описывает саму композицию: название, исполнителя и жанр. Остальные данные рассказывают о пользователе: из какого он города, когда он слушал музыку. \n",
    "\n",
    "Предварительно можно утверждать, что, данных достаточно для проверки гипотез. Но встречаются пропуски в данных, а в названиях колонок — расхождения с хорошим стилем.\n",
    "\n",
    "Чтобы двигаться дальше, нужно устранить проблемы в данных."
   ]
  },
  {
   "cell_type": "markdown",
   "metadata": {
    "id": "SjYF6Ub9_Zct"
   },
   "source": [
    "## Предобработка данных\n",
    "Исправьте стиль в заголовках столбцов, исключите пропуски. Затем проверьте данные на дубликаты."
   ]
  },
  {
   "cell_type": "markdown",
   "metadata": {
    "id": "dIaKXr29_Zct"
   },
   "source": [
    "### Стиль заголовков\n",
    "Выведите на экран названия столбцов:"
   ]
  },
  {
   "cell_type": "code",
   "execution_count": 5,
   "metadata": {
    "id": "oKOTdF_Q_Zct"
   },
   "outputs": [
    {
     "data": {
      "text/plain": [
       "Index(['  userID', 'Track', 'artist', 'genre', '  City  ', 'time', 'Day'], dtype='object')"
      ]
     },
     "execution_count": 5,
     "metadata": {},
     "output_type": "execute_result"
    }
   ],
   "source": [
    "# перечень названий столбцов таблицы df\n",
    "df.columns"
   ]
  },
  {
   "cell_type": "markdown",
   "metadata": {
    "id": "zj5534cv_Zct"
   },
   "source": [
    "Приведите названия в соответствие с хорошим стилем:\n",
    "* несколько слов в названии запишите в «змеином_регистре»,\n",
    "* все символы сделайте строчными,\n",
    "* устраните пробелы.\n",
    "\n",
    "Для этого переименуйте колонки так:\n",
    "* `'  userID'` → `'user_id'`;\n",
    "* `'Track'` → `'track'`;\n",
    "* `'  City  '` → `'city'`;\n",
    "* `'Day'` → `'day'`."
   ]
  },
  {
   "cell_type": "code",
   "execution_count": 6,
   "metadata": {
    "id": "ISlFqs5y_Zct"
   },
   "outputs": [],
   "source": [
    "# переименование столбцов\n",
    "df = df.rename(columns={'  userID': 'user_id', 'Track': 'track', '  City  ': 'city', 'Day': 'day'})"
   ]
  },
  {
   "cell_type": "markdown",
   "metadata": {
    "id": "1dqbh00J_Zct"
   },
   "source": [
    "Проверьте результат. Для этого ещё раз выведите на экран названия столбцов:"
   ]
  },
  {
   "cell_type": "code",
   "execution_count": 7,
   "metadata": {
    "id": "d4NOAmTW_Zct"
   },
   "outputs": [
    {
     "data": {
      "text/plain": [
       "Index(['user_id', 'track', 'artist', 'genre', 'city', 'time', 'day'], dtype='object')"
      ]
     },
     "execution_count": 7,
     "metadata": {},
     "output_type": "execute_result"
    }
   ],
   "source": [
    "# проверка результатов - перечень названий столбцов\n",
    "df.columns"
   ]
  },
  {
   "cell_type": "markdown",
   "metadata": {
    "id": "5ISfbcfY_Zct"
   },
   "source": [
    "### Пропуски значений\n",
    "Сначала посчитайте, сколько в таблице пропущенных значений. Для этого достаточно двух методов `pandas`:"
   ]
  },
  {
   "cell_type": "code",
   "execution_count": 8,
   "metadata": {
    "id": "RskX29qr_Zct"
   },
   "outputs": [
    {
     "data": {
      "text/plain": [
       "user_id       0\n",
       "track      1231\n",
       "artist     7203\n",
       "genre      1198\n",
       "city          0\n",
       "time          0\n",
       "day           0\n",
       "dtype: int64"
      ]
     },
     "execution_count": 8,
     "metadata": {},
     "output_type": "execute_result"
    }
   ],
   "source": [
    "# подсчёт пропусков\n",
    "df.isna().sum()"
   ]
  },
  {
   "cell_type": "markdown",
   "metadata": {
    "id": "qubhgnlO_Zct"
   },
   "source": [
    "Не все пропущенные значения влияют на исследование. Так в `track` и `artist` пропуски не важны для вашей работы. Достаточно заменить их явными обозначениями.\n",
    "\n",
    "Но пропуски в `genre` могут помешать сравнению музыкальных вкусов в Москве и Санкт-Петербурге. На практике было бы правильно установить причину пропусков и восстановить данные. Такой возможности нет в учебном проекте. Придётся:\n",
    "* заполнить и эти пропуски явными обозначениями,\n",
    "* оценить, насколько они повредят расчётам. "
   ]
  },
  {
   "cell_type": "markdown",
   "metadata": {
    "id": "fSv2laPA_Zct"
   },
   "source": [
    "Замените пропущенные значения в столбцах `track`, `artist` и `genre` на строку `'unknown'`. Для этого создайте список `columns_to_replace`, переберите его элементы циклом `for` и для каждого столбца выполните замену пропущенных значений:"
   ]
  },
  {
   "cell_type": "code",
   "execution_count": 9,
   "metadata": {
    "id": "KplB5qWs_Zct"
   },
   "outputs": [],
   "source": [
    "# перебор названий столбцов в цикле и замена пропущенных значений на 'unknown'\n",
    "columns_to_replace = ['track', 'artist', 'genre']\n",
    "for column in columns_to_replace:\n",
    "    df[column] = df[column].fillna('unknown')"
   ]
  },
  {
   "cell_type": "markdown",
   "metadata": {
    "id": "Ilsm-MZo_Zct"
   },
   "source": [
    "Убедитесь, что в таблице не осталось пропусков. Для этого ещё раз посчитайте пропущенные значения."
   ]
  },
  {
   "cell_type": "code",
   "execution_count": 10,
   "metadata": {
    "id": "Tq4nYRX4_Zct"
   },
   "outputs": [
    {
     "data": {
      "text/plain": [
       "user_id    0\n",
       "track      0\n",
       "artist     0\n",
       "genre      0\n",
       "city       0\n",
       "time       0\n",
       "day        0\n",
       "dtype: int64"
      ]
     },
     "execution_count": 10,
     "metadata": {},
     "output_type": "execute_result"
    }
   ],
   "source": [
    "# подсчёт пропусков\n",
    "df.isna().sum()"
   ]
  },
  {
   "cell_type": "markdown",
   "metadata": {
    "id": "BWKRtBJ3_Zct"
   },
   "source": [
    "### Дубликаты\n",
    "Посчитайте явные дубликаты в таблице одной командой:"
   ]
  },
  {
   "cell_type": "code",
   "execution_count": 11,
   "metadata": {
    "id": "36eES_S0_Zct"
   },
   "outputs": [
    {
     "data": {
      "text/plain": [
       "3826"
      ]
     },
     "execution_count": 11,
     "metadata": {},
     "output_type": "execute_result"
    }
   ],
   "source": [
    "# подсчёт явных дубликатов\n",
    "df.duplicated().sum()"
   ]
  },
  {
   "cell_type": "markdown",
   "metadata": {
    "id": "Ot25h6XR_Zct"
   },
   "source": [
    "Вызовите специальный метод `pandas`, чтобы удалить явные дубликаты:"
   ]
  },
  {
   "cell_type": "code",
   "execution_count": 12,
   "metadata": {
    "id": "exFHq6tt_Zct"
   },
   "outputs": [],
   "source": [
    "# удаление явных дубликатов (с удалением старых индексов и формированием новых)\n",
    "df = df.drop_duplicates().reset_index(drop=True)"
   ]
  },
  {
   "cell_type": "markdown",
   "metadata": {
    "id": "Im2YwBEG_Zct"
   },
   "source": [
    "Ещё раз посчитайте явные дубликаты в таблице — убедитесь, что полностью от них избавились:"
   ]
  },
  {
   "cell_type": "code",
   "execution_count": 13,
   "metadata": {
    "id": "-8PuNWQ0_Zct"
   },
   "outputs": [
    {
     "data": {
      "text/plain": [
       "0"
      ]
     },
     "execution_count": 13,
     "metadata": {},
     "output_type": "execute_result"
    }
   ],
   "source": [
    "# проверка на отсутствие дубликатов\n",
    "df.duplicated().sum()"
   ]
  },
  {
   "cell_type": "markdown",
   "metadata": {
    "id": "QlFBsxAr_Zct"
   },
   "source": [
    "Теперь избавьтесь от неявных дубликатов в колонке `genre`. Например, название одного и того же жанра может быть записано немного по-разному. Такие ошибки тоже повлияют на результат исследования."
   ]
  },
  {
   "cell_type": "markdown",
   "metadata": {
    "id": "eSjWwsOh_Zct"
   },
   "source": [
    "Выведите на экран список уникальных названий жанров, отсортированный в алфавитном порядке. Для этого:\n",
    "* извлеките нужный столбец датафрейма, \n",
    "* примените к нему метод сортировки,\n",
    "* для отсортированного столбца вызовите метод, который вернёт уникальные значения из столбца."
   ]
  },
  {
   "cell_type": "code",
   "execution_count": 14,
   "metadata": {
    "id": "JIUcqzZN_Zct"
   },
   "outputs": [
    {
     "data": {
      "text/plain": [
       "array(['acid', 'acoustic', 'action', 'adult', 'africa', 'afrikaans',\n",
       "       'alternative', 'alternativepunk', 'ambient', 'americana',\n",
       "       'animated', 'anime', 'arabesk', 'arabic', 'arena',\n",
       "       'argentinetango', 'art', 'audiobook', 'author', 'avantgarde',\n",
       "       'axé', 'baile', 'balkan', 'beats', 'bigroom', 'black', 'bluegrass',\n",
       "       'blues', 'bollywood', 'bossa', 'brazilian', 'breakbeat', 'breaks',\n",
       "       'broadway', 'cantautori', 'cantopop', 'canzone', 'caribbean',\n",
       "       'caucasian', 'celtic', 'chamber', 'chanson', 'children', 'chill',\n",
       "       'chinese', 'choral', 'christian', 'christmas', 'classical',\n",
       "       'classicmetal', 'club', 'colombian', 'comedy', 'conjazz',\n",
       "       'contemporary', 'country', 'cuban', 'dance', 'dancehall',\n",
       "       'dancepop', 'dark', 'death', 'deep', 'deutschrock', 'deutschspr',\n",
       "       'dirty', 'disco', 'dnb', 'documentary', 'downbeat', 'downtempo',\n",
       "       'drum', 'dub', 'dubstep', 'eastern', 'easy', 'electronic',\n",
       "       'electropop', 'emo', 'entehno', 'epicmetal', 'estrada', 'ethnic',\n",
       "       'eurofolk', 'european', 'experimental', 'extrememetal', 'fado',\n",
       "       'fairytail', 'film', 'fitness', 'flamenco', 'folk', 'folklore',\n",
       "       'folkmetal', 'folkrock', 'folktronica', 'forró', 'frankreich',\n",
       "       'französisch', 'french', 'funk', 'future', 'gangsta', 'garage',\n",
       "       'german', 'ghazal', 'gitarre', 'glitch', 'gospel', 'gothic',\n",
       "       'grime', 'grunge', 'gypsy', 'handsup', \"hard'n'heavy\", 'hardcore',\n",
       "       'hardstyle', 'hardtechno', 'hip', 'hip-hop', 'hiphop',\n",
       "       'historisch', 'holiday', 'hop', 'horror', 'house', 'hymn', 'idm',\n",
       "       'independent', 'indian', 'indie', 'indipop', 'industrial',\n",
       "       'inspirational', 'instrumental', 'international', 'irish', 'jam',\n",
       "       'japanese', 'jazz', 'jewish', 'jpop', 'jungle', 'k-pop',\n",
       "       'karadeniz', 'karaoke', 'kayokyoku', 'korean', 'laiko', 'latin',\n",
       "       'latino', 'leftfield', 'local', 'lounge', 'loungeelectronic',\n",
       "       'lovers', 'malaysian', 'mandopop', 'marschmusik', 'meditative',\n",
       "       'mediterranean', 'melodic', 'metal', 'metalcore', 'mexican',\n",
       "       'middle', 'minimal', 'miscellaneous', 'modern', 'mood', 'mpb',\n",
       "       'muslim', 'native', 'neoklassik', 'neue', 'new', 'newage',\n",
       "       'newwave', 'nu', 'nujazz', 'numetal', 'oceania', 'old', 'opera',\n",
       "       'orchestral', 'other', 'piano', 'podcasts', 'pop', 'popdance',\n",
       "       'popelectronic', 'popeurodance', 'poprussian', 'post',\n",
       "       'posthardcore', 'postrock', 'power', 'progmetal', 'progressive',\n",
       "       'psychedelic', 'punjabi', 'punk', 'quebecois', 'ragga', 'ram',\n",
       "       'rancheras', 'rap', 'rave', 'reggae', 'reggaeton', 'regional',\n",
       "       'relax', 'religious', 'retro', 'rhythm', 'rnb', 'rnr', 'rock',\n",
       "       'rockabilly', 'rockalternative', 'rockindie', 'rockother',\n",
       "       'romance', 'roots', 'ruspop', 'rusrap', 'rusrock', 'russian',\n",
       "       'salsa', 'samba', 'scenic', 'schlager', 'self', 'sertanejo',\n",
       "       'shanson', 'shoegazing', 'showtunes', 'singer', 'ska', 'skarock',\n",
       "       'slow', 'smooth', 'soft', 'soul', 'soulful', 'sound', 'soundtrack',\n",
       "       'southern', 'specialty', 'speech', 'spiritual', 'sport',\n",
       "       'stonerrock', 'surf', 'swing', 'synthpop', 'synthrock',\n",
       "       'sängerportrait', 'tango', 'tanzorchester', 'taraftar', 'tatar',\n",
       "       'tech', 'techno', 'teen', 'thrash', 'top', 'traditional',\n",
       "       'tradjazz', 'trance', 'tribal', 'trip', 'triphop', 'tropical',\n",
       "       'türk', 'türkçe', 'ukrrock', 'unknown', 'urban', 'uzbek',\n",
       "       'variété', 'vi', 'videogame', 'vocal', 'western', 'world',\n",
       "       'worldbeat', 'ïîï', 'электроника'], dtype=object)"
      ]
     },
     "execution_count": 14,
     "metadata": {},
     "output_type": "execute_result"
    }
   ],
   "source": [
    "# Просмотр уникальных названий жанров\n",
    "df['genre'].sort_values().unique()"
   ]
  },
  {
   "cell_type": "markdown",
   "metadata": {
    "id": "qej-Qmuo_Zct"
   },
   "source": [
    "Просмотрите список и найдите неявные дубликаты названия `hiphop`. Это могут быть названия с ошибками или альтернативные названия того же жанра.\n",
    "\n",
    "Вы увидите следующие неявные дубликаты:\n",
    "* *hip*,\n",
    "* *hop*,\n",
    "* *hip-hop*.\n",
    "\n",
    "Чтобы очистить от них таблицу, напишите функцию `replace_wrong_genres()` с двумя параметрами: \n",
    "* `wrong_genres` — список дубликатов,\n",
    "* `correct_genre` — строка с правильным значением.\n",
    "\n",
    "Функция должна исправить колонку `genre` в таблице `df`: заменить каждое значение из списка `wrong_genres` на значение из `correct_genre`."
   ]
  },
  {
   "cell_type": "code",
   "execution_count": 15,
   "metadata": {
    "id": "ErNDkmns_Zct"
   },
   "outputs": [],
   "source": [
    "# Функция для замены неявных дубликатов\n",
    "def replace_wrong_genres(wrong_genres, correct_genre):\n",
    "    for wrong_genre in wrong_genres:\n",
    "        df['genre'] = df['genre'].replace(wrong_genres, correct_genre)"
   ]
  },
  {
   "cell_type": "markdown",
   "metadata": {
    "id": "aDoBJxbA_Zct"
   },
   "source": [
    "Вызовите `replace_wrong_genres()` и передайте ей такие аргументы, чтобы она устранила неявные дубликаты: вместо `hip`, `hop` и `hip-hop` в таблице должно быть значение `hiphop`:"
   ]
  },
  {
   "cell_type": "code",
   "execution_count": 16,
   "metadata": {
    "id": "YN5i2hpmSo09"
   },
   "outputs": [],
   "source": [
    "# Устранение неявных дубликатов\n",
    "duplicates = ['hip', 'hop', 'hip-hop'] \n",
    "genre = 'hiphop'\n",
    "replace_wrong_genres(duplicates, genre)"
   ]
  },
  {
   "cell_type": "markdown",
   "metadata": {},
   "source": [
    "*Также в списке уникальных названий жанров присутствует неявный дубликат названия* `electronic`: `электроника`. *Устраним и его:*"
   ]
  },
  {
   "cell_type": "code",
   "execution_count": 17,
   "metadata": {},
   "outputs": [],
   "source": [
    "# Устранение неявных дубликатов названия electronic\n",
    "duplicates = ['электроника'] \n",
    "genre = 'electronic'\n",
    "replace_wrong_genres(duplicates, genre)"
   ]
  },
  {
   "cell_type": "markdown",
   "metadata": {
    "id": "zQKF16_RG15m"
   },
   "source": [
    "Проверьте, что заменили неправильные названия:\n",
    "\n",
    "*   hip\n",
    "*   hop\n",
    "*   hip-hop\n",
    "*   электроника\n",
    "\n",
    "Выведите отсортированный список уникальных значений столбца `genre`:"
   ]
  },
  {
   "cell_type": "code",
   "execution_count": 18,
   "metadata": {
    "id": "wvixALnFG15m"
   },
   "outputs": [
    {
     "data": {
      "text/plain": [
       "array(['acid', 'acoustic', 'action', 'adult', 'africa', 'afrikaans',\n",
       "       'alternative', 'alternativepunk', 'ambient', 'americana',\n",
       "       'animated', 'anime', 'arabesk', 'arabic', 'arena',\n",
       "       'argentinetango', 'art', 'audiobook', 'author', 'avantgarde',\n",
       "       'axé', 'baile', 'balkan', 'beats', 'bigroom', 'black', 'bluegrass',\n",
       "       'blues', 'bollywood', 'bossa', 'brazilian', 'breakbeat', 'breaks',\n",
       "       'broadway', 'cantautori', 'cantopop', 'canzone', 'caribbean',\n",
       "       'caucasian', 'celtic', 'chamber', 'chanson', 'children', 'chill',\n",
       "       'chinese', 'choral', 'christian', 'christmas', 'classical',\n",
       "       'classicmetal', 'club', 'colombian', 'comedy', 'conjazz',\n",
       "       'contemporary', 'country', 'cuban', 'dance', 'dancehall',\n",
       "       'dancepop', 'dark', 'death', 'deep', 'deutschrock', 'deutschspr',\n",
       "       'dirty', 'disco', 'dnb', 'documentary', 'downbeat', 'downtempo',\n",
       "       'drum', 'dub', 'dubstep', 'eastern', 'easy', 'electronic',\n",
       "       'electropop', 'emo', 'entehno', 'epicmetal', 'estrada', 'ethnic',\n",
       "       'eurofolk', 'european', 'experimental', 'extrememetal', 'fado',\n",
       "       'fairytail', 'film', 'fitness', 'flamenco', 'folk', 'folklore',\n",
       "       'folkmetal', 'folkrock', 'folktronica', 'forró', 'frankreich',\n",
       "       'französisch', 'french', 'funk', 'future', 'gangsta', 'garage',\n",
       "       'german', 'ghazal', 'gitarre', 'glitch', 'gospel', 'gothic',\n",
       "       'grime', 'grunge', 'gypsy', 'handsup', \"hard'n'heavy\", 'hardcore',\n",
       "       'hardstyle', 'hardtechno', 'hiphop', 'historisch', 'holiday',\n",
       "       'horror', 'house', 'hymn', 'idm', 'independent', 'indian', 'indie',\n",
       "       'indipop', 'industrial', 'inspirational', 'instrumental',\n",
       "       'international', 'irish', 'jam', 'japanese', 'jazz', 'jewish',\n",
       "       'jpop', 'jungle', 'k-pop', 'karadeniz', 'karaoke', 'kayokyoku',\n",
       "       'korean', 'laiko', 'latin', 'latino', 'leftfield', 'local',\n",
       "       'lounge', 'loungeelectronic', 'lovers', 'malaysian', 'mandopop',\n",
       "       'marschmusik', 'meditative', 'mediterranean', 'melodic', 'metal',\n",
       "       'metalcore', 'mexican', 'middle', 'minimal', 'miscellaneous',\n",
       "       'modern', 'mood', 'mpb', 'muslim', 'native', 'neoklassik', 'neue',\n",
       "       'new', 'newage', 'newwave', 'nu', 'nujazz', 'numetal', 'oceania',\n",
       "       'old', 'opera', 'orchestral', 'other', 'piano', 'podcasts', 'pop',\n",
       "       'popdance', 'popelectronic', 'popeurodance', 'poprussian', 'post',\n",
       "       'posthardcore', 'postrock', 'power', 'progmetal', 'progressive',\n",
       "       'psychedelic', 'punjabi', 'punk', 'quebecois', 'ragga', 'ram',\n",
       "       'rancheras', 'rap', 'rave', 'reggae', 'reggaeton', 'regional',\n",
       "       'relax', 'religious', 'retro', 'rhythm', 'rnb', 'rnr', 'rock',\n",
       "       'rockabilly', 'rockalternative', 'rockindie', 'rockother',\n",
       "       'romance', 'roots', 'ruspop', 'rusrap', 'rusrock', 'russian',\n",
       "       'salsa', 'samba', 'scenic', 'schlager', 'self', 'sertanejo',\n",
       "       'shanson', 'shoegazing', 'showtunes', 'singer', 'ska', 'skarock',\n",
       "       'slow', 'smooth', 'soft', 'soul', 'soulful', 'sound', 'soundtrack',\n",
       "       'southern', 'specialty', 'speech', 'spiritual', 'sport',\n",
       "       'stonerrock', 'surf', 'swing', 'synthpop', 'synthrock',\n",
       "       'sängerportrait', 'tango', 'tanzorchester', 'taraftar', 'tatar',\n",
       "       'tech', 'techno', 'teen', 'thrash', 'top', 'traditional',\n",
       "       'tradjazz', 'trance', 'tribal', 'trip', 'triphop', 'tropical',\n",
       "       'türk', 'türkçe', 'ukrrock', 'unknown', 'urban', 'uzbek',\n",
       "       'variété', 'vi', 'videogame', 'vocal', 'western', 'world',\n",
       "       'worldbeat', 'ïîï'], dtype=object)"
      ]
     },
     "execution_count": 18,
     "metadata": {},
     "output_type": "execute_result"
    }
   ],
   "source": [
    "# Проверка на неявные дубликаты\n",
    "df['genre'].sort_values().unique()"
   ]
  },
  {
   "cell_type": "markdown",
   "metadata": {
    "id": "jz6a9-7HQUDd"
   },
   "source": [
    "**Выводы**\n",
    "\n",
    "Предобработка обнаружила три проблемы в данных:\n",
    "\n",
    "- нарушения в стиле заголовков,\n",
    "- пропущенные значения,\n",
    "- дубликаты — явные и неявные.\n",
    "\n",
    "Вы исправили заголовки, чтобы упростить работу с таблицей. Без дубликатов исследование станет более точным.\n",
    "\n",
    "Пропущенные значения вы заменили на `'unknown'`. Ещё предстоит увидеть, не повредят ли исследованию пропуски в колонке `genre`.\n",
    "\n",
    "Теперь можно перейти к проверке гипотез. "
   ]
  },
  {
   "cell_type": "markdown",
   "metadata": {
    "id": "WttZHXH0SqKk"
   },
   "source": [
    "## Проверка гипотез"
   ]
  },
  {
   "cell_type": "markdown",
   "metadata": {
    "id": "Im936VVi_Zcu"
   },
   "source": [
    "### Сравнение поведения пользователей двух столиц"
   ]
  },
  {
   "cell_type": "markdown",
   "metadata": {
    "id": "nwt_MuaL_Zcu"
   },
   "source": [
    "Первая гипотеза утверждает, что пользователи по-разному слушают музыку в Москве и Санкт-Петербурге. Проверьте это предположение по данным о трёх днях недели — понедельнике, среде и пятнице. Для этого:\n",
    "\n",
    "* Разделите пользователей Москвы и Санкт-Петербурга.\n",
    "* Сравните, сколько треков послушала каждая группа пользователей в понедельник, среду и пятницу.\n"
   ]
  },
  {
   "cell_type": "markdown",
   "metadata": {
    "id": "8Dw_YMmT_Zcu"
   },
   "source": [
    "Для тренировки сначала выполните каждый из расчётов по отдельности. \n",
    "\n",
    "Оцените активность пользователей в каждом городе. Сгруппируйте данные по городу и посчитайте прослушивания в каждой группе.\n",
    "\n"
   ]
  },
  {
   "cell_type": "code",
   "execution_count": 19,
   "metadata": {
    "id": "0_Qs96oh_Zcu"
   },
   "outputs": [
    {
     "data": {
      "text/plain": [
       "city\n",
       "Moscow              42741\n",
       "Saint-Petersburg    18512\n",
       "Name: user_id, dtype: int64"
      ]
     },
     "execution_count": 19,
     "metadata": {},
     "output_type": "execute_result"
    }
   ],
   "source": [
    "# Подсчёт прослушиваний в каждом городе\n",
    "df.groupby('city')['user_id'].count()"
   ]
  },
  {
   "cell_type": "markdown",
   "metadata": {
    "id": "dzli3w8o_Zcu"
   },
   "source": [
    "В Москве прослушиваний больше, чем в Петербурге. Из этого не следует, что московские пользователи чаще слушают музыку. Просто самих пользователей в Москве больше.\n",
    "\n",
    "Теперь сгруппируйте данные по дню недели и подсчитайте прослушивания в понедельник, среду и пятницу. Учтите, что в данных есть информация только о прослушиваниях только за эти дни.\n"
   ]
  },
  {
   "cell_type": "code",
   "execution_count": 20,
   "metadata": {},
   "outputs": [
    {
     "data": {
      "text/html": [
       "<div>\n",
       "<style scoped>\n",
       "    .dataframe tbody tr th:only-of-type {\n",
       "        vertical-align: middle;\n",
       "    }\n",
       "\n",
       "    .dataframe tbody tr th {\n",
       "        vertical-align: top;\n",
       "    }\n",
       "\n",
       "    .dataframe thead th {\n",
       "        text-align: right;\n",
       "    }\n",
       "</style>\n",
       "<table border=\"1\" class=\"dataframe\">\n",
       "  <thead>\n",
       "    <tr style=\"text-align: right;\">\n",
       "      <th></th>\n",
       "      <th>user_id</th>\n",
       "      <th>track</th>\n",
       "      <th>artist</th>\n",
       "      <th>genre</th>\n",
       "      <th>city</th>\n",
       "      <th>time</th>\n",
       "      <th>day</th>\n",
       "    </tr>\n",
       "  </thead>\n",
       "  <tbody>\n",
       "    <tr>\n",
       "      <td>0</td>\n",
       "      <td>FFB692EC</td>\n",
       "      <td>Kamigata To Boots</td>\n",
       "      <td>The Mass Missile</td>\n",
       "      <td>rock</td>\n",
       "      <td>Saint-Petersburg</td>\n",
       "      <td>20:28:33</td>\n",
       "      <td>Wednesday</td>\n",
       "    </tr>\n",
       "    <tr>\n",
       "      <td>1</td>\n",
       "      <td>55204538</td>\n",
       "      <td>Delayed Because of Accident</td>\n",
       "      <td>Andreas Rönnberg</td>\n",
       "      <td>rock</td>\n",
       "      <td>Moscow</td>\n",
       "      <td>14:07:09</td>\n",
       "      <td>Friday</td>\n",
       "    </tr>\n",
       "    <tr>\n",
       "      <td>2</td>\n",
       "      <td>20EC38</td>\n",
       "      <td>Funiculì funiculà</td>\n",
       "      <td>Mario Lanza</td>\n",
       "      <td>pop</td>\n",
       "      <td>Saint-Petersburg</td>\n",
       "      <td>20:58:07</td>\n",
       "      <td>Wednesday</td>\n",
       "    </tr>\n",
       "    <tr>\n",
       "      <td>3</td>\n",
       "      <td>A3DD03C9</td>\n",
       "      <td>Dragons in the Sunset</td>\n",
       "      <td>Fire + Ice</td>\n",
       "      <td>folk</td>\n",
       "      <td>Saint-Petersburg</td>\n",
       "      <td>08:37:09</td>\n",
       "      <td>Monday</td>\n",
       "    </tr>\n",
       "    <tr>\n",
       "      <td>4</td>\n",
       "      <td>E2DC1FAE</td>\n",
       "      <td>Soul People</td>\n",
       "      <td>Space Echo</td>\n",
       "      <td>dance</td>\n",
       "      <td>Moscow</td>\n",
       "      <td>08:34:34</td>\n",
       "      <td>Monday</td>\n",
       "    </tr>\n",
       "  </tbody>\n",
       "</table>\n",
       "</div>"
      ],
      "text/plain": [
       "    user_id                        track            artist  genre  \\\n",
       "0  FFB692EC            Kamigata To Boots  The Mass Missile   rock   \n",
       "1  55204538  Delayed Because of Accident  Andreas Rönnberg   rock   \n",
       "2    20EC38            Funiculì funiculà       Mario Lanza    pop   \n",
       "3  A3DD03C9        Dragons in the Sunset        Fire + Ice   folk   \n",
       "4  E2DC1FAE                  Soul People        Space Echo  dance   \n",
       "\n",
       "               city      time        day  \n",
       "0  Saint-Petersburg  20:28:33  Wednesday  \n",
       "1            Moscow  14:07:09     Friday  \n",
       "2  Saint-Petersburg  20:58:07  Wednesday  \n",
       "3  Saint-Petersburg  08:37:09     Monday  \n",
       "4            Moscow  08:34:34     Monday  "
      ]
     },
     "execution_count": 20,
     "metadata": {},
     "output_type": "execute_result"
    }
   ],
   "source": [
    "df.head()"
   ]
  },
  {
   "cell_type": "code",
   "execution_count": 21,
   "metadata": {
    "id": "uZMKjiJz_Zcu"
   },
   "outputs": [
    {
     "data": {
      "text/plain": [
       "day\n",
       "Friday       21840\n",
       "Monday       21354\n",
       "Wednesday    18059\n",
       "Name: user_id, dtype: int64"
      ]
     },
     "execution_count": 21,
     "metadata": {},
     "output_type": "execute_result"
    }
   ],
   "source": [
    "# Подсчёт прослушиваний в каждый из трёх дней\n",
    "df.groupby('day')['user_id'].count()"
   ]
  },
  {
   "cell_type": "markdown",
   "metadata": {
    "id": "cC2tNrlL_Zcu"
   },
   "source": [
    "В среднем пользователи из двух городов менее активны по средам. Но картина может измениться, если рассмотреть каждый город в отдельности."
   ]
  },
  {
   "cell_type": "markdown",
   "metadata": {
    "id": "POzs8bGa_Zcu"
   },
   "source": [
    "Вы видели, как работает группировка по городу и по дням недели. Теперь напишите функцию, которая объединит два эти расчёта.\n",
    "\n",
    "Создайте функцию `number_tracks()`, которая посчитает прослушивания для заданного дня и города. Ей понадобятся два параметра:\n",
    "* день недели,\n",
    "* название города.\n",
    "\n",
    "В функции сохраните в переменную строки исходной таблицы, у которых значение:\n",
    "  * в колонке `day` равно параметру `day`,\n",
    "  * в колонке `city` равно параметру `city`.\n",
    "\n",
    "Для этого примените последовательную фильтрацию с логической индексацией.\n",
    "\n",
    "Затем посчитайте значения в столбце `user_id` получившейся таблицы. Результат сохраните в новую переменную. Верните эту переменную из функции."
   ]
  },
  {
   "cell_type": "code",
   "execution_count": 22,
   "metadata": {
    "id": "Nz3GdQB1_Zcu"
   },
   "outputs": [],
   "source": [
    "# <создание функции number_tracks()>\n",
    "# Объявляется функция с двумя параметрами: day, city.\n",
    "# В переменной track_list сохраняются те строки таблицы df, для которых \n",
    "# значение в столбце 'day' равно параметру day и одновременно значение\n",
    "# в столбце 'city' равно параметру city (используйте последовательную фильтрацию\n",
    "# с помощью логической индексации).\n",
    "# В переменной track_list_count сохраняется число значений столбца 'user_id',\n",
    "# рассчитанное методом count() для таблицы track_list.\n",
    "# Функция возвращает число - значение track_list_count.\n",
    "\n",
    "def number_tracks(day, city):\n",
    "    track_list = df[(df['day'] == day) & (df['city'] == city)]            \n",
    "    track_list_count = track_list['user_id'].count()\n",
    "    return track_list_count\n",
    "\n",
    "# Функция для подсчёта прослушиваний для конкретного города и дня.\n",
    "# С помощью последовательной фильтрации с логической индексацией она \n",
    "# сначала получит из исходной таблицы строки с нужным днём,\n",
    "# затем из результата отфильтрует строки с нужным городом,\n",
    "# методом count() посчитает количество значений в колонке user_id. \n",
    "# Это количество функция вернёт в качестве результата"
   ]
  },
  {
   "cell_type": "markdown",
   "metadata": {
    "id": "ytf7xFrFJQ2r"
   },
   "source": [
    "Вызовите `number_tracks()` шесть раз, меняя значение параметров — так, чтобы получить данные для каждого города в каждый из трёх дней."
   ]
  },
  {
   "cell_type": "code",
   "execution_count": 23,
   "metadata": {
    "id": "rJcRATNQ_Zcu"
   },
   "outputs": [
    {
     "data": {
      "text/plain": [
       "15740"
      ]
     },
     "execution_count": 23,
     "metadata": {},
     "output_type": "execute_result"
    }
   ],
   "source": [
    "# количество прослушиваний в Москве по понедельникам\n",
    "day = 'Monday'\n",
    "city = 'Moscow'\n",
    "number_tracks(day, city)"
   ]
  },
  {
   "cell_type": "code",
   "execution_count": 24,
   "metadata": {
    "id": "hq_ncZ5T_Zcu"
   },
   "outputs": [
    {
     "data": {
      "text/plain": [
       "5614"
      ]
     },
     "execution_count": 24,
     "metadata": {},
     "output_type": "execute_result"
    }
   ],
   "source": [
    "# количество прослушиваний в Санкт-Петербурге по понедельникам\n",
    "day = 'Monday'\n",
    "city = 'Saint-Petersburg'\n",
    "number_tracks(day, city)"
   ]
  },
  {
   "cell_type": "code",
   "execution_count": 25,
   "metadata": {
    "id": "_NTy2VPU_Zcu"
   },
   "outputs": [
    {
     "data": {
      "text/plain": [
       "11056"
      ]
     },
     "execution_count": 25,
     "metadata": {},
     "output_type": "execute_result"
    }
   ],
   "source": [
    "# количество прослушиваний в Москве по средам\n",
    "day = 'Wednesday'\n",
    "city = 'Moscow'\n",
    "number_tracks(day, city)"
   ]
  },
  {
   "cell_type": "code",
   "execution_count": 26,
   "metadata": {
    "id": "j2y3TAwo_Zcu"
   },
   "outputs": [
    {
     "data": {
      "text/plain": [
       "7003"
      ]
     },
     "execution_count": 26,
     "metadata": {},
     "output_type": "execute_result"
    }
   ],
   "source": [
    "# количество прослушиваний в Санкт-Петербурге по средам\n",
    "day = 'Wednesday'\n",
    "city = 'Saint-Petersburg'\n",
    "number_tracks(day, city)"
   ]
  },
  {
   "cell_type": "code",
   "execution_count": 27,
   "metadata": {
    "id": "vYDw5u_K_Zcu"
   },
   "outputs": [
    {
     "data": {
      "text/plain": [
       "15945"
      ]
     },
     "execution_count": 27,
     "metadata": {},
     "output_type": "execute_result"
    }
   ],
   "source": [
    "# количество прослушиваний в Москве по пятницам\n",
    "day = 'Friday'\n",
    "city = 'Moscow'\n",
    "number_tracks(day, city)"
   ]
  },
  {
   "cell_type": "code",
   "execution_count": 28,
   "metadata": {
    "id": "8_yzFtW3_Zcu"
   },
   "outputs": [
    {
     "data": {
      "text/plain": [
       "5895"
      ]
     },
     "execution_count": 28,
     "metadata": {},
     "output_type": "execute_result"
    }
   ],
   "source": [
    "# количество прослушиваний в Санкт-Петербурге по пятницам\n",
    "day = 'Friday'\n",
    "city = 'Saint-Petersburg'\n",
    "number_tracks(day, city)"
   ]
  },
  {
   "cell_type": "markdown",
   "metadata": {
    "id": "7QXffbO-_Zcu"
   },
   "source": [
    "Создайте c помощью конструктора `pd.DataFrame` таблицу, где\n",
    "* названия колонок — `['city', 'monday', 'wednesday', 'friday']`;\n",
    "* данные — результаты, которые вы получили с помощью `number_tracks`."
   ]
  },
  {
   "cell_type": "code",
   "execution_count": 29,
   "metadata": {
    "id": "APAcLpOr_Zcu"
   },
   "outputs": [
    {
     "data": {
      "text/html": [
       "<div>\n",
       "<style scoped>\n",
       "    .dataframe tbody tr th:only-of-type {\n",
       "        vertical-align: middle;\n",
       "    }\n",
       "\n",
       "    .dataframe tbody tr th {\n",
       "        vertical-align: top;\n",
       "    }\n",
       "\n",
       "    .dataframe thead th {\n",
       "        text-align: right;\n",
       "    }\n",
       "</style>\n",
       "<table border=\"1\" class=\"dataframe\">\n",
       "  <thead>\n",
       "    <tr style=\"text-align: right;\">\n",
       "      <th></th>\n",
       "      <th>city</th>\n",
       "      <th>monday</th>\n",
       "      <th>wednesday</th>\n",
       "      <th>friday</th>\n",
       "    </tr>\n",
       "  </thead>\n",
       "  <tbody>\n",
       "    <tr>\n",
       "      <td>0</td>\n",
       "      <td>Moscow</td>\n",
       "      <td>15740</td>\n",
       "      <td>11056</td>\n",
       "      <td>15945</td>\n",
       "    </tr>\n",
       "    <tr>\n",
       "      <td>1</td>\n",
       "      <td>Saint-Petersburg</td>\n",
       "      <td>5614</td>\n",
       "      <td>7003</td>\n",
       "      <td>5895</td>\n",
       "    </tr>\n",
       "  </tbody>\n",
       "</table>\n",
       "</div>"
      ],
      "text/plain": [
       "               city  monday  wednesday  friday\n",
       "0            Moscow   15740      11056   15945\n",
       "1  Saint-Petersburg    5614       7003    5895"
      ]
     },
     "execution_count": 29,
     "metadata": {},
     "output_type": "execute_result"
    }
   ],
   "source": [
    "# Таблица с результатами\n",
    "columns = ['city', 'monday', 'wednesday', 'friday']\n",
    "number_tracks = [['Moscow', 15740, 11056, 15945],\n",
    "                ['Saint-Petersburg', 5614, 7003, 5895]]\n",
    "\n",
    "research_result = pd.DataFrame(data = number_tracks, columns = columns)\n",
    "research_result"
   ]
  },
  {
   "cell_type": "markdown",
   "metadata": {
    "id": "-EgPIHYu_Zcu"
   },
   "source": [
    "**Выводы**\n",
    "\n",
    "Данные показывают разницу поведения пользователей:\n",
    "\n",
    "- В Москве пик прослушиваний приходится на понедельник и пятницу, а в среду заметен спад.\n",
    "- В Петербурге, наоборот, больше слушают музыку по средам. Активность в понедельник и пятницу здесь почти в равной мере уступает среде.\n",
    "\n",
    "Значит, данные говорят в пользу первой гипотезы."
   ]
  },
  {
   "cell_type": "markdown",
   "metadata": {
    "id": "atZAxtq4_Zcu"
   },
   "source": [
    "### Музыка в начале и в конце недели"
   ]
  },
  {
   "cell_type": "markdown",
   "metadata": {
    "id": "eXrQqXFH_Zcu"
   },
   "source": [
    "Согласно второй гипотезе, утром в понедельник в Москве преобладают одни жанры, а в Петербурге — другие. Так же и вечером пятницы преобладают разные жанры — в зависимости от города."
   ]
  },
  {
   "cell_type": "markdown",
   "metadata": {
    "id": "S8UcW6Hw_Zcu"
   },
   "source": [
    "Сохраните таблицы с данными в две переменные:\n",
    "* по Москве — в `moscow_general`;\n",
    "* по Санкт-Петербургу — в `spb_general`."
   ]
  },
  {
   "cell_type": "code",
   "execution_count": 30,
   "metadata": {
    "id": "qeaFfM_P_Zcu"
   },
   "outputs": [
    {
     "data": {
      "text/html": [
       "<div>\n",
       "<style scoped>\n",
       "    .dataframe tbody tr th:only-of-type {\n",
       "        vertical-align: middle;\n",
       "    }\n",
       "\n",
       "    .dataframe tbody tr th {\n",
       "        vertical-align: top;\n",
       "    }\n",
       "\n",
       "    .dataframe thead th {\n",
       "        text-align: right;\n",
       "    }\n",
       "</style>\n",
       "<table border=\"1\" class=\"dataframe\">\n",
       "  <thead>\n",
       "    <tr style=\"text-align: right;\">\n",
       "      <th></th>\n",
       "      <th>user_id</th>\n",
       "      <th>track</th>\n",
       "      <th>artist</th>\n",
       "      <th>genre</th>\n",
       "      <th>city</th>\n",
       "      <th>time</th>\n",
       "      <th>day</th>\n",
       "    </tr>\n",
       "  </thead>\n",
       "  <tbody>\n",
       "    <tr>\n",
       "      <td>1</td>\n",
       "      <td>55204538</td>\n",
       "      <td>Delayed Because of Accident</td>\n",
       "      <td>Andreas Rönnberg</td>\n",
       "      <td>rock</td>\n",
       "      <td>Moscow</td>\n",
       "      <td>14:07:09</td>\n",
       "      <td>Friday</td>\n",
       "    </tr>\n",
       "    <tr>\n",
       "      <td>4</td>\n",
       "      <td>E2DC1FAE</td>\n",
       "      <td>Soul People</td>\n",
       "      <td>Space Echo</td>\n",
       "      <td>dance</td>\n",
       "      <td>Moscow</td>\n",
       "      <td>08:34:34</td>\n",
       "      <td>Monday</td>\n",
       "    </tr>\n",
       "    <tr>\n",
       "      <td>6</td>\n",
       "      <td>4CB90AA5</td>\n",
       "      <td>True</td>\n",
       "      <td>Roman Messer</td>\n",
       "      <td>dance</td>\n",
       "      <td>Moscow</td>\n",
       "      <td>13:00:07</td>\n",
       "      <td>Wednesday</td>\n",
       "    </tr>\n",
       "    <tr>\n",
       "      <td>7</td>\n",
       "      <td>F03E1C1F</td>\n",
       "      <td>Feeling This Way</td>\n",
       "      <td>Polina Griffith</td>\n",
       "      <td>dance</td>\n",
       "      <td>Moscow</td>\n",
       "      <td>20:47:49</td>\n",
       "      <td>Wednesday</td>\n",
       "    </tr>\n",
       "    <tr>\n",
       "      <td>8</td>\n",
       "      <td>8FA1D3BE</td>\n",
       "      <td>И вновь продолжается бой</td>\n",
       "      <td>unknown</td>\n",
       "      <td>ruspop</td>\n",
       "      <td>Moscow</td>\n",
       "      <td>09:17:40</td>\n",
       "      <td>Friday</td>\n",
       "    </tr>\n",
       "    <tr>\n",
       "      <td>...</td>\n",
       "      <td>...</td>\n",
       "      <td>...</td>\n",
       "      <td>...</td>\n",
       "      <td>...</td>\n",
       "      <td>...</td>\n",
       "      <td>...</td>\n",
       "      <td>...</td>\n",
       "    </tr>\n",
       "    <tr>\n",
       "      <td>61247</td>\n",
       "      <td>83A474E7</td>\n",
       "      <td>I Worship Only What You Bleed</td>\n",
       "      <td>The Black Dahlia Murder</td>\n",
       "      <td>extrememetal</td>\n",
       "      <td>Moscow</td>\n",
       "      <td>21:07:12</td>\n",
       "      <td>Monday</td>\n",
       "    </tr>\n",
       "    <tr>\n",
       "      <td>61248</td>\n",
       "      <td>729CBB09</td>\n",
       "      <td>My Name</td>\n",
       "      <td>McLean</td>\n",
       "      <td>rnb</td>\n",
       "      <td>Moscow</td>\n",
       "      <td>13:32:28</td>\n",
       "      <td>Wednesday</td>\n",
       "    </tr>\n",
       "    <tr>\n",
       "      <td>61250</td>\n",
       "      <td>C5E3A0D5</td>\n",
       "      <td>Jalopiina</td>\n",
       "      <td>unknown</td>\n",
       "      <td>industrial</td>\n",
       "      <td>Moscow</td>\n",
       "      <td>20:09:26</td>\n",
       "      <td>Friday</td>\n",
       "    </tr>\n",
       "    <tr>\n",
       "      <td>61251</td>\n",
       "      <td>321D0506</td>\n",
       "      <td>Freight Train</td>\n",
       "      <td>Chas McDevitt</td>\n",
       "      <td>rock</td>\n",
       "      <td>Moscow</td>\n",
       "      <td>21:43:59</td>\n",
       "      <td>Friday</td>\n",
       "    </tr>\n",
       "    <tr>\n",
       "      <td>61252</td>\n",
       "      <td>3A64EF84</td>\n",
       "      <td>Tell Me Sweet Little Lies</td>\n",
       "      <td>Monica Lopez</td>\n",
       "      <td>country</td>\n",
       "      <td>Moscow</td>\n",
       "      <td>21:59:46</td>\n",
       "      <td>Friday</td>\n",
       "    </tr>\n",
       "  </tbody>\n",
       "</table>\n",
       "<p>42741 rows × 7 columns</p>\n",
       "</div>"
      ],
      "text/plain": [
       "        user_id                          track                   artist  \\\n",
       "1      55204538    Delayed Because of Accident         Andreas Rönnberg   \n",
       "4      E2DC1FAE                    Soul People               Space Echo   \n",
       "6      4CB90AA5                           True             Roman Messer   \n",
       "7      F03E1C1F               Feeling This Way          Polina Griffith   \n",
       "8      8FA1D3BE       И вновь продолжается бой                  unknown   \n",
       "...         ...                            ...                      ...   \n",
       "61247  83A474E7  I Worship Only What You Bleed  The Black Dahlia Murder   \n",
       "61248  729CBB09                        My Name                   McLean   \n",
       "61250  C5E3A0D5                      Jalopiina                  unknown   \n",
       "61251  321D0506                  Freight Train            Chas McDevitt   \n",
       "61252  3A64EF84      Tell Me Sweet Little Lies             Monica Lopez   \n",
       "\n",
       "              genre    city      time        day  \n",
       "1              rock  Moscow  14:07:09     Friday  \n",
       "4             dance  Moscow  08:34:34     Monday  \n",
       "6             dance  Moscow  13:00:07  Wednesday  \n",
       "7             dance  Moscow  20:47:49  Wednesday  \n",
       "8            ruspop  Moscow  09:17:40     Friday  \n",
       "...             ...     ...       ...        ...  \n",
       "61247  extrememetal  Moscow  21:07:12     Monday  \n",
       "61248           rnb  Moscow  13:32:28  Wednesday  \n",
       "61250    industrial  Moscow  20:09:26     Friday  \n",
       "61251          rock  Moscow  21:43:59     Friday  \n",
       "61252       country  Moscow  21:59:46     Friday  \n",
       "\n",
       "[42741 rows x 7 columns]"
      ]
     },
     "execution_count": 30,
     "metadata": {},
     "output_type": "execute_result"
    }
   ],
   "source": [
    "# получение таблицы moscow_general из тех строк таблицы df, \n",
    "# для которых значение в столбце 'city' равно 'Moscow'\n",
    "moscow_general = df[df['city'] == 'Moscow']\n",
    "moscow_general"
   ]
  },
  {
   "cell_type": "code",
   "execution_count": 31,
   "metadata": {
    "id": "ORaVRKto_Zcu"
   },
   "outputs": [
    {
     "data": {
      "text/html": [
       "<div>\n",
       "<style scoped>\n",
       "    .dataframe tbody tr th:only-of-type {\n",
       "        vertical-align: middle;\n",
       "    }\n",
       "\n",
       "    .dataframe tbody tr th {\n",
       "        vertical-align: top;\n",
       "    }\n",
       "\n",
       "    .dataframe thead th {\n",
       "        text-align: right;\n",
       "    }\n",
       "</style>\n",
       "<table border=\"1\" class=\"dataframe\">\n",
       "  <thead>\n",
       "    <tr style=\"text-align: right;\">\n",
       "      <th></th>\n",
       "      <th>user_id</th>\n",
       "      <th>track</th>\n",
       "      <th>artist</th>\n",
       "      <th>genre</th>\n",
       "      <th>city</th>\n",
       "      <th>time</th>\n",
       "      <th>day</th>\n",
       "    </tr>\n",
       "  </thead>\n",
       "  <tbody>\n",
       "    <tr>\n",
       "      <td>0</td>\n",
       "      <td>FFB692EC</td>\n",
       "      <td>Kamigata To Boots</td>\n",
       "      <td>The Mass Missile</td>\n",
       "      <td>rock</td>\n",
       "      <td>Saint-Petersburg</td>\n",
       "      <td>20:28:33</td>\n",
       "      <td>Wednesday</td>\n",
       "    </tr>\n",
       "    <tr>\n",
       "      <td>2</td>\n",
       "      <td>20EC38</td>\n",
       "      <td>Funiculì funiculà</td>\n",
       "      <td>Mario Lanza</td>\n",
       "      <td>pop</td>\n",
       "      <td>Saint-Petersburg</td>\n",
       "      <td>20:58:07</td>\n",
       "      <td>Wednesday</td>\n",
       "    </tr>\n",
       "    <tr>\n",
       "      <td>3</td>\n",
       "      <td>A3DD03C9</td>\n",
       "      <td>Dragons in the Sunset</td>\n",
       "      <td>Fire + Ice</td>\n",
       "      <td>folk</td>\n",
       "      <td>Saint-Petersburg</td>\n",
       "      <td>08:37:09</td>\n",
       "      <td>Monday</td>\n",
       "    </tr>\n",
       "    <tr>\n",
       "      <td>5</td>\n",
       "      <td>842029A1</td>\n",
       "      <td>Преданная</td>\n",
       "      <td>IMPERVTOR</td>\n",
       "      <td>rusrap</td>\n",
       "      <td>Saint-Petersburg</td>\n",
       "      <td>13:09:41</td>\n",
       "      <td>Friday</td>\n",
       "    </tr>\n",
       "    <tr>\n",
       "      <td>9</td>\n",
       "      <td>E772D5C0</td>\n",
       "      <td>Pessimist</td>\n",
       "      <td>unknown</td>\n",
       "      <td>dance</td>\n",
       "      <td>Saint-Petersburg</td>\n",
       "      <td>21:20:49</td>\n",
       "      <td>Wednesday</td>\n",
       "    </tr>\n",
       "    <tr>\n",
       "      <td>...</td>\n",
       "      <td>...</td>\n",
       "      <td>...</td>\n",
       "      <td>...</td>\n",
       "      <td>...</td>\n",
       "      <td>...</td>\n",
       "      <td>...</td>\n",
       "      <td>...</td>\n",
       "    </tr>\n",
       "    <tr>\n",
       "      <td>61239</td>\n",
       "      <td>D94F810B</td>\n",
       "      <td>Theme from the Walking Dead</td>\n",
       "      <td>Proyecto Halloween</td>\n",
       "      <td>film</td>\n",
       "      <td>Saint-Petersburg</td>\n",
       "      <td>21:14:40</td>\n",
       "      <td>Monday</td>\n",
       "    </tr>\n",
       "    <tr>\n",
       "      <td>61240</td>\n",
       "      <td>BC8EC5CF</td>\n",
       "      <td>Red Lips: Gta (Rover Rework)</td>\n",
       "      <td>Rover</td>\n",
       "      <td>electronic</td>\n",
       "      <td>Saint-Petersburg</td>\n",
       "      <td>21:06:50</td>\n",
       "      <td>Monday</td>\n",
       "    </tr>\n",
       "    <tr>\n",
       "      <td>61241</td>\n",
       "      <td>29E04611</td>\n",
       "      <td>Bre Petrunko</td>\n",
       "      <td>Perunika Trio</td>\n",
       "      <td>world</td>\n",
       "      <td>Saint-Petersburg</td>\n",
       "      <td>13:56:00</td>\n",
       "      <td>Monday</td>\n",
       "    </tr>\n",
       "    <tr>\n",
       "      <td>61242</td>\n",
       "      <td>1B91C621</td>\n",
       "      <td>(Hello) Cloud Mountain</td>\n",
       "      <td>sleepmakeswaves</td>\n",
       "      <td>postrock</td>\n",
       "      <td>Saint-Petersburg</td>\n",
       "      <td>09:22:13</td>\n",
       "      <td>Monday</td>\n",
       "    </tr>\n",
       "    <tr>\n",
       "      <td>61249</td>\n",
       "      <td>D08D4A55</td>\n",
       "      <td>Maybe One Day (feat. Black Spade)</td>\n",
       "      <td>Blu &amp; Exile</td>\n",
       "      <td>hiphop</td>\n",
       "      <td>Saint-Petersburg</td>\n",
       "      <td>10:00:00</td>\n",
       "      <td>Monday</td>\n",
       "    </tr>\n",
       "  </tbody>\n",
       "</table>\n",
       "<p>18512 rows × 7 columns</p>\n",
       "</div>"
      ],
      "text/plain": [
       "        user_id                              track              artist  \\\n",
       "0      FFB692EC                  Kamigata To Boots    The Mass Missile   \n",
       "2        20EC38                  Funiculì funiculà         Mario Lanza   \n",
       "3      A3DD03C9              Dragons in the Sunset          Fire + Ice   \n",
       "5      842029A1                          Преданная           IMPERVTOR   \n",
       "9      E772D5C0                          Pessimist             unknown   \n",
       "...         ...                                ...                 ...   \n",
       "61239  D94F810B        Theme from the Walking Dead  Proyecto Halloween   \n",
       "61240  BC8EC5CF       Red Lips: Gta (Rover Rework)               Rover   \n",
       "61241  29E04611                       Bre Petrunko       Perunika Trio   \n",
       "61242  1B91C621             (Hello) Cloud Mountain     sleepmakeswaves   \n",
       "61249  D08D4A55  Maybe One Day (feat. Black Spade)         Blu & Exile   \n",
       "\n",
       "            genre              city      time        day  \n",
       "0            rock  Saint-Petersburg  20:28:33  Wednesday  \n",
       "2             pop  Saint-Petersburg  20:58:07  Wednesday  \n",
       "3            folk  Saint-Petersburg  08:37:09     Monday  \n",
       "5          rusrap  Saint-Petersburg  13:09:41     Friday  \n",
       "9           dance  Saint-Petersburg  21:20:49  Wednesday  \n",
       "...           ...               ...       ...        ...  \n",
       "61239        film  Saint-Petersburg  21:14:40     Monday  \n",
       "61240  electronic  Saint-Petersburg  21:06:50     Monday  \n",
       "61241       world  Saint-Petersburg  13:56:00     Monday  \n",
       "61242    postrock  Saint-Petersburg  09:22:13     Monday  \n",
       "61249      hiphop  Saint-Petersburg  10:00:00     Monday  \n",
       "\n",
       "[18512 rows x 7 columns]"
      ]
     },
     "execution_count": 31,
     "metadata": {},
     "output_type": "execute_result"
    }
   ],
   "source": [
    "# получение таблицы spb_general из тех строк таблицы df,\n",
    "# для которых значение в столбце 'city' равно 'Saint-Petersburg'\n",
    "spb_general = df[df['city'] == 'Saint-Petersburg']\n",
    "spb_general"
   ]
  },
  {
   "cell_type": "markdown",
   "metadata": {
    "id": "MEJV-CX2_Zcu"
   },
   "source": [
    "Создайте функцию `genre_weekday()` с четырьмя параметрами:\n",
    "* таблица (датафрейм) с данными,\n",
    "* день недели,\n",
    "* начальная временная метка в формате 'hh:mm', \n",
    "* последняя временная метка в формате 'hh:mm'.\n",
    "\n",
    "Функция должна вернуть информацию о топ-10 жанров тех треков, которые прослушивали в указанный день, в промежутке между двумя отметками времени."
   ]
  },
  {
   "cell_type": "code",
   "execution_count": 32,
   "metadata": {
    "id": "laJT9BYl_Zcu"
   },
   "outputs": [],
   "source": [
    "# Объявление функции genre_weekday() с параметрами table, day, time1, time2,\n",
    "# которая возвращает информацию о самых популярных жанрах в указанный день в\n",
    "# заданное время:\n",
    "# 1) в переменную genre_df сохраняются те строки переданного датафрейма table, для\n",
    "#    которых одновременно:\n",
    "#    - значение в столбце day равно значению аргумента day\n",
    "#    - значение в столбце time больше значения аргумента time1\n",
    "#    - значение в столбце time меньше значения аргумента time2\n",
    "#    Используйте последовательную фильтрацию с помощью логической индексации.\n",
    "# 2) сгруппировать датафрейм genre_df по столбцу genre, взять один из его\n",
    "#    столбцов и посчитать методом count() количество записей для каждого из\n",
    "#    присутствующих жанров, получившийся Series записать в переменную\n",
    "#    genre_df_count\n",
    "# 3) отсортировать genre_df_count по убыванию встречаемости и сохранить\n",
    "#    в переменную genre_df_sorted\n",
    "# 4) вернуть Series из 10 первых значений genre_df_sorted, это будут топ-10\n",
    "#    популярных жанров (в указанный день, в заданное время)\n",
    "def genre_weekday(table, day, time1, time2):\n",
    "    genre_df = table[(table['day'] == day) & (table['time'] > time1) & (table['time'] < time2)]\n",
    "    genre_df_count = genre_df.groupby('genre')['user_id'].count()\n",
    "    genre_df_sorted = genre_df_count.sort_values(ascending=False)\n",
    "    return genre_df_sorted.head(10)"
   ]
  },
  {
   "cell_type": "markdown",
   "metadata": {
    "id": "la2s2_PF_Zcu"
   },
   "source": [
    "Cравните результаты функции `genre_weekday()` для Москвы и Санкт-Петербурга в понедельник утром (с 7:00 до 11:00) и в пятницу вечером (с 17:00 до 23:00):"
   ]
  },
  {
   "cell_type": "code",
   "execution_count": 33,
   "metadata": {
    "id": "yz7itPUQ_Zcu",
    "scrolled": false
   },
   "outputs": [
    {
     "data": {
      "text/plain": [
       "genre\n",
       "pop            781\n",
       "dance          549\n",
       "electronic     480\n",
       "rock           474\n",
       "hiphop         286\n",
       "ruspop         186\n",
       "world          181\n",
       "rusrap         175\n",
       "alternative    164\n",
       "unknown        161\n",
       "Name: user_id, dtype: int64"
      ]
     },
     "execution_count": 33,
     "metadata": {},
     "output_type": "execute_result"
    }
   ],
   "source": [
    "# вызов функции для утра понедельника в Москве (вместо df — таблица moscow_general)\n",
    "# объекты, хранящие время, являются строками и сравниваются как строки\n",
    "# пример вызова: genre_weekday(moscow_general, 'Monday', '07:00', '11:00')\n",
    "genre_weekday(moscow_general, 'Monday', '07:00', '11:00')"
   ]
  },
  {
   "cell_type": "code",
   "execution_count": 34,
   "metadata": {
    "id": "kwUcHPdy_Zcu"
   },
   "outputs": [
    {
     "data": {
      "text/plain": [
       "genre\n",
       "pop            218\n",
       "dance          182\n",
       "rock           162\n",
       "electronic     147\n",
       "hiphop          80\n",
       "ruspop          64\n",
       "alternative     58\n",
       "rusrap          55\n",
       "jazz            44\n",
       "classical       40\n",
       "Name: user_id, dtype: int64"
      ]
     },
     "execution_count": 34,
     "metadata": {},
     "output_type": "execute_result"
    }
   ],
   "source": [
    "# вызов функции для утра понедельника в Петербурге (вместо df — таблица spb_general)\n",
    "genre_weekday(spb_general, 'Monday', '07:00', '11:00')"
   ]
  },
  {
   "cell_type": "code",
   "execution_count": 35,
   "metadata": {
    "id": "EzXVRE1o_Zcu"
   },
   "outputs": [
    {
     "data": {
      "text/plain": [
       "genre\n",
       "pop            713\n",
       "rock           517\n",
       "dance          495\n",
       "electronic     482\n",
       "hiphop         273\n",
       "world          208\n",
       "ruspop         170\n",
       "alternative    163\n",
       "classical      163\n",
       "rusrap         142\n",
       "Name: user_id, dtype: int64"
      ]
     },
     "execution_count": 35,
     "metadata": {},
     "output_type": "execute_result"
    }
   ],
   "source": [
    "# вызов функции для вечера пятницы в Москве\n",
    "genre_weekday(moscow_general, 'Friday', '17:00', '23:00')"
   ]
  },
  {
   "cell_type": "code",
   "execution_count": 36,
   "metadata": {
    "id": "JZaEKu5v_Zcu"
   },
   "outputs": [
    {
     "data": {
      "text/plain": [
       "genre\n",
       "pop            256\n",
       "rock           216\n",
       "electronic     216\n",
       "dance          210\n",
       "hiphop          97\n",
       "alternative     63\n",
       "jazz            61\n",
       "classical       60\n",
       "rusrap          59\n",
       "world           54\n",
       "Name: user_id, dtype: int64"
      ]
     },
     "execution_count": 36,
     "metadata": {},
     "output_type": "execute_result"
    }
   ],
   "source": [
    "# вызов функции для вечера пятницы в Петербурге\n",
    "genre_weekday(spb_general, 'Friday', '17:00', '23:00')"
   ]
  },
  {
   "cell_type": "markdown",
   "metadata": {
    "id": "wrCe4MNX_Zcu"
   },
   "source": [
    "**Выводы**\n",
    "\n",
    "Если сравнить топ-10 жанров в понедельник утром, можно сделать такие выводы:\n",
    "\n",
    "1. В Москве и Петербурге слушают похожую музыку. Единственное отличие — в московский рейтинг вошёл жанр “world”, а в петербургский — джаз и классика.\n",
    "\n",
    "2. В Москве пропущенных значений оказалось так много, что значение `'unknown'` заняло десятое место среди самых популярных жанров. Значит, пропущенные значения занимают существенную долю в данных и угрожают достоверности исследования.\n",
    "\n",
    "Вечер пятницы не меняет эту картину. Некоторые жанры поднимаются немного выше, другие спускаются, но в целом топ-10 остаётся тем же самым.\n",
    "\n",
    "Таким образом, вторая гипотеза подтвердилась лишь частично:\n",
    "* Пользователи слушают похожую музыку в начале недели и в конце.\n",
    "* Разница между Москвой и Петербургом не слишком выражена. В Москве чаще слушают русскую популярную музыку, в Петербурге — джаз.\n",
    "\n",
    "Однако пропуски в данных ставят под сомнение этот результат. В Москве их так много, что рейтинг топ-10 мог бы выглядеть иначе, если бы не утерянные  данные о жанрах."
   ]
  },
  {
   "cell_type": "markdown",
   "metadata": {
    "id": "JolODAqr_Zcu"
   },
   "source": [
    "### Жанровые предпочтения в Москве и Петербурге\n",
    "\n",
    "Гипотеза: Петербург — столица рэпа, музыку этого жанра там слушают чаще, чем в Москве.  А Москва — город контрастов, в котором, тем не менее, преобладает поп-музыка."
   ]
  },
  {
   "cell_type": "markdown",
   "metadata": {
    "id": "DlegSvaT_Zcu"
   },
   "source": [
    "Сгруппируйте таблицу `moscow_general` по жанру и посчитайте прослушивания треков каждого жанра методом `count()`. Затем отсортируйте результат в порядке убывания и сохраните его в таблице `moscow_genres`."
   ]
  },
  {
   "cell_type": "code",
   "execution_count": 37,
   "metadata": {
    "id": "r19lIPke_Zcu"
   },
   "outputs": [],
   "source": [
    "# одной строкой: группировка таблицы moscow_general по столбцу 'genre', \n",
    "# подсчёт числа значений 'genre' в этой группировке методом count(), \n",
    "# сортировка получившегося Series в порядке убывания и сохранение в moscow_genres\n",
    "moscow_genres = moscow_general.groupby('genre')['user_id'].count().sort_values(ascending=False)"
   ]
  },
  {
   "cell_type": "markdown",
   "metadata": {
    "id": "6kMuomxTiIr8"
   },
   "source": [
    "Выведите на экран первые десять строк `moscow_genres`:"
   ]
  },
  {
   "cell_type": "code",
   "execution_count": 38,
   "metadata": {
    "id": "WhCSooF8_Zcv"
   },
   "outputs": [
    {
     "data": {
      "text/plain": [
       "genre\n",
       "pop            5892\n",
       "dance          4435\n",
       "rock           3965\n",
       "electronic     3786\n",
       "hiphop         2096\n",
       "classical      1616\n",
       "world          1432\n",
       "alternative    1379\n",
       "ruspop         1372\n",
       "rusrap         1161\n",
       "Name: user_id, dtype: int64"
      ]
     },
     "execution_count": 38,
     "metadata": {},
     "output_type": "execute_result"
    }
   ],
   "source": [
    "# просмотр первых 10 строк moscow_genres\n",
    "moscow_genres.head(10)"
   ]
  },
  {
   "cell_type": "markdown",
   "metadata": {
    "id": "cnPG2vnN_Zcv"
   },
   "source": [
    "Теперь повторите то же и для Петербурга.\n",
    "\n",
    "Сгруппируйте таблицу `spb_general` по жанру. Посчитайте прослушивания треков каждого жанра. Результат отсортируйте в порядке убывания и сохраните в таблице `spb_genres`:\n"
   ]
  },
  {
   "cell_type": "code",
   "execution_count": 39,
   "metadata": {
    "id": "gluLIpE7_Zcv"
   },
   "outputs": [],
   "source": [
    "# одной строкой: группировка таблицы spb_general по столбцу 'genre', \n",
    "# подсчёт числа значений 'genre' в этой группировке методом count(), \n",
    "# сортировка получившегося Series в порядке убывания и сохранение в spb_genres\n",
    "spb_genres = spb_general.groupby('genre')['user_id'].count().sort_values(ascending=False)"
   ]
  },
  {
   "cell_type": "markdown",
   "metadata": {
    "id": "5Doha_ODgyQ8"
   },
   "source": [
    "Выведите на экран первые десять строк `spb_genres`:"
   ]
  },
  {
   "cell_type": "code",
   "execution_count": 40,
   "metadata": {
    "id": "uaGJHjVU_Zcv"
   },
   "outputs": [
    {
     "data": {
      "text/plain": [
       "genre\n",
       "pop            2431\n",
       "dance          1932\n",
       "rock           1879\n",
       "electronic     1737\n",
       "hiphop          960\n",
       "alternative     649\n",
       "classical       646\n",
       "rusrap          564\n",
       "ruspop          538\n",
       "world           515\n",
       "Name: user_id, dtype: int64"
      ]
     },
     "execution_count": 40,
     "metadata": {},
     "output_type": "execute_result"
    }
   ],
   "source": [
    "# просмотр первых 10 строк spb_genres\n",
    "spb_genres.head(10)"
   ]
  },
  {
   "cell_type": "markdown",
   "metadata": {
    "id": "RY51YJYu_Zcv"
   },
   "source": [
    "**Выводы**"
   ]
  },
  {
   "cell_type": "markdown",
   "metadata": {
    "id": "nVhnJEm__Zcv"
   },
   "source": [
    "Гипотеза частично подтвердилась:\n",
    "* Поп-музыка — самый популярный жанр в Москве, как и предполагала гипотеза. Более того, в топ-10 жанров встречается близкий жанр — русская популярная музыка.\n",
    "* Вопреки ожиданиям, рэп одинаково популярен в Москве и Петербурге. \n"
   ]
  },
  {
   "cell_type": "markdown",
   "metadata": {
    "id": "ykKQ0N65_Zcv"
   },
   "source": [
    "## Итоги исследования"
   ]
  },
  {
   "cell_type": "markdown",
   "metadata": {
    "id": "tjUwbHb3_Zcv"
   },
   "source": [
    "Вы проверили три гипотезы и установили:\n",
    "\n",
    "1. День недели по-разному влияет на активность пользователей в Москве и Петербурге. \n",
    "\n",
    "Первая гипотеза полностью подтвердилась.\n",
    "\n",
    "2. Музыкальные предпочтения не сильно меняются в течение недели — будь то Москва или Петербург. Небольшие различия заметны в начале недели, по понедельникам:\n",
    "* в Москве слушают музыку жанра “world”,\n",
    "* в Петербурге — джаз и классику.\n",
    "\n",
    "Таким образом, вторая гипотеза подтвердилась лишь отчасти. Этот результат мог оказаться иным, если бы не пропуски в данных.\n",
    "\n",
    "3. Во вкусах пользователей Москвы и Петербурга больше общего чем различий. Вопреки ожиданиям, предпочтения жанров в Петербурге напоминают московские.\n",
    "\n",
    "Третья гипотеза не подтвердилась. Если различия в предпочтениях и существуют, на основной массе пользователей они незаметны.\n",
    "\n",
    "**На практике исследования содержат проверки статистических гипотез.**\n",
    "Из данных одного сервиса не всегда можно сделать вывод о всех жителях города.\n",
    "Проверки статистических гипотез покажут, насколько они достоверны, исходя из имеющихся данных. \n",
    "С методами проверок гипотез вы ещё познакомитесь в следующих темах."
   ]
  }
 ],
 "metadata": {
  "ExecuteTimeLog": [
   {
    "duration": 855,
    "start_time": "2021-11-05T17:17:27.289Z"
   },
   {
    "duration": 223,
    "start_time": "2021-11-05T17:18:19.435Z"
   },
   {
    "duration": 26,
    "start_time": "2021-11-05T17:19:10.851Z"
   },
   {
    "duration": 36,
    "start_time": "2021-11-05T17:20:23.407Z"
   },
   {
    "duration": 6,
    "start_time": "2021-11-05T17:31:16.531Z"
   },
   {
    "duration": 7,
    "start_time": "2021-11-05T17:31:24.797Z"
   },
   {
    "duration": 35,
    "start_time": "2021-11-05T17:37:14.736Z"
   },
   {
    "duration": 5,
    "start_time": "2021-11-05T17:37:26.495Z"
   },
   {
    "duration": 33,
    "start_time": "2021-11-05T17:39:37.434Z"
   },
   {
    "duration": 413,
    "start_time": "2021-11-05T17:52:47.137Z"
   },
   {
    "duration": 307,
    "start_time": "2021-11-05T17:53:14.533Z"
   },
   {
    "duration": 300,
    "start_time": "2021-11-05T17:54:04.717Z"
   },
   {
    "duration": 29,
    "start_time": "2021-11-05T17:58:58.666Z"
   },
   {
    "duration": 30,
    "start_time": "2021-11-05T17:59:04.422Z"
   },
   {
    "duration": 87,
    "start_time": "2021-11-05T17:59:43.503Z"
   },
   {
    "duration": 129,
    "start_time": "2021-11-05T18:03:15.885Z"
   },
   {
    "duration": 93,
    "start_time": "2021-11-05T18:03:19.558Z"
   },
   {
    "duration": 7,
    "start_time": "2021-11-05T18:05:56.143Z"
   },
   {
    "duration": 318,
    "start_time": "2021-11-05T18:06:25.060Z"
   },
   {
    "duration": 67,
    "start_time": "2021-11-05T18:08:36.383Z"
   },
   {
    "duration": 59,
    "start_time": "2021-11-05T18:10:13.906Z"
   },
   {
    "duration": 56,
    "start_time": "2021-11-05T18:10:19.107Z"
   },
   {
    "duration": 80,
    "start_time": "2021-11-05T18:10:35.568Z"
   },
   {
    "duration": 9,
    "start_time": "2021-11-05T18:18:57.569Z"
   },
   {
    "duration": 4,
    "start_time": "2021-11-05T18:20:25.327Z"
   },
   {
    "duration": 4,
    "start_time": "2021-11-05T18:42:20.740Z"
   },
   {
    "duration": 62,
    "start_time": "2021-11-05T18:44:46.892Z"
   },
   {
    "duration": 58,
    "start_time": "2021-11-05T18:45:51.993Z"
   },
   {
    "duration": 778,
    "start_time": "2021-11-05T18:47:48.346Z"
   },
   {
    "duration": 210,
    "start_time": "2021-11-05T18:47:51.097Z"
   },
   {
    "duration": 33,
    "start_time": "2021-11-05T18:47:52.677Z"
   },
   {
    "duration": 36,
    "start_time": "2021-11-05T18:47:56.448Z"
   },
   {
    "duration": 8,
    "start_time": "2021-11-05T18:48:01.983Z"
   },
   {
    "duration": 30,
    "start_time": "2021-11-05T18:48:04.535Z"
   },
   {
    "duration": 5,
    "start_time": "2021-11-05T18:48:05.669Z"
   },
   {
    "duration": 31,
    "start_time": "2021-11-05T18:48:09.012Z"
   },
   {
    "duration": 25,
    "start_time": "2021-11-05T18:48:14.098Z"
   },
   {
    "duration": 31,
    "start_time": "2021-11-05T18:48:17.901Z"
   },
   {
    "duration": 92,
    "start_time": "2021-11-05T18:48:29.324Z"
   },
   {
    "duration": 109,
    "start_time": "2021-11-05T18:48:31.521Z"
   },
   {
    "duration": 88,
    "start_time": "2021-11-05T18:48:33.909Z"
   },
   {
    "duration": 61,
    "start_time": "2021-11-05T18:48:40.495Z"
   },
   {
    "duration": 5,
    "start_time": "2021-11-05T18:48:49.061Z"
   },
   {
    "duration": 24,
    "start_time": "2021-11-05T18:48:50.732Z"
   },
   {
    "duration": 98,
    "start_time": "2021-11-05T18:48:56.024Z"
   },
   {
    "duration": 112,
    "start_time": "2021-11-05T18:56:34.041Z"
   },
   {
    "duration": 141,
    "start_time": "2021-11-05T18:57:25.386Z"
   },
   {
    "duration": 8,
    "start_time": "2021-11-05T19:02:58.008Z"
   },
   {
    "duration": 59,
    "start_time": "2021-11-05T19:03:43.196Z"
   },
   {
    "duration": 61,
    "start_time": "2021-11-05T19:12:02.364Z"
   },
   {
    "duration": 15,
    "start_time": "2021-11-05T19:12:30.056Z"
   },
   {
    "duration": 19,
    "start_time": "2021-11-05T19:13:40.870Z"
   },
   {
    "duration": 16,
    "start_time": "2021-11-05T19:15:01.719Z"
   },
   {
    "duration": 440,
    "start_time": "2021-11-05T19:15:24.286Z"
   },
   {
    "duration": 21,
    "start_time": "2021-11-05T19:15:39.300Z"
   },
   {
    "duration": 6,
    "start_time": "2021-11-05T19:43:40.304Z"
   },
   {
    "duration": 1515,
    "start_time": "2021-11-05T19:46:48.088Z"
   },
   {
    "duration": 1724,
    "start_time": "2021-11-05T19:49:14.955Z"
   },
   {
    "duration": 1508,
    "start_time": "2021-11-05T19:49:22.196Z"
   },
   {
    "duration": 134,
    "start_time": "2021-11-05T19:53:08.769Z"
   },
   {
    "duration": 5,
    "start_time": "2021-11-05T19:57:29.821Z"
   },
   {
    "duration": 1759,
    "start_time": "2021-11-05T19:57:35.882Z"
   },
   {
    "duration": 5,
    "start_time": "2021-11-05T20:00:33.887Z"
   },
   {
    "duration": 33,
    "start_time": "2021-11-05T20:00:37.875Z"
   },
   {
    "duration": 31,
    "start_time": "2021-11-05T20:00:53.051Z"
   },
   {
    "duration": 315,
    "start_time": "2021-11-05T20:01:59.422Z"
   },
   {
    "duration": 32,
    "start_time": "2021-11-05T20:02:05.769Z"
   },
   {
    "duration": 5,
    "start_time": "2021-11-05T20:02:41.797Z"
   },
   {
    "duration": 15,
    "start_time": "2021-11-05T20:02:44.334Z"
   },
   {
    "duration": 5,
    "start_time": "2021-11-05T20:02:57.363Z"
   },
   {
    "duration": 765,
    "start_time": "2021-11-05T21:02:05.264Z"
   },
   {
    "duration": 259,
    "start_time": "2021-11-05T21:02:07.527Z"
   },
   {
    "duration": 26,
    "start_time": "2021-11-05T21:02:09.460Z"
   },
   {
    "duration": 34,
    "start_time": "2021-11-05T21:02:12.269Z"
   },
   {
    "duration": 6,
    "start_time": "2021-11-05T21:02:18.122Z"
   },
   {
    "duration": 40,
    "start_time": "2021-11-05T21:02:19.943Z"
   },
   {
    "duration": 6,
    "start_time": "2021-11-05T21:02:22.463Z"
   },
   {
    "duration": 49,
    "start_time": "2021-11-05T21:02:24.111Z"
   },
   {
    "duration": 24,
    "start_time": "2021-11-05T21:02:29.284Z"
   },
   {
    "duration": 30,
    "start_time": "2021-11-05T21:02:33.900Z"
   },
   {
    "duration": 121,
    "start_time": "2021-11-05T21:02:37.572Z"
   },
   {
    "duration": 102,
    "start_time": "2021-11-05T21:02:46.133Z"
   },
   {
    "duration": 78,
    "start_time": "2021-11-05T21:02:58.575Z"
   },
   {
    "duration": 59,
    "start_time": "2021-11-05T21:03:04.595Z"
   },
   {
    "duration": 5,
    "start_time": "2021-11-05T21:03:21.259Z"
   },
   {
    "duration": 21,
    "start_time": "2021-11-05T21:03:54.138Z"
   },
   {
    "duration": 8,
    "start_time": "2021-11-05T21:03:59.427Z"
   },
   {
    "duration": 58,
    "start_time": "2021-11-05T21:04:02.754Z"
   },
   {
    "duration": 20,
    "start_time": "2021-11-05T21:04:24.152Z"
   },
   {
    "duration": 13,
    "start_time": "2021-11-05T21:04:30.271Z"
   },
   {
    "duration": 15,
    "start_time": "2021-11-05T21:04:33.443Z"
   },
   {
    "duration": 5,
    "start_time": "2021-11-05T21:04:53.357Z"
   },
   {
    "duration": 30,
    "start_time": "2021-11-05T21:04:56.103Z"
   },
   {
    "duration": 5,
    "start_time": "2021-11-05T21:11:14.299Z"
   },
   {
    "duration": 23,
    "start_time": "2021-11-05T21:11:17.160Z"
   },
   {
    "duration": 20,
    "start_time": "2021-11-05T21:13:01.874Z"
   },
   {
    "duration": 22,
    "start_time": "2021-11-05T21:15:22.332Z"
   },
   {
    "duration": 22,
    "start_time": "2021-11-05T21:16:25.260Z"
   },
   {
    "duration": 34,
    "start_time": "2021-11-05T21:16:59.612Z"
   },
   {
    "duration": 374,
    "start_time": "2021-11-05T21:17:48.641Z"
   },
   {
    "duration": 771,
    "start_time": "2021-11-05T21:18:20.955Z"
   },
   {
    "duration": 721,
    "start_time": "2021-11-05T21:19:54.518Z"
   },
   {
    "duration": 192,
    "start_time": "2021-11-05T21:19:56.076Z"
   },
   {
    "duration": 26,
    "start_time": "2021-11-05T21:19:57.265Z"
   },
   {
    "duration": 34,
    "start_time": "2021-11-05T21:19:59.935Z"
   },
   {
    "duration": 5,
    "start_time": "2021-11-05T21:20:04.693Z"
   },
   {
    "duration": 29,
    "start_time": "2021-11-05T21:20:07.539Z"
   },
   {
    "duration": 5,
    "start_time": "2021-11-05T21:20:09.797Z"
   },
   {
    "duration": 33,
    "start_time": "2021-11-05T21:20:10.971Z"
   },
   {
    "duration": 23,
    "start_time": "2021-11-05T21:20:13.583Z"
   },
   {
    "duration": 31,
    "start_time": "2021-11-05T21:20:15.530Z"
   },
   {
    "duration": 82,
    "start_time": "2021-11-05T21:20:17.662Z"
   },
   {
    "duration": 98,
    "start_time": "2021-11-05T21:20:19.949Z"
   },
   {
    "duration": 77,
    "start_time": "2021-11-05T21:20:20.847Z"
   },
   {
    "duration": 56,
    "start_time": "2021-11-05T21:20:23.729Z"
   },
   {
    "duration": 4,
    "start_time": "2021-11-05T21:20:26.250Z"
   },
   {
    "duration": 22,
    "start_time": "2021-11-05T21:20:28.469Z"
   },
   {
    "duration": 7,
    "start_time": "2021-11-05T21:20:29.404Z"
   },
   {
    "duration": 55,
    "start_time": "2021-11-05T21:20:31.411Z"
   },
   {
    "duration": 16,
    "start_time": "2021-11-05T21:20:37.560Z"
   },
   {
    "duration": 15,
    "start_time": "2021-11-05T21:20:39.588Z"
   },
   {
    "duration": 16,
    "start_time": "2021-11-05T21:20:41.198Z"
   },
   {
    "duration": 5,
    "start_time": "2021-11-05T21:20:46.216Z"
   },
   {
    "duration": 24,
    "start_time": "2021-11-05T21:20:49.796Z"
   },
   {
    "duration": 19,
    "start_time": "2021-11-05T21:20:51.885Z"
   },
   {
    "duration": 20,
    "start_time": "2021-11-05T21:20:52.621Z"
   },
   {
    "duration": 19,
    "start_time": "2021-11-05T21:20:54.695Z"
   },
   {
    "duration": 21,
    "start_time": "2021-11-05T21:20:55.688Z"
   },
   {
    "duration": 18,
    "start_time": "2021-11-05T21:20:56.551Z"
   },
   {
    "duration": 5,
    "start_time": "2021-11-05T21:20:58.322Z"
   },
   {
    "duration": 5,
    "start_time": "2021-11-05T21:21:43.581Z"
   },
   {
    "duration": 375,
    "start_time": "2021-11-05T21:25:09.528Z"
   },
   {
    "duration": 315,
    "start_time": "2021-11-05T21:28:17.171Z"
   },
   {
    "duration": 304,
    "start_time": "2021-11-05T21:28:58.177Z"
   },
   {
    "duration": 323,
    "start_time": "2021-11-05T21:29:34.231Z"
   },
   {
    "duration": 322,
    "start_time": "2021-11-05T21:31:38.685Z"
   },
   {
    "duration": 732,
    "start_time": "2021-11-05T21:32:38.240Z"
   },
   {
    "duration": 308,
    "start_time": "2021-11-05T21:32:58.234Z"
   },
   {
    "duration": 882,
    "start_time": "2021-11-05T21:40:56.443Z"
   },
   {
    "duration": 300,
    "start_time": "2021-11-05T21:41:34.424Z"
   },
   {
    "duration": 291,
    "start_time": "2021-11-05T21:42:28.889Z"
   },
   {
    "duration": 310,
    "start_time": "2021-11-05T21:42:52.495Z"
   },
   {
    "duration": 307,
    "start_time": "2021-11-05T21:54:15.604Z"
   },
   {
    "duration": 299,
    "start_time": "2021-11-05T21:56:12.328Z"
   },
   {
    "duration": 305,
    "start_time": "2021-11-05T21:56:43.865Z"
   },
   {
    "duration": 290,
    "start_time": "2021-11-05T22:01:51.803Z"
   },
   {
    "duration": 317,
    "start_time": "2021-11-05T22:02:00.349Z"
   },
   {
    "duration": 391,
    "start_time": "2021-11-05T22:02:16.819Z"
   },
   {
    "duration": 308,
    "start_time": "2021-11-05T22:02:31.359Z"
   },
   {
    "duration": 288,
    "start_time": "2021-11-05T22:03:33.624Z"
   },
   {
    "duration": 901,
    "start_time": "2021-11-05T22:04:00.389Z"
   },
   {
    "duration": 802,
    "start_time": "2021-11-05T22:04:36.459Z"
   },
   {
    "duration": 190,
    "start_time": "2021-11-05T22:04:37.264Z"
   },
   {
    "duration": 26,
    "start_time": "2021-11-05T22:04:37.866Z"
   },
   {
    "duration": 34,
    "start_time": "2021-11-05T22:04:38.880Z"
   },
   {
    "duration": 5,
    "start_time": "2021-11-05T22:04:40.363Z"
   },
   {
    "duration": 27,
    "start_time": "2021-11-05T22:04:41.261Z"
   },
   {
    "duration": 5,
    "start_time": "2021-11-05T22:04:41.885Z"
   },
   {
    "duration": 33,
    "start_time": "2021-11-05T22:04:42.547Z"
   },
   {
    "duration": 35,
    "start_time": "2021-11-05T22:04:43.520Z"
   },
   {
    "duration": 53,
    "start_time": "2021-11-05T22:04:44.194Z"
   },
   {
    "duration": 83,
    "start_time": "2021-11-05T22:04:44.794Z"
   },
   {
    "duration": 101,
    "start_time": "2021-11-05T22:04:45.426Z"
   },
   {
    "duration": 78,
    "start_time": "2021-11-05T22:04:46.098Z"
   },
   {
    "duration": 60,
    "start_time": "2021-11-05T22:04:47.154Z"
   },
   {
    "duration": 4,
    "start_time": "2021-11-05T22:04:50.369Z"
   },
   {
    "duration": 23,
    "start_time": "2021-11-05T22:04:51.008Z"
   },
   {
    "duration": 7,
    "start_time": "2021-11-05T22:04:52.155Z"
   },
   {
    "duration": 57,
    "start_time": "2021-11-05T22:04:52.981Z"
   },
   {
    "duration": 15,
    "start_time": "2021-11-05T22:04:55.720Z"
   },
   {
    "duration": 14,
    "start_time": "2021-11-05T22:04:56.717Z"
   },
   {
    "duration": 16,
    "start_time": "2021-11-05T22:04:57.172Z"
   },
   {
    "duration": 5,
    "start_time": "2021-11-05T22:04:58.461Z"
   },
   {
    "duration": 23,
    "start_time": "2021-11-05T22:04:59.293Z"
   },
   {
    "duration": 19,
    "start_time": "2021-11-05T22:04:59.686Z"
   },
   {
    "duration": 20,
    "start_time": "2021-11-05T22:05:00.075Z"
   },
   {
    "duration": 20,
    "start_time": "2021-11-05T22:05:00.469Z"
   },
   {
    "duration": 23,
    "start_time": "2021-11-05T22:05:00.865Z"
   },
   {
    "duration": 19,
    "start_time": "2021-11-05T22:05:01.276Z"
   },
   {
    "duration": 362,
    "start_time": "2021-11-05T22:05:04.182Z"
   },
   {
    "duration": 288,
    "start_time": "2021-11-05T22:06:43.444Z"
   },
   {
    "duration": 314,
    "start_time": "2021-11-05T22:08:30.515Z"
   },
   {
    "duration": 527,
    "start_time": "2021-11-07T18:43:19.752Z"
   },
   {
    "duration": 132,
    "start_time": "2021-11-07T18:43:21.805Z"
   },
   {
    "duration": 18,
    "start_time": "2021-11-07T18:43:23.468Z"
   },
   {
    "duration": 24,
    "start_time": "2021-11-07T18:43:38.964Z"
   },
   {
    "duration": 5,
    "start_time": "2021-11-07T18:44:06.717Z"
   },
   {
    "duration": 21,
    "start_time": "2021-11-07T18:44:39.581Z"
   },
   {
    "duration": 4,
    "start_time": "2021-11-07T18:44:40.907Z"
   },
   {
    "duration": 23,
    "start_time": "2021-11-07T18:45:14.573Z"
   },
   {
    "duration": 17,
    "start_time": "2021-11-07T18:46:06.644Z"
   },
   {
    "duration": 23,
    "start_time": "2021-11-07T18:46:08.921Z"
   },
   {
    "duration": 57,
    "start_time": "2021-11-07T18:46:30.090Z"
   },
   {
    "duration": 66,
    "start_time": "2021-11-07T18:46:45.814Z"
   },
   {
    "duration": 47,
    "start_time": "2021-11-07T18:46:55.331Z"
   },
   {
    "duration": 39,
    "start_time": "2021-11-07T18:47:28.057Z"
   },
   {
    "duration": 3,
    "start_time": "2021-11-07T18:48:23.377Z"
   },
   {
    "duration": 14,
    "start_time": "2021-11-07T18:48:38.545Z"
   },
   {
    "duration": 6,
    "start_time": "2021-11-07T18:49:03.303Z"
   },
   {
    "duration": 37,
    "start_time": "2021-11-07T18:49:13.373Z"
   },
   {
    "duration": 11,
    "start_time": "2021-11-07T18:49:54.689Z"
   },
   {
    "duration": 9,
    "start_time": "2021-11-07T18:51:04.295Z"
   },
   {
    "duration": 10,
    "start_time": "2021-11-07T18:51:19.793Z"
   },
   {
    "duration": 4,
    "start_time": "2021-11-07T18:53:16.812Z"
   },
   {
    "duration": 16,
    "start_time": "2021-11-07T18:53:43.320Z"
   },
   {
    "duration": 15,
    "start_time": "2021-11-07T18:53:56.115Z"
   },
   {
    "duration": 20,
    "start_time": "2021-11-07T18:54:17.953Z"
   },
   {
    "duration": 499,
    "start_time": "2021-11-07T18:54:52.154Z"
   },
   {
    "duration": 131,
    "start_time": "2021-11-07T18:54:52.855Z"
   },
   {
    "duration": 16,
    "start_time": "2021-11-07T18:54:53.820Z"
   },
   {
    "duration": 24,
    "start_time": "2021-11-07T18:54:54.946Z"
   },
   {
    "duration": 4,
    "start_time": "2021-11-07T18:55:00.952Z"
   },
   {
    "duration": 21,
    "start_time": "2021-11-07T18:55:02.530Z"
   },
   {
    "duration": 3,
    "start_time": "2021-11-07T18:55:03.585Z"
   },
   {
    "duration": 22,
    "start_time": "2021-11-07T18:55:06.442Z"
   },
   {
    "duration": 16,
    "start_time": "2021-11-07T18:55:07.958Z"
   },
   {
    "duration": 22,
    "start_time": "2021-11-07T18:55:10.213Z"
   },
   {
    "duration": 56,
    "start_time": "2021-11-07T18:55:11.069Z"
   },
   {
    "duration": 68,
    "start_time": "2021-11-07T18:55:13.733Z"
   },
   {
    "duration": 49,
    "start_time": "2021-11-07T18:55:14.626Z"
   },
   {
    "duration": 38,
    "start_time": "2021-11-07T18:55:16.279Z"
   },
   {
    "duration": 3,
    "start_time": "2021-11-07T18:55:19.588Z"
   },
   {
    "duration": 14,
    "start_time": "2021-11-07T18:55:20.485Z"
   },
   {
    "duration": 6,
    "start_time": "2021-11-07T18:55:21.299Z"
   },
   {
    "duration": 38,
    "start_time": "2021-11-07T18:55:23.260Z"
   },
   {
    "duration": 10,
    "start_time": "2021-11-07T18:55:30.761Z"
   },
   {
    "duration": 10,
    "start_time": "2021-11-07T18:55:31.765Z"
   },
   {
    "duration": 10,
    "start_time": "2021-11-07T18:55:32.369Z"
   },
   {
    "duration": 3,
    "start_time": "2021-11-07T18:55:35.779Z"
   },
   {
    "duration": 16,
    "start_time": "2021-11-07T18:55:39.466Z"
   },
   {
    "duration": 14,
    "start_time": "2021-11-07T18:55:39.870Z"
   },
   {
    "duration": 15,
    "start_time": "2021-11-07T18:55:40.539Z"
   },
   {
    "duration": 13,
    "start_time": "2021-11-07T18:55:41.647Z"
   },
   {
    "duration": 16,
    "start_time": "2021-11-07T18:55:42.116Z"
   },
   {
    "duration": 21,
    "start_time": "2021-11-07T18:55:43.969Z"
   },
   {
    "duration": 323,
    "start_time": "2021-11-07T18:56:21.875Z"
   },
   {
    "duration": 172,
    "start_time": "2021-11-07T18:56:42.676Z"
   },
   {
    "duration": 174,
    "start_time": "2021-11-07T18:56:50.207Z"
   },
   {
    "duration": 196,
    "start_time": "2021-11-07T18:57:10.435Z"
   },
   {
    "duration": 191,
    "start_time": "2021-11-07T18:58:58.939Z"
   },
   {
    "duration": 191,
    "start_time": "2021-11-07T19:00:41.013Z"
   },
   {
    "duration": 179,
    "start_time": "2021-11-07T19:02:17.989Z"
   },
   {
    "duration": 172,
    "start_time": "2021-11-07T19:05:17.055Z"
   },
   {
    "duration": 174,
    "start_time": "2021-11-07T19:06:45.575Z"
   },
   {
    "duration": 178,
    "start_time": "2021-11-07T19:07:47.798Z"
   },
   {
    "duration": 11,
    "start_time": "2021-11-07T19:12:05.807Z"
   },
   {
    "duration": 21,
    "start_time": "2021-11-07T19:12:17.822Z"
   },
   {
    "duration": 76,
    "start_time": "2021-11-07T19:13:27.516Z"
   },
   {
    "duration": 8,
    "start_time": "2021-11-07T19:13:33.443Z"
   },
   {
    "duration": 19,
    "start_time": "2021-11-07T19:14:19.009Z"
   },
   {
    "duration": 221,
    "start_time": "2021-11-07T19:27:55.451Z"
   },
   {
    "duration": 4,
    "start_time": "2021-11-07T19:28:06.814Z"
   },
   {
    "duration": 17,
    "start_time": "2021-11-07T19:28:09.412Z"
   },
   {
    "duration": 14,
    "start_time": "2021-11-07T19:28:49.594Z"
   },
   {
    "duration": 21,
    "start_time": "2021-11-07T19:29:43.692Z"
   },
   {
    "duration": 13,
    "start_time": "2021-11-07T19:30:03.609Z"
   },
   {
    "duration": 12,
    "start_time": "2021-11-07T19:35:28.237Z"
   },
   {
    "duration": 187,
    "start_time": "2021-11-07T19:35:42.858Z"
   },
   {
    "duration": 12,
    "start_time": "2021-11-07T19:35:58.073Z"
   },
   {
    "duration": 9,
    "start_time": "2021-11-07T19:36:22.181Z"
   },
   {
    "duration": 5,
    "start_time": "2021-11-07T19:36:33.163Z"
   },
   {
    "duration": 8,
    "start_time": "2021-11-07T19:37:53.308Z"
   },
   {
    "duration": 5,
    "start_time": "2021-11-07T19:38:05.455Z"
   },
   {
    "duration": 5,
    "start_time": "2021-11-07T19:46:16.810Z"
   },
   {
    "duration": 9,
    "start_time": "2021-11-07T19:46:27.477Z"
   },
   {
    "duration": 171,
    "start_time": "2021-11-07T19:48:33.712Z"
   },
   {
    "duration": 493,
    "start_time": "2021-11-07T19:49:30.748Z"
   },
   {
    "duration": 135,
    "start_time": "2021-11-07T19:49:31.472Z"
   },
   {
    "duration": 18,
    "start_time": "2021-11-07T19:49:32.280Z"
   },
   {
    "duration": 25,
    "start_time": "2021-11-07T19:49:34.976Z"
   },
   {
    "duration": 4,
    "start_time": "2021-11-07T19:49:40.840Z"
   },
   {
    "duration": 20,
    "start_time": "2021-11-07T19:49:42.796Z"
   },
   {
    "duration": 3,
    "start_time": "2021-11-07T19:49:45.047Z"
   },
   {
    "duration": 22,
    "start_time": "2021-11-07T19:49:46.103Z"
   },
   {
    "duration": 17,
    "start_time": "2021-11-07T19:49:49.072Z"
   },
   {
    "duration": 21,
    "start_time": "2021-11-07T19:49:51.337Z"
   },
   {
    "duration": 55,
    "start_time": "2021-11-07T19:49:53.556Z"
   },
   {
    "duration": 65,
    "start_time": "2021-11-07T19:49:54.529Z"
   },
   {
    "duration": 49,
    "start_time": "2021-11-07T19:49:56.636Z"
   },
   {
    "duration": 37,
    "start_time": "2021-11-07T19:49:58.217Z"
   },
   {
    "duration": 2,
    "start_time": "2021-11-07T19:50:00.949Z"
   },
   {
    "duration": 14,
    "start_time": "2021-11-07T19:50:02.957Z"
   },
   {
    "duration": 6,
    "start_time": "2021-11-07T19:50:03.759Z"
   },
   {
    "duration": 41,
    "start_time": "2021-11-07T19:50:05.004Z"
   },
   {
    "duration": 10,
    "start_time": "2021-11-07T19:50:10.472Z"
   },
   {
    "duration": 10,
    "start_time": "2021-11-07T19:50:11.513Z"
   },
   {
    "duration": 10,
    "start_time": "2021-11-07T19:50:13.543Z"
   },
   {
    "duration": 4,
    "start_time": "2021-11-07T19:50:16.270Z"
   },
   {
    "duration": 17,
    "start_time": "2021-11-07T19:50:18.863Z"
   },
   {
    "duration": 14,
    "start_time": "2021-11-07T19:50:19.801Z"
   },
   {
    "duration": 15,
    "start_time": "2021-11-07T19:50:19.817Z"
   },
   {
    "duration": 14,
    "start_time": "2021-11-07T19:50:19.962Z"
   },
   {
    "duration": 16,
    "start_time": "2021-11-07T19:50:21.829Z"
   },
   {
    "duration": 14,
    "start_time": "2021-11-07T19:50:22.113Z"
   },
   {
    "duration": 8,
    "start_time": "2021-11-07T19:50:23.091Z"
   },
   {
    "duration": 20,
    "start_time": "2021-11-07T19:50:27.560Z"
   },
   {
    "duration": 17,
    "start_time": "2021-11-07T19:50:29.375Z"
   },
   {
    "duration": 4,
    "start_time": "2021-11-07T19:50:32.295Z"
   },
   {
    "duration": 17,
    "start_time": "2021-11-07T19:50:34.087Z"
   },
   {
    "duration": 13,
    "start_time": "2021-11-07T19:50:35.718Z"
   },
   {
    "duration": 16,
    "start_time": "2021-11-07T19:50:36.066Z"
   },
   {
    "duration": 13,
    "start_time": "2021-11-07T19:50:37.846Z"
   },
   {
    "duration": 8,
    "start_time": "2021-11-07T19:50:41.261Z"
   },
   {
    "duration": 4,
    "start_time": "2021-11-07T19:50:43.923Z"
   },
   {
    "duration": 7,
    "start_time": "2021-11-07T19:50:46.397Z"
   },
   {
    "duration": 5,
    "start_time": "2021-11-07T19:50:47.726Z"
   },
   {
    "duration": 62,
    "start_time": "2021-11-07T19:54:48.580Z"
   },
   {
    "duration": 3,
    "start_time": "2021-11-07T20:00:33.214Z"
   },
   {
    "duration": 451,
    "start_time": "2021-11-07T20:00:34.386Z"
   },
   {
    "duration": 3,
    "start_time": "2021-11-07T20:00:49.572Z"
   },
   {
    "duration": 373,
    "start_time": "2021-11-07T20:00:50.930Z"
   },
   {
    "duration": 4,
    "start_time": "2021-11-07T20:01:02.566Z"
   },
   {
    "duration": 377,
    "start_time": "2021-11-07T20:01:03.923Z"
   },
   {
    "duration": 4,
    "start_time": "2021-11-07T20:01:20.745Z"
   },
   {
    "duration": 16,
    "start_time": "2021-11-07T20:01:21.873Z"
   },
   {
    "duration": 17,
    "start_time": "2021-11-07T20:01:23.261Z"
   },
   {
    "duration": 15,
    "start_time": "2021-11-07T20:01:23.974Z"
   },
   {
    "duration": 15,
    "start_time": "2021-11-07T20:01:25.484Z"
   },
   {
    "duration": 520,
    "start_time": "2021-11-07T20:01:35.308Z"
   },
   {
    "duration": 132,
    "start_time": "2021-11-07T20:01:35.830Z"
   },
   {
    "duration": 16,
    "start_time": "2021-11-07T20:01:36.506Z"
   },
   {
    "duration": 24,
    "start_time": "2021-11-07T20:01:37.390Z"
   },
   {
    "duration": 4,
    "start_time": "2021-11-07T20:01:39.300Z"
   },
   {
    "duration": 21,
    "start_time": "2021-11-07T20:01:40.200Z"
   },
   {
    "duration": 4,
    "start_time": "2021-11-07T20:01:40.815Z"
   },
   {
    "duration": 23,
    "start_time": "2021-11-07T20:01:41.243Z"
   },
   {
    "duration": 17,
    "start_time": "2021-11-07T20:01:41.817Z"
   },
   {
    "duration": 23,
    "start_time": "2021-11-07T20:01:42.203Z"
   },
   {
    "duration": 56,
    "start_time": "2021-11-07T20:01:42.580Z"
   },
   {
    "duration": 65,
    "start_time": "2021-11-07T20:01:42.925Z"
   },
   {
    "duration": 49,
    "start_time": "2021-11-07T20:01:43.308Z"
   },
   {
    "duration": 37,
    "start_time": "2021-11-07T20:01:43.934Z"
   },
   {
    "duration": 3,
    "start_time": "2021-11-07T20:01:44.319Z"
   },
   {
    "duration": 16,
    "start_time": "2021-11-07T20:01:44.711Z"
   },
   {
    "duration": 5,
    "start_time": "2021-11-07T20:01:45.086Z"
   },
   {
    "duration": 38,
    "start_time": "2021-11-07T20:01:45.465Z"
   },
   {
    "duration": 12,
    "start_time": "2021-11-07T20:01:46.705Z"
   },
   {
    "duration": 10,
    "start_time": "2021-11-07T20:01:47.095Z"
   },
   {
    "duration": 10,
    "start_time": "2021-11-07T20:01:47.307Z"
   },
   {
    "duration": 3,
    "start_time": "2021-11-07T20:01:47.954Z"
   },
   {
    "duration": 16,
    "start_time": "2021-11-07T20:01:48.653Z"
   },
   {
    "duration": 15,
    "start_time": "2021-11-07T20:01:48.927Z"
   },
   {
    "duration": 14,
    "start_time": "2021-11-07T20:01:49.212Z"
   },
   {
    "duration": 14,
    "start_time": "2021-11-07T20:01:49.537Z"
   },
   {
    "duration": 17,
    "start_time": "2021-11-07T20:01:49.829Z"
   },
   {
    "duration": 13,
    "start_time": "2021-11-07T20:01:50.251Z"
   },
   {
    "duration": 10,
    "start_time": "2021-11-07T20:01:50.833Z"
   },
   {
    "duration": 20,
    "start_time": "2021-11-07T20:01:52.613Z"
   },
   {
    "duration": 19,
    "start_time": "2021-11-07T20:01:52.907Z"
   },
   {
    "duration": 4,
    "start_time": "2021-11-07T20:01:53.871Z"
   },
   {
    "duration": 18,
    "start_time": "2021-11-07T20:01:54.657Z"
   },
   {
    "duration": 13,
    "start_time": "2021-11-07T20:01:54.915Z"
   },
   {
    "duration": 18,
    "start_time": "2021-11-07T20:01:55.367Z"
   },
   {
    "duration": 13,
    "start_time": "2021-11-07T20:01:55.833Z"
   },
   {
    "duration": 8,
    "start_time": "2021-11-07T20:01:57.709Z"
   },
   {
    "duration": 5,
    "start_time": "2021-11-07T20:01:58.612Z"
   },
   {
    "duration": 7,
    "start_time": "2021-11-07T20:01:59.936Z"
   },
   {
    "duration": 5,
    "start_time": "2021-11-07T20:02:00.695Z"
   },
   {
    "duration": 784,
    "start_time": "2021-11-08T06:32:54.393Z"
   },
   {
    "duration": 183,
    "start_time": "2021-11-08T06:32:55.180Z"
   },
   {
    "duration": 25,
    "start_time": "2021-11-08T06:32:55.367Z"
   },
   {
    "duration": 50,
    "start_time": "2021-11-08T06:32:55.395Z"
   },
   {
    "duration": 5,
    "start_time": "2021-11-08T06:32:55.448Z"
   },
   {
    "duration": 27,
    "start_time": "2021-11-08T06:32:55.456Z"
   },
   {
    "duration": 6,
    "start_time": "2021-11-08T06:32:55.486Z"
   },
   {
    "duration": 31,
    "start_time": "2021-11-08T06:32:55.524Z"
   },
   {
    "duration": 26,
    "start_time": "2021-11-08T06:32:55.559Z"
   },
   {
    "duration": 53,
    "start_time": "2021-11-08T06:32:55.588Z"
   },
   {
    "duration": 106,
    "start_time": "2021-11-08T06:32:55.644Z"
   },
   {
    "duration": 113,
    "start_time": "2021-11-08T06:32:55.752Z"
   },
   {
    "duration": 100,
    "start_time": "2021-11-08T06:32:55.868Z"
   },
   {
    "duration": 92,
    "start_time": "2021-11-08T06:32:55.971Z"
   },
   {
    "duration": 4,
    "start_time": "2021-11-08T06:32:56.065Z"
   },
   {
    "duration": 30,
    "start_time": "2021-11-08T06:32:56.072Z"
   },
   {
    "duration": 23,
    "start_time": "2021-11-08T06:32:56.105Z"
   },
   {
    "duration": 64,
    "start_time": "2021-11-08T06:32:56.131Z"
   },
   {
    "duration": 34,
    "start_time": "2021-11-08T06:32:56.198Z"
   },
   {
    "duration": 16,
    "start_time": "2021-11-08T06:32:56.235Z"
   },
   {
    "duration": 24,
    "start_time": "2021-11-08T06:32:56.253Z"
   },
   {
    "duration": 5,
    "start_time": "2021-11-08T06:32:56.280Z"
   },
   {
    "duration": 21,
    "start_time": "2021-11-08T06:32:56.324Z"
   },
   {
    "duration": 25,
    "start_time": "2021-11-08T06:32:56.348Z"
   },
   {
    "duration": 50,
    "start_time": "2021-11-08T06:32:56.376Z"
   },
   {
    "duration": 21,
    "start_time": "2021-11-08T06:32:56.429Z"
   },
   {
    "duration": 24,
    "start_time": "2021-11-08T06:32:56.453Z"
   },
   {
    "duration": 53,
    "start_time": "2021-11-08T06:32:56.480Z"
   },
   {
    "duration": 16,
    "start_time": "2021-11-08T06:32:56.535Z"
   },
   {
    "duration": 44,
    "start_time": "2021-11-08T06:32:56.553Z"
   },
   {
    "duration": 43,
    "start_time": "2021-11-08T06:32:56.600Z"
   },
   {
    "duration": 7,
    "start_time": "2021-11-08T06:32:56.646Z"
   },
   {
    "duration": 38,
    "start_time": "2021-11-08T06:32:56.655Z"
   },
   {
    "duration": 42,
    "start_time": "2021-11-08T06:32:56.696Z"
   },
   {
    "duration": 27,
    "start_time": "2021-11-08T06:32:56.741Z"
   },
   {
    "duration": 18,
    "start_time": "2021-11-08T06:32:56.770Z"
   },
   {
    "duration": 13,
    "start_time": "2021-11-08T06:32:56.823Z"
   },
   {
    "duration": 6,
    "start_time": "2021-11-08T06:32:56.839Z"
   },
   {
    "duration": 20,
    "start_time": "2021-11-08T06:32:56.847Z"
   },
   {
    "duration": 6,
    "start_time": "2021-11-08T06:32:56.870Z"
   },
   {
    "duration": 391,
    "start_time": "2021-11-24T19:21:28.126Z"
   }
  ],
  "colab": {
   "collapsed_sections": [
    "E0vqbgi9ay0H",
    "VUC88oWjTJw2"
   ],
   "name": "yandex_music_project_2021.2.ipynb",
   "provenance": []
  },
  "kernelspec": {
   "display_name": "Python 3 (ipykernel)",
   "language": "python",
   "name": "python3"
  },
  "language_info": {
   "codemirror_mode": {
    "name": "ipython",
    "version": 3
   },
   "file_extension": ".py",
   "mimetype": "text/x-python",
   "name": "python",
   "nbconvert_exporter": "python",
   "pygments_lexer": "ipython3",
   "version": "3.7.8"
  },
  "toc": {
   "base_numbering": 1,
   "nav_menu": {
    "height": "212px",
    "width": "452px"
   },
   "number_sections": true,
   "sideBar": true,
   "skip_h1_title": true,
   "title_cell": "Содержание",
   "title_sidebar": "Contents",
   "toc_cell": true,
   "toc_position": {},
   "toc_section_display": true,
   "toc_window_display": true
  }
 },
 "nbformat": 4,
 "nbformat_minor": 1
}
