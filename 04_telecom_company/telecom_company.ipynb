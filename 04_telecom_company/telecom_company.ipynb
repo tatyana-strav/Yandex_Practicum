{
 "cells": [
  {
   "cell_type": "markdown",
   "metadata": {
    "toc": true
   },
   "source": [
    "<h1>Содержание<span class=\"tocSkip\"></span></h1>\n",
    "<div class=\"toc\"><ul class=\"toc-item\"><li><span><a href=\"#Изучение-данных-из-файлов\" data-toc-modified-id=\"Изучение-данных-из-файлов-1\"><span class=\"toc-item-num\">1&nbsp;&nbsp;</span>Изучение данных из файлов</a></span><ul class=\"toc-item\"><li><span><a href=\"#Информация-о-звонках\" data-toc-modified-id=\"Информация-о-звонках-1.1\"><span class=\"toc-item-num\">1.1&nbsp;&nbsp;</span>Информация о звонках</a></span></li><li><span><a href=\"#Информация-об-интернет-сессиях\" data-toc-modified-id=\"Информация-об-интернет-сессиях-1.2\"><span class=\"toc-item-num\">1.2&nbsp;&nbsp;</span>Информация об интернет-сессиях</a></span></li><li><span><a href=\"#Информация-о-сообщениях\" data-toc-modified-id=\"Информация-о-сообщениях-1.3\"><span class=\"toc-item-num\">1.3&nbsp;&nbsp;</span>Информация о сообщениях</a></span></li><li><span><a href=\"#Информация-о-тарифах\" data-toc-modified-id=\"Информация-о-тарифах-1.4\"><span class=\"toc-item-num\">1.4&nbsp;&nbsp;</span>Информация о тарифах</a></span></li><li><span><a href=\"#Информация-о-пользователях\" data-toc-modified-id=\"Информация-о-пользователях-1.5\"><span class=\"toc-item-num\">1.5&nbsp;&nbsp;</span>Информация о пользователях</a></span></li></ul></li><li><span><a href=\"#Предобработка-данных\" data-toc-modified-id=\"Предобработка-данных-2\"><span class=\"toc-item-num\">2&nbsp;&nbsp;</span>Предобработка данных</a></span><ul class=\"toc-item\"><li><span><a href=\"#Исследование-и-заполнение-пропусков-в-данных\" data-toc-modified-id=\"Исследование-и-заполнение-пропусков-в-данных-2.1\"><span class=\"toc-item-num\">2.1&nbsp;&nbsp;</span>Исследование и заполнение пропусков в данных</a></span></li><li><span><a href=\"#Поиск-ошибок\" data-toc-modified-id=\"Поиск-ошибок-2.2\"><span class=\"toc-item-num\">2.2&nbsp;&nbsp;</span>Поиск ошибок</a></span></li><li><span><a href=\"#Изменение-типов-данных\" data-toc-modified-id=\"Изменение-типов-данных-2.3\"><span class=\"toc-item-num\">2.3&nbsp;&nbsp;</span>Изменение типов данных</a></span></li></ul></li><li><span><a href=\"#Подготовка-пользовательских-данных\" data-toc-modified-id=\"Подготовка-пользовательских-данных-3\"><span class=\"toc-item-num\">3&nbsp;&nbsp;</span>Подготовка пользовательских данных</a></span><ul class=\"toc-item\"><li><span><a href=\"#Группировка\" data-toc-modified-id=\"Группировка-3.1\"><span class=\"toc-item-num\">3.1&nbsp;&nbsp;</span>Группировка</a></span></li><li><span><a href=\"#Объединение\" data-toc-modified-id=\"Объединение-3.2\"><span class=\"toc-item-num\">3.2&nbsp;&nbsp;</span>Объединение</a></span></li><li><span><a href=\"#Подсчет-выручки,-полученной-с-каждого-пользователя\" data-toc-modified-id=\"Подсчет-выручки,-полученной-с-каждого-пользователя-3.3\"><span class=\"toc-item-num\">3.3&nbsp;&nbsp;</span>Подсчет выручки, полученной с каждого пользователя</a></span></li></ul></li><li><span><a href=\"#Анализ-данных\" data-toc-modified-id=\"Анализ-данных-4\"><span class=\"toc-item-num\">4&nbsp;&nbsp;</span>Анализ данных</a></span><ul class=\"toc-item\"><li><span><a href=\"#Потраченные-минуты\" data-toc-modified-id=\"Потраченные-минуты-4.1\"><span class=\"toc-item-num\">4.1&nbsp;&nbsp;</span>Потраченные минуты</a></span></li><li><span><a href=\"#Отправленные-сообщения\" data-toc-modified-id=\"Отправленные-сообщения-4.2\"><span class=\"toc-item-num\">4.2&nbsp;&nbsp;</span>Отправленные сообщения</a></span></li><li><span><a href=\"#Объем-использованного-интернет-трафика\" data-toc-modified-id=\"Объем-использованного-интернет-трафика-4.3\"><span class=\"toc-item-num\">4.3&nbsp;&nbsp;</span>Объем использованного интернет-трафика</a></span></li><li><span><a href=\"#Выручка\" data-toc-modified-id=\"Выручка-4.4\"><span class=\"toc-item-num\">4.4&nbsp;&nbsp;</span>Выручка</a></span></li></ul></li><li><span><a href=\"#Проверка-гипотез\" data-toc-modified-id=\"Проверка-гипотез-5\"><span class=\"toc-item-num\">5&nbsp;&nbsp;</span>Проверка гипотез</a></span><ul class=\"toc-item\"><li><span><a href=\"#Cредняя-выручка-пользователей-тарифов-«Ультра»-и-«Смарт»-различаются\" data-toc-modified-id=\"Cредняя-выручка-пользователей-тарифов-«Ультра»-и-«Смарт»-различаются-5.1\"><span class=\"toc-item-num\">5.1&nbsp;&nbsp;</span>Cредняя выручка пользователей тарифов «Ультра» и «Смарт» различаются</a></span></li><li><span><a href=\"#Средняя-выручка-пользователей-из-Москвы-отличается-от-выручки-пользователей-из-других-регионов\" data-toc-modified-id=\"Средняя-выручка-пользователей-из-Москвы-отличается-от-выручки-пользователей-из-других-регионов-5.2\"><span class=\"toc-item-num\">5.2&nbsp;&nbsp;</span>Средняя выручка пользователей из Москвы отличается от выручки пользователей из других регионов</a></span></li></ul></li><li><span><a href=\"#Итоги-исследования\" data-toc-modified-id=\"Итоги-исследования-6\"><span class=\"toc-item-num\">6&nbsp;&nbsp;</span>Итоги исследования</a></span></li></ul></div>"
   ]
  },
  {
   "cell_type": "markdown",
   "metadata": {},
   "source": [
    "# Определение выгодного тарифа для телеком компании\n",
    "\n",
    "Вы аналитик компании «Мегалайн» — федерального оператора сотовой связи. Клиентам предлагают два тарифных плана: «Смарт» и «Ультра». Чтобы скорректировать рекламный бюджет, коммерческий департамент хочет понять, какой тариф приносит больше денег.\n",
    "\n",
    "Вам предстоит сделать предварительный анализ тарифов на небольшой выборке клиентов. В вашем распоряжении данные 500 пользователей «Мегалайна»: кто они, откуда, каким тарифом пользуются, сколько звонков и сообщений каждый отправил за 2018 год. Нужно проанализировать поведение клиентов и сделать вывод — какой тариф лучше.\n",
    "\n",
    "**Цель исследования** — проверить две гипотезы:\n",
    "1. Средняя выручка пользователей тарифов «Ультра» и «Смарт» различаются.\n",
    "2. Средняя выручка пользователей из Москвы отличается от выручки пользователей из других регионов."
   ]
  },
  {
   "cell_type": "markdown",
   "metadata": {},
   "source": [
    "## Изучение данных из файлов"
   ]
  },
  {
   "cell_type": "code",
   "execution_count": 1,
   "metadata": {
    "scrolled": true
   },
   "outputs": [],
   "source": [
    "# импорт библиотек pandas, numpy, matplotlib, stats\n",
    "# чтение файлов с данными и сохранение в data_calls, data_internet, data_messages, data_tariffs, data_users\n",
    "import pandas as pd\n",
    "import numpy as np\n",
    "from scipy import stats as st\n",
    "import matplotlib.pyplot as plt\n",
    "data_calls = pd.read_csv('/datasets/calls.csv')\n",
    "data_internet = pd.read_csv('/datasets/internet.csv')\n",
    "data_messages = pd.read_csv('/datasets/messages.csv')\n",
    "data_tariffs = pd.read_csv('/datasets/tariffs.csv')\n",
    "data_users = pd.read_csv('/datasets/users.csv')"
   ]
  },
  {
   "cell_type": "markdown",
   "metadata": {},
   "source": [
    "### Информация о звонках"
   ]
  },
  {
   "cell_type": "markdown",
   "metadata": {},
   "source": [
    "Изучим таблицу `data_calls`. Выведем первые 10 строк, а также общую информацию:"
   ]
  },
  {
   "cell_type": "code",
   "execution_count": 2,
   "metadata": {
    "scrolled": false
   },
   "outputs": [
    {
     "data": {
      "text/html": [
       "<div>\n",
       "<style scoped>\n",
       "    .dataframe tbody tr th:only-of-type {\n",
       "        vertical-align: middle;\n",
       "    }\n",
       "\n",
       "    .dataframe tbody tr th {\n",
       "        vertical-align: top;\n",
       "    }\n",
       "\n",
       "    .dataframe thead th {\n",
       "        text-align: right;\n",
       "    }\n",
       "</style>\n",
       "<table border=\"1\" class=\"dataframe\">\n",
       "  <thead>\n",
       "    <tr style=\"text-align: right;\">\n",
       "      <th></th>\n",
       "      <th>id</th>\n",
       "      <th>call_date</th>\n",
       "      <th>duration</th>\n",
       "      <th>user_id</th>\n",
       "    </tr>\n",
       "  </thead>\n",
       "  <tbody>\n",
       "    <tr>\n",
       "      <th>0</th>\n",
       "      <td>1000_0</td>\n",
       "      <td>2018-07-25</td>\n",
       "      <td>0.00</td>\n",
       "      <td>1000</td>\n",
       "    </tr>\n",
       "    <tr>\n",
       "      <th>1</th>\n",
       "      <td>1000_1</td>\n",
       "      <td>2018-08-17</td>\n",
       "      <td>0.00</td>\n",
       "      <td>1000</td>\n",
       "    </tr>\n",
       "    <tr>\n",
       "      <th>2</th>\n",
       "      <td>1000_2</td>\n",
       "      <td>2018-06-11</td>\n",
       "      <td>2.85</td>\n",
       "      <td>1000</td>\n",
       "    </tr>\n",
       "    <tr>\n",
       "      <th>3</th>\n",
       "      <td>1000_3</td>\n",
       "      <td>2018-09-21</td>\n",
       "      <td>13.80</td>\n",
       "      <td>1000</td>\n",
       "    </tr>\n",
       "    <tr>\n",
       "      <th>4</th>\n",
       "      <td>1000_4</td>\n",
       "      <td>2018-12-15</td>\n",
       "      <td>5.18</td>\n",
       "      <td>1000</td>\n",
       "    </tr>\n",
       "    <tr>\n",
       "      <th>5</th>\n",
       "      <td>1000_5</td>\n",
       "      <td>2018-11-02</td>\n",
       "      <td>0.00</td>\n",
       "      <td>1000</td>\n",
       "    </tr>\n",
       "    <tr>\n",
       "      <th>6</th>\n",
       "      <td>1000_6</td>\n",
       "      <td>2018-10-18</td>\n",
       "      <td>0.00</td>\n",
       "      <td>1000</td>\n",
       "    </tr>\n",
       "    <tr>\n",
       "      <th>7</th>\n",
       "      <td>1000_7</td>\n",
       "      <td>2018-08-22</td>\n",
       "      <td>18.31</td>\n",
       "      <td>1000</td>\n",
       "    </tr>\n",
       "    <tr>\n",
       "      <th>8</th>\n",
       "      <td>1000_8</td>\n",
       "      <td>2018-09-15</td>\n",
       "      <td>18.44</td>\n",
       "      <td>1000</td>\n",
       "    </tr>\n",
       "    <tr>\n",
       "      <th>9</th>\n",
       "      <td>1000_9</td>\n",
       "      <td>2018-08-15</td>\n",
       "      <td>0.00</td>\n",
       "      <td>1000</td>\n",
       "    </tr>\n",
       "  </tbody>\n",
       "</table>\n",
       "</div>"
      ],
      "text/plain": [
       "       id   call_date  duration  user_id\n",
       "0  1000_0  2018-07-25      0.00     1000\n",
       "1  1000_1  2018-08-17      0.00     1000\n",
       "2  1000_2  2018-06-11      2.85     1000\n",
       "3  1000_3  2018-09-21     13.80     1000\n",
       "4  1000_4  2018-12-15      5.18     1000\n",
       "5  1000_5  2018-11-02      0.00     1000\n",
       "6  1000_6  2018-10-18      0.00     1000\n",
       "7  1000_7  2018-08-22     18.31     1000\n",
       "8  1000_8  2018-09-15     18.44     1000\n",
       "9  1000_9  2018-08-15      0.00     1000"
      ]
     },
     "execution_count": 2,
     "metadata": {},
     "output_type": "execute_result"
    }
   ],
   "source": [
    "data_calls.head(10)"
   ]
  },
  {
   "cell_type": "code",
   "execution_count": 3,
   "metadata": {},
   "outputs": [
    {
     "name": "stdout",
     "output_type": "stream",
     "text": [
      "<class 'pandas.core.frame.DataFrame'>\n",
      "RangeIndex: 202607 entries, 0 to 202606\n",
      "Data columns (total 4 columns):\n",
      " #   Column     Non-Null Count   Dtype  \n",
      "---  ------     --------------   -----  \n",
      " 0   id         202607 non-null  object \n",
      " 1   call_date  202607 non-null  object \n",
      " 2   duration   202607 non-null  float64\n",
      " 3   user_id    202607 non-null  int64  \n",
      "dtypes: float64(1), int64(1), object(2)\n",
      "memory usage: 6.2+ MB\n"
     ]
    }
   ],
   "source": [
    "data_calls.info()"
   ]
  },
  {
   "cell_type": "markdown",
   "metadata": {},
   "source": [
    "В таблице 4 столбца:\n",
    "* `id` - уникальный номер звонка (тип данных - **object**);\n",
    "* `call_date` - дата звонка (тип данных - **object**);\n",
    "* `duration` - длительность звонка в минутах (тип данных - **float64**);\n",
    "* `user_id` - идентификатор пользователя, сделавшего звонок (тип данных - **int64**)."
   ]
  },
  {
   "cell_type": "markdown",
   "metadata": {},
   "source": [
    "### Информация об интернет-сессиях"
   ]
  },
  {
   "cell_type": "markdown",
   "metadata": {},
   "source": [
    "Изучим таблицу `data_internet`. Выведем первые 10 строк, а также общую информацию:"
   ]
  },
  {
   "cell_type": "code",
   "execution_count": 4,
   "metadata": {
    "scrolled": true
   },
   "outputs": [
    {
     "data": {
      "text/html": [
       "<div>\n",
       "<style scoped>\n",
       "    .dataframe tbody tr th:only-of-type {\n",
       "        vertical-align: middle;\n",
       "    }\n",
       "\n",
       "    .dataframe tbody tr th {\n",
       "        vertical-align: top;\n",
       "    }\n",
       "\n",
       "    .dataframe thead th {\n",
       "        text-align: right;\n",
       "    }\n",
       "</style>\n",
       "<table border=\"1\" class=\"dataframe\">\n",
       "  <thead>\n",
       "    <tr style=\"text-align: right;\">\n",
       "      <th></th>\n",
       "      <th>Unnamed: 0</th>\n",
       "      <th>id</th>\n",
       "      <th>mb_used</th>\n",
       "      <th>session_date</th>\n",
       "      <th>user_id</th>\n",
       "    </tr>\n",
       "  </thead>\n",
       "  <tbody>\n",
       "    <tr>\n",
       "      <th>0</th>\n",
       "      <td>0</td>\n",
       "      <td>1000_0</td>\n",
       "      <td>112.95</td>\n",
       "      <td>2018-11-25</td>\n",
       "      <td>1000</td>\n",
       "    </tr>\n",
       "    <tr>\n",
       "      <th>1</th>\n",
       "      <td>1</td>\n",
       "      <td>1000_1</td>\n",
       "      <td>1052.81</td>\n",
       "      <td>2018-09-07</td>\n",
       "      <td>1000</td>\n",
       "    </tr>\n",
       "    <tr>\n",
       "      <th>2</th>\n",
       "      <td>2</td>\n",
       "      <td>1000_2</td>\n",
       "      <td>1197.26</td>\n",
       "      <td>2018-06-25</td>\n",
       "      <td>1000</td>\n",
       "    </tr>\n",
       "    <tr>\n",
       "      <th>3</th>\n",
       "      <td>3</td>\n",
       "      <td>1000_3</td>\n",
       "      <td>550.27</td>\n",
       "      <td>2018-08-22</td>\n",
       "      <td>1000</td>\n",
       "    </tr>\n",
       "    <tr>\n",
       "      <th>4</th>\n",
       "      <td>4</td>\n",
       "      <td>1000_4</td>\n",
       "      <td>302.56</td>\n",
       "      <td>2018-09-24</td>\n",
       "      <td>1000</td>\n",
       "    </tr>\n",
       "  </tbody>\n",
       "</table>\n",
       "</div>"
      ],
      "text/plain": [
       "   Unnamed: 0      id  mb_used session_date  user_id\n",
       "0           0  1000_0   112.95   2018-11-25     1000\n",
       "1           1  1000_1  1052.81   2018-09-07     1000\n",
       "2           2  1000_2  1197.26   2018-06-25     1000\n",
       "3           3  1000_3   550.27   2018-08-22     1000\n",
       "4           4  1000_4   302.56   2018-09-24     1000"
      ]
     },
     "execution_count": 4,
     "metadata": {},
     "output_type": "execute_result"
    }
   ],
   "source": [
    "data_internet.head()"
   ]
  },
  {
   "cell_type": "code",
   "execution_count": 5,
   "metadata": {},
   "outputs": [
    {
     "name": "stdout",
     "output_type": "stream",
     "text": [
      "<class 'pandas.core.frame.DataFrame'>\n",
      "RangeIndex: 149396 entries, 0 to 149395\n",
      "Data columns (total 5 columns):\n",
      " #   Column        Non-Null Count   Dtype  \n",
      "---  ------        --------------   -----  \n",
      " 0   Unnamed: 0    149396 non-null  int64  \n",
      " 1   id            149396 non-null  object \n",
      " 2   mb_used       149396 non-null  float64\n",
      " 3   session_date  149396 non-null  object \n",
      " 4   user_id       149396 non-null  int64  \n",
      "dtypes: float64(1), int64(2), object(2)\n",
      "memory usage: 5.7+ MB\n"
     ]
    }
   ],
   "source": [
    "data_internet.info()"
   ]
  },
  {
   "cell_type": "markdown",
   "metadata": {},
   "source": [
    "В таблице 5 столбцов:\n",
    "* `Unnamed: 0`;\n",
    "* `id` - уникальный номер сессии (тип данных - **object**);\n",
    "* `mb_used` - объём потраченного за сессию интернет-трафика (в мегабайтах) (тип данных - **float64**);\n",
    "* `session_date` - дата интернет-сессии (тип данных - **object**);\n",
    "* `user_id` - идентификатор пользователя (тип данных - **int64**)."
   ]
  },
  {
   "cell_type": "markdown",
   "metadata": {},
   "source": [
    "В таблице есть столбец `Unnamed: 0`, который не несет в себе никакой полезной информации и вообще является техническим артефактом. Удалим его:"
   ]
  },
  {
   "cell_type": "code",
   "execution_count": 6,
   "metadata": {},
   "outputs": [],
   "source": [
    "data_internet = data_internet.drop(columns = 'Unnamed: 0')"
   ]
  },
  {
   "cell_type": "markdown",
   "metadata": {},
   "source": [
    "### Информация о сообщениях"
   ]
  },
  {
   "cell_type": "markdown",
   "metadata": {},
   "source": [
    "Изучим таблицу `data_messages`. Выведем первые 10 строк, а также общую информацию:"
   ]
  },
  {
   "cell_type": "code",
   "execution_count": 7,
   "metadata": {},
   "outputs": [
    {
     "data": {
      "text/html": [
       "<div>\n",
       "<style scoped>\n",
       "    .dataframe tbody tr th:only-of-type {\n",
       "        vertical-align: middle;\n",
       "    }\n",
       "\n",
       "    .dataframe tbody tr th {\n",
       "        vertical-align: top;\n",
       "    }\n",
       "\n",
       "    .dataframe thead th {\n",
       "        text-align: right;\n",
       "    }\n",
       "</style>\n",
       "<table border=\"1\" class=\"dataframe\">\n",
       "  <thead>\n",
       "    <tr style=\"text-align: right;\">\n",
       "      <th></th>\n",
       "      <th>id</th>\n",
       "      <th>message_date</th>\n",
       "      <th>user_id</th>\n",
       "    </tr>\n",
       "  </thead>\n",
       "  <tbody>\n",
       "    <tr>\n",
       "      <th>0</th>\n",
       "      <td>1000_0</td>\n",
       "      <td>2018-06-27</td>\n",
       "      <td>1000</td>\n",
       "    </tr>\n",
       "    <tr>\n",
       "      <th>1</th>\n",
       "      <td>1000_1</td>\n",
       "      <td>2018-10-08</td>\n",
       "      <td>1000</td>\n",
       "    </tr>\n",
       "    <tr>\n",
       "      <th>2</th>\n",
       "      <td>1000_2</td>\n",
       "      <td>2018-08-04</td>\n",
       "      <td>1000</td>\n",
       "    </tr>\n",
       "    <tr>\n",
       "      <th>3</th>\n",
       "      <td>1000_3</td>\n",
       "      <td>2018-06-16</td>\n",
       "      <td>1000</td>\n",
       "    </tr>\n",
       "    <tr>\n",
       "      <th>4</th>\n",
       "      <td>1000_4</td>\n",
       "      <td>2018-12-05</td>\n",
       "      <td>1000</td>\n",
       "    </tr>\n",
       "  </tbody>\n",
       "</table>\n",
       "</div>"
      ],
      "text/plain": [
       "       id message_date  user_id\n",
       "0  1000_0   2018-06-27     1000\n",
       "1  1000_1   2018-10-08     1000\n",
       "2  1000_2   2018-08-04     1000\n",
       "3  1000_3   2018-06-16     1000\n",
       "4  1000_4   2018-12-05     1000"
      ]
     },
     "execution_count": 7,
     "metadata": {},
     "output_type": "execute_result"
    }
   ],
   "source": [
    "data_messages.head()"
   ]
  },
  {
   "cell_type": "code",
   "execution_count": 8,
   "metadata": {},
   "outputs": [
    {
     "name": "stdout",
     "output_type": "stream",
     "text": [
      "<class 'pandas.core.frame.DataFrame'>\n",
      "RangeIndex: 123036 entries, 0 to 123035\n",
      "Data columns (total 3 columns):\n",
      " #   Column        Non-Null Count   Dtype \n",
      "---  ------        --------------   ----- \n",
      " 0   id            123036 non-null  object\n",
      " 1   message_date  123036 non-null  object\n",
      " 2   user_id       123036 non-null  int64 \n",
      "dtypes: int64(1), object(2)\n",
      "memory usage: 2.8+ MB\n"
     ]
    }
   ],
   "source": [
    "data_messages.info()"
   ]
  },
  {
   "cell_type": "markdown",
   "metadata": {},
   "source": [
    "В таблице 3 столбца:\n",
    "* id - уникальный номер сообщения (тип данных - **object**);\n",
    "* message_date - дата сообщения (тип данных - **object**);\n",
    "* user_id - идентификатор пользователя, отправившего сообщение (тип данных - **int64**)."
   ]
  },
  {
   "cell_type": "markdown",
   "metadata": {},
   "source": [
    "### Информация о тарифах"
   ]
  },
  {
   "cell_type": "markdown",
   "metadata": {},
   "source": [
    "Изучим таблицу `data_tariffs`. Выведем первые 10 строк, а также общую информацию:"
   ]
  },
  {
   "cell_type": "code",
   "execution_count": 9,
   "metadata": {
    "scrolled": true
   },
   "outputs": [
    {
     "data": {
      "text/html": [
       "<div>\n",
       "<style scoped>\n",
       "    .dataframe tbody tr th:only-of-type {\n",
       "        vertical-align: middle;\n",
       "    }\n",
       "\n",
       "    .dataframe tbody tr th {\n",
       "        vertical-align: top;\n",
       "    }\n",
       "\n",
       "    .dataframe thead th {\n",
       "        text-align: right;\n",
       "    }\n",
       "</style>\n",
       "<table border=\"1\" class=\"dataframe\">\n",
       "  <thead>\n",
       "    <tr style=\"text-align: right;\">\n",
       "      <th></th>\n",
       "      <th>messages_included</th>\n",
       "      <th>mb_per_month_included</th>\n",
       "      <th>minutes_included</th>\n",
       "      <th>rub_monthly_fee</th>\n",
       "      <th>rub_per_gb</th>\n",
       "      <th>rub_per_message</th>\n",
       "      <th>rub_per_minute</th>\n",
       "      <th>tariff_name</th>\n",
       "    </tr>\n",
       "  </thead>\n",
       "  <tbody>\n",
       "    <tr>\n",
       "      <th>0</th>\n",
       "      <td>50</td>\n",
       "      <td>15360</td>\n",
       "      <td>500</td>\n",
       "      <td>550</td>\n",
       "      <td>200</td>\n",
       "      <td>3</td>\n",
       "      <td>3</td>\n",
       "      <td>smart</td>\n",
       "    </tr>\n",
       "    <tr>\n",
       "      <th>1</th>\n",
       "      <td>1000</td>\n",
       "      <td>30720</td>\n",
       "      <td>3000</td>\n",
       "      <td>1950</td>\n",
       "      <td>150</td>\n",
       "      <td>1</td>\n",
       "      <td>1</td>\n",
       "      <td>ultra</td>\n",
       "    </tr>\n",
       "  </tbody>\n",
       "</table>\n",
       "</div>"
      ],
      "text/plain": [
       "   messages_included  mb_per_month_included  minutes_included  \\\n",
       "0                 50                  15360               500   \n",
       "1               1000                  30720              3000   \n",
       "\n",
       "   rub_monthly_fee  rub_per_gb  rub_per_message  rub_per_minute tariff_name  \n",
       "0              550         200                3               3       smart  \n",
       "1             1950         150                1               1       ultra  "
      ]
     },
     "execution_count": 9,
     "metadata": {},
     "output_type": "execute_result"
    }
   ],
   "source": [
    "data_tariffs.head()"
   ]
  },
  {
   "cell_type": "code",
   "execution_count": 10,
   "metadata": {
    "scrolled": true
   },
   "outputs": [
    {
     "name": "stdout",
     "output_type": "stream",
     "text": [
      "<class 'pandas.core.frame.DataFrame'>\n",
      "RangeIndex: 2 entries, 0 to 1\n",
      "Data columns (total 8 columns):\n",
      " #   Column                 Non-Null Count  Dtype \n",
      "---  ------                 --------------  ----- \n",
      " 0   messages_included      2 non-null      int64 \n",
      " 1   mb_per_month_included  2 non-null      int64 \n",
      " 2   minutes_included       2 non-null      int64 \n",
      " 3   rub_monthly_fee        2 non-null      int64 \n",
      " 4   rub_per_gb             2 non-null      int64 \n",
      " 5   rub_per_message        2 non-null      int64 \n",
      " 6   rub_per_minute         2 non-null      int64 \n",
      " 7   tariff_name            2 non-null      object\n",
      "dtypes: int64(7), object(1)\n",
      "memory usage: 256.0+ bytes\n"
     ]
    }
   ],
   "source": [
    "data_tariffs.info()"
   ]
  },
  {
   "cell_type": "markdown",
   "metadata": {},
   "source": [
    "В таблице 8 столбцов:\n",
    "* `messages_included` - количество сообщений в месяц, включённых в абонентскую плату (тип данных - **int64**);\n",
    "* `mb_per_month_included` - объём интернет-трафика, включённого в абонентскую плату (в мегабайтах) (тип данных - **int64**);\n",
    "* `minutes_included` - количество минут разговора в месяц, включённых в абонентскую плату (тип данных - **int64**);\n",
    "* `rub_monthly_fee` - ежемесячная абонентская плата в рублях (тип данных - **int64**);\n",
    "* `rub_per_gb` - стоимость дополнительного гигабайта интернет-трафика сверх тарифного пакета (1 гигабайт = 1024 мегабайта) (тип данных - **int64**);\n",
    "* `rub_per_message` - стоимость отправки сообщения сверх тарифного пакета (тип данных - **int64**);\n",
    "* `rub_per_minute` - стоимость минуты разговора сверх тарифного пакета (тип данных - **int64**);\n",
    "* `tariff_name` - название тарифа (тип данных - **object**)."
   ]
  },
  {
   "cell_type": "markdown",
   "metadata": {},
   "source": [
    "### Информация о пользователях"
   ]
  },
  {
   "cell_type": "markdown",
   "metadata": {},
   "source": [
    "Изучим таблицу `data_users`. Выведем первые 10 строк, а также общую информацию:"
   ]
  },
  {
   "cell_type": "code",
   "execution_count": 11,
   "metadata": {
    "scrolled": true
   },
   "outputs": [
    {
     "data": {
      "text/html": [
       "<div>\n",
       "<style scoped>\n",
       "    .dataframe tbody tr th:only-of-type {\n",
       "        vertical-align: middle;\n",
       "    }\n",
       "\n",
       "    .dataframe tbody tr th {\n",
       "        vertical-align: top;\n",
       "    }\n",
       "\n",
       "    .dataframe thead th {\n",
       "        text-align: right;\n",
       "    }\n",
       "</style>\n",
       "<table border=\"1\" class=\"dataframe\">\n",
       "  <thead>\n",
       "    <tr style=\"text-align: right;\">\n",
       "      <th></th>\n",
       "      <th>user_id</th>\n",
       "      <th>age</th>\n",
       "      <th>churn_date</th>\n",
       "      <th>city</th>\n",
       "      <th>first_name</th>\n",
       "      <th>last_name</th>\n",
       "      <th>reg_date</th>\n",
       "      <th>tariff</th>\n",
       "    </tr>\n",
       "  </thead>\n",
       "  <tbody>\n",
       "    <tr>\n",
       "      <th>0</th>\n",
       "      <td>1000</td>\n",
       "      <td>52</td>\n",
       "      <td>NaN</td>\n",
       "      <td>Краснодар</td>\n",
       "      <td>Рафаил</td>\n",
       "      <td>Верещагин</td>\n",
       "      <td>2018-05-25</td>\n",
       "      <td>ultra</td>\n",
       "    </tr>\n",
       "    <tr>\n",
       "      <th>1</th>\n",
       "      <td>1001</td>\n",
       "      <td>41</td>\n",
       "      <td>NaN</td>\n",
       "      <td>Москва</td>\n",
       "      <td>Иван</td>\n",
       "      <td>Ежов</td>\n",
       "      <td>2018-11-01</td>\n",
       "      <td>smart</td>\n",
       "    </tr>\n",
       "    <tr>\n",
       "      <th>2</th>\n",
       "      <td>1002</td>\n",
       "      <td>59</td>\n",
       "      <td>NaN</td>\n",
       "      <td>Стерлитамак</td>\n",
       "      <td>Евгений</td>\n",
       "      <td>Абрамович</td>\n",
       "      <td>2018-06-17</td>\n",
       "      <td>smart</td>\n",
       "    </tr>\n",
       "    <tr>\n",
       "      <th>3</th>\n",
       "      <td>1003</td>\n",
       "      <td>23</td>\n",
       "      <td>NaN</td>\n",
       "      <td>Москва</td>\n",
       "      <td>Белла</td>\n",
       "      <td>Белякова</td>\n",
       "      <td>2018-08-17</td>\n",
       "      <td>ultra</td>\n",
       "    </tr>\n",
       "    <tr>\n",
       "      <th>4</th>\n",
       "      <td>1004</td>\n",
       "      <td>68</td>\n",
       "      <td>NaN</td>\n",
       "      <td>Новокузнецк</td>\n",
       "      <td>Татьяна</td>\n",
       "      <td>Авдеенко</td>\n",
       "      <td>2018-05-14</td>\n",
       "      <td>ultra</td>\n",
       "    </tr>\n",
       "  </tbody>\n",
       "</table>\n",
       "</div>"
      ],
      "text/plain": [
       "   user_id  age churn_date         city first_name  last_name    reg_date  \\\n",
       "0     1000   52        NaN    Краснодар     Рафаил  Верещагин  2018-05-25   \n",
       "1     1001   41        NaN       Москва       Иван       Ежов  2018-11-01   \n",
       "2     1002   59        NaN  Стерлитамак    Евгений  Абрамович  2018-06-17   \n",
       "3     1003   23        NaN       Москва      Белла   Белякова  2018-08-17   \n",
       "4     1004   68        NaN  Новокузнецк    Татьяна   Авдеенко  2018-05-14   \n",
       "\n",
       "  tariff  \n",
       "0  ultra  \n",
       "1  smart  \n",
       "2  smart  \n",
       "3  ultra  \n",
       "4  ultra  "
      ]
     },
     "execution_count": 11,
     "metadata": {},
     "output_type": "execute_result"
    }
   ],
   "source": [
    "data_users.head()"
   ]
  },
  {
   "cell_type": "code",
   "execution_count": 12,
   "metadata": {
    "scrolled": true
   },
   "outputs": [
    {
     "name": "stdout",
     "output_type": "stream",
     "text": [
      "<class 'pandas.core.frame.DataFrame'>\n",
      "RangeIndex: 500 entries, 0 to 499\n",
      "Data columns (total 8 columns):\n",
      " #   Column      Non-Null Count  Dtype \n",
      "---  ------      --------------  ----- \n",
      " 0   user_id     500 non-null    int64 \n",
      " 1   age         500 non-null    int64 \n",
      " 2   churn_date  38 non-null     object\n",
      " 3   city        500 non-null    object\n",
      " 4   first_name  500 non-null    object\n",
      " 5   last_name   500 non-null    object\n",
      " 6   reg_date    500 non-null    object\n",
      " 7   tariff      500 non-null    object\n",
      "dtypes: int64(2), object(6)\n",
      "memory usage: 31.4+ KB\n"
     ]
    }
   ],
   "source": [
    "data_users.info()"
   ]
  },
  {
   "cell_type": "markdown",
   "metadata": {},
   "source": [
    "В таблице 8 столбцов:\n",
    "* `user_id` - уникальный идентификатор пользователя (тип данных - **int64**);\n",
    "* `age` - возраст пользователя (годы) (тип данных - **int64**);\n",
    "* `churn_date` - дата прекращения пользования тарифом (если значение пропущено, то тариф ещё действовал на момент выгрузки данных) (тип данных - **object**);\n",
    "* `city` - город проживания пользователя (тип данных - **object**);\n",
    "* `first_name` - имя пользователя (тип данных - **object**);\n",
    "* `last_name` - фамилия пользователя (тип данных - **object**);\n",
    "* `reg_date` - дата подключения тарифа (день, месяц, год) (тип данных - **object**);\n",
    "* `tariff` - название тарифного плана (тип данных - **object**)."
   ]
  },
  {
   "cell_type": "markdown",
   "metadata": {},
   "source": [
    "**ВЫВОД**\n",
    "\n",
    "Мы имеем 5 таблиц, содержащих информацию о пользователях «Мегалайна»: кто они, откуда, каким тарифом пользуются, сколько звонков и сообщений каждый отправил за 2018 год. \n",
    "\n",
    "Предварительно можно утверждать, что данных достаточно для проверки гипотез. Однако сперва необходимо совершить их предобработку."
   ]
  },
  {
   "cell_type": "markdown",
   "metadata": {},
   "source": [
    "## Предобработка данных"
   ]
  },
  {
   "cell_type": "markdown",
   "metadata": {},
   "source": [
    "### Исследование и заполнение пропусков в данных"
   ]
  },
  {
   "cell_type": "markdown",
   "metadata": {},
   "source": [
    "Для поиска пропущенных значений обратимся к методу `isna()`, передав результат его работы методу `mean()`:"
   ]
  },
  {
   "cell_type": "code",
   "execution_count": 13,
   "metadata": {},
   "outputs": [
    {
     "data": {
      "text/plain": [
       "id           0.0\n",
       "call_date    0.0\n",
       "duration     0.0\n",
       "user_id      0.0\n",
       "dtype: float64"
      ]
     },
     "execution_count": 13,
     "metadata": {},
     "output_type": "execute_result"
    }
   ],
   "source": [
    "# поиск пропущенных значений в data_calls\n",
    "((data_calls.isna().mean()) * 100).sort_values(ascending=False)"
   ]
  },
  {
   "cell_type": "code",
   "execution_count": 14,
   "metadata": {},
   "outputs": [
    {
     "data": {
      "text/plain": [
       "id              0.0\n",
       "mb_used         0.0\n",
       "session_date    0.0\n",
       "user_id         0.0\n",
       "dtype: float64"
      ]
     },
     "execution_count": 14,
     "metadata": {},
     "output_type": "execute_result"
    }
   ],
   "source": [
    "# поиск пропущенных значений в data_internet\n",
    "((data_internet.isna().mean()) * 100).sort_values(ascending=False)"
   ]
  },
  {
   "cell_type": "code",
   "execution_count": 15,
   "metadata": {},
   "outputs": [
    {
     "data": {
      "text/plain": [
       "id              0.0\n",
       "message_date    0.0\n",
       "user_id         0.0\n",
       "dtype: float64"
      ]
     },
     "execution_count": 15,
     "metadata": {},
     "output_type": "execute_result"
    }
   ],
   "source": [
    "# поиск пропущенных значений в data_messages\n",
    "((data_messages.isna().mean()) * 100).sort_values(ascending=False)"
   ]
  },
  {
   "cell_type": "code",
   "execution_count": 16,
   "metadata": {},
   "outputs": [
    {
     "data": {
      "text/plain": [
       "messages_included        0.0\n",
       "mb_per_month_included    0.0\n",
       "minutes_included         0.0\n",
       "rub_monthly_fee          0.0\n",
       "rub_per_gb               0.0\n",
       "rub_per_message          0.0\n",
       "rub_per_minute           0.0\n",
       "tariff_name              0.0\n",
       "dtype: float64"
      ]
     },
     "execution_count": 16,
     "metadata": {},
     "output_type": "execute_result"
    }
   ],
   "source": [
    "# поиск пропущенных значений в data_tariffs\n",
    "((data_tariffs.isna().mean()) * 100).sort_values(ascending=False)"
   ]
  },
  {
   "cell_type": "code",
   "execution_count": 17,
   "metadata": {},
   "outputs": [
    {
     "data": {
      "text/plain": [
       "churn_date    92.4\n",
       "user_id        0.0\n",
       "age            0.0\n",
       "city           0.0\n",
       "first_name     0.0\n",
       "last_name      0.0\n",
       "reg_date       0.0\n",
       "tariff         0.0\n",
       "dtype: float64"
      ]
     },
     "execution_count": 17,
     "metadata": {},
     "output_type": "execute_result"
    }
   ],
   "source": [
    "# поиск пропущенных значений в data_users\n",
    "((data_users.isna().mean()) * 100).sort_values(ascending=False)"
   ]
  },
  {
   "cell_type": "markdown",
   "metadata": {},
   "source": [
    "**ВЫВОД**\n",
    "\n",
    "Пропущенные значения содержатся только в таблице `data_users` в столбце `churn_date`. Согласно условию, если значение пропущено, то тариф ещё действовал на момент выгрузки данных. Поэтому данные пропуски заполнять не нужно."
   ]
  },
  {
   "cell_type": "markdown",
   "metadata": {},
   "source": [
    "### Поиск ошибок"
   ]
  },
  {
   "cell_type": "markdown",
   "metadata": {},
   "source": [
    "Для поиска ошибок для числовых переменных следует использовать `describe`, а для категориальных `value_counts` или `unique`."
   ]
  },
  {
   "cell_type": "markdown",
   "metadata": {},
   "source": [
    "**Таблица `data_calls`**"
   ]
  },
  {
   "cell_type": "code",
   "execution_count": 18,
   "metadata": {
    "scrolled": true
   },
   "outputs": [
    {
     "data": {
      "text/html": [
       "<div>\n",
       "<style scoped>\n",
       "    .dataframe tbody tr th:only-of-type {\n",
       "        vertical-align: middle;\n",
       "    }\n",
       "\n",
       "    .dataframe tbody tr th {\n",
       "        vertical-align: top;\n",
       "    }\n",
       "\n",
       "    .dataframe thead th {\n",
       "        text-align: right;\n",
       "    }\n",
       "</style>\n",
       "<table border=\"1\" class=\"dataframe\">\n",
       "  <thead>\n",
       "    <tr style=\"text-align: right;\">\n",
       "      <th></th>\n",
       "      <th>duration</th>\n",
       "      <th>user_id</th>\n",
       "    </tr>\n",
       "  </thead>\n",
       "  <tbody>\n",
       "    <tr>\n",
       "      <th>count</th>\n",
       "      <td>202607.000000</td>\n",
       "      <td>202607.000000</td>\n",
       "    </tr>\n",
       "    <tr>\n",
       "      <th>mean</th>\n",
       "      <td>6.755887</td>\n",
       "      <td>1253.940619</td>\n",
       "    </tr>\n",
       "    <tr>\n",
       "      <th>std</th>\n",
       "      <td>5.843365</td>\n",
       "      <td>144.722751</td>\n",
       "    </tr>\n",
       "    <tr>\n",
       "      <th>min</th>\n",
       "      <td>0.000000</td>\n",
       "      <td>1000.000000</td>\n",
       "    </tr>\n",
       "    <tr>\n",
       "      <th>25%</th>\n",
       "      <td>1.300000</td>\n",
       "      <td>1126.000000</td>\n",
       "    </tr>\n",
       "    <tr>\n",
       "      <th>50%</th>\n",
       "      <td>6.000000</td>\n",
       "      <td>1260.000000</td>\n",
       "    </tr>\n",
       "    <tr>\n",
       "      <th>75%</th>\n",
       "      <td>10.700000</td>\n",
       "      <td>1379.000000</td>\n",
       "    </tr>\n",
       "    <tr>\n",
       "      <th>max</th>\n",
       "      <td>38.000000</td>\n",
       "      <td>1499.000000</td>\n",
       "    </tr>\n",
       "  </tbody>\n",
       "</table>\n",
       "</div>"
      ],
      "text/plain": [
       "            duration        user_id\n",
       "count  202607.000000  202607.000000\n",
       "mean        6.755887    1253.940619\n",
       "std         5.843365     144.722751\n",
       "min         0.000000    1000.000000\n",
       "25%         1.300000    1126.000000\n",
       "50%         6.000000    1260.000000\n",
       "75%        10.700000    1379.000000\n",
       "max        38.000000    1499.000000"
      ]
     },
     "execution_count": 18,
     "metadata": {},
     "output_type": "execute_result"
    }
   ],
   "source": [
    "data_calls.describe()"
   ]
  },
  {
   "cell_type": "markdown",
   "metadata": {},
   "source": [
    "Исходя из полученной информации видно, что минимальная продолжительность телефонного звонка - 0 минут. Из условия следует, что это не ошибка, а пропущенные звонки. Их необходимо оставить так, как есть."
   ]
  },
  {
   "cell_type": "markdown",
   "metadata": {},
   "source": [
    "Выведем еще раз первые 10 строк таблицы `data_calls`:"
   ]
  },
  {
   "cell_type": "code",
   "execution_count": 19,
   "metadata": {
    "scrolled": false
   },
   "outputs": [
    {
     "data": {
      "text/html": [
       "<div>\n",
       "<style scoped>\n",
       "    .dataframe tbody tr th:only-of-type {\n",
       "        vertical-align: middle;\n",
       "    }\n",
       "\n",
       "    .dataframe tbody tr th {\n",
       "        vertical-align: top;\n",
       "    }\n",
       "\n",
       "    .dataframe thead th {\n",
       "        text-align: right;\n",
       "    }\n",
       "</style>\n",
       "<table border=\"1\" class=\"dataframe\">\n",
       "  <thead>\n",
       "    <tr style=\"text-align: right;\">\n",
       "      <th></th>\n",
       "      <th>id</th>\n",
       "      <th>call_date</th>\n",
       "      <th>duration</th>\n",
       "      <th>user_id</th>\n",
       "    </tr>\n",
       "  </thead>\n",
       "  <tbody>\n",
       "    <tr>\n",
       "      <th>0</th>\n",
       "      <td>1000_0</td>\n",
       "      <td>2018-07-25</td>\n",
       "      <td>0.00</td>\n",
       "      <td>1000</td>\n",
       "    </tr>\n",
       "    <tr>\n",
       "      <th>1</th>\n",
       "      <td>1000_1</td>\n",
       "      <td>2018-08-17</td>\n",
       "      <td>0.00</td>\n",
       "      <td>1000</td>\n",
       "    </tr>\n",
       "    <tr>\n",
       "      <th>2</th>\n",
       "      <td>1000_2</td>\n",
       "      <td>2018-06-11</td>\n",
       "      <td>2.85</td>\n",
       "      <td>1000</td>\n",
       "    </tr>\n",
       "    <tr>\n",
       "      <th>3</th>\n",
       "      <td>1000_3</td>\n",
       "      <td>2018-09-21</td>\n",
       "      <td>13.80</td>\n",
       "      <td>1000</td>\n",
       "    </tr>\n",
       "    <tr>\n",
       "      <th>4</th>\n",
       "      <td>1000_4</td>\n",
       "      <td>2018-12-15</td>\n",
       "      <td>5.18</td>\n",
       "      <td>1000</td>\n",
       "    </tr>\n",
       "    <tr>\n",
       "      <th>5</th>\n",
       "      <td>1000_5</td>\n",
       "      <td>2018-11-02</td>\n",
       "      <td>0.00</td>\n",
       "      <td>1000</td>\n",
       "    </tr>\n",
       "    <tr>\n",
       "      <th>6</th>\n",
       "      <td>1000_6</td>\n",
       "      <td>2018-10-18</td>\n",
       "      <td>0.00</td>\n",
       "      <td>1000</td>\n",
       "    </tr>\n",
       "    <tr>\n",
       "      <th>7</th>\n",
       "      <td>1000_7</td>\n",
       "      <td>2018-08-22</td>\n",
       "      <td>18.31</td>\n",
       "      <td>1000</td>\n",
       "    </tr>\n",
       "    <tr>\n",
       "      <th>8</th>\n",
       "      <td>1000_8</td>\n",
       "      <td>2018-09-15</td>\n",
       "      <td>18.44</td>\n",
       "      <td>1000</td>\n",
       "    </tr>\n",
       "    <tr>\n",
       "      <th>9</th>\n",
       "      <td>1000_9</td>\n",
       "      <td>2018-08-15</td>\n",
       "      <td>0.00</td>\n",
       "      <td>1000</td>\n",
       "    </tr>\n",
       "  </tbody>\n",
       "</table>\n",
       "</div>"
      ],
      "text/plain": [
       "       id   call_date  duration  user_id\n",
       "0  1000_0  2018-07-25      0.00     1000\n",
       "1  1000_1  2018-08-17      0.00     1000\n",
       "2  1000_2  2018-06-11      2.85     1000\n",
       "3  1000_3  2018-09-21     13.80     1000\n",
       "4  1000_4  2018-12-15      5.18     1000\n",
       "5  1000_5  2018-11-02      0.00     1000\n",
       "6  1000_6  2018-10-18      0.00     1000\n",
       "7  1000_7  2018-08-22     18.31     1000\n",
       "8  1000_8  2018-09-15     18.44     1000\n",
       "9  1000_9  2018-08-15      0.00     1000"
      ]
     },
     "execution_count": 19,
     "metadata": {},
     "output_type": "execute_result"
    }
   ],
   "source": [
    "data_calls.head(10)"
   ]
  },
  {
   "cell_type": "markdown",
   "metadata": {},
   "source": [
    "В условии сказано: \"Каждый звонок округляется отдельно: даже если он длился всего 1 секунду, будет засчитан как 1 минута\". В первых десяти строках таблицы мы видим продолжительность звонков в минутах и секундах. Необходимо округлить. Для этого применим к столбцу `duration` с помощью `apply` функцию `np.ceil` - она округлит все кроме нулей в большую сторону:"
   ]
  },
  {
   "cell_type": "code",
   "execution_count": 20,
   "metadata": {
    "scrolled": true
   },
   "outputs": [
    {
     "data": {
      "text/html": [
       "<div>\n",
       "<style scoped>\n",
       "    .dataframe tbody tr th:only-of-type {\n",
       "        vertical-align: middle;\n",
       "    }\n",
       "\n",
       "    .dataframe tbody tr th {\n",
       "        vertical-align: top;\n",
       "    }\n",
       "\n",
       "    .dataframe thead th {\n",
       "        text-align: right;\n",
       "    }\n",
       "</style>\n",
       "<table border=\"1\" class=\"dataframe\">\n",
       "  <thead>\n",
       "    <tr style=\"text-align: right;\">\n",
       "      <th></th>\n",
       "      <th>id</th>\n",
       "      <th>call_date</th>\n",
       "      <th>duration</th>\n",
       "      <th>user_id</th>\n",
       "    </tr>\n",
       "  </thead>\n",
       "  <tbody>\n",
       "    <tr>\n",
       "      <th>0</th>\n",
       "      <td>1000_0</td>\n",
       "      <td>2018-07-25</td>\n",
       "      <td>0.0</td>\n",
       "      <td>1000</td>\n",
       "    </tr>\n",
       "    <tr>\n",
       "      <th>1</th>\n",
       "      <td>1000_1</td>\n",
       "      <td>2018-08-17</td>\n",
       "      <td>0.0</td>\n",
       "      <td>1000</td>\n",
       "    </tr>\n",
       "    <tr>\n",
       "      <th>2</th>\n",
       "      <td>1000_2</td>\n",
       "      <td>2018-06-11</td>\n",
       "      <td>3.0</td>\n",
       "      <td>1000</td>\n",
       "    </tr>\n",
       "    <tr>\n",
       "      <th>3</th>\n",
       "      <td>1000_3</td>\n",
       "      <td>2018-09-21</td>\n",
       "      <td>14.0</td>\n",
       "      <td>1000</td>\n",
       "    </tr>\n",
       "    <tr>\n",
       "      <th>4</th>\n",
       "      <td>1000_4</td>\n",
       "      <td>2018-12-15</td>\n",
       "      <td>6.0</td>\n",
       "      <td>1000</td>\n",
       "    </tr>\n",
       "    <tr>\n",
       "      <th>5</th>\n",
       "      <td>1000_5</td>\n",
       "      <td>2018-11-02</td>\n",
       "      <td>0.0</td>\n",
       "      <td>1000</td>\n",
       "    </tr>\n",
       "    <tr>\n",
       "      <th>6</th>\n",
       "      <td>1000_6</td>\n",
       "      <td>2018-10-18</td>\n",
       "      <td>0.0</td>\n",
       "      <td>1000</td>\n",
       "    </tr>\n",
       "    <tr>\n",
       "      <th>7</th>\n",
       "      <td>1000_7</td>\n",
       "      <td>2018-08-22</td>\n",
       "      <td>19.0</td>\n",
       "      <td>1000</td>\n",
       "    </tr>\n",
       "    <tr>\n",
       "      <th>8</th>\n",
       "      <td>1000_8</td>\n",
       "      <td>2018-09-15</td>\n",
       "      <td>19.0</td>\n",
       "      <td>1000</td>\n",
       "    </tr>\n",
       "    <tr>\n",
       "      <th>9</th>\n",
       "      <td>1000_9</td>\n",
       "      <td>2018-08-15</td>\n",
       "      <td>0.0</td>\n",
       "      <td>1000</td>\n",
       "    </tr>\n",
       "  </tbody>\n",
       "</table>\n",
       "</div>"
      ],
      "text/plain": [
       "       id   call_date  duration  user_id\n",
       "0  1000_0  2018-07-25       0.0     1000\n",
       "1  1000_1  2018-08-17       0.0     1000\n",
       "2  1000_2  2018-06-11       3.0     1000\n",
       "3  1000_3  2018-09-21      14.0     1000\n",
       "4  1000_4  2018-12-15       6.0     1000\n",
       "5  1000_5  2018-11-02       0.0     1000\n",
       "6  1000_6  2018-10-18       0.0     1000\n",
       "7  1000_7  2018-08-22      19.0     1000\n",
       "8  1000_8  2018-09-15      19.0     1000\n",
       "9  1000_9  2018-08-15       0.0     1000"
      ]
     },
     "execution_count": 20,
     "metadata": {},
     "output_type": "execute_result"
    }
   ],
   "source": [
    "data_calls['duration'] = data_calls['duration'].apply(np.ceil)\n",
    "data_calls.head(10)"
   ]
  },
  {
   "cell_type": "markdown",
   "metadata": {},
   "source": [
    "<div style=\"border:solid green 2px; padding: 20px\"> \n",
    "    \n",
    "**Комментарий ревьюера**\n",
    "\n",
    "**#ок**\n",
    "\n",
    "Да, ceil - верный метод округления в данном случае\n",
    "    \n",
    "</div>"
   ]
  },
  {
   "cell_type": "markdown",
   "metadata": {},
   "source": [
    "Округление отработало корректно."
   ]
  },
  {
   "cell_type": "markdown",
   "metadata": {},
   "source": [
    "**Таблица `data_internet`**"
   ]
  },
  {
   "cell_type": "code",
   "execution_count": 21,
   "metadata": {
    "scrolled": true
   },
   "outputs": [
    {
     "data": {
      "text/html": [
       "<div>\n",
       "<style scoped>\n",
       "    .dataframe tbody tr th:only-of-type {\n",
       "        vertical-align: middle;\n",
       "    }\n",
       "\n",
       "    .dataframe tbody tr th {\n",
       "        vertical-align: top;\n",
       "    }\n",
       "\n",
       "    .dataframe thead th {\n",
       "        text-align: right;\n",
       "    }\n",
       "</style>\n",
       "<table border=\"1\" class=\"dataframe\">\n",
       "  <thead>\n",
       "    <tr style=\"text-align: right;\">\n",
       "      <th></th>\n",
       "      <th>mb_used</th>\n",
       "      <th>user_id</th>\n",
       "    </tr>\n",
       "  </thead>\n",
       "  <tbody>\n",
       "    <tr>\n",
       "      <th>count</th>\n",
       "      <td>149396.000000</td>\n",
       "      <td>149396.000000</td>\n",
       "    </tr>\n",
       "    <tr>\n",
       "      <th>mean</th>\n",
       "      <td>370.192426</td>\n",
       "      <td>1252.099842</td>\n",
       "    </tr>\n",
       "    <tr>\n",
       "      <th>std</th>\n",
       "      <td>278.300951</td>\n",
       "      <td>144.050823</td>\n",
       "    </tr>\n",
       "    <tr>\n",
       "      <th>min</th>\n",
       "      <td>0.000000</td>\n",
       "      <td>1000.000000</td>\n",
       "    </tr>\n",
       "    <tr>\n",
       "      <th>25%</th>\n",
       "      <td>138.187500</td>\n",
       "      <td>1130.000000</td>\n",
       "    </tr>\n",
       "    <tr>\n",
       "      <th>50%</th>\n",
       "      <td>348.015000</td>\n",
       "      <td>1251.000000</td>\n",
       "    </tr>\n",
       "    <tr>\n",
       "      <th>75%</th>\n",
       "      <td>559.552500</td>\n",
       "      <td>1380.000000</td>\n",
       "    </tr>\n",
       "    <tr>\n",
       "      <th>max</th>\n",
       "      <td>1724.830000</td>\n",
       "      <td>1499.000000</td>\n",
       "    </tr>\n",
       "  </tbody>\n",
       "</table>\n",
       "</div>"
      ],
      "text/plain": [
       "             mb_used        user_id\n",
       "count  149396.000000  149396.000000\n",
       "mean      370.192426    1252.099842\n",
       "std       278.300951     144.050823\n",
       "min         0.000000    1000.000000\n",
       "25%       138.187500    1130.000000\n",
       "50%       348.015000    1251.000000\n",
       "75%       559.552500    1380.000000\n",
       "max      1724.830000    1499.000000"
      ]
     },
     "execution_count": 21,
     "metadata": {},
     "output_type": "execute_result"
    }
   ],
   "source": [
    "data_internet.describe()"
   ]
  },
  {
   "cell_type": "markdown",
   "metadata": {},
   "source": [
    "Исходя из полученной информации видно, что минимальный объём потраченного за сессию интернет-трафика - 0 мегабайт. Вероятно, это все ошибочные сессии. Оставим их на месте, так как при последующих группировках они уйдут."
   ]
  },
  {
   "cell_type": "markdown",
   "metadata": {},
   "source": [
    "Выведем еще раз первые 10 строк таблицы `data_internet`:"
   ]
  },
  {
   "cell_type": "code",
   "execution_count": 22,
   "metadata": {
    "scrolled": true
   },
   "outputs": [
    {
     "data": {
      "text/html": [
       "<div>\n",
       "<style scoped>\n",
       "    .dataframe tbody tr th:only-of-type {\n",
       "        vertical-align: middle;\n",
       "    }\n",
       "\n",
       "    .dataframe tbody tr th {\n",
       "        vertical-align: top;\n",
       "    }\n",
       "\n",
       "    .dataframe thead th {\n",
       "        text-align: right;\n",
       "    }\n",
       "</style>\n",
       "<table border=\"1\" class=\"dataframe\">\n",
       "  <thead>\n",
       "    <tr style=\"text-align: right;\">\n",
       "      <th></th>\n",
       "      <th>id</th>\n",
       "      <th>mb_used</th>\n",
       "      <th>session_date</th>\n",
       "      <th>user_id</th>\n",
       "    </tr>\n",
       "  </thead>\n",
       "  <tbody>\n",
       "    <tr>\n",
       "      <th>0</th>\n",
       "      <td>1000_0</td>\n",
       "      <td>112.95</td>\n",
       "      <td>2018-11-25</td>\n",
       "      <td>1000</td>\n",
       "    </tr>\n",
       "    <tr>\n",
       "      <th>1</th>\n",
       "      <td>1000_1</td>\n",
       "      <td>1052.81</td>\n",
       "      <td>2018-09-07</td>\n",
       "      <td>1000</td>\n",
       "    </tr>\n",
       "    <tr>\n",
       "      <th>2</th>\n",
       "      <td>1000_2</td>\n",
       "      <td>1197.26</td>\n",
       "      <td>2018-06-25</td>\n",
       "      <td>1000</td>\n",
       "    </tr>\n",
       "    <tr>\n",
       "      <th>3</th>\n",
       "      <td>1000_3</td>\n",
       "      <td>550.27</td>\n",
       "      <td>2018-08-22</td>\n",
       "      <td>1000</td>\n",
       "    </tr>\n",
       "    <tr>\n",
       "      <th>4</th>\n",
       "      <td>1000_4</td>\n",
       "      <td>302.56</td>\n",
       "      <td>2018-09-24</td>\n",
       "      <td>1000</td>\n",
       "    </tr>\n",
       "    <tr>\n",
       "      <th>5</th>\n",
       "      <td>1000_5</td>\n",
       "      <td>399.97</td>\n",
       "      <td>2018-10-02</td>\n",
       "      <td>1000</td>\n",
       "    </tr>\n",
       "    <tr>\n",
       "      <th>6</th>\n",
       "      <td>1000_6</td>\n",
       "      <td>540.08</td>\n",
       "      <td>2018-09-07</td>\n",
       "      <td>1000</td>\n",
       "    </tr>\n",
       "    <tr>\n",
       "      <th>7</th>\n",
       "      <td>1000_7</td>\n",
       "      <td>415.70</td>\n",
       "      <td>2018-07-11</td>\n",
       "      <td>1000</td>\n",
       "    </tr>\n",
       "    <tr>\n",
       "      <th>8</th>\n",
       "      <td>1000_8</td>\n",
       "      <td>505.40</td>\n",
       "      <td>2018-10-08</td>\n",
       "      <td>1000</td>\n",
       "    </tr>\n",
       "    <tr>\n",
       "      <th>9</th>\n",
       "      <td>1000_9</td>\n",
       "      <td>345.54</td>\n",
       "      <td>2018-09-03</td>\n",
       "      <td>1000</td>\n",
       "    </tr>\n",
       "  </tbody>\n",
       "</table>\n",
       "</div>"
      ],
      "text/plain": [
       "       id  mb_used session_date  user_id\n",
       "0  1000_0   112.95   2018-11-25     1000\n",
       "1  1000_1  1052.81   2018-09-07     1000\n",
       "2  1000_2  1197.26   2018-06-25     1000\n",
       "3  1000_3   550.27   2018-08-22     1000\n",
       "4  1000_4   302.56   2018-09-24     1000\n",
       "5  1000_5   399.97   2018-10-02     1000\n",
       "6  1000_6   540.08   2018-09-07     1000\n",
       "7  1000_7   415.70   2018-07-11     1000\n",
       "8  1000_8   505.40   2018-10-08     1000\n",
       "9  1000_9   345.54   2018-09-03     1000"
      ]
     },
     "execution_count": 22,
     "metadata": {},
     "output_type": "execute_result"
    }
   ],
   "source": [
    "data_internet.head(10)"
   ]
  },
  {
   "cell_type": "markdown",
   "metadata": {},
   "source": [
    "По условию для веб-трафика отдельные сессии не считаются. Вместо этого общая сумма за месяц округляется в большую сторону. Поэтому округление произведем при дальнейшей группировке по месяцам."
   ]
  },
  {
   "cell_type": "markdown",
   "metadata": {},
   "source": [
    "**Таблица `data_tariffs`**"
   ]
  },
  {
   "cell_type": "code",
   "execution_count": 23,
   "metadata": {
    "scrolled": true
   },
   "outputs": [
    {
     "data": {
      "text/html": [
       "<div>\n",
       "<style scoped>\n",
       "    .dataframe tbody tr th:only-of-type {\n",
       "        vertical-align: middle;\n",
       "    }\n",
       "\n",
       "    .dataframe tbody tr th {\n",
       "        vertical-align: top;\n",
       "    }\n",
       "\n",
       "    .dataframe thead th {\n",
       "        text-align: right;\n",
       "    }\n",
       "</style>\n",
       "<table border=\"1\" class=\"dataframe\">\n",
       "  <thead>\n",
       "    <tr style=\"text-align: right;\">\n",
       "      <th></th>\n",
       "      <th>messages_included</th>\n",
       "      <th>mb_per_month_included</th>\n",
       "      <th>minutes_included</th>\n",
       "      <th>rub_monthly_fee</th>\n",
       "      <th>rub_per_gb</th>\n",
       "      <th>rub_per_message</th>\n",
       "      <th>rub_per_minute</th>\n",
       "    </tr>\n",
       "  </thead>\n",
       "  <tbody>\n",
       "    <tr>\n",
       "      <th>count</th>\n",
       "      <td>2.000000</td>\n",
       "      <td>2.000000</td>\n",
       "      <td>2.000000</td>\n",
       "      <td>2.000000</td>\n",
       "      <td>2.000000</td>\n",
       "      <td>2.000000</td>\n",
       "      <td>2.000000</td>\n",
       "    </tr>\n",
       "    <tr>\n",
       "      <th>mean</th>\n",
       "      <td>525.000000</td>\n",
       "      <td>23040.000000</td>\n",
       "      <td>1750.000000</td>\n",
       "      <td>1250.000000</td>\n",
       "      <td>175.000000</td>\n",
       "      <td>2.000000</td>\n",
       "      <td>2.000000</td>\n",
       "    </tr>\n",
       "    <tr>\n",
       "      <th>std</th>\n",
       "      <td>671.751442</td>\n",
       "      <td>10861.160159</td>\n",
       "      <td>1767.766953</td>\n",
       "      <td>989.949494</td>\n",
       "      <td>35.355339</td>\n",
       "      <td>1.414214</td>\n",
       "      <td>1.414214</td>\n",
       "    </tr>\n",
       "    <tr>\n",
       "      <th>min</th>\n",
       "      <td>50.000000</td>\n",
       "      <td>15360.000000</td>\n",
       "      <td>500.000000</td>\n",
       "      <td>550.000000</td>\n",
       "      <td>150.000000</td>\n",
       "      <td>1.000000</td>\n",
       "      <td>1.000000</td>\n",
       "    </tr>\n",
       "    <tr>\n",
       "      <th>25%</th>\n",
       "      <td>287.500000</td>\n",
       "      <td>19200.000000</td>\n",
       "      <td>1125.000000</td>\n",
       "      <td>900.000000</td>\n",
       "      <td>162.500000</td>\n",
       "      <td>1.500000</td>\n",
       "      <td>1.500000</td>\n",
       "    </tr>\n",
       "    <tr>\n",
       "      <th>50%</th>\n",
       "      <td>525.000000</td>\n",
       "      <td>23040.000000</td>\n",
       "      <td>1750.000000</td>\n",
       "      <td>1250.000000</td>\n",
       "      <td>175.000000</td>\n",
       "      <td>2.000000</td>\n",
       "      <td>2.000000</td>\n",
       "    </tr>\n",
       "    <tr>\n",
       "      <th>75%</th>\n",
       "      <td>762.500000</td>\n",
       "      <td>26880.000000</td>\n",
       "      <td>2375.000000</td>\n",
       "      <td>1600.000000</td>\n",
       "      <td>187.500000</td>\n",
       "      <td>2.500000</td>\n",
       "      <td>2.500000</td>\n",
       "    </tr>\n",
       "    <tr>\n",
       "      <th>max</th>\n",
       "      <td>1000.000000</td>\n",
       "      <td>30720.000000</td>\n",
       "      <td>3000.000000</td>\n",
       "      <td>1950.000000</td>\n",
       "      <td>200.000000</td>\n",
       "      <td>3.000000</td>\n",
       "      <td>3.000000</td>\n",
       "    </tr>\n",
       "  </tbody>\n",
       "</table>\n",
       "</div>"
      ],
      "text/plain": [
       "       messages_included  mb_per_month_included  minutes_included  \\\n",
       "count           2.000000               2.000000          2.000000   \n",
       "mean          525.000000           23040.000000       1750.000000   \n",
       "std           671.751442           10861.160159       1767.766953   \n",
       "min            50.000000           15360.000000        500.000000   \n",
       "25%           287.500000           19200.000000       1125.000000   \n",
       "50%           525.000000           23040.000000       1750.000000   \n",
       "75%           762.500000           26880.000000       2375.000000   \n",
       "max          1000.000000           30720.000000       3000.000000   \n",
       "\n",
       "       rub_monthly_fee  rub_per_gb  rub_per_message  rub_per_minute  \n",
       "count         2.000000    2.000000         2.000000        2.000000  \n",
       "mean       1250.000000  175.000000         2.000000        2.000000  \n",
       "std         989.949494   35.355339         1.414214        1.414214  \n",
       "min         550.000000  150.000000         1.000000        1.000000  \n",
       "25%         900.000000  162.500000         1.500000        1.500000  \n",
       "50%        1250.000000  175.000000         2.000000        2.000000  \n",
       "75%        1600.000000  187.500000         2.500000        2.500000  \n",
       "max        1950.000000  200.000000         3.000000        3.000000  "
      ]
     },
     "execution_count": 23,
     "metadata": {},
     "output_type": "execute_result"
    }
   ],
   "source": [
    "data_tariffs.describe()"
   ]
  },
  {
   "cell_type": "markdown",
   "metadata": {},
   "source": [
    "На первый взгляд все отлично. Однако в дальнейшем, говоря об объеме интернет-трафика, будем использовать гигабайты. Поэтому переведем данные, содержащиеся в `mb_per_month_included` в соответствующую единицу изменения и сохраним результат в столбце `gb_per_month_included`:"
   ]
  },
  {
   "cell_type": "code",
   "execution_count": 24,
   "metadata": {},
   "outputs": [],
   "source": [
    "data_tariffs['gb_per_month_included'] = data_tariffs['mb_per_month_included'] / 1024\n",
    "data_tariffs = data_tariffs.drop(columns = 'mb_per_month_included')"
   ]
  },
  {
   "cell_type": "markdown",
   "metadata": {},
   "source": [
    "**Таблица `data_users`**"
   ]
  },
  {
   "cell_type": "code",
   "execution_count": 25,
   "metadata": {
    "scrolled": true
   },
   "outputs": [
    {
     "data": {
      "text/html": [
       "<div>\n",
       "<style scoped>\n",
       "    .dataframe tbody tr th:only-of-type {\n",
       "        vertical-align: middle;\n",
       "    }\n",
       "\n",
       "    .dataframe tbody tr th {\n",
       "        vertical-align: top;\n",
       "    }\n",
       "\n",
       "    .dataframe thead th {\n",
       "        text-align: right;\n",
       "    }\n",
       "</style>\n",
       "<table border=\"1\" class=\"dataframe\">\n",
       "  <thead>\n",
       "    <tr style=\"text-align: right;\">\n",
       "      <th></th>\n",
       "      <th>user_id</th>\n",
       "      <th>age</th>\n",
       "    </tr>\n",
       "  </thead>\n",
       "  <tbody>\n",
       "    <tr>\n",
       "      <th>count</th>\n",
       "      <td>500.000000</td>\n",
       "      <td>500.00000</td>\n",
       "    </tr>\n",
       "    <tr>\n",
       "      <th>mean</th>\n",
       "      <td>1249.500000</td>\n",
       "      <td>46.58800</td>\n",
       "    </tr>\n",
       "    <tr>\n",
       "      <th>std</th>\n",
       "      <td>144.481833</td>\n",
       "      <td>16.66763</td>\n",
       "    </tr>\n",
       "    <tr>\n",
       "      <th>min</th>\n",
       "      <td>1000.000000</td>\n",
       "      <td>18.00000</td>\n",
       "    </tr>\n",
       "    <tr>\n",
       "      <th>25%</th>\n",
       "      <td>1124.750000</td>\n",
       "      <td>32.00000</td>\n",
       "    </tr>\n",
       "    <tr>\n",
       "      <th>50%</th>\n",
       "      <td>1249.500000</td>\n",
       "      <td>46.00000</td>\n",
       "    </tr>\n",
       "    <tr>\n",
       "      <th>75%</th>\n",
       "      <td>1374.250000</td>\n",
       "      <td>62.00000</td>\n",
       "    </tr>\n",
       "    <tr>\n",
       "      <th>max</th>\n",
       "      <td>1499.000000</td>\n",
       "      <td>75.00000</td>\n",
       "    </tr>\n",
       "  </tbody>\n",
       "</table>\n",
       "</div>"
      ],
      "text/plain": [
       "           user_id        age\n",
       "count   500.000000  500.00000\n",
       "mean   1249.500000   46.58800\n",
       "std     144.481833   16.66763\n",
       "min    1000.000000   18.00000\n",
       "25%    1124.750000   32.00000\n",
       "50%    1249.500000   46.00000\n",
       "75%    1374.250000   62.00000\n",
       "max    1499.000000   75.00000"
      ]
     },
     "execution_count": 25,
     "metadata": {},
     "output_type": "execute_result"
    }
   ],
   "source": [
    "data_users.describe()"
   ]
  },
  {
   "cell_type": "markdown",
   "metadata": {},
   "source": [
    "В количественных данных на первый взгляд все нормально. Минимальный возраст клиентов - 18 лет, максимальный - 75. Посмотрим на категориальные значения:"
   ]
  },
  {
   "cell_type": "code",
   "execution_count": 26,
   "metadata": {
    "scrolled": true
   },
   "outputs": [
    {
     "name": "stdout",
     "output_type": "stream",
     "text": [
      "----------------------------\n",
      "city\n",
      "Москва             99\n",
      "Санкт-Петербург    39\n",
      "Новосибирск        16\n",
      "Казань             14\n",
      "Омск               14\n",
      "                   ..\n",
      "Нижневартовск       1\n",
      "Иваново             1\n",
      "Подольск            1\n",
      "Архангельск         1\n",
      "Химки               1\n",
      "Name: city, Length: 76, dtype: int64\n",
      "----------------------------\n",
      "first_name\n",
      "Радим      6\n",
      "Пётр       5\n",
      "Леонид     5\n",
      "Алиса      4\n",
      "Леон       4\n",
      "          ..\n",
      "Камилла    1\n",
      "Анфиса     1\n",
      "Роза       1\n",
      "Инга       1\n",
      "Эльвира    1\n",
      "Name: first_name, Length: 246, dtype: int64\n",
      "----------------------------\n",
      "last_name\n",
      "Андреенко    5\n",
      "Березина     3\n",
      "Аничкина     3\n",
      "Аркадьев     3\n",
      "Абашкина     3\n",
      "            ..\n",
      "Кулешова     1\n",
      "Толкачев     1\n",
      "Трошин       1\n",
      "Антоненко    1\n",
      "Софронов     1\n",
      "Name: last_name, Length: 419, dtype: int64\n"
     ]
    }
   ],
   "source": [
    "#просмотр уникальных значений в столбцах city, first_name, last_name\n",
    "columns = ['city', 'first_name', 'last_name']\n",
    "for column in columns:\n",
    "    print('----------------------------')\n",
    "    print(column)\n",
    "    print(data_users[column].value_counts())"
   ]
  },
  {
   "cell_type": "markdown",
   "metadata": {},
   "source": [
    "Ошибок не обнаружено."
   ]
  },
  {
   "cell_type": "markdown",
   "metadata": {},
   "source": [
    "**ВЫВОД**\n",
    "\n",
    "С помощью методов `describe()`, `value_counts()` был осуществлен поиск ошибок. Некоторые из них были исправлены, некоторые подлежат исправлению в дальнейшем."
   ]
  },
  {
   "cell_type": "markdown",
   "metadata": {},
   "source": [
    "### Изменение типов данных"
   ]
  },
  {
   "cell_type": "markdown",
   "metadata": {},
   "source": [
    "Ранее было замечено, что поля, содержащие дату в таблицах `data_calls`, `data_internet`, `data_messages`, `data_users`, имеют тип данных **object**. Для дальнейшей работы их необходимо преобразовать в тип **datetime**. Для этого напишем функцию, которая на вход будет получать название таблицы и столбца, который необходимо преобразовать:"
   ]
  },
  {
   "cell_type": "code",
   "execution_count": 27,
   "metadata": {},
   "outputs": [],
   "source": [
    "def data_type(data, column):\n",
    "    data[column] = pd.to_datetime(data[column])"
   ]
  },
  {
   "cell_type": "code",
   "execution_count": 28,
   "metadata": {},
   "outputs": [],
   "source": [
    "# применим функцию для data_calls\n",
    "data_type(data_calls, 'call_date')"
   ]
  },
  {
   "cell_type": "code",
   "execution_count": 29,
   "metadata": {},
   "outputs": [],
   "source": [
    "# применим функцию для data_internet\n",
    "data_type(data_internet, 'session_date')"
   ]
  },
  {
   "cell_type": "code",
   "execution_count": 30,
   "metadata": {},
   "outputs": [],
   "source": [
    "# применим функцию для data_messages\n",
    "data_type(data_messages, 'message_date')"
   ]
  },
  {
   "cell_type": "code",
   "execution_count": 31,
   "metadata": {},
   "outputs": [],
   "source": [
    "# применим функцию для data_users\n",
    "data_type(data_users, 'churn_date')\n",
    "data_type(data_users, 'reg_date')"
   ]
  },
  {
   "cell_type": "markdown",
   "metadata": {},
   "source": [
    "Типы данных успешно изменены."
   ]
  },
  {
   "cell_type": "markdown",
   "metadata": {},
   "source": [
    "**ВЫВОД**\n",
    "\n",
    "В данном разделе были изучены пропущенные значения, найдены и исправлены ошибки и преобразован тип даных в столбцах, содержащих дату."
   ]
  },
  {
   "cell_type": "markdown",
   "metadata": {},
   "source": [
    "## Подготовка пользовательских данных"
   ]
  },
  {
   "cell_type": "markdown",
   "metadata": {},
   "source": [
    "### Группировка"
   ]
  },
  {
   "cell_type": "markdown",
   "metadata": {},
   "source": [
    "Прежде чем объединить все таблицы в одну, сгруппируем их по паре \"пользователь + месяц\"."
   ]
  },
  {
   "cell_type": "markdown",
   "metadata": {},
   "source": [
    "**Таблица `data_calls`**"
   ]
  },
  {
   "cell_type": "code",
   "execution_count": 32,
   "metadata": {
    "scrolled": false
   },
   "outputs": [
    {
     "data": {
      "text/html": [
       "<div>\n",
       "<style scoped>\n",
       "    .dataframe tbody tr th:only-of-type {\n",
       "        vertical-align: middle;\n",
       "    }\n",
       "\n",
       "    .dataframe tbody tr th {\n",
       "        vertical-align: top;\n",
       "    }\n",
       "\n",
       "    .dataframe thead th {\n",
       "        text-align: right;\n",
       "    }\n",
       "</style>\n",
       "<table border=\"1\" class=\"dataframe\">\n",
       "  <thead>\n",
       "    <tr style=\"text-align: right;\">\n",
       "      <th></th>\n",
       "      <th>user_id</th>\n",
       "      <th>month</th>\n",
       "      <th>duration_calls</th>\n",
       "      <th>count_calls</th>\n",
       "    </tr>\n",
       "  </thead>\n",
       "  <tbody>\n",
       "    <tr>\n",
       "      <th>0</th>\n",
       "      <td>1000</td>\n",
       "      <td>5</td>\n",
       "      <td>159.0</td>\n",
       "      <td>22</td>\n",
       "    </tr>\n",
       "    <tr>\n",
       "      <th>1</th>\n",
       "      <td>1000</td>\n",
       "      <td>6</td>\n",
       "      <td>172.0</td>\n",
       "      <td>43</td>\n",
       "    </tr>\n",
       "    <tr>\n",
       "      <th>2</th>\n",
       "      <td>1000</td>\n",
       "      <td>7</td>\n",
       "      <td>340.0</td>\n",
       "      <td>47</td>\n",
       "    </tr>\n",
       "    <tr>\n",
       "      <th>3</th>\n",
       "      <td>1000</td>\n",
       "      <td>8</td>\n",
       "      <td>408.0</td>\n",
       "      <td>52</td>\n",
       "    </tr>\n",
       "    <tr>\n",
       "      <th>4</th>\n",
       "      <td>1000</td>\n",
       "      <td>9</td>\n",
       "      <td>466.0</td>\n",
       "      <td>58</td>\n",
       "    </tr>\n",
       "    <tr>\n",
       "      <th>5</th>\n",
       "      <td>1000</td>\n",
       "      <td>10</td>\n",
       "      <td>350.0</td>\n",
       "      <td>57</td>\n",
       "    </tr>\n",
       "    <tr>\n",
       "      <th>6</th>\n",
       "      <td>1000</td>\n",
       "      <td>11</td>\n",
       "      <td>338.0</td>\n",
       "      <td>43</td>\n",
       "    </tr>\n",
       "    <tr>\n",
       "      <th>7</th>\n",
       "      <td>1000</td>\n",
       "      <td>12</td>\n",
       "      <td>333.0</td>\n",
       "      <td>46</td>\n",
       "    </tr>\n",
       "    <tr>\n",
       "      <th>8</th>\n",
       "      <td>1001</td>\n",
       "      <td>11</td>\n",
       "      <td>430.0</td>\n",
       "      <td>59</td>\n",
       "    </tr>\n",
       "    <tr>\n",
       "      <th>9</th>\n",
       "      <td>1001</td>\n",
       "      <td>12</td>\n",
       "      <td>414.0</td>\n",
       "      <td>63</td>\n",
       "    </tr>\n",
       "  </tbody>\n",
       "</table>\n",
       "</div>"
      ],
      "text/plain": [
       "   user_id  month  duration_calls  count_calls\n",
       "0     1000      5           159.0           22\n",
       "1     1000      6           172.0           43\n",
       "2     1000      7           340.0           47\n",
       "3     1000      8           408.0           52\n",
       "4     1000      9           466.0           58\n",
       "5     1000     10           350.0           57\n",
       "6     1000     11           338.0           43\n",
       "7     1000     12           333.0           46\n",
       "8     1001     11           430.0           59\n",
       "9     1001     12           414.0           63"
      ]
     },
     "execution_count": 32,
     "metadata": {},
     "output_type": "execute_result"
    }
   ],
   "source": [
    "# выделение месяца\n",
    "# и группировка\n",
    "data_calls['month'] = data_calls['call_date'].dt.month\n",
    "data_calls = data_calls.groupby(['user_id', 'month']).agg({'duration': 'sum', 'id': 'count'}).reset_index()\n",
    "data_calls = data_calls.rename(columns={'duration': 'duration_calls', 'id': 'count_calls'})\n",
    "data_calls.head(10)"
   ]
  },
  {
   "cell_type": "markdown",
   "metadata": {},
   "source": [
    "На выходе мы имеем информацию о количестве сделанных звонков и израсходованных минут разговора по месяцам."
   ]
  },
  {
   "cell_type": "markdown",
   "metadata": {},
   "source": [
    "**Таблица `data_internet`**"
   ]
  },
  {
   "cell_type": "code",
   "execution_count": 33,
   "metadata": {
    "scrolled": false
   },
   "outputs": [
    {
     "data": {
      "text/html": [
       "<div>\n",
       "<style scoped>\n",
       "    .dataframe tbody tr th:only-of-type {\n",
       "        vertical-align: middle;\n",
       "    }\n",
       "\n",
       "    .dataframe tbody tr th {\n",
       "        vertical-align: top;\n",
       "    }\n",
       "\n",
       "    .dataframe thead th {\n",
       "        text-align: right;\n",
       "    }\n",
       "</style>\n",
       "<table border=\"1\" class=\"dataframe\">\n",
       "  <thead>\n",
       "    <tr style=\"text-align: right;\">\n",
       "      <th></th>\n",
       "      <th>user_id</th>\n",
       "      <th>month</th>\n",
       "      <th>mb_used</th>\n",
       "    </tr>\n",
       "  </thead>\n",
       "  <tbody>\n",
       "    <tr>\n",
       "      <th>0</th>\n",
       "      <td>1000</td>\n",
       "      <td>5</td>\n",
       "      <td>2253.49</td>\n",
       "    </tr>\n",
       "    <tr>\n",
       "      <th>1</th>\n",
       "      <td>1000</td>\n",
       "      <td>6</td>\n",
       "      <td>23233.77</td>\n",
       "    </tr>\n",
       "    <tr>\n",
       "      <th>2</th>\n",
       "      <td>1000</td>\n",
       "      <td>7</td>\n",
       "      <td>14003.64</td>\n",
       "    </tr>\n",
       "    <tr>\n",
       "      <th>3</th>\n",
       "      <td>1000</td>\n",
       "      <td>8</td>\n",
       "      <td>14055.93</td>\n",
       "    </tr>\n",
       "    <tr>\n",
       "      <th>4</th>\n",
       "      <td>1000</td>\n",
       "      <td>9</td>\n",
       "      <td>14568.91</td>\n",
       "    </tr>\n",
       "    <tr>\n",
       "      <th>5</th>\n",
       "      <td>1000</td>\n",
       "      <td>10</td>\n",
       "      <td>14702.49</td>\n",
       "    </tr>\n",
       "    <tr>\n",
       "      <th>6</th>\n",
       "      <td>1000</td>\n",
       "      <td>11</td>\n",
       "      <td>14756.47</td>\n",
       "    </tr>\n",
       "    <tr>\n",
       "      <th>7</th>\n",
       "      <td>1000</td>\n",
       "      <td>12</td>\n",
       "      <td>9817.61</td>\n",
       "    </tr>\n",
       "    <tr>\n",
       "      <th>8</th>\n",
       "      <td>1001</td>\n",
       "      <td>11</td>\n",
       "      <td>18429.34</td>\n",
       "    </tr>\n",
       "    <tr>\n",
       "      <th>9</th>\n",
       "      <td>1001</td>\n",
       "      <td>12</td>\n",
       "      <td>14036.66</td>\n",
       "    </tr>\n",
       "  </tbody>\n",
       "</table>\n",
       "</div>"
      ],
      "text/plain": [
       "   user_id  month   mb_used\n",
       "0     1000      5   2253.49\n",
       "1     1000      6  23233.77\n",
       "2     1000      7  14003.64\n",
       "3     1000      8  14055.93\n",
       "4     1000      9  14568.91\n",
       "5     1000     10  14702.49\n",
       "6     1000     11  14756.47\n",
       "7     1000     12   9817.61\n",
       "8     1001     11  18429.34\n",
       "9     1001     12  14036.66"
      ]
     },
     "execution_count": 33,
     "metadata": {},
     "output_type": "execute_result"
    }
   ],
   "source": [
    "# выделение месяца\n",
    "# и группировка\n",
    "data_internet['month'] = data_internet['session_date'].dt.month\n",
    "data_internet = data_internet.groupby(['user_id', 'month']).agg({'mb_used': 'sum'}).reset_index()\n",
    "data_internet.head(10)"
   ]
  },
  {
   "cell_type": "markdown",
   "metadata": {},
   "source": [
    "На этом этапе можно разобраться с суммой потраченного трафика: в условии задания определено, что общая сумма за месяц округляется в большую сторону (например, если абонент использует 1025 мегабайт в этом месяце, с него возьмут плату за 2 гигабайта). Исходя из этого данные необходимо перевести в гигабайты и округлить в большую сторону:"
   ]
  },
  {
   "cell_type": "code",
   "execution_count": 34,
   "metadata": {
    "scrolled": false
   },
   "outputs": [
    {
     "data": {
      "text/html": [
       "<div>\n",
       "<style scoped>\n",
       "    .dataframe tbody tr th:only-of-type {\n",
       "        vertical-align: middle;\n",
       "    }\n",
       "\n",
       "    .dataframe tbody tr th {\n",
       "        vertical-align: top;\n",
       "    }\n",
       "\n",
       "    .dataframe thead th {\n",
       "        text-align: right;\n",
       "    }\n",
       "</style>\n",
       "<table border=\"1\" class=\"dataframe\">\n",
       "  <thead>\n",
       "    <tr style=\"text-align: right;\">\n",
       "      <th></th>\n",
       "      <th>user_id</th>\n",
       "      <th>month</th>\n",
       "      <th>gb_used</th>\n",
       "    </tr>\n",
       "  </thead>\n",
       "  <tbody>\n",
       "    <tr>\n",
       "      <th>0</th>\n",
       "      <td>1000</td>\n",
       "      <td>5</td>\n",
       "      <td>3.0</td>\n",
       "    </tr>\n",
       "    <tr>\n",
       "      <th>1</th>\n",
       "      <td>1000</td>\n",
       "      <td>6</td>\n",
       "      <td>23.0</td>\n",
       "    </tr>\n",
       "    <tr>\n",
       "      <th>2</th>\n",
       "      <td>1000</td>\n",
       "      <td>7</td>\n",
       "      <td>14.0</td>\n",
       "    </tr>\n",
       "    <tr>\n",
       "      <th>3</th>\n",
       "      <td>1000</td>\n",
       "      <td>8</td>\n",
       "      <td>14.0</td>\n",
       "    </tr>\n",
       "    <tr>\n",
       "      <th>4</th>\n",
       "      <td>1000</td>\n",
       "      <td>9</td>\n",
       "      <td>15.0</td>\n",
       "    </tr>\n",
       "    <tr>\n",
       "      <th>5</th>\n",
       "      <td>1000</td>\n",
       "      <td>10</td>\n",
       "      <td>15.0</td>\n",
       "    </tr>\n",
       "    <tr>\n",
       "      <th>6</th>\n",
       "      <td>1000</td>\n",
       "      <td>11</td>\n",
       "      <td>15.0</td>\n",
       "    </tr>\n",
       "    <tr>\n",
       "      <th>7</th>\n",
       "      <td>1000</td>\n",
       "      <td>12</td>\n",
       "      <td>10.0</td>\n",
       "    </tr>\n",
       "    <tr>\n",
       "      <th>8</th>\n",
       "      <td>1001</td>\n",
       "      <td>11</td>\n",
       "      <td>18.0</td>\n",
       "    </tr>\n",
       "    <tr>\n",
       "      <th>9</th>\n",
       "      <td>1001</td>\n",
       "      <td>12</td>\n",
       "      <td>14.0</td>\n",
       "    </tr>\n",
       "  </tbody>\n",
       "</table>\n",
       "</div>"
      ],
      "text/plain": [
       "   user_id  month  gb_used\n",
       "0     1000      5      3.0\n",
       "1     1000      6     23.0\n",
       "2     1000      7     14.0\n",
       "3     1000      8     14.0\n",
       "4     1000      9     15.0\n",
       "5     1000     10     15.0\n",
       "6     1000     11     15.0\n",
       "7     1000     12     10.0\n",
       "8     1001     11     18.0\n",
       "9     1001     12     14.0"
      ]
     },
     "execution_count": 34,
     "metadata": {},
     "output_type": "execute_result"
    }
   ],
   "source": [
    "data_internet['gb_used'] = (data_internet['mb_used'] / 1024).apply(np.ceil)\n",
    "data_internet = data_internet.drop(columns = 'mb_used')\n",
    "data_internet.head(10)"
   ]
  },
  {
   "cell_type": "markdown",
   "metadata": {},
   "source": [
    "Теперь данные в таблице `data_internet` соответствуют условию. На выходе мы получили информацию об объеме израсходованного интернет-трафика по месяцам."
   ]
  },
  {
   "cell_type": "markdown",
   "metadata": {},
   "source": [
    "**Таблица `data_messages`**"
   ]
  },
  {
   "cell_type": "code",
   "execution_count": 35,
   "metadata": {
    "scrolled": true
   },
   "outputs": [
    {
     "data": {
      "text/html": [
       "<div>\n",
       "<style scoped>\n",
       "    .dataframe tbody tr th:only-of-type {\n",
       "        vertical-align: middle;\n",
       "    }\n",
       "\n",
       "    .dataframe tbody tr th {\n",
       "        vertical-align: top;\n",
       "    }\n",
       "\n",
       "    .dataframe thead th {\n",
       "        text-align: right;\n",
       "    }\n",
       "</style>\n",
       "<table border=\"1\" class=\"dataframe\">\n",
       "  <thead>\n",
       "    <tr style=\"text-align: right;\">\n",
       "      <th></th>\n",
       "      <th>user_id</th>\n",
       "      <th>month</th>\n",
       "      <th>count_sms</th>\n",
       "    </tr>\n",
       "  </thead>\n",
       "  <tbody>\n",
       "    <tr>\n",
       "      <th>0</th>\n",
       "      <td>1000</td>\n",
       "      <td>5</td>\n",
       "      <td>22</td>\n",
       "    </tr>\n",
       "    <tr>\n",
       "      <th>1</th>\n",
       "      <td>1000</td>\n",
       "      <td>6</td>\n",
       "      <td>60</td>\n",
       "    </tr>\n",
       "    <tr>\n",
       "      <th>2</th>\n",
       "      <td>1000</td>\n",
       "      <td>7</td>\n",
       "      <td>75</td>\n",
       "    </tr>\n",
       "    <tr>\n",
       "      <th>3</th>\n",
       "      <td>1000</td>\n",
       "      <td>8</td>\n",
       "      <td>81</td>\n",
       "    </tr>\n",
       "    <tr>\n",
       "      <th>4</th>\n",
       "      <td>1000</td>\n",
       "      <td>9</td>\n",
       "      <td>57</td>\n",
       "    </tr>\n",
       "    <tr>\n",
       "      <th>5</th>\n",
       "      <td>1000</td>\n",
       "      <td>10</td>\n",
       "      <td>73</td>\n",
       "    </tr>\n",
       "    <tr>\n",
       "      <th>6</th>\n",
       "      <td>1000</td>\n",
       "      <td>11</td>\n",
       "      <td>58</td>\n",
       "    </tr>\n",
       "    <tr>\n",
       "      <th>7</th>\n",
       "      <td>1000</td>\n",
       "      <td>12</td>\n",
       "      <td>70</td>\n",
       "    </tr>\n",
       "    <tr>\n",
       "      <th>8</th>\n",
       "      <td>1002</td>\n",
       "      <td>6</td>\n",
       "      <td>4</td>\n",
       "    </tr>\n",
       "    <tr>\n",
       "      <th>9</th>\n",
       "      <td>1002</td>\n",
       "      <td>7</td>\n",
       "      <td>11</td>\n",
       "    </tr>\n",
       "  </tbody>\n",
       "</table>\n",
       "</div>"
      ],
      "text/plain": [
       "   user_id  month  count_sms\n",
       "0     1000      5         22\n",
       "1     1000      6         60\n",
       "2     1000      7         75\n",
       "3     1000      8         81\n",
       "4     1000      9         57\n",
       "5     1000     10         73\n",
       "6     1000     11         58\n",
       "7     1000     12         70\n",
       "8     1002      6          4\n",
       "9     1002      7         11"
      ]
     },
     "execution_count": 35,
     "metadata": {},
     "output_type": "execute_result"
    }
   ],
   "source": [
    "# выделение месяца\n",
    "# и группировка\n",
    "data_messages['month'] = data_messages['message_date'].dt.month\n",
    "data_messages = data_messages.groupby(['user_id', 'month']).agg({'id': 'count'}).reset_index()\n",
    "data_messages = data_messages.rename(columns={'id': 'count_sms'})\n",
    "data_messages.head(10)"
   ]
  },
  {
   "cell_type": "markdown",
   "metadata": {},
   "source": [
    "Номер месяца успешно добавлен. Данные сгруппированы. На выходе мы получили информацию о количестве отправленных сообщений по месяцам."
   ]
  },
  {
   "cell_type": "markdown",
   "metadata": {},
   "source": [
    "### Объединение"
   ]
  },
  {
   "cell_type": "markdown",
   "metadata": {},
   "source": [
    "Объединим таблицы `data_calls`, `data_internet`, `data_messages` по полям **user_id** и **month**, сохраним в переменную `data`. Затем отдельно объединим таблицы `data_tariffs`, `data_users` по названию тарифа, сохраним в переменную `data_1`. В конце объединим данные из `data` и `data_1` по полю **user_id** и сохраним в переменную `data`."
   ]
  },
  {
   "cell_type": "markdown",
   "metadata": {},
   "source": [
    "В таблицах `data_tariffs` и `data_users` есть информация о названиях тарифа, однако наименование колонок различается: в `data_tariffs` - **tariff_name**, в `data_users` - **tariff**. Для того, чтобы получилось объединить эти таблицы, переименуем соответствующий столбец в `data_tariffs` в **tariff**:"
   ]
  },
  {
   "cell_type": "code",
   "execution_count": 36,
   "metadata": {},
   "outputs": [],
   "source": [
    "data_tariffs = data_tariffs.rename(columns={'tariff_name': 'tariff'})"
   ]
  },
  {
   "cell_type": "code",
   "execution_count": 37,
   "metadata": {
    "scrolled": false
   },
   "outputs": [
    {
     "data": {
      "text/html": [
       "<div>\n",
       "<style scoped>\n",
       "    .dataframe tbody tr th:only-of-type {\n",
       "        vertical-align: middle;\n",
       "    }\n",
       "\n",
       "    .dataframe tbody tr th {\n",
       "        vertical-align: top;\n",
       "    }\n",
       "\n",
       "    .dataframe thead th {\n",
       "        text-align: right;\n",
       "    }\n",
       "</style>\n",
       "<table border=\"1\" class=\"dataframe\">\n",
       "  <thead>\n",
       "    <tr style=\"text-align: right;\">\n",
       "      <th></th>\n",
       "      <th>messages_included</th>\n",
       "      <th>minutes_included</th>\n",
       "      <th>rub_monthly_fee</th>\n",
       "      <th>rub_per_gb</th>\n",
       "      <th>rub_per_message</th>\n",
       "      <th>rub_per_minute</th>\n",
       "      <th>tariff</th>\n",
       "      <th>gb_per_month_included</th>\n",
       "      <th>user_id</th>\n",
       "      <th>age</th>\n",
       "      <th>churn_date</th>\n",
       "      <th>city</th>\n",
       "      <th>first_name</th>\n",
       "      <th>last_name</th>\n",
       "      <th>reg_date</th>\n",
       "      <th>month</th>\n",
       "      <th>count_sms</th>\n",
       "      <th>duration_calls</th>\n",
       "      <th>count_calls</th>\n",
       "      <th>gb_used</th>\n",
       "    </tr>\n",
       "  </thead>\n",
       "  <tbody>\n",
       "    <tr>\n",
       "      <th>0</th>\n",
       "      <td>50</td>\n",
       "      <td>500</td>\n",
       "      <td>550</td>\n",
       "      <td>200</td>\n",
       "      <td>3</td>\n",
       "      <td>3</td>\n",
       "      <td>smart</td>\n",
       "      <td>15.0</td>\n",
       "      <td>1001</td>\n",
       "      <td>41</td>\n",
       "      <td>NaT</td>\n",
       "      <td>Москва</td>\n",
       "      <td>Иван</td>\n",
       "      <td>Ежов</td>\n",
       "      <td>2018-11-01</td>\n",
       "      <td>11.0</td>\n",
       "      <td>NaN</td>\n",
       "      <td>430.0</td>\n",
       "      <td>59.0</td>\n",
       "      <td>18.0</td>\n",
       "    </tr>\n",
       "    <tr>\n",
       "      <th>1</th>\n",
       "      <td>50</td>\n",
       "      <td>500</td>\n",
       "      <td>550</td>\n",
       "      <td>200</td>\n",
       "      <td>3</td>\n",
       "      <td>3</td>\n",
       "      <td>smart</td>\n",
       "      <td>15.0</td>\n",
       "      <td>1001</td>\n",
       "      <td>41</td>\n",
       "      <td>NaT</td>\n",
       "      <td>Москва</td>\n",
       "      <td>Иван</td>\n",
       "      <td>Ежов</td>\n",
       "      <td>2018-11-01</td>\n",
       "      <td>12.0</td>\n",
       "      <td>NaN</td>\n",
       "      <td>414.0</td>\n",
       "      <td>63.0</td>\n",
       "      <td>14.0</td>\n",
       "    </tr>\n",
       "    <tr>\n",
       "      <th>2</th>\n",
       "      <td>50</td>\n",
       "      <td>500</td>\n",
       "      <td>550</td>\n",
       "      <td>200</td>\n",
       "      <td>3</td>\n",
       "      <td>3</td>\n",
       "      <td>smart</td>\n",
       "      <td>15.0</td>\n",
       "      <td>1002</td>\n",
       "      <td>59</td>\n",
       "      <td>NaT</td>\n",
       "      <td>Стерлитамак</td>\n",
       "      <td>Евгений</td>\n",
       "      <td>Абрамович</td>\n",
       "      <td>2018-06-17</td>\n",
       "      <td>6.0</td>\n",
       "      <td>4.0</td>\n",
       "      <td>117.0</td>\n",
       "      <td>15.0</td>\n",
       "      <td>11.0</td>\n",
       "    </tr>\n",
       "    <tr>\n",
       "      <th>3</th>\n",
       "      <td>50</td>\n",
       "      <td>500</td>\n",
       "      <td>550</td>\n",
       "      <td>200</td>\n",
       "      <td>3</td>\n",
       "      <td>3</td>\n",
       "      <td>smart</td>\n",
       "      <td>15.0</td>\n",
       "      <td>1002</td>\n",
       "      <td>59</td>\n",
       "      <td>NaT</td>\n",
       "      <td>Стерлитамак</td>\n",
       "      <td>Евгений</td>\n",
       "      <td>Абрамович</td>\n",
       "      <td>2018-06-17</td>\n",
       "      <td>7.0</td>\n",
       "      <td>11.0</td>\n",
       "      <td>214.0</td>\n",
       "      <td>26.0</td>\n",
       "      <td>18.0</td>\n",
       "    </tr>\n",
       "    <tr>\n",
       "      <th>4</th>\n",
       "      <td>50</td>\n",
       "      <td>500</td>\n",
       "      <td>550</td>\n",
       "      <td>200</td>\n",
       "      <td>3</td>\n",
       "      <td>3</td>\n",
       "      <td>smart</td>\n",
       "      <td>15.0</td>\n",
       "      <td>1002</td>\n",
       "      <td>59</td>\n",
       "      <td>NaT</td>\n",
       "      <td>Стерлитамак</td>\n",
       "      <td>Евгений</td>\n",
       "      <td>Абрамович</td>\n",
       "      <td>2018-06-17</td>\n",
       "      <td>8.0</td>\n",
       "      <td>13.0</td>\n",
       "      <td>289.0</td>\n",
       "      <td>42.0</td>\n",
       "      <td>20.0</td>\n",
       "    </tr>\n",
       "    <tr>\n",
       "      <th>5</th>\n",
       "      <td>50</td>\n",
       "      <td>500</td>\n",
       "      <td>550</td>\n",
       "      <td>200</td>\n",
       "      <td>3</td>\n",
       "      <td>3</td>\n",
       "      <td>smart</td>\n",
       "      <td>15.0</td>\n",
       "      <td>1002</td>\n",
       "      <td>59</td>\n",
       "      <td>NaT</td>\n",
       "      <td>Стерлитамак</td>\n",
       "      <td>Евгений</td>\n",
       "      <td>Абрамович</td>\n",
       "      <td>2018-06-17</td>\n",
       "      <td>9.0</td>\n",
       "      <td>4.0</td>\n",
       "      <td>206.0</td>\n",
       "      <td>36.0</td>\n",
       "      <td>17.0</td>\n",
       "    </tr>\n",
       "    <tr>\n",
       "      <th>6</th>\n",
       "      <td>50</td>\n",
       "      <td>500</td>\n",
       "      <td>550</td>\n",
       "      <td>200</td>\n",
       "      <td>3</td>\n",
       "      <td>3</td>\n",
       "      <td>smart</td>\n",
       "      <td>15.0</td>\n",
       "      <td>1002</td>\n",
       "      <td>59</td>\n",
       "      <td>NaT</td>\n",
       "      <td>Стерлитамак</td>\n",
       "      <td>Евгений</td>\n",
       "      <td>Абрамович</td>\n",
       "      <td>2018-06-17</td>\n",
       "      <td>10.0</td>\n",
       "      <td>10.0</td>\n",
       "      <td>212.0</td>\n",
       "      <td>33.0</td>\n",
       "      <td>14.0</td>\n",
       "    </tr>\n",
       "    <tr>\n",
       "      <th>7</th>\n",
       "      <td>50</td>\n",
       "      <td>500</td>\n",
       "      <td>550</td>\n",
       "      <td>200</td>\n",
       "      <td>3</td>\n",
       "      <td>3</td>\n",
       "      <td>smart</td>\n",
       "      <td>15.0</td>\n",
       "      <td>1002</td>\n",
       "      <td>59</td>\n",
       "      <td>NaT</td>\n",
       "      <td>Стерлитамак</td>\n",
       "      <td>Евгений</td>\n",
       "      <td>Абрамович</td>\n",
       "      <td>2018-06-17</td>\n",
       "      <td>11.0</td>\n",
       "      <td>16.0</td>\n",
       "      <td>243.0</td>\n",
       "      <td>32.0</td>\n",
       "      <td>19.0</td>\n",
       "    </tr>\n",
       "    <tr>\n",
       "      <th>8</th>\n",
       "      <td>50</td>\n",
       "      <td>500</td>\n",
       "      <td>550</td>\n",
       "      <td>200</td>\n",
       "      <td>3</td>\n",
       "      <td>3</td>\n",
       "      <td>smart</td>\n",
       "      <td>15.0</td>\n",
       "      <td>1002</td>\n",
       "      <td>59</td>\n",
       "      <td>NaT</td>\n",
       "      <td>Стерлитамак</td>\n",
       "      <td>Евгений</td>\n",
       "      <td>Абрамович</td>\n",
       "      <td>2018-06-17</td>\n",
       "      <td>12.0</td>\n",
       "      <td>12.0</td>\n",
       "      <td>236.0</td>\n",
       "      <td>33.0</td>\n",
       "      <td>18.0</td>\n",
       "    </tr>\n",
       "    <tr>\n",
       "      <th>9</th>\n",
       "      <td>50</td>\n",
       "      <td>500</td>\n",
       "      <td>550</td>\n",
       "      <td>200</td>\n",
       "      <td>3</td>\n",
       "      <td>3</td>\n",
       "      <td>smart</td>\n",
       "      <td>15.0</td>\n",
       "      <td>1005</td>\n",
       "      <td>67</td>\n",
       "      <td>NaT</td>\n",
       "      <td>Набережные Челны</td>\n",
       "      <td>Афанасий</td>\n",
       "      <td>Горлов</td>\n",
       "      <td>2018-01-25</td>\n",
       "      <td>1.0</td>\n",
       "      <td>7.0</td>\n",
       "      <td>95.0</td>\n",
       "      <td>15.0</td>\n",
       "      <td>3.0</td>\n",
       "    </tr>\n",
       "  </tbody>\n",
       "</table>\n",
       "</div>"
      ],
      "text/plain": [
       "   messages_included  minutes_included  rub_monthly_fee  rub_per_gb  \\\n",
       "0                 50               500              550         200   \n",
       "1                 50               500              550         200   \n",
       "2                 50               500              550         200   \n",
       "3                 50               500              550         200   \n",
       "4                 50               500              550         200   \n",
       "5                 50               500              550         200   \n",
       "6                 50               500              550         200   \n",
       "7                 50               500              550         200   \n",
       "8                 50               500              550         200   \n",
       "9                 50               500              550         200   \n",
       "\n",
       "   rub_per_message  rub_per_minute tariff  gb_per_month_included  user_id  \\\n",
       "0                3               3  smart                   15.0     1001   \n",
       "1                3               3  smart                   15.0     1001   \n",
       "2                3               3  smart                   15.0     1002   \n",
       "3                3               3  smart                   15.0     1002   \n",
       "4                3               3  smart                   15.0     1002   \n",
       "5                3               3  smart                   15.0     1002   \n",
       "6                3               3  smart                   15.0     1002   \n",
       "7                3               3  smart                   15.0     1002   \n",
       "8                3               3  smart                   15.0     1002   \n",
       "9                3               3  smart                   15.0     1005   \n",
       "\n",
       "   age churn_date              city first_name  last_name   reg_date  month  \\\n",
       "0   41        NaT            Москва       Иван       Ежов 2018-11-01   11.0   \n",
       "1   41        NaT            Москва       Иван       Ежов 2018-11-01   12.0   \n",
       "2   59        NaT       Стерлитамак    Евгений  Абрамович 2018-06-17    6.0   \n",
       "3   59        NaT       Стерлитамак    Евгений  Абрамович 2018-06-17    7.0   \n",
       "4   59        NaT       Стерлитамак    Евгений  Абрамович 2018-06-17    8.0   \n",
       "5   59        NaT       Стерлитамак    Евгений  Абрамович 2018-06-17    9.0   \n",
       "6   59        NaT       Стерлитамак    Евгений  Абрамович 2018-06-17   10.0   \n",
       "7   59        NaT       Стерлитамак    Евгений  Абрамович 2018-06-17   11.0   \n",
       "8   59        NaT       Стерлитамак    Евгений  Абрамович 2018-06-17   12.0   \n",
       "9   67        NaT  Набережные Челны   Афанасий     Горлов 2018-01-25    1.0   \n",
       "\n",
       "   count_sms  duration_calls  count_calls  gb_used  \n",
       "0        NaN           430.0         59.0     18.0  \n",
       "1        NaN           414.0         63.0     14.0  \n",
       "2        4.0           117.0         15.0     11.0  \n",
       "3       11.0           214.0         26.0     18.0  \n",
       "4       13.0           289.0         42.0     20.0  \n",
       "5        4.0           206.0         36.0     17.0  \n",
       "6       10.0           212.0         33.0     14.0  \n",
       "7       16.0           243.0         32.0     19.0  \n",
       "8       12.0           236.0         33.0     18.0  \n",
       "9        7.0            95.0         15.0      3.0  "
      ]
     },
     "execution_count": 37,
     "metadata": {},
     "output_type": "execute_result"
    }
   ],
   "source": [
    "data = data_calls.merge(data_internet, on = ['user_id', 'month'], how = 'outer')\n",
    "data = data_messages.merge(data, on = ['user_id', 'month'], how = 'outer')\n",
    "data_1 = data_tariffs.merge(data_users, on = 'tariff', how = 'outer')\n",
    "data = data_1.merge(data, on = 'user_id', how = 'outer')\n",
    "data.head(10)"
   ]
  },
  {
   "cell_type": "markdown",
   "metadata": {},
   "source": [
    "Выведем общую информацию по таблице:"
   ]
  },
  {
   "cell_type": "code",
   "execution_count": 38,
   "metadata": {
    "scrolled": true
   },
   "outputs": [
    {
     "name": "stdout",
     "output_type": "stream",
     "text": [
      "<class 'pandas.core.frame.DataFrame'>\n",
      "Int64Index: 3216 entries, 0 to 3215\n",
      "Data columns (total 20 columns):\n",
      " #   Column                 Non-Null Count  Dtype         \n",
      "---  ------                 --------------  -----         \n",
      " 0   messages_included      3216 non-null   int64         \n",
      " 1   minutes_included       3216 non-null   int64         \n",
      " 2   rub_monthly_fee        3216 non-null   int64         \n",
      " 3   rub_per_gb             3216 non-null   int64         \n",
      " 4   rub_per_message        3216 non-null   int64         \n",
      " 5   rub_per_minute         3216 non-null   int64         \n",
      " 6   tariff                 3216 non-null   object        \n",
      " 7   gb_per_month_included  3216 non-null   float64       \n",
      " 8   user_id                3216 non-null   int64         \n",
      " 9   age                    3216 non-null   int64         \n",
      " 10  churn_date             189 non-null    datetime64[ns]\n",
      " 11  city                   3216 non-null   object        \n",
      " 12  first_name             3216 non-null   object        \n",
      " 13  last_name              3216 non-null   object        \n",
      " 14  reg_date               3216 non-null   datetime64[ns]\n",
      " 15  month                  3214 non-null   float64       \n",
      " 16  count_sms              2717 non-null   float64       \n",
      " 17  duration_calls         3174 non-null   float64       \n",
      " 18  count_calls            3174 non-null   float64       \n",
      " 19  gb_used                3203 non-null   float64       \n",
      "dtypes: datetime64[ns](2), float64(6), int64(8), object(4)\n",
      "memory usage: 527.6+ KB\n"
     ]
    }
   ],
   "source": [
    "data.info()"
   ]
  },
  {
   "cell_type": "markdown",
   "metadata": {},
   "source": [
    "Получилось 19 столбцов. \n",
    "\n",
    "В столбцах `churn_date`, `month`, `count_sms`, `duration_call`, `gb_used` есть пропуски. Их появление объяснимо:\n",
    "* столбец `churn_date` - ранее уже было определено, что, если значение пропущено, то тариф ещё действовал на момент выгрузки данных;\n",
    "* столбцы `count_sms`, `duration_call`, `gb_used`, `count_calls` - пользователи просто не пользовались пакетом. Пропуски смело можно заменить на 0;\n",
    "* столбец `month` - ситуация интересная, выведем полностью строки, где в данном столбце имеются пропуски:"
   ]
  },
  {
   "cell_type": "code",
   "execution_count": 39,
   "metadata": {},
   "outputs": [
    {
     "data": {
      "text/html": [
       "<div>\n",
       "<style scoped>\n",
       "    .dataframe tbody tr th:only-of-type {\n",
       "        vertical-align: middle;\n",
       "    }\n",
       "\n",
       "    .dataframe tbody tr th {\n",
       "        vertical-align: top;\n",
       "    }\n",
       "\n",
       "    .dataframe thead th {\n",
       "        text-align: right;\n",
       "    }\n",
       "</style>\n",
       "<table border=\"1\" class=\"dataframe\">\n",
       "  <thead>\n",
       "    <tr style=\"text-align: right;\">\n",
       "      <th></th>\n",
       "      <th>messages_included</th>\n",
       "      <th>minutes_included</th>\n",
       "      <th>rub_monthly_fee</th>\n",
       "      <th>rub_per_gb</th>\n",
       "      <th>rub_per_message</th>\n",
       "      <th>rub_per_minute</th>\n",
       "      <th>tariff</th>\n",
       "      <th>gb_per_month_included</th>\n",
       "      <th>user_id</th>\n",
       "      <th>age</th>\n",
       "      <th>churn_date</th>\n",
       "      <th>city</th>\n",
       "      <th>first_name</th>\n",
       "      <th>last_name</th>\n",
       "      <th>reg_date</th>\n",
       "      <th>month</th>\n",
       "      <th>count_sms</th>\n",
       "      <th>duration_calls</th>\n",
       "      <th>count_calls</th>\n",
       "      <th>gb_used</th>\n",
       "    </tr>\n",
       "  </thead>\n",
       "  <tbody>\n",
       "    <tr>\n",
       "      <th>1633</th>\n",
       "      <td>50</td>\n",
       "      <td>500</td>\n",
       "      <td>550</td>\n",
       "      <td>200</td>\n",
       "      <td>3</td>\n",
       "      <td>3</td>\n",
       "      <td>smart</td>\n",
       "      <td>15.0</td>\n",
       "      <td>1371</td>\n",
       "      <td>50</td>\n",
       "      <td>2018-12-30</td>\n",
       "      <td>Омск</td>\n",
       "      <td>Ириней</td>\n",
       "      <td>Трофимов</td>\n",
       "      <td>2018-12-25</td>\n",
       "      <td>NaN</td>\n",
       "      <td>NaN</td>\n",
       "      <td>NaN</td>\n",
       "      <td>NaN</td>\n",
       "      <td>NaN</td>\n",
       "    </tr>\n",
       "    <tr>\n",
       "      <th>2473</th>\n",
       "      <td>1000</td>\n",
       "      <td>3000</td>\n",
       "      <td>1950</td>\n",
       "      <td>150</td>\n",
       "      <td>1</td>\n",
       "      <td>1</td>\n",
       "      <td>ultra</td>\n",
       "      <td>30.0</td>\n",
       "      <td>1128</td>\n",
       "      <td>51</td>\n",
       "      <td>2018-12-23</td>\n",
       "      <td>Волжский</td>\n",
       "      <td>Ксения</td>\n",
       "      <td>Агаева</td>\n",
       "      <td>2018-12-15</td>\n",
       "      <td>NaN</td>\n",
       "      <td>NaN</td>\n",
       "      <td>NaN</td>\n",
       "      <td>NaN</td>\n",
       "      <td>NaN</td>\n",
       "    </tr>\n",
       "  </tbody>\n",
       "</table>\n",
       "</div>"
      ],
      "text/plain": [
       "      messages_included  minutes_included  rub_monthly_fee  rub_per_gb  \\\n",
       "1633                 50               500              550         200   \n",
       "2473               1000              3000             1950         150   \n",
       "\n",
       "      rub_per_message  rub_per_minute tariff  gb_per_month_included  user_id  \\\n",
       "1633                3               3  smart                   15.0     1371   \n",
       "2473                1               1  ultra                   30.0     1128   \n",
       "\n",
       "      age churn_date      city first_name last_name   reg_date  month  \\\n",
       "1633   50 2018-12-30      Омск     Ириней  Трофимов 2018-12-25    NaN   \n",
       "2473   51 2018-12-23  Волжский     Ксения    Агаева 2018-12-15    NaN   \n",
       "\n",
       "      count_sms  duration_calls  count_calls  gb_used  \n",
       "1633        NaN             NaN          NaN      NaN  \n",
       "2473        NaN             NaN          NaN      NaN  "
      ]
     },
     "execution_count": 39,
     "metadata": {},
     "output_type": "execute_result"
    }
   ],
   "source": [
    "data[data['month'].isna()]"
   ]
  },
  {
   "cell_type": "markdown",
   "metadata": {},
   "source": [
    "Два пользователя вообще не пользовались услугами мобильного оператора в 2018 году. Думаю, можно оставить так, как есть."
   ]
  },
  {
   "cell_type": "markdown",
   "metadata": {},
   "source": [
    "Так как данные, содержащиеся в столбцах `count_sms`, `duration_calls`, `gb_used`, `count_calls`, нам еще понадобятся, а пропуски могут помешать некоторым расчетам, заменим их на 0:"
   ]
  },
  {
   "cell_type": "code",
   "execution_count": 40,
   "metadata": {},
   "outputs": [],
   "source": [
    "columns = ['count_sms', 'duration_calls', 'gb_used', 'count_calls']\n",
    "for column in columns:\n",
    "    data[column] = data[column].fillna(0)"
   ]
  },
  {
   "cell_type": "markdown",
   "metadata": {},
   "source": [
    "Проверим результат удаления пропусков:"
   ]
  },
  {
   "cell_type": "code",
   "execution_count": 41,
   "metadata": {},
   "outputs": [
    {
     "data": {
      "text/plain": [
       "messages_included           0\n",
       "minutes_included            0\n",
       "rub_monthly_fee             0\n",
       "rub_per_gb                  0\n",
       "rub_per_message             0\n",
       "rub_per_minute              0\n",
       "tariff                      0\n",
       "gb_per_month_included       0\n",
       "user_id                     0\n",
       "age                         0\n",
       "churn_date               3027\n",
       "city                        0\n",
       "first_name                  0\n",
       "last_name                   0\n",
       "reg_date                    0\n",
       "month                       2\n",
       "count_sms                   0\n",
       "duration_calls              0\n",
       "count_calls                 0\n",
       "gb_used                     0\n",
       "dtype: int64"
      ]
     },
     "execution_count": 41,
     "metadata": {},
     "output_type": "execute_result"
    }
   ],
   "source": [
    "data.isna().sum()"
   ]
  },
  {
   "cell_type": "markdown",
   "metadata": {},
   "source": [
    "Теперь информация выглядит пригодной для дальнейшего анализа. Посмотрим, задублировались ли данные по пользователям:"
   ]
  },
  {
   "cell_type": "code",
   "execution_count": 42,
   "metadata": {},
   "outputs": [
    {
     "data": {
      "text/html": [
       "<div>\n",
       "<style scoped>\n",
       "    .dataframe tbody tr th:only-of-type {\n",
       "        vertical-align: middle;\n",
       "    }\n",
       "\n",
       "    .dataframe tbody tr th {\n",
       "        vertical-align: top;\n",
       "    }\n",
       "\n",
       "    .dataframe thead th {\n",
       "        text-align: right;\n",
       "    }\n",
       "</style>\n",
       "<table border=\"1\" class=\"dataframe\">\n",
       "  <thead>\n",
       "    <tr style=\"text-align: right;\">\n",
       "      <th></th>\n",
       "      <th>messages_included</th>\n",
       "      <th>minutes_included</th>\n",
       "      <th>rub_monthly_fee</th>\n",
       "      <th>rub_per_gb</th>\n",
       "      <th>rub_per_message</th>\n",
       "      <th>rub_per_minute</th>\n",
       "      <th>tariff</th>\n",
       "      <th>gb_per_month_included</th>\n",
       "      <th>user_id</th>\n",
       "      <th>age</th>\n",
       "      <th>churn_date</th>\n",
       "      <th>city</th>\n",
       "      <th>first_name</th>\n",
       "      <th>last_name</th>\n",
       "      <th>reg_date</th>\n",
       "      <th>month</th>\n",
       "      <th>count_sms</th>\n",
       "      <th>duration_calls</th>\n",
       "      <th>count_calls</th>\n",
       "      <th>gb_used</th>\n",
       "    </tr>\n",
       "  </thead>\n",
       "  <tbody>\n",
       "  </tbody>\n",
       "</table>\n",
       "</div>"
      ],
      "text/plain": [
       "Empty DataFrame\n",
       "Columns: [messages_included, minutes_included, rub_monthly_fee, rub_per_gb, rub_per_message, rub_per_minute, tariff, gb_per_month_included, user_id, age, churn_date, city, first_name, last_name, reg_date, month, count_sms, duration_calls, count_calls, gb_used]\n",
       "Index: []"
      ]
     },
     "execution_count": 42,
     "metadata": {},
     "output_type": "execute_result"
    }
   ],
   "source": [
    "data[data.duplicated(keep = False)].sort_values(by = list(data.columns))"
   ]
  },
  {
   "cell_type": "markdown",
   "metadata": {},
   "source": [
    "Полностью дублирующие строки в таблице отсутствуют."
   ]
  },
  {
   "cell_type": "markdown",
   "metadata": {},
   "source": [
    "### Подсчет выручки, полученной с каждого пользователя"
   ]
  },
  {
   "cell_type": "markdown",
   "metadata": {},
   "source": [
    "Для того, чтобы посчитать помесячную выручку с каждого пользователя необходимо вычесть бесплатный лимит из суммарного количества звонков, сообщений и интернет-трафика; остаток умнож на значение из тарифного плана; прибавьте абонентскую плату, соответствующую тарифному плану)."
   ]
  },
  {
   "cell_type": "code",
   "execution_count": 43,
   "metadata": {},
   "outputs": [],
   "source": [
    "# считаем перерасход\n",
    "data['messages_over'] = (data['count_sms'] - data['messages_included']) * data['rub_per_message']\n",
    "data['minutes_over'] = (data['duration_calls'] - data['minutes_included']) * data['rub_per_minute']\n",
    "data['gb_over'] = (data['gb_used'] - data['gb_per_month_included']) * data['rub_per_gb']\n",
    "\n",
    "# убираем отрицательный перерасход\n",
    "columns = ['messages_over', 'minutes_over', 'gb_over']\n",
    "for column in columns:\n",
    "    data.loc[data[column] < 0, column] = 0\n",
    "\n",
    "# считаем выручку\n",
    "data['fee'] = data['messages_over'] + data['minutes_over'] + data['gb_over'] + data['rub_monthly_fee']"
   ]
  },
  {
   "cell_type": "markdown",
   "metadata": {},
   "source": [
    "Смотрим, что получилось:"
   ]
  },
  {
   "cell_type": "code",
   "execution_count": 44,
   "metadata": {
    "scrolled": false
   },
   "outputs": [
    {
     "data": {
      "text/html": [
       "<div>\n",
       "<style scoped>\n",
       "    .dataframe tbody tr th:only-of-type {\n",
       "        vertical-align: middle;\n",
       "    }\n",
       "\n",
       "    .dataframe tbody tr th {\n",
       "        vertical-align: top;\n",
       "    }\n",
       "\n",
       "    .dataframe thead th {\n",
       "        text-align: right;\n",
       "    }\n",
       "</style>\n",
       "<table border=\"1\" class=\"dataframe\">\n",
       "  <thead>\n",
       "    <tr style=\"text-align: right;\">\n",
       "      <th></th>\n",
       "      <th>messages_included</th>\n",
       "      <th>minutes_included</th>\n",
       "      <th>rub_monthly_fee</th>\n",
       "      <th>rub_per_gb</th>\n",
       "      <th>rub_per_message</th>\n",
       "      <th>rub_per_minute</th>\n",
       "      <th>tariff</th>\n",
       "      <th>gb_per_month_included</th>\n",
       "      <th>user_id</th>\n",
       "      <th>age</th>\n",
       "      <th>...</th>\n",
       "      <th>reg_date</th>\n",
       "      <th>month</th>\n",
       "      <th>count_sms</th>\n",
       "      <th>duration_calls</th>\n",
       "      <th>count_calls</th>\n",
       "      <th>gb_used</th>\n",
       "      <th>messages_over</th>\n",
       "      <th>minutes_over</th>\n",
       "      <th>gb_over</th>\n",
       "      <th>fee</th>\n",
       "    </tr>\n",
       "  </thead>\n",
       "  <tbody>\n",
       "    <tr>\n",
       "      <th>0</th>\n",
       "      <td>50</td>\n",
       "      <td>500</td>\n",
       "      <td>550</td>\n",
       "      <td>200</td>\n",
       "      <td>3</td>\n",
       "      <td>3</td>\n",
       "      <td>smart</td>\n",
       "      <td>15.0</td>\n",
       "      <td>1001</td>\n",
       "      <td>41</td>\n",
       "      <td>...</td>\n",
       "      <td>2018-11-01</td>\n",
       "      <td>11.0</td>\n",
       "      <td>0.0</td>\n",
       "      <td>430.0</td>\n",
       "      <td>59.0</td>\n",
       "      <td>18.0</td>\n",
       "      <td>0.0</td>\n",
       "      <td>0.0</td>\n",
       "      <td>600.0</td>\n",
       "      <td>1150.0</td>\n",
       "    </tr>\n",
       "    <tr>\n",
       "      <th>1</th>\n",
       "      <td>50</td>\n",
       "      <td>500</td>\n",
       "      <td>550</td>\n",
       "      <td>200</td>\n",
       "      <td>3</td>\n",
       "      <td>3</td>\n",
       "      <td>smart</td>\n",
       "      <td>15.0</td>\n",
       "      <td>1001</td>\n",
       "      <td>41</td>\n",
       "      <td>...</td>\n",
       "      <td>2018-11-01</td>\n",
       "      <td>12.0</td>\n",
       "      <td>0.0</td>\n",
       "      <td>414.0</td>\n",
       "      <td>63.0</td>\n",
       "      <td>14.0</td>\n",
       "      <td>0.0</td>\n",
       "      <td>0.0</td>\n",
       "      <td>0.0</td>\n",
       "      <td>550.0</td>\n",
       "    </tr>\n",
       "    <tr>\n",
       "      <th>2</th>\n",
       "      <td>50</td>\n",
       "      <td>500</td>\n",
       "      <td>550</td>\n",
       "      <td>200</td>\n",
       "      <td>3</td>\n",
       "      <td>3</td>\n",
       "      <td>smart</td>\n",
       "      <td>15.0</td>\n",
       "      <td>1002</td>\n",
       "      <td>59</td>\n",
       "      <td>...</td>\n",
       "      <td>2018-06-17</td>\n",
       "      <td>6.0</td>\n",
       "      <td>4.0</td>\n",
       "      <td>117.0</td>\n",
       "      <td>15.0</td>\n",
       "      <td>11.0</td>\n",
       "      <td>0.0</td>\n",
       "      <td>0.0</td>\n",
       "      <td>0.0</td>\n",
       "      <td>550.0</td>\n",
       "    </tr>\n",
       "    <tr>\n",
       "      <th>3</th>\n",
       "      <td>50</td>\n",
       "      <td>500</td>\n",
       "      <td>550</td>\n",
       "      <td>200</td>\n",
       "      <td>3</td>\n",
       "      <td>3</td>\n",
       "      <td>smart</td>\n",
       "      <td>15.0</td>\n",
       "      <td>1002</td>\n",
       "      <td>59</td>\n",
       "      <td>...</td>\n",
       "      <td>2018-06-17</td>\n",
       "      <td>7.0</td>\n",
       "      <td>11.0</td>\n",
       "      <td>214.0</td>\n",
       "      <td>26.0</td>\n",
       "      <td>18.0</td>\n",
       "      <td>0.0</td>\n",
       "      <td>0.0</td>\n",
       "      <td>600.0</td>\n",
       "      <td>1150.0</td>\n",
       "    </tr>\n",
       "    <tr>\n",
       "      <th>4</th>\n",
       "      <td>50</td>\n",
       "      <td>500</td>\n",
       "      <td>550</td>\n",
       "      <td>200</td>\n",
       "      <td>3</td>\n",
       "      <td>3</td>\n",
       "      <td>smart</td>\n",
       "      <td>15.0</td>\n",
       "      <td>1002</td>\n",
       "      <td>59</td>\n",
       "      <td>...</td>\n",
       "      <td>2018-06-17</td>\n",
       "      <td>8.0</td>\n",
       "      <td>13.0</td>\n",
       "      <td>289.0</td>\n",
       "      <td>42.0</td>\n",
       "      <td>20.0</td>\n",
       "      <td>0.0</td>\n",
       "      <td>0.0</td>\n",
       "      <td>1000.0</td>\n",
       "      <td>1550.0</td>\n",
       "    </tr>\n",
       "    <tr>\n",
       "      <th>5</th>\n",
       "      <td>50</td>\n",
       "      <td>500</td>\n",
       "      <td>550</td>\n",
       "      <td>200</td>\n",
       "      <td>3</td>\n",
       "      <td>3</td>\n",
       "      <td>smart</td>\n",
       "      <td>15.0</td>\n",
       "      <td>1002</td>\n",
       "      <td>59</td>\n",
       "      <td>...</td>\n",
       "      <td>2018-06-17</td>\n",
       "      <td>9.0</td>\n",
       "      <td>4.0</td>\n",
       "      <td>206.0</td>\n",
       "      <td>36.0</td>\n",
       "      <td>17.0</td>\n",
       "      <td>0.0</td>\n",
       "      <td>0.0</td>\n",
       "      <td>400.0</td>\n",
       "      <td>950.0</td>\n",
       "    </tr>\n",
       "    <tr>\n",
       "      <th>6</th>\n",
       "      <td>50</td>\n",
       "      <td>500</td>\n",
       "      <td>550</td>\n",
       "      <td>200</td>\n",
       "      <td>3</td>\n",
       "      <td>3</td>\n",
       "      <td>smart</td>\n",
       "      <td>15.0</td>\n",
       "      <td>1002</td>\n",
       "      <td>59</td>\n",
       "      <td>...</td>\n",
       "      <td>2018-06-17</td>\n",
       "      <td>10.0</td>\n",
       "      <td>10.0</td>\n",
       "      <td>212.0</td>\n",
       "      <td>33.0</td>\n",
       "      <td>14.0</td>\n",
       "      <td>0.0</td>\n",
       "      <td>0.0</td>\n",
       "      <td>0.0</td>\n",
       "      <td>550.0</td>\n",
       "    </tr>\n",
       "    <tr>\n",
       "      <th>7</th>\n",
       "      <td>50</td>\n",
       "      <td>500</td>\n",
       "      <td>550</td>\n",
       "      <td>200</td>\n",
       "      <td>3</td>\n",
       "      <td>3</td>\n",
       "      <td>smart</td>\n",
       "      <td>15.0</td>\n",
       "      <td>1002</td>\n",
       "      <td>59</td>\n",
       "      <td>...</td>\n",
       "      <td>2018-06-17</td>\n",
       "      <td>11.0</td>\n",
       "      <td>16.0</td>\n",
       "      <td>243.0</td>\n",
       "      <td>32.0</td>\n",
       "      <td>19.0</td>\n",
       "      <td>0.0</td>\n",
       "      <td>0.0</td>\n",
       "      <td>800.0</td>\n",
       "      <td>1350.0</td>\n",
       "    </tr>\n",
       "    <tr>\n",
       "      <th>8</th>\n",
       "      <td>50</td>\n",
       "      <td>500</td>\n",
       "      <td>550</td>\n",
       "      <td>200</td>\n",
       "      <td>3</td>\n",
       "      <td>3</td>\n",
       "      <td>smart</td>\n",
       "      <td>15.0</td>\n",
       "      <td>1002</td>\n",
       "      <td>59</td>\n",
       "      <td>...</td>\n",
       "      <td>2018-06-17</td>\n",
       "      <td>12.0</td>\n",
       "      <td>12.0</td>\n",
       "      <td>236.0</td>\n",
       "      <td>33.0</td>\n",
       "      <td>18.0</td>\n",
       "      <td>0.0</td>\n",
       "      <td>0.0</td>\n",
       "      <td>600.0</td>\n",
       "      <td>1150.0</td>\n",
       "    </tr>\n",
       "    <tr>\n",
       "      <th>9</th>\n",
       "      <td>50</td>\n",
       "      <td>500</td>\n",
       "      <td>550</td>\n",
       "      <td>200</td>\n",
       "      <td>3</td>\n",
       "      <td>3</td>\n",
       "      <td>smart</td>\n",
       "      <td>15.0</td>\n",
       "      <td>1005</td>\n",
       "      <td>67</td>\n",
       "      <td>...</td>\n",
       "      <td>2018-01-25</td>\n",
       "      <td>1.0</td>\n",
       "      <td>7.0</td>\n",
       "      <td>95.0</td>\n",
       "      <td>15.0</td>\n",
       "      <td>3.0</td>\n",
       "      <td>0.0</td>\n",
       "      <td>0.0</td>\n",
       "      <td>0.0</td>\n",
       "      <td>550.0</td>\n",
       "    </tr>\n",
       "  </tbody>\n",
       "</table>\n",
       "<p>10 rows × 24 columns</p>\n",
       "</div>"
      ],
      "text/plain": [
       "   messages_included  minutes_included  rub_monthly_fee  rub_per_gb  \\\n",
       "0                 50               500              550         200   \n",
       "1                 50               500              550         200   \n",
       "2                 50               500              550         200   \n",
       "3                 50               500              550         200   \n",
       "4                 50               500              550         200   \n",
       "5                 50               500              550         200   \n",
       "6                 50               500              550         200   \n",
       "7                 50               500              550         200   \n",
       "8                 50               500              550         200   \n",
       "9                 50               500              550         200   \n",
       "\n",
       "   rub_per_message  rub_per_minute tariff  gb_per_month_included  user_id  \\\n",
       "0                3               3  smart                   15.0     1001   \n",
       "1                3               3  smart                   15.0     1001   \n",
       "2                3               3  smart                   15.0     1002   \n",
       "3                3               3  smart                   15.0     1002   \n",
       "4                3               3  smart                   15.0     1002   \n",
       "5                3               3  smart                   15.0     1002   \n",
       "6                3               3  smart                   15.0     1002   \n",
       "7                3               3  smart                   15.0     1002   \n",
       "8                3               3  smart                   15.0     1002   \n",
       "9                3               3  smart                   15.0     1005   \n",
       "\n",
       "   age  ...   reg_date month count_sms duration_calls count_calls  gb_used  \\\n",
       "0   41  ... 2018-11-01  11.0       0.0          430.0        59.0     18.0   \n",
       "1   41  ... 2018-11-01  12.0       0.0          414.0        63.0     14.0   \n",
       "2   59  ... 2018-06-17   6.0       4.0          117.0        15.0     11.0   \n",
       "3   59  ... 2018-06-17   7.0      11.0          214.0        26.0     18.0   \n",
       "4   59  ... 2018-06-17   8.0      13.0          289.0        42.0     20.0   \n",
       "5   59  ... 2018-06-17   9.0       4.0          206.0        36.0     17.0   \n",
       "6   59  ... 2018-06-17  10.0      10.0          212.0        33.0     14.0   \n",
       "7   59  ... 2018-06-17  11.0      16.0          243.0        32.0     19.0   \n",
       "8   59  ... 2018-06-17  12.0      12.0          236.0        33.0     18.0   \n",
       "9   67  ... 2018-01-25   1.0       7.0           95.0        15.0      3.0   \n",
       "\n",
       "   messages_over  minutes_over  gb_over     fee  \n",
       "0            0.0           0.0    600.0  1150.0  \n",
       "1            0.0           0.0      0.0   550.0  \n",
       "2            0.0           0.0      0.0   550.0  \n",
       "3            0.0           0.0    600.0  1150.0  \n",
       "4            0.0           0.0   1000.0  1550.0  \n",
       "5            0.0           0.0    400.0   950.0  \n",
       "6            0.0           0.0      0.0   550.0  \n",
       "7            0.0           0.0    800.0  1350.0  \n",
       "8            0.0           0.0    600.0  1150.0  \n",
       "9            0.0           0.0      0.0   550.0  \n",
       "\n",
       "[10 rows x 24 columns]"
      ]
     },
     "execution_count": 44,
     "metadata": {},
     "output_type": "execute_result"
    }
   ],
   "source": [
    "data.head(10)"
   ]
  },
  {
   "cell_type": "markdown",
   "metadata": {},
   "source": [
    "**ВЫВОД**\n",
    "\n",
    "В третьем разделе была сформирована итоговая таблица, данные из которой послужат основой для дальнейшего анализа. Ее создание включало несколько этапов: группировку данных в отдельных таблицах по пользователю и месяцу, вычисление некоторых агрегированных значений (количество сделанных звонков и израсходованных минут разговора по месяцам, объем израсходованного интернет-трафика по месяцам, количество отправленных сообщений по месяцам). Также в итоговой таблице были заполнены пропущенные значения и в самом конце расчитана помесячная выручка по каждому пользователю с учетом всех перерасходов."
   ]
  },
  {
   "cell_type": "markdown",
   "metadata": {},
   "source": [
    "## Анализ данных"
   ]
  },
  {
   "cell_type": "markdown",
   "metadata": {},
   "source": [
    "Так как для проверки одной из гипотез необходимо будет проверить, отличается ли выручка в Москве от выручки, полученной в других регионах, создадим столбец `region`, в который с помощью `apply` добавим информацию о том, является ли населенный пункт Москвой, или же он относится к другому региону:"
   ]
  },
  {
   "cell_type": "code",
   "execution_count": 45,
   "metadata": {},
   "outputs": [],
   "source": [
    "def test_city(cell_value):\n",
    "    if cell_value == 'Москва': return 'Москва'\n",
    "    return 'Другой регион'\n",
    "\n",
    "data['region'] = data['city'].apply(test_city)"
   ]
  },
  {
   "cell_type": "markdown",
   "metadata": {},
   "source": [
    "Оставим в таблице только нужные данные: уникальный идентификатор пользователя, месяц, количество совершенных звонков, количество потраченных минут, объем потраченного интернет-трафика, количество отправленных сообщений, название тарифа, а также выручку и регион:"
   ]
  },
  {
   "cell_type": "code",
   "execution_count": 46,
   "metadata": {
    "scrolled": false
   },
   "outputs": [
    {
     "data": {
      "text/html": [
       "<div>\n",
       "<style scoped>\n",
       "    .dataframe tbody tr th:only-of-type {\n",
       "        vertical-align: middle;\n",
       "    }\n",
       "\n",
       "    .dataframe tbody tr th {\n",
       "        vertical-align: top;\n",
       "    }\n",
       "\n",
       "    .dataframe thead th {\n",
       "        text-align: right;\n",
       "    }\n",
       "</style>\n",
       "<table border=\"1\" class=\"dataframe\">\n",
       "  <thead>\n",
       "    <tr style=\"text-align: right;\">\n",
       "      <th></th>\n",
       "      <th>user_id</th>\n",
       "      <th>month</th>\n",
       "      <th>count_calls</th>\n",
       "      <th>duration_calls</th>\n",
       "      <th>gb_used</th>\n",
       "      <th>count_sms</th>\n",
       "      <th>tariff</th>\n",
       "      <th>fee</th>\n",
       "      <th>region</th>\n",
       "    </tr>\n",
       "  </thead>\n",
       "  <tbody>\n",
       "    <tr>\n",
       "      <th>0</th>\n",
       "      <td>1001</td>\n",
       "      <td>11.0</td>\n",
       "      <td>59.0</td>\n",
       "      <td>430.0</td>\n",
       "      <td>18.0</td>\n",
       "      <td>0.0</td>\n",
       "      <td>smart</td>\n",
       "      <td>1150.0</td>\n",
       "      <td>Москва</td>\n",
       "    </tr>\n",
       "    <tr>\n",
       "      <th>1</th>\n",
       "      <td>1001</td>\n",
       "      <td>12.0</td>\n",
       "      <td>63.0</td>\n",
       "      <td>414.0</td>\n",
       "      <td>14.0</td>\n",
       "      <td>0.0</td>\n",
       "      <td>smart</td>\n",
       "      <td>550.0</td>\n",
       "      <td>Москва</td>\n",
       "    </tr>\n",
       "    <tr>\n",
       "      <th>2</th>\n",
       "      <td>1002</td>\n",
       "      <td>6.0</td>\n",
       "      <td>15.0</td>\n",
       "      <td>117.0</td>\n",
       "      <td>11.0</td>\n",
       "      <td>4.0</td>\n",
       "      <td>smart</td>\n",
       "      <td>550.0</td>\n",
       "      <td>Другой регион</td>\n",
       "    </tr>\n",
       "    <tr>\n",
       "      <th>3</th>\n",
       "      <td>1002</td>\n",
       "      <td>7.0</td>\n",
       "      <td>26.0</td>\n",
       "      <td>214.0</td>\n",
       "      <td>18.0</td>\n",
       "      <td>11.0</td>\n",
       "      <td>smart</td>\n",
       "      <td>1150.0</td>\n",
       "      <td>Другой регион</td>\n",
       "    </tr>\n",
       "    <tr>\n",
       "      <th>4</th>\n",
       "      <td>1002</td>\n",
       "      <td>8.0</td>\n",
       "      <td>42.0</td>\n",
       "      <td>289.0</td>\n",
       "      <td>20.0</td>\n",
       "      <td>13.0</td>\n",
       "      <td>smart</td>\n",
       "      <td>1550.0</td>\n",
       "      <td>Другой регион</td>\n",
       "    </tr>\n",
       "    <tr>\n",
       "      <th>5</th>\n",
       "      <td>1002</td>\n",
       "      <td>9.0</td>\n",
       "      <td>36.0</td>\n",
       "      <td>206.0</td>\n",
       "      <td>17.0</td>\n",
       "      <td>4.0</td>\n",
       "      <td>smart</td>\n",
       "      <td>950.0</td>\n",
       "      <td>Другой регион</td>\n",
       "    </tr>\n",
       "    <tr>\n",
       "      <th>6</th>\n",
       "      <td>1002</td>\n",
       "      <td>10.0</td>\n",
       "      <td>33.0</td>\n",
       "      <td>212.0</td>\n",
       "      <td>14.0</td>\n",
       "      <td>10.0</td>\n",
       "      <td>smart</td>\n",
       "      <td>550.0</td>\n",
       "      <td>Другой регион</td>\n",
       "    </tr>\n",
       "    <tr>\n",
       "      <th>7</th>\n",
       "      <td>1002</td>\n",
       "      <td>11.0</td>\n",
       "      <td>32.0</td>\n",
       "      <td>243.0</td>\n",
       "      <td>19.0</td>\n",
       "      <td>16.0</td>\n",
       "      <td>smart</td>\n",
       "      <td>1350.0</td>\n",
       "      <td>Другой регион</td>\n",
       "    </tr>\n",
       "    <tr>\n",
       "      <th>8</th>\n",
       "      <td>1002</td>\n",
       "      <td>12.0</td>\n",
       "      <td>33.0</td>\n",
       "      <td>236.0</td>\n",
       "      <td>18.0</td>\n",
       "      <td>12.0</td>\n",
       "      <td>smart</td>\n",
       "      <td>1150.0</td>\n",
       "      <td>Другой регион</td>\n",
       "    </tr>\n",
       "    <tr>\n",
       "      <th>9</th>\n",
       "      <td>1005</td>\n",
       "      <td>1.0</td>\n",
       "      <td>15.0</td>\n",
       "      <td>95.0</td>\n",
       "      <td>3.0</td>\n",
       "      <td>7.0</td>\n",
       "      <td>smart</td>\n",
       "      <td>550.0</td>\n",
       "      <td>Другой регион</td>\n",
       "    </tr>\n",
       "  </tbody>\n",
       "</table>\n",
       "</div>"
      ],
      "text/plain": [
       "   user_id  month  count_calls  duration_calls  gb_used  count_sms tariff  \\\n",
       "0     1001   11.0         59.0           430.0     18.0        0.0  smart   \n",
       "1     1001   12.0         63.0           414.0     14.0        0.0  smart   \n",
       "2     1002    6.0         15.0           117.0     11.0        4.0  smart   \n",
       "3     1002    7.0         26.0           214.0     18.0       11.0  smart   \n",
       "4     1002    8.0         42.0           289.0     20.0       13.0  smart   \n",
       "5     1002    9.0         36.0           206.0     17.0        4.0  smart   \n",
       "6     1002   10.0         33.0           212.0     14.0       10.0  smart   \n",
       "7     1002   11.0         32.0           243.0     19.0       16.0  smart   \n",
       "8     1002   12.0         33.0           236.0     18.0       12.0  smart   \n",
       "9     1005    1.0         15.0            95.0      3.0        7.0  smart   \n",
       "\n",
       "      fee         region  \n",
       "0  1150.0         Москва  \n",
       "1   550.0         Москва  \n",
       "2   550.0  Другой регион  \n",
       "3  1150.0  Другой регион  \n",
       "4  1550.0  Другой регион  \n",
       "5   950.0  Другой регион  \n",
       "6   550.0  Другой регион  \n",
       "7  1350.0  Другой регион  \n",
       "8  1150.0  Другой регион  \n",
       "9   550.0  Другой регион  "
      ]
     },
     "execution_count": 46,
     "metadata": {},
     "output_type": "execute_result"
    }
   ],
   "source": [
    "data = data[['user_id', 'month', 'count_calls', 'duration_calls', 'gb_used', 'count_sms', 'tariff', 'fee', 'region']]\n",
    "data.head(10)"
   ]
  },
  {
   "cell_type": "markdown",
   "metadata": {},
   "source": [
    "### Потраченные минуты"
   ]
  },
  {
   "cell_type": "markdown",
   "metadata": {},
   "source": [
    "Посчитаем среднее значение, дисперсию и стандартное отклонение:"
   ]
  },
  {
   "cell_type": "code",
   "execution_count": 47,
   "metadata": {
    "scrolled": true
   },
   "outputs": [
    {
     "data": {
      "text/html": [
       "<div>\n",
       "<style scoped>\n",
       "    .dataframe tbody tr th:only-of-type {\n",
       "        vertical-align: middle;\n",
       "    }\n",
       "\n",
       "    .dataframe tbody tr th {\n",
       "        vertical-align: top;\n",
       "    }\n",
       "\n",
       "    .dataframe thead tr th {\n",
       "        text-align: left;\n",
       "    }\n",
       "\n",
       "    .dataframe thead tr:last-of-type th {\n",
       "        text-align: right;\n",
       "    }\n",
       "</style>\n",
       "<table border=\"1\" class=\"dataframe\">\n",
       "  <thead>\n",
       "    <tr>\n",
       "      <th></th>\n",
       "      <th colspan=\"3\" halign=\"left\">duration_calls</th>\n",
       "    </tr>\n",
       "    <tr>\n",
       "      <th></th>\n",
       "      <th>mean</th>\n",
       "      <th>std</th>\n",
       "      <th>var</th>\n",
       "    </tr>\n",
       "    <tr>\n",
       "      <th>tariff</th>\n",
       "      <th></th>\n",
       "      <th></th>\n",
       "      <th></th>\n",
       "    </tr>\n",
       "  </thead>\n",
       "  <tbody>\n",
       "    <tr>\n",
       "      <th>smart</th>\n",
       "      <td>417.747534</td>\n",
       "      <td>190.476754</td>\n",
       "      <td>36281.393836</td>\n",
       "    </tr>\n",
       "    <tr>\n",
       "      <th>ultra</th>\n",
       "      <td>526.089249</td>\n",
       "      <td>317.887549</td>\n",
       "      <td>101052.493549</td>\n",
       "    </tr>\n",
       "  </tbody>\n",
       "</table>\n",
       "</div>"
      ],
      "text/plain": [
       "       duration_calls                           \n",
       "                 mean         std            var\n",
       "tariff                                          \n",
       "smart      417.747534  190.476754   36281.393836\n",
       "ultra      526.089249  317.887549  101052.493549"
      ]
     },
     "execution_count": 47,
     "metadata": {},
     "output_type": "execute_result"
    }
   ],
   "source": [
    "data.groupby('tariff').agg({'duration_calls': ['mean', 'std', 'var']})"
   ]
  },
  {
   "cell_type": "markdown",
   "metadata": {},
   "source": [
    "Из полученных значений следует, что в среднем количество потраченных минут в тарифе **ultra** больше, чем в тарифе **smart**, но не не много, они практически равны. А дисперсия в тарифе **ultra** в разы больше дисперсии тарифа **smart**, что объясняется бо́льшим количеством минут, включенных в абонентскую плату:"
   ]
  },
  {
   "cell_type": "code",
   "execution_count": 48,
   "metadata": {
    "scrolled": false
   },
   "outputs": [
    {
     "data": {
      "text/html": [
       "<div>\n",
       "<style scoped>\n",
       "    .dataframe tbody tr th:only-of-type {\n",
       "        vertical-align: middle;\n",
       "    }\n",
       "\n",
       "    .dataframe tbody tr th {\n",
       "        vertical-align: top;\n",
       "    }\n",
       "\n",
       "    .dataframe thead th {\n",
       "        text-align: right;\n",
       "    }\n",
       "</style>\n",
       "<table border=\"1\" class=\"dataframe\">\n",
       "  <thead>\n",
       "    <tr style=\"text-align: right;\">\n",
       "      <th></th>\n",
       "      <th>tariff</th>\n",
       "      <th>minutes_included</th>\n",
       "    </tr>\n",
       "  </thead>\n",
       "  <tbody>\n",
       "    <tr>\n",
       "      <th>0</th>\n",
       "      <td>smart</td>\n",
       "      <td>500</td>\n",
       "    </tr>\n",
       "    <tr>\n",
       "      <th>1</th>\n",
       "      <td>ultra</td>\n",
       "      <td>3000</td>\n",
       "    </tr>\n",
       "  </tbody>\n",
       "</table>\n",
       "</div>"
      ],
      "text/plain": [
       "  tariff  minutes_included\n",
       "0  smart               500\n",
       "1  ultra              3000"
      ]
     },
     "execution_count": 48,
     "metadata": {},
     "output_type": "execute_result"
    }
   ],
   "source": [
    "data_tariffs[['tariff', 'minutes_included']]"
   ]
  },
  {
   "cell_type": "markdown",
   "metadata": {},
   "source": [
    "Построим гистограмму. Здесь и далее в проекте не будем учитывать значения, равные нулю:"
   ]
  },
  {
   "cell_type": "code",
   "execution_count": 49,
   "metadata": {
    "scrolled": false
   },
   "outputs": [
    {
     "data": {
      "text/plain": [
       "Text(0.5, 0, 'Количество минут')"
      ]
     },
     "execution_count": 49,
     "metadata": {},
     "output_type": "execute_result"
    },
    {
     "data": {
      "image/png": "[encoded data removed]",
      "text/plain": [
       "<Figure size 432x288 with 1 Axes>"
      ]
     },
     "metadata": {
      "needs_background": "light"
     },
     "output_type": "display_data"
    }
   ],
   "source": [
    "data[data['tariff'] == 'smart']['duration_calls'].hist(grid=True, bins=30, range=(1, 1673))\n",
    "data[data['tariff'] == 'ultra']['duration_calls'].hist(grid=True, bins=30, range=(1, 1673), alpha=0.5)\n",
    "plt.suptitle('Количество потраченных минут')\n",
    "plt.legend(['smart', 'ultra'])\n",
    "plt.xlabel('Количество минут')"
   ]
  },
  {
   "cell_type": "markdown",
   "metadata": {},
   "source": [
    "Потраченные минуты для каждого тарифа имеют нормальное распределение. На графике видно, что абоненты тарифа **ultra** разговаривают по телефону больше, нежели пользователи **smart** (хвост распределения длиннее)."
   ]
  },
  {
   "cell_type": "markdown",
   "metadata": {},
   "source": [
    "### Отправленные сообщения"
   ]
  },
  {
   "cell_type": "code",
   "execution_count": 50,
   "metadata": {
    "scrolled": true
   },
   "outputs": [
    {
     "data": {
      "text/html": [
       "<div>\n",
       "<style scoped>\n",
       "    .dataframe tbody tr th:only-of-type {\n",
       "        vertical-align: middle;\n",
       "    }\n",
       "\n",
       "    .dataframe tbody tr th {\n",
       "        vertical-align: top;\n",
       "    }\n",
       "\n",
       "    .dataframe thead tr th {\n",
       "        text-align: left;\n",
       "    }\n",
       "\n",
       "    .dataframe thead tr:last-of-type th {\n",
       "        text-align: right;\n",
       "    }\n",
       "</style>\n",
       "<table border=\"1\" class=\"dataframe\">\n",
       "  <thead>\n",
       "    <tr>\n",
       "      <th></th>\n",
       "      <th colspan=\"3\" halign=\"left\">count_sms</th>\n",
       "    </tr>\n",
       "    <tr>\n",
       "      <th></th>\n",
       "      <th>mean</th>\n",
       "      <th>std</th>\n",
       "      <th>var</th>\n",
       "    </tr>\n",
       "    <tr>\n",
       "      <th>tariff</th>\n",
       "      <th></th>\n",
       "      <th></th>\n",
       "      <th></th>\n",
       "    </tr>\n",
       "  </thead>\n",
       "  <tbody>\n",
       "    <tr>\n",
       "      <th>smart</th>\n",
       "      <td>33.369058</td>\n",
       "      <td>28.230396</td>\n",
       "      <td>796.955256</td>\n",
       "    </tr>\n",
       "    <tr>\n",
       "      <th>ultra</th>\n",
       "      <td>49.313387</td>\n",
       "      <td>47.806040</td>\n",
       "      <td>2285.417425</td>\n",
       "    </tr>\n",
       "  </tbody>\n",
       "</table>\n",
       "</div>"
      ],
      "text/plain": [
       "        count_sms                        \n",
       "             mean        std          var\n",
       "tariff                                   \n",
       "smart   33.369058  28.230396   796.955256\n",
       "ultra   49.313387  47.806040  2285.417425"
      ]
     },
     "execution_count": 50,
     "metadata": {},
     "output_type": "execute_result"
    }
   ],
   "source": [
    "data.groupby('tariff').agg({'count_sms': ['mean', 'std', 'var']})"
   ]
  },
  {
   "cell_type": "markdown",
   "metadata": {},
   "source": [
    "Ситуация с сообщениями похожа на ситуацию с минутами: в среднем пользователи **ultra** отправляют больше сообщений, но основная масса все же входит в рамки тарифа **smart**. Дисперсия в **ultra** также выше, что по-прежнему объясняется особенностями тарифного плана:"
   ]
  },
  {
   "cell_type": "code",
   "execution_count": 51,
   "metadata": {
    "scrolled": true
   },
   "outputs": [
    {
     "data": {
      "text/html": [
       "<div>\n",
       "<style scoped>\n",
       "    .dataframe tbody tr th:only-of-type {\n",
       "        vertical-align: middle;\n",
       "    }\n",
       "\n",
       "    .dataframe tbody tr th {\n",
       "        vertical-align: top;\n",
       "    }\n",
       "\n",
       "    .dataframe thead th {\n",
       "        text-align: right;\n",
       "    }\n",
       "</style>\n",
       "<table border=\"1\" class=\"dataframe\">\n",
       "  <thead>\n",
       "    <tr style=\"text-align: right;\">\n",
       "      <th></th>\n",
       "      <th>tariff</th>\n",
       "      <th>messages_included</th>\n",
       "    </tr>\n",
       "  </thead>\n",
       "  <tbody>\n",
       "    <tr>\n",
       "      <th>0</th>\n",
       "      <td>smart</td>\n",
       "      <td>50</td>\n",
       "    </tr>\n",
       "    <tr>\n",
       "      <th>1</th>\n",
       "      <td>ultra</td>\n",
       "      <td>1000</td>\n",
       "    </tr>\n",
       "  </tbody>\n",
       "</table>\n",
       "</div>"
      ],
      "text/plain": [
       "  tariff  messages_included\n",
       "0  smart                 50\n",
       "1  ultra               1000"
      ]
     },
     "execution_count": 51,
     "metadata": {},
     "output_type": "execute_result"
    }
   ],
   "source": [
    "data_tariffs[['tariff', 'messages_included']]"
   ]
  },
  {
   "cell_type": "markdown",
   "metadata": {},
   "source": [
    "Построим гистограмму:"
   ]
  },
  {
   "cell_type": "code",
   "execution_count": 52,
   "metadata": {
    "scrolled": true
   },
   "outputs": [
    {
     "data": {
      "text/plain": [
       "Text(0.5, 0, 'Количество сообщений')"
      ]
     },
     "execution_count": 52,
     "metadata": {},
     "output_type": "execute_result"
    },
    {
     "data": {
      "image/png": "[encoded data removed]",
      "text/plain": [
       "<Figure size 432x288 with 1 Axes>"
      ]
     },
     "metadata": {
      "needs_background": "light"
     },
     "output_type": "display_data"
    }
   ],
   "source": [
    "data[data['tariff'] == 'smart']['count_sms'].hist(grid=True, bins=30, range=(1, 224))\n",
    "data[data['tariff'] == 'ultra']['count_sms'].hist(grid=True, bins=30, range=(1, 224), alpha=0.5)\n",
    "plt.suptitle('Количество отправленных сообщений')\n",
    "plt.legend(['smart', 'ultra'])\n",
    "plt.xlabel('Количество сообщений')"
   ]
  },
  {
   "cell_type": "markdown",
   "metadata": {},
   "source": [
    "Отправленные сообщения для каждого тарифа имеют распределение Пуассона. График подтверждает, что абоненты тарифа **ultra** отправляют сообщений больше, нежели пользователи **smart** (хвост распределения длиннее)."
   ]
  },
  {
   "cell_type": "markdown",
   "metadata": {},
   "source": [
    "### Объем использованного интернет-трафика"
   ]
  },
  {
   "cell_type": "code",
   "execution_count": 53,
   "metadata": {
    "scrolled": true
   },
   "outputs": [
    {
     "data": {
      "text/html": [
       "<div>\n",
       "<style scoped>\n",
       "    .dataframe tbody tr th:only-of-type {\n",
       "        vertical-align: middle;\n",
       "    }\n",
       "\n",
       "    .dataframe tbody tr th {\n",
       "        vertical-align: top;\n",
       "    }\n",
       "\n",
       "    .dataframe thead tr th {\n",
       "        text-align: left;\n",
       "    }\n",
       "\n",
       "    .dataframe thead tr:last-of-type th {\n",
       "        text-align: right;\n",
       "    }\n",
       "</style>\n",
       "<table border=\"1\" class=\"dataframe\">\n",
       "  <thead>\n",
       "    <tr>\n",
       "      <th></th>\n",
       "      <th colspan=\"3\" halign=\"left\">gb_used</th>\n",
       "    </tr>\n",
       "    <tr>\n",
       "      <th></th>\n",
       "      <th>mean</th>\n",
       "      <th>std</th>\n",
       "      <th>var</th>\n",
       "    </tr>\n",
       "    <tr>\n",
       "      <th>tariff</th>\n",
       "      <th></th>\n",
       "      <th></th>\n",
       "      <th></th>\n",
       "    </tr>\n",
       "  </thead>\n",
       "  <tbody>\n",
       "    <tr>\n",
       "      <th>smart</th>\n",
       "      <td>16.321525</td>\n",
       "      <td>5.756167</td>\n",
       "      <td>33.133453</td>\n",
       "    </tr>\n",
       "    <tr>\n",
       "      <th>ultra</th>\n",
       "      <td>19.474645</td>\n",
       "      <td>9.868057</td>\n",
       "      <td>97.378544</td>\n",
       "    </tr>\n",
       "  </tbody>\n",
       "</table>\n",
       "</div>"
      ],
      "text/plain": [
       "          gb_used                     \n",
       "             mean       std        var\n",
       "tariff                                \n",
       "smart   16.321525  5.756167  33.133453\n",
       "ultra   19.474645  9.868057  97.378544"
      ]
     },
     "execution_count": 53,
     "metadata": {},
     "output_type": "execute_result"
    }
   ],
   "source": [
    "data.groupby('tariff').agg({'gb_used': ['mean', 'std', 'var']})"
   ]
  },
  {
   "cell_type": "markdown",
   "metadata": {},
   "source": [
    "Ситуация с использованным интернет-трафиком аналогична с предыдущими выводами: среднее количество потраченных гигабайт и дисперсия тарифа **ultra** выше, чем в **smart**, что обусловлено особенностями тарифа. Однако среднее значение использованного трафика в тарифе **smart** незначительно больше установленного тарифным планом. Это вовсе не говорит о том, что абонентам нужно срочно менять тариф. Для них по-прежнему выгодны условия **smart**:"
   ]
  },
  {
   "cell_type": "code",
   "execution_count": 54,
   "metadata": {},
   "outputs": [
    {
     "data": {
      "text/html": [
       "<div>\n",
       "<style scoped>\n",
       "    .dataframe tbody tr th:only-of-type {\n",
       "        vertical-align: middle;\n",
       "    }\n",
       "\n",
       "    .dataframe tbody tr th {\n",
       "        vertical-align: top;\n",
       "    }\n",
       "\n",
       "    .dataframe thead th {\n",
       "        text-align: right;\n",
       "    }\n",
       "</style>\n",
       "<table border=\"1\" class=\"dataframe\">\n",
       "  <thead>\n",
       "    <tr style=\"text-align: right;\">\n",
       "      <th></th>\n",
       "      <th>tariff</th>\n",
       "      <th>gb_per_month_included</th>\n",
       "    </tr>\n",
       "  </thead>\n",
       "  <tbody>\n",
       "    <tr>\n",
       "      <th>0</th>\n",
       "      <td>smart</td>\n",
       "      <td>15.0</td>\n",
       "    </tr>\n",
       "    <tr>\n",
       "      <th>1</th>\n",
       "      <td>ultra</td>\n",
       "      <td>30.0</td>\n",
       "    </tr>\n",
       "  </tbody>\n",
       "</table>\n",
       "</div>"
      ],
      "text/plain": [
       "  tariff  gb_per_month_included\n",
       "0  smart                   15.0\n",
       "1  ultra                   30.0"
      ]
     },
     "execution_count": 54,
     "metadata": {},
     "output_type": "execute_result"
    }
   ],
   "source": [
    "data_tariffs[['tariff', 'gb_per_month_included']]"
   ]
  },
  {
   "cell_type": "markdown",
   "metadata": {},
   "source": [
    "Построим гистограмму:"
   ]
  },
  {
   "cell_type": "code",
   "execution_count": 55,
   "metadata": {
    "scrolled": true
   },
   "outputs": [
    {
     "data": {
      "text/plain": [
       "Text(0.5, 0, 'Количество gb')"
      ]
     },
     "execution_count": 55,
     "metadata": {},
     "output_type": "execute_result"
    },
    {
     "data": {
      "image/png": "[encoded data removed]",
      "text/plain": [
       "<Figure size 432x288 with 1 Axes>"
      ]
     },
     "metadata": {
      "needs_background": "light"
     },
     "output_type": "display_data"
    }
   ],
   "source": [
    "data[data['tariff'] == 'smart']['gb_used'].hist(grid=True, bins=30, range=(1, 49))\n",
    "data[data['tariff'] == 'ultra']['gb_used'].hist(grid=True, bins=30, range=(1, 49), alpha=0.5)\n",
    "plt.suptitle('Объем использованного интернет-трафика')\n",
    "plt.legend(['smart', 'ultra'])\n",
    "plt.xlabel('Количество gb')"
   ]
  },
  {
   "cell_type": "markdown",
   "metadata": {},
   "source": [
    "Объем использованного интернет-трафика для каждого из тарифов имеет нормальное распределение. График подтверждает, что абоненты тарифа **ultra** тратят больше гигобайтов, нежели пользователи **smart** (хвост распределения длиннее)."
   ]
  },
  {
   "cell_type": "markdown",
   "metadata": {},
   "source": [
    "### Выручка"
   ]
  },
  {
   "cell_type": "code",
   "execution_count": 56,
   "metadata": {
    "scrolled": false
   },
   "outputs": [
    {
     "data": {
      "text/html": [
       "<div>\n",
       "<style scoped>\n",
       "    .dataframe tbody tr th:only-of-type {\n",
       "        vertical-align: middle;\n",
       "    }\n",
       "\n",
       "    .dataframe tbody tr th {\n",
       "        vertical-align: top;\n",
       "    }\n",
       "\n",
       "    .dataframe thead tr th {\n",
       "        text-align: left;\n",
       "    }\n",
       "\n",
       "    .dataframe thead tr:last-of-type th {\n",
       "        text-align: right;\n",
       "    }\n",
       "</style>\n",
       "<table border=\"1\" class=\"dataframe\">\n",
       "  <thead>\n",
       "    <tr>\n",
       "      <th></th>\n",
       "      <th colspan=\"3\" halign=\"left\">fee</th>\n",
       "    </tr>\n",
       "    <tr>\n",
       "      <th></th>\n",
       "      <th>mean</th>\n",
       "      <th>std</th>\n",
       "      <th>var</th>\n",
       "    </tr>\n",
       "    <tr>\n",
       "      <th>tariff</th>\n",
       "      <th></th>\n",
       "      <th></th>\n",
       "      <th></th>\n",
       "    </tr>\n",
       "  </thead>\n",
       "  <tbody>\n",
       "    <tr>\n",
       "      <th>smart</th>\n",
       "      <td>1289.641704</td>\n",
       "      <td>818.370799</td>\n",
       "      <td>669730.763895</td>\n",
       "    </tr>\n",
       "    <tr>\n",
       "      <th>ultra</th>\n",
       "      <td>2070.030426</td>\n",
       "      <td>376.015578</td>\n",
       "      <td>141387.714809</td>\n",
       "    </tr>\n",
       "  </tbody>\n",
       "</table>\n",
       "</div>"
      ],
      "text/plain": [
       "                fee                           \n",
       "               mean         std            var\n",
       "tariff                                        \n",
       "smart   1289.641704  818.370799  669730.763895\n",
       "ultra   2070.030426  376.015578  141387.714809"
      ]
     },
     "execution_count": 56,
     "metadata": {},
     "output_type": "execute_result"
    }
   ],
   "source": [
    "data.groupby('tariff').agg({'fee': ['mean', 'std', 'var']})"
   ]
  },
  {
   "cell_type": "markdown",
   "metadata": {},
   "source": [
    "В целом средняя выручка тарифа **ultra** выше, чем в **smart** <a id='data'></a>. Дисперсия в тарифе **ultra** значительно ниже дисперсии тарифа **smart**. Это объясняется тем, что в **ultra** пользователи переплачивают редко. А вот среднее в тарифе **smart** говорит о том, что некоторым абонентам не достаточно предоставленных условий, и они выходят за рамки абонплаты:"
   ]
  },
  {
   "cell_type": "code",
   "execution_count": 57,
   "metadata": {},
   "outputs": [
    {
     "data": {
      "text/html": [
       "<div>\n",
       "<style scoped>\n",
       "    .dataframe tbody tr th:only-of-type {\n",
       "        vertical-align: middle;\n",
       "    }\n",
       "\n",
       "    .dataframe tbody tr th {\n",
       "        vertical-align: top;\n",
       "    }\n",
       "\n",
       "    .dataframe thead th {\n",
       "        text-align: right;\n",
       "    }\n",
       "</style>\n",
       "<table border=\"1\" class=\"dataframe\">\n",
       "  <thead>\n",
       "    <tr style=\"text-align: right;\">\n",
       "      <th></th>\n",
       "      <th>tariff</th>\n",
       "      <th>rub_monthly_fee</th>\n",
       "    </tr>\n",
       "  </thead>\n",
       "  <tbody>\n",
       "    <tr>\n",
       "      <th>0</th>\n",
       "      <td>smart</td>\n",
       "      <td>550</td>\n",
       "    </tr>\n",
       "    <tr>\n",
       "      <th>1</th>\n",
       "      <td>ultra</td>\n",
       "      <td>1950</td>\n",
       "    </tr>\n",
       "  </tbody>\n",
       "</table>\n",
       "</div>"
      ],
      "text/plain": [
       "  tariff  rub_monthly_fee\n",
       "0  smart              550\n",
       "1  ultra             1950"
      ]
     },
     "execution_count": 57,
     "metadata": {},
     "output_type": "execute_result"
    }
   ],
   "source": [
    "data_tariffs[['tariff', 'rub_monthly_fee']]"
   ]
  },
  {
   "cell_type": "markdown",
   "metadata": {},
   "source": [
    "Однако будет неверно это утверждать, ориентируясь на среднее значение. Посмотрим медианное значение выручки по тарифу **smart**:"
   ]
  },
  {
   "cell_type": "code",
   "execution_count": 58,
   "metadata": {},
   "outputs": [
    {
     "data": {
      "text/plain": [
       "1021.0"
      ]
     },
     "execution_count": 58,
     "metadata": {},
     "output_type": "execute_result"
    }
   ],
   "source": [
    "data[data['tariff'] == 'smart']['fee'].median()"
   ]
  },
  {
   "cell_type": "markdown",
   "metadata": {},
   "source": [
    "Действительно, медианный платеж в два раза выше абонентской платы тарифа **smart**. Однако он не на столько велик, чтобы переходить на другой тариф."
   ]
  },
  {
   "cell_type": "markdown",
   "metadata": {},
   "source": [
    "Построим гистограмму:"
   ]
  },
  {
   "cell_type": "code",
   "execution_count": 59,
   "metadata": {
    "scrolled": true
   },
   "outputs": [
    {
     "data": {
      "text/plain": [
       "Text(0.5, 0, 'Выручка, руб.')"
      ]
     },
     "execution_count": 59,
     "metadata": {},
     "output_type": "execute_result"
    },
    {
     "data": {
      "image/png": "[encoded data removed]",
      "text/plain": [
       "<Figure size 432x288 with 1 Axes>"
      ]
     },
     "metadata": {
      "needs_background": "light"
     },
     "output_type": "display_data"
    }
   ],
   "source": [
    "data[data['tariff'] == 'smart']['fee'].hist(grid=True, bins=30, range=(550, 6770))\n",
    "data[data['tariff'] == 'ultra']['fee'].hist(grid=True, bins=30, range=(1950, 6770), alpha=0.5)\n",
    "plt.suptitle('Выручка')\n",
    "plt.legend(['smart', 'ultra'])\n",
    "plt.xlabel('Выручка, руб.')"
   ]
  },
  {
   "cell_type": "markdown",
   "metadata": {},
   "source": [
    "Выручка для каждого из тарифов имеет распределение Пуассона. Пики в значениях 550 и 1950 говорят о том, что многие пользователи укладываются в абонентскую плату. Однако среди тех, кто чаще доплачивает, больше абонентов тарифа **smart** (об этом свидетельствует большое значение дисперсии)."
   ]
  },
  {
   "cell_type": "markdown",
   "metadata": {},
   "source": [
    "**ВЫВОД**\n",
    "\n",
    "В данном разделе описано поведение клиентов оператора, исходя из выборки: сколько минут разговора, сколько сообщений и какой объём интернет-трафика требуется пользователям каждого тарифа в месяц. Посчитаны среднее, дисперсия и стандартное отклонение. Построены гистограммы, а также описаны распределения."
   ]
  },
  {
   "cell_type": "markdown",
   "metadata": {},
   "source": [
    "## Проверка гипотез"
   ]
  },
  {
   "cell_type": "markdown",
   "metadata": {},
   "source": [
    "### Cредняя выручка пользователей тарифов «Ультра» и «Смарт» различаются"
   ]
  },
  {
   "cell_type": "markdown",
   "metadata": {},
   "source": [
    "В данном случае нам необходимо выяснить, есть ли разница между совокупностями. В связи с этим сформулируем нулевую и альтернативную гипотезы.\n",
    "\n",
    "**Нулевая гипотеза**: \"Среднюю выручку по тарифам **smart** и **ultra** можно считать одинаковой\".\n",
    "\n",
    "**Альтернативная гипотеза**: \"Средняя выручка по тарифам **smart** и **ultra** различается\".\n",
    "\n",
    "Для проверки гипотез воспользуемся методом `scipy.stats.ttest_ind`:"
   ]
  },
  {
   "cell_type": "code",
   "execution_count": 60,
   "metadata": {},
   "outputs": [
    {
     "name": "stdout",
     "output_type": "stream",
     "text": [
      "p-значение:  8.081909555489933e-161\n",
      "Отвергаем нулевую гипотезу\n"
     ]
    }
   ],
   "source": [
    "smart_fee = data[data['tariff'] == 'smart']['fee']\n",
    "ultra_fee = data[data['tariff'] == 'ultra']['fee']\n",
    "\n",
    "alpha = .05\n",
    "\n",
    "result = st.ttest_ind(smart_fee, ultra_fee)\n",
    "\n",
    "print('p-значение: ', result.pvalue)\n",
    "if result.pvalue < alpha:\n",
    "    print('Отвергаем нулевую гипотезу')\n",
    "else:\n",
    "    print('Не получилось отвергнуть нулевую гипотезу')"
   ]
  },
  {
   "cell_type": "markdown",
   "metadata": {},
   "source": [
    "Результат проведенного теста говорит о том, что средняя выручка по тарифам различается. Основная гипотеза, сформулированная в начале, подтвердилась."
   ]
  },
  {
   "cell_type": "markdown",
   "metadata": {},
   "source": [
    "### Средняя выручка пользователей из Москвы отличается от выручки пользователей из других регионов"
   ]
  },
  {
   "cell_type": "markdown",
   "metadata": {},
   "source": [
    "Здесь тоже требуется выяснить, есть ли разница между совокупностями. Исходя из этого нулевая и альтернативная гипотеза будут выглядеть следующим образом:\n",
    "\n",
    "**Нулевая гипотеза**: \"Среднюю выручку в Москве и других регионах можно считать одинаковой\".\n",
    "\n",
    "**Альтернативная гипотеза**: \"Средняя выручка в Москве и других регионах различается\"."
   ]
  },
  {
   "cell_type": "code",
   "execution_count": 61,
   "metadata": {},
   "outputs": [
    {
     "name": "stdout",
     "output_type": "stream",
     "text": [
      "p-значение:  0.5400751614511182\n",
      "Не получилось отвергнуть нулевую гипотезу\n"
     ]
    }
   ],
   "source": [
    "moscow_fee = data[data['region'] == 'Москва']['fee']\n",
    "region_fee = data[data['region'] == 'Другой регион']['fee']\n",
    "\n",
    "alpha = .05\n",
    "\n",
    "result = st.ttest_ind(moscow_fee, region_fee)\n",
    "\n",
    "print('p-значение: ', result.pvalue)\n",
    "if result.pvalue < alpha:\n",
    "    print('Отвергаем нулевую гипотезу')\n",
    "else:\n",
    "    print('Не получилось отвергнуть нулевую гипотезу')"
   ]
  },
  {
   "cell_type": "markdown",
   "metadata": {},
   "source": [
    "Результат теста свидетельствует о том, что среднюю выручку в Москве и других регионах можно считать одинаковой. Основная гипотеза, сформулированная в начале, не подтвердилась."
   ]
  },
  {
   "cell_type": "markdown",
   "metadata": {},
   "source": [
    "## Итоги исследования"
   ]
  },
  {
   "cell_type": "markdown",
   "metadata": {},
   "source": [
    "В ходе исследования проверили две гипотезы:\n",
    "\n",
    "1. Средняя выручка пользователей тарифов «Ультра» и «Смарт» различаются.\n",
    "\n",
    "Первая гипотеза подтвердилась. При этом для оператора тариф **ultra** выгоднее: средняя выручка по нему больше, чем в тарифе **smart** ([наблюдаемые различия](#data) не вызваны случайными факторами).\n",
    "\n",
    "2. Средняя выручка пользователей из Москвы отличается от выручки пользователей из других регионов.\n",
    "\n",
    "Вторая гипотеза не подтвердилась. Среднюю выручку по Москве и регионам можно считать одинаковой.\n",
    "\n"
   ]
  }
 ],
 "metadata": {
  "ExecuteTimeLog": [
   {
    "duration": 1006,
    "start_time": "2022-01-08T10:27:51.423Z"
   },
   {
    "duration": 13,
    "start_time": "2022-01-08T10:28:02.874Z"
   },
   {
    "duration": 9,
    "start_time": "2022-01-08T10:28:11.702Z"
   },
   {
    "duration": 9,
    "start_time": "2022-01-08T10:28:16.268Z"
   },
   {
    "duration": 12,
    "start_time": "2022-01-08T10:28:23.251Z"
   },
   {
    "duration": 10,
    "start_time": "2022-01-08T10:28:32.616Z"
   },
   {
    "duration": 12,
    "start_time": "2022-01-08T10:28:42.610Z"
   },
   {
    "duration": 380,
    "start_time": "2022-01-08T10:29:04.901Z"
   },
   {
    "duration": 408,
    "start_time": "2022-01-08T10:47:07.426Z"
   },
   {
    "duration": 12,
    "start_time": "2022-01-08T10:48:28.960Z"
   },
   {
    "duration": 8,
    "start_time": "2022-01-08T10:52:53.891Z"
   },
   {
    "duration": 9,
    "start_time": "2022-01-08T10:53:10.818Z"
   },
   {
    "duration": 8,
    "start_time": "2022-01-08T10:53:20.056Z"
   },
   {
    "duration": 8,
    "start_time": "2022-01-08T10:53:32.348Z"
   },
   {
    "duration": 10,
    "start_time": "2022-01-08T10:53:54.805Z"
   },
   {
    "duration": 9,
    "start_time": "2022-01-08T10:56:14.782Z"
   },
   {
    "duration": 22,
    "start_time": "2022-01-08T10:57:24.006Z"
   },
   {
    "duration": 27,
    "start_time": "2022-01-08T11:09:35.241Z"
   },
   {
    "duration": 15,
    "start_time": "2022-01-08T11:09:48.911Z"
   },
   {
    "duration": 227,
    "start_time": "2022-01-08T11:11:16.742Z"
   },
   {
    "duration": 22,
    "start_time": "2022-01-08T11:11:34.710Z"
   },
   {
    "duration": 13,
    "start_time": "2022-01-08T11:11:45.850Z"
   },
   {
    "duration": 21,
    "start_time": "2022-01-08T11:14:12.338Z"
   },
   {
    "duration": 11,
    "start_time": "2022-01-08T11:14:20.791Z"
   },
   {
    "duration": 8,
    "start_time": "2022-01-08T11:16:09.060Z"
   },
   {
    "duration": 7,
    "start_time": "2022-01-08T11:16:34.364Z"
   },
   {
    "duration": 8,
    "start_time": "2022-01-08T11:18:22.495Z"
   },
   {
    "duration": 124,
    "start_time": "2022-01-08T11:20:45.741Z"
   },
   {
    "duration": 18,
    "start_time": "2022-01-08T11:20:51.337Z"
   },
   {
    "duration": 6,
    "start_time": "2022-01-08T11:30:22.802Z"
   },
   {
    "duration": 38,
    "start_time": "2022-01-08T11:34:54.533Z"
   },
   {
    "duration": 19,
    "start_time": "2022-01-08T11:36:12.721Z"
   },
   {
    "duration": 7,
    "start_time": "2022-01-08T11:36:17.695Z"
   },
   {
    "duration": 15,
    "start_time": "2022-01-08T11:38:34.186Z"
   },
   {
    "duration": 236,
    "start_time": "2022-01-08T11:43:10.352Z"
   },
   {
    "duration": 30,
    "start_time": "2022-01-08T11:43:26.523Z"
   },
   {
    "duration": 180,
    "start_time": "2022-01-08T11:43:28.244Z"
   },
   {
    "duration": 3,
    "start_time": "2022-01-08T11:43:38.212Z"
   },
   {
    "duration": 9,
    "start_time": "2022-01-08T11:43:41.021Z"
   },
   {
    "duration": 20,
    "start_time": "2022-01-08T11:43:49.745Z"
   },
   {
    "duration": 62,
    "start_time": "2022-01-08T11:48:31.271Z"
   },
   {
    "duration": 173,
    "start_time": "2022-01-08T11:48:45.680Z"
   },
   {
    "duration": 169,
    "start_time": "2022-01-08T11:49:49.163Z"
   },
   {
    "duration": 178,
    "start_time": "2022-01-08T11:49:53.014Z"
   },
   {
    "duration": 979,
    "start_time": "2022-01-08T11:50:05.538Z"
   },
   {
    "duration": 14,
    "start_time": "2022-01-08T11:50:06.519Z"
   },
   {
    "duration": 22,
    "start_time": "2022-01-08T11:50:06.535Z"
   },
   {
    "duration": 50,
    "start_time": "2022-01-08T11:50:06.558Z"
   },
   {
    "duration": 26,
    "start_time": "2022-01-08T11:50:06.609Z"
   },
   {
    "duration": 7,
    "start_time": "2022-01-08T11:50:06.637Z"
   },
   {
    "duration": 9,
    "start_time": "2022-01-08T11:50:06.646Z"
   },
   {
    "duration": 34,
    "start_time": "2022-01-08T11:50:06.658Z"
   },
   {
    "duration": 9,
    "start_time": "2022-01-08T11:50:06.694Z"
   },
   {
    "duration": 44,
    "start_time": "2022-01-08T11:50:06.704Z"
   },
   {
    "duration": 19,
    "start_time": "2022-01-08T11:50:06.750Z"
   },
   {
    "duration": 24,
    "start_time": "2022-01-08T11:50:06.771Z"
   },
   {
    "duration": 9,
    "start_time": "2022-01-08T11:50:06.796Z"
   },
   {
    "duration": 15,
    "start_time": "2022-01-08T11:50:06.807Z"
   },
   {
    "duration": 28,
    "start_time": "2022-01-08T11:50:06.824Z"
   },
   {
    "duration": 50,
    "start_time": "2022-01-08T11:50:06.853Z"
   },
   {
    "duration": 8,
    "start_time": "2022-01-08T11:50:06.905Z"
   },
   {
    "duration": 9,
    "start_time": "2022-01-08T11:50:06.914Z"
   },
   {
    "duration": 12,
    "start_time": "2022-01-08T11:50:06.925Z"
   },
   {
    "duration": 6,
    "start_time": "2022-01-08T11:56:06.187Z"
   },
   {
    "duration": 10,
    "start_time": "2022-01-08T12:02:52.504Z"
   },
   {
    "duration": 7,
    "start_time": "2022-01-08T12:02:52.881Z"
   },
   {
    "duration": 3,
    "start_time": "2022-01-08T12:22:07.891Z"
   },
   {
    "duration": 278,
    "start_time": "2022-01-08T12:23:18.475Z"
   },
   {
    "duration": 4601,
    "start_time": "2022-01-08T12:23:36.048Z"
   },
   {
    "duration": 993,
    "start_time": "2022-01-08T12:24:09.034Z"
   },
   {
    "duration": 12,
    "start_time": "2022-01-08T12:24:10.029Z"
   },
   {
    "duration": 31,
    "start_time": "2022-01-08T12:24:10.043Z"
   },
   {
    "duration": 8,
    "start_time": "2022-01-08T12:24:10.076Z"
   },
   {
    "duration": 27,
    "start_time": "2022-01-08T12:24:10.086Z"
   },
   {
    "duration": 7,
    "start_time": "2022-01-08T12:24:10.115Z"
   },
   {
    "duration": 21,
    "start_time": "2022-01-08T12:24:10.123Z"
   },
   {
    "duration": 8,
    "start_time": "2022-01-08T12:24:10.146Z"
   },
   {
    "duration": 7,
    "start_time": "2022-01-08T12:24:10.156Z"
   },
   {
    "duration": 30,
    "start_time": "2022-01-08T12:24:10.165Z"
   },
   {
    "duration": 6,
    "start_time": "2022-01-08T12:24:10.197Z"
   },
   {
    "duration": 5,
    "start_time": "2022-01-08T12:24:10.205Z"
   },
   {
    "duration": 34,
    "start_time": "2022-01-08T12:24:10.212Z"
   },
   {
    "duration": 45,
    "start_time": "2022-01-08T12:24:10.247Z"
   },
   {
    "duration": 25,
    "start_time": "2022-01-08T12:24:10.293Z"
   },
   {
    "duration": 8,
    "start_time": "2022-01-08T12:24:10.320Z"
   },
   {
    "duration": 7,
    "start_time": "2022-01-08T12:24:10.330Z"
   },
   {
    "duration": 58,
    "start_time": "2022-01-08T12:24:10.339Z"
   },
   {
    "duration": 18,
    "start_time": "2022-01-08T12:24:10.399Z"
   },
   {
    "duration": 8,
    "start_time": "2022-01-08T12:24:10.419Z"
   },
   {
    "duration": 32,
    "start_time": "2022-01-08T12:24:10.428Z"
   },
   {
    "duration": 41,
    "start_time": "2022-01-08T12:24:10.462Z"
   },
   {
    "duration": 7,
    "start_time": "2022-01-08T12:24:10.506Z"
   },
   {
    "duration": 12,
    "start_time": "2022-01-08T12:24:10.515Z"
   },
   {
    "duration": 59,
    "start_time": "2022-01-08T12:24:39.758Z"
   },
   {
    "duration": 7,
    "start_time": "2022-01-08T12:24:44.204Z"
   },
   {
    "duration": 1024,
    "start_time": "2022-01-08T12:25:12.887Z"
   },
   {
    "duration": 11,
    "start_time": "2022-01-08T12:25:13.913Z"
   },
   {
    "duration": 19,
    "start_time": "2022-01-08T12:25:13.928Z"
   },
   {
    "duration": 7,
    "start_time": "2022-01-08T12:25:13.949Z"
   },
   {
    "duration": 19,
    "start_time": "2022-01-08T12:25:13.958Z"
   },
   {
    "duration": 14,
    "start_time": "2022-01-08T12:25:13.978Z"
   },
   {
    "duration": 19,
    "start_time": "2022-01-08T12:25:13.995Z"
   },
   {
    "duration": 18,
    "start_time": "2022-01-08T12:25:14.015Z"
   },
   {
    "duration": 11,
    "start_time": "2022-01-08T12:25:14.034Z"
   },
   {
    "duration": 37,
    "start_time": "2022-01-08T12:25:14.046Z"
   },
   {
    "duration": 12,
    "start_time": "2022-01-08T12:25:14.085Z"
   },
   {
    "duration": 15,
    "start_time": "2022-01-08T12:25:14.099Z"
   },
   {
    "duration": 45,
    "start_time": "2022-01-08T12:25:14.115Z"
   },
   {
    "duration": 14,
    "start_time": "2022-01-08T12:25:14.161Z"
   },
   {
    "duration": 1004,
    "start_time": "2022-01-08T12:31:58.602Z"
   },
   {
    "duration": 12,
    "start_time": "2022-01-08T12:31:59.608Z"
   },
   {
    "duration": 30,
    "start_time": "2022-01-08T12:31:59.621Z"
   },
   {
    "duration": 8,
    "start_time": "2022-01-08T12:31:59.653Z"
   },
   {
    "duration": 22,
    "start_time": "2022-01-08T12:31:59.662Z"
   },
   {
    "duration": 10,
    "start_time": "2022-01-08T12:31:59.686Z"
   },
   {
    "duration": 23,
    "start_time": "2022-01-08T12:31:59.698Z"
   },
   {
    "duration": 14,
    "start_time": "2022-01-08T12:31:59.724Z"
   },
   {
    "duration": 15,
    "start_time": "2022-01-08T12:31:59.740Z"
   },
   {
    "duration": 19,
    "start_time": "2022-01-08T12:31:59.757Z"
   },
   {
    "duration": 20,
    "start_time": "2022-01-08T12:31:59.778Z"
   },
   {
    "duration": 6,
    "start_time": "2022-01-08T12:31:59.799Z"
   },
   {
    "duration": 33,
    "start_time": "2022-01-08T12:31:59.806Z"
   },
   {
    "duration": 24,
    "start_time": "2022-01-08T12:31:59.841Z"
   },
   {
    "duration": 32,
    "start_time": "2022-01-08T12:31:59.867Z"
   },
   {
    "duration": 7,
    "start_time": "2022-01-08T12:31:59.901Z"
   },
   {
    "duration": 971,
    "start_time": "2022-01-08T12:34:57.241Z"
   },
   {
    "duration": 11,
    "start_time": "2022-01-08T12:34:58.214Z"
   },
   {
    "duration": 22,
    "start_time": "2022-01-08T12:34:58.228Z"
   },
   {
    "duration": 8,
    "start_time": "2022-01-08T12:34:58.252Z"
   },
   {
    "duration": 19,
    "start_time": "2022-01-08T12:34:58.263Z"
   },
   {
    "duration": 9,
    "start_time": "2022-01-08T12:34:58.292Z"
   },
   {
    "duration": 24,
    "start_time": "2022-01-08T12:34:58.303Z"
   },
   {
    "duration": 8,
    "start_time": "2022-01-08T12:34:58.330Z"
   },
   {
    "duration": 7,
    "start_time": "2022-01-08T12:34:58.341Z"
   },
   {
    "duration": 42,
    "start_time": "2022-01-08T12:34:58.350Z"
   },
   {
    "duration": 7,
    "start_time": "2022-01-08T12:34:58.395Z"
   },
   {
    "duration": 289,
    "start_time": "2022-01-08T12:34:58.404Z"
   },
   {
    "duration": -3576,
    "start_time": "2022-01-08T12:35:02.271Z"
   },
   {
    "duration": -3619,
    "start_time": "2022-01-08T12:35:02.315Z"
   },
   {
    "duration": -3624,
    "start_time": "2022-01-08T12:35:02.322Z"
   },
   {
    "duration": -3627,
    "start_time": "2022-01-08T12:35:02.326Z"
   },
   {
    "duration": -3629,
    "start_time": "2022-01-08T12:35:02.330Z"
   },
   {
    "duration": 998,
    "start_time": "2022-01-08T12:35:28.806Z"
   },
   {
    "duration": 11,
    "start_time": "2022-01-08T12:35:29.806Z"
   },
   {
    "duration": 22,
    "start_time": "2022-01-08T12:35:29.819Z"
   },
   {
    "duration": 8,
    "start_time": "2022-01-08T12:35:29.842Z"
   },
   {
    "duration": 18,
    "start_time": "2022-01-08T12:35:29.852Z"
   },
   {
    "duration": 22,
    "start_time": "2022-01-08T12:35:29.872Z"
   },
   {
    "duration": 16,
    "start_time": "2022-01-08T12:35:29.897Z"
   },
   {
    "duration": 15,
    "start_time": "2022-01-08T12:35:29.915Z"
   },
   {
    "duration": 9,
    "start_time": "2022-01-08T12:35:29.932Z"
   },
   {
    "duration": 12,
    "start_time": "2022-01-08T12:35:29.942Z"
   },
   {
    "duration": 34,
    "start_time": "2022-01-08T12:35:29.957Z"
   },
   {
    "duration": 5,
    "start_time": "2022-01-08T12:35:29.994Z"
   },
   {
    "duration": 15,
    "start_time": "2022-01-08T12:35:30.000Z"
   },
   {
    "duration": 4,
    "start_time": "2022-01-08T12:35:30.017Z"
   },
   {
    "duration": 6,
    "start_time": "2022-01-08T12:35:30.023Z"
   },
   {
    "duration": 5,
    "start_time": "2022-01-08T12:35:30.030Z"
   },
   {
    "duration": 9,
    "start_time": "2022-01-08T12:35:30.036Z"
   },
   {
    "duration": 20,
    "start_time": "2022-01-08T12:35:39.200Z"
   },
   {
    "duration": 1026,
    "start_time": "2022-01-08T12:36:04.995Z"
   },
   {
    "duration": 11,
    "start_time": "2022-01-08T12:36:06.023Z"
   },
   {
    "duration": 27,
    "start_time": "2022-01-08T12:36:06.036Z"
   },
   {
    "duration": 8,
    "start_time": "2022-01-08T12:36:06.065Z"
   },
   {
    "duration": 19,
    "start_time": "2022-01-08T12:36:06.075Z"
   },
   {
    "duration": 7,
    "start_time": "2022-01-08T12:36:06.096Z"
   },
   {
    "duration": 15,
    "start_time": "2022-01-08T12:36:06.105Z"
   },
   {
    "duration": 8,
    "start_time": "2022-01-08T12:36:06.124Z"
   },
   {
    "duration": 6,
    "start_time": "2022-01-08T12:36:06.134Z"
   },
   {
    "duration": 10,
    "start_time": "2022-01-08T12:36:06.142Z"
   },
   {
    "duration": 41,
    "start_time": "2022-01-08T12:36:06.154Z"
   },
   {
    "duration": 4,
    "start_time": "2022-01-08T12:36:06.197Z"
   },
   {
    "duration": 4,
    "start_time": "2022-01-08T12:36:06.203Z"
   },
   {
    "duration": 6,
    "start_time": "2022-01-08T12:36:06.209Z"
   },
   {
    "duration": 5,
    "start_time": "2022-01-08T12:36:06.216Z"
   },
   {
    "duration": 7,
    "start_time": "2022-01-08T12:36:06.222Z"
   },
   {
    "duration": 22,
    "start_time": "2022-01-08T12:36:06.230Z"
   },
   {
    "duration": 972,
    "start_time": "2022-01-08T12:37:28.940Z"
   },
   {
    "duration": 11,
    "start_time": "2022-01-08T12:37:29.915Z"
   },
   {
    "duration": 36,
    "start_time": "2022-01-08T12:37:29.929Z"
   },
   {
    "duration": 9,
    "start_time": "2022-01-08T12:37:29.968Z"
   },
   {
    "duration": 20,
    "start_time": "2022-01-08T12:37:29.979Z"
   },
   {
    "duration": 8,
    "start_time": "2022-01-08T12:37:30.001Z"
   },
   {
    "duration": 19,
    "start_time": "2022-01-08T12:37:30.010Z"
   },
   {
    "duration": 8,
    "start_time": "2022-01-08T12:37:30.032Z"
   },
   {
    "duration": 9,
    "start_time": "2022-01-08T12:37:30.042Z"
   },
   {
    "duration": 40,
    "start_time": "2022-01-08T12:37:30.053Z"
   },
   {
    "duration": 7,
    "start_time": "2022-01-08T12:37:30.094Z"
   },
   {
    "duration": 9,
    "start_time": "2022-01-08T12:37:30.102Z"
   },
   {
    "duration": 39,
    "start_time": "2022-01-08T12:37:30.113Z"
   },
   {
    "duration": 24,
    "start_time": "2022-01-08T12:37:30.153Z"
   },
   {
    "duration": 19,
    "start_time": "2022-01-08T12:37:30.192Z"
   },
   {
    "duration": 6,
    "start_time": "2022-01-08T12:37:30.212Z"
   },
   {
    "duration": 22,
    "start_time": "2022-01-08T12:37:30.220Z"
   },
   {
    "duration": 14,
    "start_time": "2022-01-08T12:39:04.834Z"
   },
   {
    "duration": 17,
    "start_time": "2022-01-08T12:43:21.620Z"
   },
   {
    "duration": 15,
    "start_time": "2022-01-08T12:43:28.869Z"
   },
   {
    "duration": 13,
    "start_time": "2022-01-08T12:43:45.274Z"
   },
   {
    "duration": 13,
    "start_time": "2022-01-08T12:43:54.859Z"
   },
   {
    "duration": 11,
    "start_time": "2022-01-08T12:44:04.100Z"
   },
   {
    "duration": 8,
    "start_time": "2022-01-08T12:44:10.714Z"
   },
   {
    "duration": 7,
    "start_time": "2022-01-08T12:44:28.584Z"
   },
   {
    "duration": 3,
    "start_time": "2022-01-08T12:47:23.348Z"
   },
   {
    "duration": 3,
    "start_time": "2022-01-08T12:48:49.337Z"
   },
   {
    "duration": 54,
    "start_time": "2022-01-08T12:49:10.968Z"
   },
   {
    "duration": 4,
    "start_time": "2022-01-08T12:49:17.463Z"
   },
   {
    "duration": 14,
    "start_time": "2022-01-08T12:49:21.685Z"
   },
   {
    "duration": 16,
    "start_time": "2022-01-08T12:51:17.773Z"
   },
   {
    "duration": 14,
    "start_time": "2022-01-08T12:51:18.735Z"
   },
   {
    "duration": 11,
    "start_time": "2022-01-08T12:51:19.149Z"
   },
   {
    "duration": 7,
    "start_time": "2022-01-08T12:51:19.583Z"
   },
   {
    "duration": 7,
    "start_time": "2022-01-08T12:51:25.991Z"
   },
   {
    "duration": 15,
    "start_time": "2022-01-08T12:52:38.908Z"
   },
   {
    "duration": 14,
    "start_time": "2022-01-08T12:52:39.524Z"
   },
   {
    "duration": 12,
    "start_time": "2022-01-08T12:52:40.085Z"
   },
   {
    "duration": 8,
    "start_time": "2022-01-08T12:52:41.031Z"
   },
   {
    "duration": 7,
    "start_time": "2022-01-08T12:52:43.164Z"
   },
   {
    "duration": 8,
    "start_time": "2022-01-08T12:53:19.906Z"
   },
   {
    "duration": 33,
    "start_time": "2022-01-08T13:00:41.047Z"
   },
   {
    "duration": 12,
    "start_time": "2022-01-08T13:03:10.495Z"
   },
   {
    "duration": 15,
    "start_time": "2022-01-08T13:03:37.406Z"
   },
   {
    "duration": 13,
    "start_time": "2022-01-08T13:03:48.150Z"
   },
   {
    "duration": 7,
    "start_time": "2022-01-08T13:04:00.844Z"
   },
   {
    "duration": 31,
    "start_time": "2022-01-08T13:08:28.356Z"
   },
   {
    "duration": 1057,
    "start_time": "2022-01-08T13:11:27.566Z"
   },
   {
    "duration": 11,
    "start_time": "2022-01-08T13:11:28.625Z"
   },
   {
    "duration": 33,
    "start_time": "2022-01-08T13:11:28.638Z"
   },
   {
    "duration": 9,
    "start_time": "2022-01-08T13:11:28.673Z"
   },
   {
    "duration": 20,
    "start_time": "2022-01-08T13:11:28.683Z"
   },
   {
    "duration": 6,
    "start_time": "2022-01-08T13:11:28.704Z"
   },
   {
    "duration": 6,
    "start_time": "2022-01-08T13:11:28.712Z"
   },
   {
    "duration": 14,
    "start_time": "2022-01-08T13:11:28.721Z"
   },
   {
    "duration": 8,
    "start_time": "2022-01-08T13:11:28.738Z"
   },
   {
    "duration": 7,
    "start_time": "2022-01-08T13:11:28.747Z"
   },
   {
    "duration": 38,
    "start_time": "2022-01-08T13:11:28.755Z"
   },
   {
    "duration": 7,
    "start_time": "2022-01-08T13:11:28.795Z"
   },
   {
    "duration": 22,
    "start_time": "2022-01-08T13:11:28.804Z"
   },
   {
    "duration": 16,
    "start_time": "2022-01-08T13:11:28.828Z"
   },
   {
    "duration": 16,
    "start_time": "2022-01-08T13:11:28.846Z"
   },
   {
    "duration": 7,
    "start_time": "2022-01-08T13:11:28.892Z"
   },
   {
    "duration": 8,
    "start_time": "2022-01-08T13:11:28.901Z"
   },
   {
    "duration": 34,
    "start_time": "2022-01-08T13:11:28.910Z"
   },
   {
    "duration": 47,
    "start_time": "2022-01-08T13:11:28.945Z"
   },
   {
    "duration": 2,
    "start_time": "2022-01-08T13:11:28.994Z"
   },
   {
    "duration": 32,
    "start_time": "2022-01-08T13:11:28.998Z"
   },
   {
    "duration": 24,
    "start_time": "2022-01-08T13:11:29.031Z"
   },
   {
    "duration": 33,
    "start_time": "2022-01-08T13:11:29.058Z"
   },
   {
    "duration": 6,
    "start_time": "2022-01-08T13:11:29.093Z"
   },
   {
    "duration": 1059,
    "start_time": "2022-01-08T13:12:13.888Z"
   },
   {
    "duration": 15,
    "start_time": "2022-01-08T13:12:14.950Z"
   },
   {
    "duration": 32,
    "start_time": "2022-01-08T13:12:14.968Z"
   },
   {
    "duration": 10,
    "start_time": "2022-01-08T13:12:15.002Z"
   },
   {
    "duration": 26,
    "start_time": "2022-01-08T13:12:15.013Z"
   },
   {
    "duration": 10,
    "start_time": "2022-01-08T13:12:15.041Z"
   },
   {
    "duration": 11,
    "start_time": "2022-01-08T13:12:15.053Z"
   },
   {
    "duration": 34,
    "start_time": "2022-01-08T13:12:15.067Z"
   },
   {
    "duration": 8,
    "start_time": "2022-01-08T13:12:15.104Z"
   },
   {
    "duration": 10,
    "start_time": "2022-01-08T13:12:15.114Z"
   },
   {
    "duration": 17,
    "start_time": "2022-01-08T13:12:15.125Z"
   },
   {
    "duration": 11,
    "start_time": "2022-01-08T13:12:15.144Z"
   },
   {
    "duration": 32,
    "start_time": "2022-01-08T13:12:15.156Z"
   },
   {
    "duration": 16,
    "start_time": "2022-01-08T13:12:15.191Z"
   },
   {
    "duration": 16,
    "start_time": "2022-01-08T13:12:15.209Z"
   },
   {
    "duration": 10,
    "start_time": "2022-01-08T13:12:15.226Z"
   },
   {
    "duration": 8,
    "start_time": "2022-01-08T13:12:15.237Z"
   },
   {
    "duration": 27,
    "start_time": "2022-01-08T13:12:15.247Z"
   },
   {
    "duration": 25,
    "start_time": "2022-01-08T13:12:15.276Z"
   },
   {
    "duration": 2,
    "start_time": "2022-01-08T13:12:15.302Z"
   },
   {
    "duration": 37,
    "start_time": "2022-01-08T13:12:15.306Z"
   },
   {
    "duration": 25,
    "start_time": "2022-01-08T13:12:15.344Z"
   },
   {
    "duration": 34,
    "start_time": "2022-01-08T13:12:15.372Z"
   },
   {
    "duration": 12,
    "start_time": "2022-01-08T13:12:15.407Z"
   },
   {
    "duration": 4485,
    "start_time": "2022-01-08T13:17:37.380Z"
   },
   {
    "duration": 16,
    "start_time": "2022-01-08T13:18:06.638Z"
   },
   {
    "duration": 30,
    "start_time": "2022-01-08T13:18:32.444Z"
   },
   {
    "duration": 174,
    "start_time": "2022-01-08T13:19:08.891Z"
   },
   {
    "duration": 174,
    "start_time": "2022-01-08T13:19:15.918Z"
   },
   {
    "duration": 9,
    "start_time": "2022-01-08T13:19:35.748Z"
   },
   {
    "duration": 4,
    "start_time": "2022-01-08T13:21:19.508Z"
   },
   {
    "duration": 8,
    "start_time": "2022-01-08T13:21:22.029Z"
   },
   {
    "duration": 16,
    "start_time": "2022-01-08T13:24:13.396Z"
   },
   {
    "duration": 168,
    "start_time": "2022-01-08T13:26:14.477Z"
   },
   {
    "duration": 16,
    "start_time": "2022-01-08T13:26:49.509Z"
   },
   {
    "duration": 28,
    "start_time": "2022-01-08T13:28:48.335Z"
   },
   {
    "duration": 6,
    "start_time": "2022-01-08T13:30:29.883Z"
   },
   {
    "duration": 20,
    "start_time": "2022-01-08T13:32:07.866Z"
   },
   {
    "duration": 10,
    "start_time": "2022-01-08T13:32:24.679Z"
   },
   {
    "duration": 12,
    "start_time": "2022-01-08T13:48:25.701Z"
   },
   {
    "duration": 11,
    "start_time": "2022-01-08T13:49:30.389Z"
   },
   {
    "duration": 9,
    "start_time": "2022-01-08T13:50:41.264Z"
   },
   {
    "duration": 9,
    "start_time": "2022-01-08T13:51:30.742Z"
   },
   {
    "duration": 3,
    "start_time": "2022-01-08T14:27:56.556Z"
   },
   {
    "duration": 2,
    "start_time": "2022-01-08T14:29:34.825Z"
   },
   {
    "duration": 1016,
    "start_time": "2022-01-08T14:29:45.724Z"
   },
   {
    "duration": 1070,
    "start_time": "2022-01-08T14:32:18.171Z"
   },
   {
    "duration": 13,
    "start_time": "2022-01-08T14:32:19.243Z"
   },
   {
    "duration": 22,
    "start_time": "2022-01-08T14:32:19.258Z"
   },
   {
    "duration": 10,
    "start_time": "2022-01-08T14:32:19.282Z"
   },
   {
    "duration": 20,
    "start_time": "2022-01-08T14:32:19.294Z"
   },
   {
    "duration": 9,
    "start_time": "2022-01-08T14:32:19.316Z"
   },
   {
    "duration": 9,
    "start_time": "2022-01-08T14:32:19.327Z"
   },
   {
    "duration": 15,
    "start_time": "2022-01-08T14:32:19.338Z"
   },
   {
    "duration": 39,
    "start_time": "2022-01-08T14:32:19.355Z"
   },
   {
    "duration": 7,
    "start_time": "2022-01-08T14:32:19.396Z"
   },
   {
    "duration": 12,
    "start_time": "2022-01-08T14:32:19.406Z"
   },
   {
    "duration": 13,
    "start_time": "2022-01-08T14:32:19.421Z"
   },
   {
    "duration": 61,
    "start_time": "2022-01-08T14:32:19.436Z"
   },
   {
    "duration": 20,
    "start_time": "2022-01-08T14:32:19.499Z"
   },
   {
    "duration": 16,
    "start_time": "2022-01-08T14:32:19.521Z"
   },
   {
    "duration": 6,
    "start_time": "2022-01-08T14:32:19.539Z"
   },
   {
    "duration": 8,
    "start_time": "2022-01-08T14:32:19.547Z"
   },
   {
    "duration": 64,
    "start_time": "2022-01-08T14:32:19.557Z"
   },
   {
    "duration": 13,
    "start_time": "2022-01-08T14:32:19.629Z"
   },
   {
    "duration": 5,
    "start_time": "2022-01-08T14:32:19.643Z"
   },
   {
    "duration": 952,
    "start_time": "2022-01-08T14:32:19.649Z"
   },
   {
    "duration": -1207,
    "start_time": "2022-01-08T14:32:21.810Z"
   },
   {
    "duration": -1209,
    "start_time": "2022-01-08T14:32:21.814Z"
   },
   {
    "duration": -1211,
    "start_time": "2022-01-08T14:32:21.817Z"
   },
   {
    "duration": -1216,
    "start_time": "2022-01-08T14:32:21.823Z"
   },
   {
    "duration": -1217,
    "start_time": "2022-01-08T14:32:21.825Z"
   },
   {
    "duration": -1218,
    "start_time": "2022-01-08T14:32:21.827Z"
   },
   {
    "duration": -1219,
    "start_time": "2022-01-08T14:32:21.829Z"
   },
   {
    "duration": -1219,
    "start_time": "2022-01-08T14:32:21.831Z"
   },
   {
    "duration": -1221,
    "start_time": "2022-01-08T14:32:21.834Z"
   },
   {
    "duration": -1222,
    "start_time": "2022-01-08T14:32:21.836Z"
   },
   {
    "duration": -1223,
    "start_time": "2022-01-08T14:32:21.838Z"
   },
   {
    "duration": 997,
    "start_time": "2022-01-08T14:35:36.958Z"
   },
   {
    "duration": 11,
    "start_time": "2022-01-08T14:35:37.957Z"
   },
   {
    "duration": 32,
    "start_time": "2022-01-08T14:35:37.971Z"
   },
   {
    "duration": 8,
    "start_time": "2022-01-08T14:35:38.005Z"
   },
   {
    "duration": 19,
    "start_time": "2022-01-08T14:35:38.015Z"
   },
   {
    "duration": 8,
    "start_time": "2022-01-08T14:35:38.036Z"
   },
   {
    "duration": 8,
    "start_time": "2022-01-08T14:35:38.046Z"
   },
   {
    "duration": 42,
    "start_time": "2022-01-08T14:35:38.057Z"
   },
   {
    "duration": 7,
    "start_time": "2022-01-08T14:35:38.102Z"
   },
   {
    "duration": 7,
    "start_time": "2022-01-08T14:35:38.111Z"
   },
   {
    "duration": 10,
    "start_time": "2022-01-08T14:35:38.120Z"
   },
   {
    "duration": 7,
    "start_time": "2022-01-08T14:35:38.132Z"
   },
   {
    "duration": 57,
    "start_time": "2022-01-08T14:35:38.141Z"
   },
   {
    "duration": 17,
    "start_time": "2022-01-08T14:35:38.199Z"
   },
   {
    "duration": 14,
    "start_time": "2022-01-08T14:35:38.218Z"
   },
   {
    "duration": 7,
    "start_time": "2022-01-08T14:35:38.234Z"
   },
   {
    "duration": 7,
    "start_time": "2022-01-08T14:35:38.243Z"
   },
   {
    "duration": 67,
    "start_time": "2022-01-08T14:35:38.252Z"
   },
   {
    "duration": 9,
    "start_time": "2022-01-08T14:35:38.321Z"
   },
   {
    "duration": 7,
    "start_time": "2022-01-08T14:35:38.332Z"
   },
   {
    "duration": 4,
    "start_time": "2022-01-08T14:35:38.341Z"
   },
   {
    "duration": 1106,
    "start_time": "2022-01-08T14:35:38.346Z"
   },
   {
    "duration": -1228,
    "start_time": "2022-01-08T14:35:40.682Z"
   },
   {
    "duration": -1230,
    "start_time": "2022-01-08T14:35:40.685Z"
   },
   {
    "duration": -1231,
    "start_time": "2022-01-08T14:35:40.688Z"
   },
   {
    "duration": -1258,
    "start_time": "2022-01-08T14:35:40.716Z"
   },
   {
    "duration": -1260,
    "start_time": "2022-01-08T14:35:40.719Z"
   },
   {
    "duration": -1268,
    "start_time": "2022-01-08T14:35:40.728Z"
   },
   {
    "duration": -1270,
    "start_time": "2022-01-08T14:35:40.732Z"
   },
   {
    "duration": -1272,
    "start_time": "2022-01-08T14:35:40.735Z"
   },
   {
    "duration": -1274,
    "start_time": "2022-01-08T14:35:40.738Z"
   },
   {
    "duration": -1282,
    "start_time": "2022-01-08T14:35:40.747Z"
   },
   {
    "duration": -1284,
    "start_time": "2022-01-08T14:35:40.751Z"
   },
   {
    "duration": 11,
    "start_time": "2022-01-08T14:36:04.651Z"
   },
   {
    "duration": 3,
    "start_time": "2022-01-08T14:36:40.675Z"
   },
   {
    "duration": 850,
    "start_time": "2022-01-08T14:36:42.906Z"
   },
   {
    "duration": 3,
    "start_time": "2022-01-08T14:37:11.340Z"
   },
   {
    "duration": 880,
    "start_time": "2022-01-08T14:37:12.703Z"
   },
   {
    "duration": 4,
    "start_time": "2022-01-08T14:39:01.506Z"
   },
   {
    "duration": 263,
    "start_time": "2022-01-08T14:39:02.858Z"
   },
   {
    "duration": 1079,
    "start_time": "2022-01-08T14:39:16.951Z"
   },
   {
    "duration": 13,
    "start_time": "2022-01-08T14:39:18.031Z"
   },
   {
    "duration": 34,
    "start_time": "2022-01-08T14:39:18.046Z"
   },
   {
    "duration": 11,
    "start_time": "2022-01-08T14:39:18.082Z"
   },
   {
    "duration": 27,
    "start_time": "2022-01-08T14:39:18.095Z"
   },
   {
    "duration": 8,
    "start_time": "2022-01-08T14:39:18.124Z"
   },
   {
    "duration": 9,
    "start_time": "2022-01-08T14:39:18.134Z"
   },
   {
    "duration": 14,
    "start_time": "2022-01-08T14:39:18.145Z"
   },
   {
    "duration": 32,
    "start_time": "2022-01-08T14:39:18.162Z"
   },
   {
    "duration": 9,
    "start_time": "2022-01-08T14:39:18.197Z"
   },
   {
    "duration": 13,
    "start_time": "2022-01-08T14:39:18.208Z"
   },
   {
    "duration": 8,
    "start_time": "2022-01-08T14:39:18.223Z"
   },
   {
    "duration": 24,
    "start_time": "2022-01-08T14:39:18.233Z"
   },
   {
    "duration": 47,
    "start_time": "2022-01-08T14:39:18.259Z"
   },
   {
    "duration": 23,
    "start_time": "2022-01-08T14:39:18.308Z"
   },
   {
    "duration": 9,
    "start_time": "2022-01-08T14:39:18.333Z"
   },
   {
    "duration": 9,
    "start_time": "2022-01-08T14:39:18.344Z"
   },
   {
    "duration": 66,
    "start_time": "2022-01-08T14:39:18.355Z"
   },
   {
    "duration": 9,
    "start_time": "2022-01-08T14:39:18.423Z"
   },
   {
    "duration": 4,
    "start_time": "2022-01-08T14:39:18.433Z"
   },
   {
    "duration": 241,
    "start_time": "2022-01-08T14:39:18.439Z"
   },
   {
    "duration": 38,
    "start_time": "2022-01-08T14:39:18.682Z"
   },
   {
    "duration": 30,
    "start_time": "2022-01-08T14:39:18.724Z"
   },
   {
    "duration": 5,
    "start_time": "2022-01-08T14:39:18.757Z"
   },
   {
    "duration": 47,
    "start_time": "2022-01-08T14:39:18.763Z"
   },
   {
    "duration": 13,
    "start_time": "2022-01-08T14:39:18.813Z"
   },
   {
    "duration": 3,
    "start_time": "2022-01-08T14:39:18.828Z"
   },
   {
    "duration": 59,
    "start_time": "2022-01-08T14:39:18.833Z"
   },
   {
    "duration": 27,
    "start_time": "2022-01-08T14:39:18.893Z"
   },
   {
    "duration": 18,
    "start_time": "2022-01-08T14:39:18.922Z"
   },
   {
    "duration": 6,
    "start_time": "2022-01-08T14:39:18.941Z"
   },
   {
    "duration": 16,
    "start_time": "2022-01-08T14:39:18.949Z"
   },
   {
    "duration": 17,
    "start_time": "2022-01-08T14:40:36.961Z"
   },
   {
    "duration": 1095,
    "start_time": "2022-01-08T14:41:01.318Z"
   },
   {
    "duration": 17,
    "start_time": "2022-01-08T14:41:02.417Z"
   },
   {
    "duration": 22,
    "start_time": "2022-01-08T14:41:02.437Z"
   },
   {
    "duration": 8,
    "start_time": "2022-01-08T14:41:02.461Z"
   },
   {
    "duration": 37,
    "start_time": "2022-01-08T14:41:02.470Z"
   },
   {
    "duration": 8,
    "start_time": "2022-01-08T14:41:02.509Z"
   },
   {
    "duration": 11,
    "start_time": "2022-01-08T14:41:02.519Z"
   },
   {
    "duration": 14,
    "start_time": "2022-01-08T14:41:02.533Z"
   },
   {
    "duration": 8,
    "start_time": "2022-01-08T14:41:02.549Z"
   },
   {
    "duration": 38,
    "start_time": "2022-01-08T14:41:02.558Z"
   },
   {
    "duration": 11,
    "start_time": "2022-01-08T14:41:02.599Z"
   },
   {
    "duration": 8,
    "start_time": "2022-01-08T14:41:02.612Z"
   },
   {
    "duration": 26,
    "start_time": "2022-01-08T14:41:02.621Z"
   },
   {
    "duration": 45,
    "start_time": "2022-01-08T14:41:02.649Z"
   },
   {
    "duration": 23,
    "start_time": "2022-01-08T14:41:02.696Z"
   },
   {
    "duration": 8,
    "start_time": "2022-01-08T14:41:02.721Z"
   },
   {
    "duration": 8,
    "start_time": "2022-01-08T14:41:02.731Z"
   },
   {
    "duration": 64,
    "start_time": "2022-01-08T14:41:02.740Z"
   },
   {
    "duration": 10,
    "start_time": "2022-01-08T14:41:02.806Z"
   },
   {
    "duration": 19,
    "start_time": "2022-01-08T14:41:02.819Z"
   },
   {
    "duration": 52,
    "start_time": "2022-01-08T14:41:02.841Z"
   },
   {
    "duration": 31,
    "start_time": "2022-01-08T14:41:02.895Z"
   },
   {
    "duration": 6,
    "start_time": "2022-01-08T14:41:02.929Z"
   },
   {
    "duration": 17,
    "start_time": "2022-01-08T14:41:02.937Z"
   },
   {
    "duration": 48,
    "start_time": "2022-01-08T14:41:02.956Z"
   },
   {
    "duration": 3,
    "start_time": "2022-01-08T14:41:03.006Z"
   },
   {
    "duration": 35,
    "start_time": "2022-01-08T14:41:03.010Z"
   },
   {
    "duration": 55,
    "start_time": "2022-01-08T14:41:03.046Z"
   },
   {
    "duration": 26,
    "start_time": "2022-01-08T14:41:03.104Z"
   },
   {
    "duration": 6,
    "start_time": "2022-01-08T14:41:03.132Z"
   },
   {
    "duration": 15,
    "start_time": "2022-01-08T14:41:03.139Z"
   },
   {
    "duration": 17,
    "start_time": "2022-01-08T14:42:53.638Z"
   },
   {
    "duration": 1293,
    "start_time": "2022-01-08T14:43:06.938Z"
   },
   {
    "duration": 11,
    "start_time": "2022-01-08T14:43:08.233Z"
   },
   {
    "duration": 21,
    "start_time": "2022-01-08T14:43:08.246Z"
   },
   {
    "duration": 8,
    "start_time": "2022-01-08T14:43:08.269Z"
   },
   {
    "duration": 18,
    "start_time": "2022-01-08T14:43:08.279Z"
   },
   {
    "duration": 7,
    "start_time": "2022-01-08T14:43:08.299Z"
   },
   {
    "duration": 7,
    "start_time": "2022-01-08T14:43:08.307Z"
   },
   {
    "duration": 15,
    "start_time": "2022-01-08T14:43:08.316Z"
   },
   {
    "duration": 7,
    "start_time": "2022-01-08T14:43:08.333Z"
   },
   {
    "duration": 9,
    "start_time": "2022-01-08T14:43:08.341Z"
   },
   {
    "duration": 43,
    "start_time": "2022-01-08T14:43:08.351Z"
   },
   {
    "duration": 8,
    "start_time": "2022-01-08T14:43:08.396Z"
   },
   {
    "duration": 25,
    "start_time": "2022-01-08T14:43:08.406Z"
   },
   {
    "duration": 18,
    "start_time": "2022-01-08T14:43:08.433Z"
   },
   {
    "duration": 49,
    "start_time": "2022-01-08T14:43:08.453Z"
   },
   {
    "duration": 7,
    "start_time": "2022-01-08T14:43:08.504Z"
   },
   {
    "duration": 8,
    "start_time": "2022-01-08T14:43:08.513Z"
   },
   {
    "duration": 33,
    "start_time": "2022-01-08T14:43:08.523Z"
   },
   {
    "duration": 34,
    "start_time": "2022-01-08T14:43:08.558Z"
   },
   {
    "duration": 21,
    "start_time": "2022-01-08T14:43:08.594Z"
   },
   {
    "duration": 25,
    "start_time": "2022-01-08T14:43:08.617Z"
   },
   {
    "duration": 58,
    "start_time": "2022-01-08T14:43:08.644Z"
   },
   {
    "duration": 6,
    "start_time": "2022-01-08T14:43:08.705Z"
   },
   {
    "duration": 16,
    "start_time": "2022-01-08T14:43:08.713Z"
   },
   {
    "duration": 11,
    "start_time": "2022-01-08T14:43:08.731Z"
   },
   {
    "duration": 5,
    "start_time": "2022-01-08T14:43:08.743Z"
   },
   {
    "duration": 67,
    "start_time": "2022-01-08T14:43:08.750Z"
   },
   {
    "duration": 24,
    "start_time": "2022-01-08T14:43:08.819Z"
   },
   {
    "duration": 16,
    "start_time": "2022-01-08T14:43:08.845Z"
   },
   {
    "duration": 6,
    "start_time": "2022-01-08T14:43:08.862Z"
   },
   {
    "duration": 30,
    "start_time": "2022-01-08T14:43:08.869Z"
   },
   {
    "duration": 14,
    "start_time": "2022-01-08T14:43:59.109Z"
   },
   {
    "duration": 10,
    "start_time": "2022-01-08T14:44:52.721Z"
   },
   {
    "duration": 1057,
    "start_time": "2022-01-08T14:54:24.150Z"
   },
   {
    "duration": 17,
    "start_time": "2022-01-08T14:54:25.211Z"
   },
   {
    "duration": 28,
    "start_time": "2022-01-08T14:54:25.231Z"
   },
   {
    "duration": 31,
    "start_time": "2022-01-08T14:54:25.261Z"
   },
   {
    "duration": 37,
    "start_time": "2022-01-08T14:54:25.296Z"
   },
   {
    "duration": 8,
    "start_time": "2022-01-08T14:54:25.334Z"
   },
   {
    "duration": 9,
    "start_time": "2022-01-08T14:54:25.343Z"
   },
   {
    "duration": 61,
    "start_time": "2022-01-08T14:54:25.354Z"
   },
   {
    "duration": 11,
    "start_time": "2022-01-08T14:54:25.418Z"
   },
   {
    "duration": 7,
    "start_time": "2022-01-08T14:54:25.431Z"
   },
   {
    "duration": 14,
    "start_time": "2022-01-08T14:54:25.440Z"
   },
   {
    "duration": 6,
    "start_time": "2022-01-08T14:54:25.456Z"
   },
   {
    "duration": 60,
    "start_time": "2022-01-08T14:54:25.464Z"
   },
   {
    "duration": 28,
    "start_time": "2022-01-08T14:54:25.527Z"
   },
   {
    "duration": 42,
    "start_time": "2022-01-08T14:54:25.556Z"
   },
   {
    "duration": 11,
    "start_time": "2022-01-08T14:54:25.601Z"
   },
   {
    "duration": 13,
    "start_time": "2022-01-08T14:54:25.614Z"
   },
   {
    "duration": 36,
    "start_time": "2022-01-08T14:54:25.629Z"
   },
   {
    "duration": 38,
    "start_time": "2022-01-08T14:54:25.667Z"
   },
   {
    "duration": 13,
    "start_time": "2022-01-08T14:54:25.707Z"
   },
   {
    "duration": 26,
    "start_time": "2022-01-08T14:54:25.722Z"
   },
   {
    "duration": 41,
    "start_time": "2022-01-08T14:54:25.751Z"
   },
   {
    "duration": 44,
    "start_time": "2022-01-08T14:54:25.796Z"
   },
   {
    "duration": 7,
    "start_time": "2022-01-08T14:54:25.843Z"
   },
   {
    "duration": 44,
    "start_time": "2022-01-08T14:54:25.852Z"
   },
   {
    "duration": 12,
    "start_time": "2022-01-08T14:54:25.898Z"
   },
   {
    "duration": 5,
    "start_time": "2022-01-08T14:54:25.912Z"
   },
   {
    "duration": 38,
    "start_time": "2022-01-08T14:54:25.920Z"
   },
   {
    "duration": 45,
    "start_time": "2022-01-08T14:54:25.960Z"
   },
   {
    "duration": 23,
    "start_time": "2022-01-08T14:54:26.007Z"
   },
   {
    "duration": 6,
    "start_time": "2022-01-08T14:54:26.031Z"
   },
   {
    "duration": 250,
    "start_time": "2022-01-08T14:54:26.038Z"
   },
   {
    "duration": 3,
    "start_time": "2022-01-08T15:00:55.563Z"
   },
   {
    "duration": 12,
    "start_time": "2022-01-08T15:01:07.774Z"
   },
   {
    "duration": 4,
    "start_time": "2022-01-08T15:01:27.934Z"
   },
   {
    "duration": 11,
    "start_time": "2022-01-08T15:01:28.608Z"
   },
   {
    "duration": 23,
    "start_time": "2022-01-08T15:05:07.819Z"
   },
   {
    "duration": 30,
    "start_time": "2022-01-08T15:06:57.539Z"
   },
   {
    "duration": 26,
    "start_time": "2022-01-08T15:07:07.931Z"
   },
   {
    "duration": 22,
    "start_time": "2022-01-08T15:07:21.754Z"
   },
   {
    "duration": 50,
    "start_time": "2022-01-08T15:11:05.325Z"
   },
   {
    "duration": 39,
    "start_time": "2022-01-08T15:11:20.944Z"
   },
   {
    "duration": 21,
    "start_time": "2022-01-08T15:13:35.980Z"
   },
   {
    "duration": 32,
    "start_time": "2022-01-08T15:14:25.403Z"
   },
   {
    "duration": 4360,
    "start_time": "2022-01-08T15:15:47.992Z"
   },
   {
    "duration": 1000,
    "start_time": "2022-01-08T15:16:17.416Z"
   },
   {
    "duration": 12,
    "start_time": "2022-01-08T15:16:18.417Z"
   },
   {
    "duration": 22,
    "start_time": "2022-01-08T15:16:18.430Z"
   },
   {
    "duration": 7,
    "start_time": "2022-01-08T15:16:18.454Z"
   },
   {
    "duration": 18,
    "start_time": "2022-01-08T15:16:18.463Z"
   },
   {
    "duration": 13,
    "start_time": "2022-01-08T15:16:18.482Z"
   },
   {
    "duration": 8,
    "start_time": "2022-01-08T15:16:18.497Z"
   },
   {
    "duration": 14,
    "start_time": "2022-01-08T15:16:18.509Z"
   },
   {
    "duration": 8,
    "start_time": "2022-01-08T15:16:18.526Z"
   },
   {
    "duration": 8,
    "start_time": "2022-01-08T15:16:18.536Z"
   },
   {
    "duration": 47,
    "start_time": "2022-01-08T15:16:18.546Z"
   },
   {
    "duration": 8,
    "start_time": "2022-01-08T15:16:18.595Z"
   },
   {
    "duration": 24,
    "start_time": "2022-01-08T15:16:18.605Z"
   },
   {
    "duration": 18,
    "start_time": "2022-01-08T15:16:18.631Z"
   },
   {
    "duration": 45,
    "start_time": "2022-01-08T15:16:18.651Z"
   },
   {
    "duration": 7,
    "start_time": "2022-01-08T15:16:18.698Z"
   },
   {
    "duration": 9,
    "start_time": "2022-01-08T15:16:18.707Z"
   },
   {
    "duration": 32,
    "start_time": "2022-01-08T15:16:18.718Z"
   },
   {
    "duration": 39,
    "start_time": "2022-01-08T15:16:18.751Z"
   },
   {
    "duration": 13,
    "start_time": "2022-01-08T15:16:18.792Z"
   },
   {
    "duration": 23,
    "start_time": "2022-01-08T15:16:18.807Z"
   },
   {
    "duration": 9,
    "start_time": "2022-01-08T15:16:18.832Z"
   },
   {
    "duration": 60,
    "start_time": "2022-01-08T15:16:18.845Z"
   },
   {
    "duration": 6,
    "start_time": "2022-01-08T15:16:18.907Z"
   },
   {
    "duration": 20,
    "start_time": "2022-01-08T15:16:18.915Z"
   },
   {
    "duration": 11,
    "start_time": "2022-01-08T15:16:18.937Z"
   },
   {
    "duration": 16,
    "start_time": "2022-01-08T15:16:18.949Z"
   },
   {
    "duration": 48,
    "start_time": "2022-01-08T15:16:18.966Z"
   },
   {
    "duration": 24,
    "start_time": "2022-01-08T15:16:19.016Z"
   },
   {
    "duration": 18,
    "start_time": "2022-01-08T15:16:19.042Z"
   },
   {
    "duration": 29,
    "start_time": "2022-01-08T15:16:19.062Z"
   },
   {
    "duration": 49,
    "start_time": "2022-01-08T15:16:19.093Z"
   },
   {
    "duration": 49,
    "start_time": "2022-01-08T15:16:19.143Z"
   },
   {
    "duration": 34,
    "start_time": "2022-01-08T15:16:19.194Z"
   },
   {
    "duration": 1002,
    "start_time": "2022-01-08T15:18:09.439Z"
   },
   {
    "duration": 11,
    "start_time": "2022-01-08T15:18:10.443Z"
   },
   {
    "duration": 30,
    "start_time": "2022-01-08T15:18:10.456Z"
   },
   {
    "duration": 8,
    "start_time": "2022-01-08T15:18:10.487Z"
   },
   {
    "duration": 18,
    "start_time": "2022-01-08T15:18:10.497Z"
   },
   {
    "duration": 7,
    "start_time": "2022-01-08T15:18:10.516Z"
   },
   {
    "duration": 6,
    "start_time": "2022-01-08T15:18:10.524Z"
   },
   {
    "duration": 16,
    "start_time": "2022-01-08T15:18:10.533Z"
   },
   {
    "duration": 6,
    "start_time": "2022-01-08T15:18:10.551Z"
   },
   {
    "duration": 36,
    "start_time": "2022-01-08T15:18:10.559Z"
   },
   {
    "duration": 12,
    "start_time": "2022-01-08T15:18:10.597Z"
   },
   {
    "duration": 9,
    "start_time": "2022-01-08T15:18:10.610Z"
   },
   {
    "duration": 25,
    "start_time": "2022-01-08T15:18:10.620Z"
   },
   {
    "duration": 17,
    "start_time": "2022-01-08T15:18:10.646Z"
   },
   {
    "duration": 38,
    "start_time": "2022-01-08T15:18:10.665Z"
   },
   {
    "duration": 6,
    "start_time": "2022-01-08T15:18:10.705Z"
   },
   {
    "duration": 9,
    "start_time": "2022-01-08T15:18:10.712Z"
   },
   {
    "duration": 32,
    "start_time": "2022-01-08T15:18:10.722Z"
   },
   {
    "duration": 8,
    "start_time": "2022-01-08T15:18:10.756Z"
   },
   {
    "duration": 36,
    "start_time": "2022-01-08T15:18:10.765Z"
   },
   {
    "duration": 25,
    "start_time": "2022-01-08T15:18:10.803Z"
   },
   {
    "duration": 8,
    "start_time": "2022-01-08T15:18:10.829Z"
   },
   {
    "duration": 59,
    "start_time": "2022-01-08T15:18:10.839Z"
   },
   {
    "duration": 5,
    "start_time": "2022-01-08T15:18:10.900Z"
   },
   {
    "duration": 17,
    "start_time": "2022-01-08T15:18:10.907Z"
   },
   {
    "duration": 12,
    "start_time": "2022-01-08T15:18:10.925Z"
   },
   {
    "duration": 6,
    "start_time": "2022-01-08T15:18:10.939Z"
   },
   {
    "duration": 51,
    "start_time": "2022-01-08T15:18:10.947Z"
   },
   {
    "duration": 23,
    "start_time": "2022-01-08T15:18:11.000Z"
   },
   {
    "duration": 18,
    "start_time": "2022-01-08T15:18:11.024Z"
   },
   {
    "duration": 6,
    "start_time": "2022-01-08T15:18:11.044Z"
   },
   {
    "duration": 75,
    "start_time": "2022-01-08T15:18:11.052Z"
   },
   {
    "duration": 37,
    "start_time": "2022-01-08T15:18:11.128Z"
   },
   {
    "duration": 45,
    "start_time": "2022-01-08T15:18:11.167Z"
   },
   {
    "duration": 294,
    "start_time": "2022-01-08T15:28:47.999Z"
   },
   {
    "duration": 210,
    "start_time": "2022-01-08T15:29:10.278Z"
   },
   {
    "duration": 8,
    "start_time": "2022-01-08T15:29:26.772Z"
   },
   {
    "duration": 194,
    "start_time": "2022-01-08T15:29:37.622Z"
   },
   {
    "duration": 22,
    "start_time": "2022-01-08T15:29:56.260Z"
   },
   {
    "duration": 18,
    "start_time": "2022-01-08T15:37:08.754Z"
   },
   {
    "duration": 9,
    "start_time": "2022-01-08T15:37:23.962Z"
   },
   {
    "duration": 11,
    "start_time": "2022-01-08T15:37:38.582Z"
   },
   {
    "duration": 13,
    "start_time": "2022-01-08T15:37:40.169Z"
   },
   {
    "duration": 4,
    "start_time": "2022-01-08T15:42:12.932Z"
   },
   {
    "duration": 206,
    "start_time": "2022-01-08T15:42:15.580Z"
   },
   {
    "duration": 36,
    "start_time": "2022-01-08T15:42:24.363Z"
   },
   {
    "duration": 4207,
    "start_time": "2022-01-08T15:45:24.293Z"
   },
   {
    "duration": 5079,
    "start_time": "2022-01-08T15:45:43.233Z"
   },
   {
    "duration": 1074,
    "start_time": "2022-01-08T15:45:59.393Z"
   },
   {
    "duration": 12,
    "start_time": "2022-01-08T15:46:00.469Z"
   },
   {
    "duration": 33,
    "start_time": "2022-01-08T15:46:00.483Z"
   },
   {
    "duration": 8,
    "start_time": "2022-01-08T15:46:00.518Z"
   },
   {
    "duration": 23,
    "start_time": "2022-01-08T15:46:00.528Z"
   },
   {
    "duration": 9,
    "start_time": "2022-01-08T15:46:00.553Z"
   },
   {
    "duration": 23,
    "start_time": "2022-01-08T15:46:00.564Z"
   },
   {
    "duration": 16,
    "start_time": "2022-01-08T15:46:00.590Z"
   },
   {
    "duration": 19,
    "start_time": "2022-01-08T15:46:00.608Z"
   },
   {
    "duration": 18,
    "start_time": "2022-01-08T15:46:00.629Z"
   },
   {
    "duration": 22,
    "start_time": "2022-01-08T15:46:00.648Z"
   },
   {
    "duration": 15,
    "start_time": "2022-01-08T15:46:00.672Z"
   },
   {
    "duration": 31,
    "start_time": "2022-01-08T15:46:00.689Z"
   },
   {
    "duration": 17,
    "start_time": "2022-01-08T15:46:00.722Z"
   },
   {
    "duration": 29,
    "start_time": "2022-01-08T15:46:00.741Z"
   },
   {
    "duration": 17,
    "start_time": "2022-01-08T15:46:00.772Z"
   },
   {
    "duration": 15,
    "start_time": "2022-01-08T15:46:00.791Z"
   },
   {
    "duration": 46,
    "start_time": "2022-01-08T15:46:00.808Z"
   },
   {
    "duration": 8,
    "start_time": "2022-01-08T15:46:00.855Z"
   },
   {
    "duration": 23,
    "start_time": "2022-01-08T15:46:00.865Z"
   },
   {
    "duration": 24,
    "start_time": "2022-01-08T15:46:00.890Z"
   },
   {
    "duration": 21,
    "start_time": "2022-01-08T15:46:00.916Z"
   },
   {
    "duration": 27,
    "start_time": "2022-01-08T15:46:00.941Z"
   },
   {
    "duration": 23,
    "start_time": "2022-01-08T15:46:00.969Z"
   },
   {
    "duration": 14,
    "start_time": "2022-01-08T15:46:00.994Z"
   },
   {
    "duration": 22,
    "start_time": "2022-01-08T15:46:01.010Z"
   },
   {
    "duration": 20,
    "start_time": "2022-01-08T15:46:01.033Z"
   },
   {
    "duration": 49,
    "start_time": "2022-01-08T15:46:01.054Z"
   },
   {
    "duration": 24,
    "start_time": "2022-01-08T15:46:01.105Z"
   },
   {
    "duration": 18,
    "start_time": "2022-01-08T15:46:01.130Z"
   },
   {
    "duration": 6,
    "start_time": "2022-01-08T15:46:01.150Z"
   },
   {
    "duration": 81,
    "start_time": "2022-01-08T15:46:01.158Z"
   },
   {
    "duration": 40,
    "start_time": "2022-01-08T15:46:01.241Z"
   },
   {
    "duration": 40,
    "start_time": "2022-01-08T15:46:01.283Z"
   },
   {
    "duration": 4,
    "start_time": "2022-01-08T15:46:01.325Z"
   },
   {
    "duration": 49,
    "start_time": "2022-01-08T15:46:01.331Z"
   },
   {
    "duration": 9,
    "start_time": "2022-01-08T15:47:26.510Z"
   },
   {
    "duration": 1022,
    "start_time": "2022-01-08T15:50:31.631Z"
   },
   {
    "duration": 13,
    "start_time": "2022-01-08T15:50:32.655Z"
   },
   {
    "duration": 24,
    "start_time": "2022-01-08T15:50:32.673Z"
   },
   {
    "duration": 10,
    "start_time": "2022-01-08T15:50:32.699Z"
   },
   {
    "duration": 21,
    "start_time": "2022-01-08T15:50:32.711Z"
   },
   {
    "duration": 8,
    "start_time": "2022-01-08T15:50:32.734Z"
   },
   {
    "duration": 16,
    "start_time": "2022-01-08T15:50:32.745Z"
   },
   {
    "duration": 40,
    "start_time": "2022-01-08T15:50:32.764Z"
   },
   {
    "duration": 9,
    "start_time": "2022-01-08T15:50:32.806Z"
   },
   {
    "duration": 8,
    "start_time": "2022-01-08T15:50:32.817Z"
   },
   {
    "duration": 13,
    "start_time": "2022-01-08T15:50:32.827Z"
   },
   {
    "duration": 7,
    "start_time": "2022-01-08T15:50:32.841Z"
   },
   {
    "duration": 52,
    "start_time": "2022-01-08T15:50:32.849Z"
   },
   {
    "duration": 16,
    "start_time": "2022-01-08T15:50:32.903Z"
   },
   {
    "duration": 14,
    "start_time": "2022-01-08T15:50:32.921Z"
   },
   {
    "duration": 7,
    "start_time": "2022-01-08T15:50:32.937Z"
   },
   {
    "duration": 10,
    "start_time": "2022-01-08T15:50:32.945Z"
   },
   {
    "duration": 62,
    "start_time": "2022-01-08T15:50:32.956Z"
   },
   {
    "duration": 9,
    "start_time": "2022-01-08T15:50:33.019Z"
   },
   {
    "duration": 14,
    "start_time": "2022-01-08T15:50:33.029Z"
   },
   {
    "duration": 24,
    "start_time": "2022-01-08T15:50:33.044Z"
   },
   {
    "duration": 13,
    "start_time": "2022-01-08T15:50:33.091Z"
   },
   {
    "duration": 26,
    "start_time": "2022-01-08T15:50:33.106Z"
   },
   {
    "duration": 5,
    "start_time": "2022-01-08T15:50:33.134Z"
   },
   {
    "duration": 16,
    "start_time": "2022-01-08T15:50:33.140Z"
   },
   {
    "duration": 43,
    "start_time": "2022-01-08T15:50:33.158Z"
   },
   {
    "duration": 6,
    "start_time": "2022-01-08T15:50:33.203Z"
   },
   {
    "duration": 32,
    "start_time": "2022-01-08T15:50:33.211Z"
   },
   {
    "duration": 23,
    "start_time": "2022-01-08T15:50:33.245Z"
   },
   {
    "duration": 37,
    "start_time": "2022-01-08T15:50:33.269Z"
   },
   {
    "duration": 5,
    "start_time": "2022-01-08T15:50:33.308Z"
   },
   {
    "duration": 52,
    "start_time": "2022-01-08T15:50:33.315Z"
   },
   {
    "duration": 55,
    "start_time": "2022-01-08T15:50:33.369Z"
   },
   {
    "duration": 33,
    "start_time": "2022-01-08T15:50:33.426Z"
   },
   {
    "duration": 4,
    "start_time": "2022-01-08T15:50:33.460Z"
   },
   {
    "duration": 54,
    "start_time": "2022-01-08T15:50:33.466Z"
   },
   {
    "duration": 8,
    "start_time": "2022-01-08T15:50:33.522Z"
   },
   {
    "duration": 12,
    "start_time": "2022-01-08T16:31:11.747Z"
   },
   {
    "duration": 13,
    "start_time": "2022-01-08T16:32:09.088Z"
   },
   {
    "duration": 12,
    "start_time": "2022-01-08T16:32:46.151Z"
   },
   {
    "duration": 14,
    "start_time": "2022-01-08T16:32:57.641Z"
   },
   {
    "duration": 19,
    "start_time": "2022-01-08T16:33:28.394Z"
   },
   {
    "duration": 1010,
    "start_time": "2022-01-08T16:34:43.425Z"
   },
   {
    "duration": 11,
    "start_time": "2022-01-08T16:34:44.437Z"
   },
   {
    "duration": 22,
    "start_time": "2022-01-08T16:34:44.450Z"
   },
   {
    "duration": 7,
    "start_time": "2022-01-08T16:34:44.474Z"
   },
   {
    "duration": 18,
    "start_time": "2022-01-08T16:34:44.483Z"
   },
   {
    "duration": 8,
    "start_time": "2022-01-08T16:34:44.502Z"
   },
   {
    "duration": 9,
    "start_time": "2022-01-08T16:34:44.512Z"
   },
   {
    "duration": 13,
    "start_time": "2022-01-08T16:34:44.524Z"
   },
   {
    "duration": 6,
    "start_time": "2022-01-08T16:34:44.539Z"
   },
   {
    "duration": 6,
    "start_time": "2022-01-08T16:34:44.547Z"
   },
   {
    "duration": 38,
    "start_time": "2022-01-08T16:34:44.554Z"
   },
   {
    "duration": 7,
    "start_time": "2022-01-08T16:34:44.593Z"
   },
   {
    "duration": 23,
    "start_time": "2022-01-08T16:34:44.601Z"
   },
   {
    "duration": 16,
    "start_time": "2022-01-08T16:34:44.626Z"
   },
   {
    "duration": 14,
    "start_time": "2022-01-08T16:34:44.644Z"
   },
   {
    "duration": 33,
    "start_time": "2022-01-08T16:34:44.660Z"
   },
   {
    "duration": 7,
    "start_time": "2022-01-08T16:34:44.694Z"
   },
   {
    "duration": 34,
    "start_time": "2022-01-08T16:34:44.703Z"
   },
   {
    "duration": 8,
    "start_time": "2022-01-08T16:34:44.738Z"
   },
   {
    "duration": 12,
    "start_time": "2022-01-08T16:34:44.748Z"
   },
   {
    "duration": 53,
    "start_time": "2022-01-08T16:34:44.762Z"
   },
   {
    "duration": 9,
    "start_time": "2022-01-08T16:34:44.816Z"
   },
   {
    "duration": 29,
    "start_time": "2022-01-08T16:34:44.829Z"
   },
   {
    "duration": 35,
    "start_time": "2022-01-08T16:34:44.860Z"
   },
   {
    "duration": 19,
    "start_time": "2022-01-08T16:34:44.896Z"
   },
   {
    "duration": 14,
    "start_time": "2022-01-08T16:34:44.917Z"
   },
   {
    "duration": 3,
    "start_time": "2022-01-08T16:34:44.933Z"
   },
   {
    "duration": 69,
    "start_time": "2022-01-08T16:34:44.938Z"
   },
   {
    "duration": 24,
    "start_time": "2022-01-08T16:34:45.010Z"
   },
   {
    "duration": 17,
    "start_time": "2022-01-08T16:34:45.035Z"
   },
   {
    "duration": 5,
    "start_time": "2022-01-08T16:34:45.054Z"
   },
   {
    "duration": 76,
    "start_time": "2022-01-08T16:34:45.060Z"
   },
   {
    "duration": 40,
    "start_time": "2022-01-08T16:34:45.137Z"
   },
   {
    "duration": 14,
    "start_time": "2022-01-08T16:34:45.191Z"
   },
   {
    "duration": 37,
    "start_time": "2022-01-08T16:34:45.206Z"
   },
   {
    "duration": 3,
    "start_time": "2022-01-08T16:34:45.245Z"
   },
   {
    "duration": 57,
    "start_time": "2022-01-08T16:34:45.250Z"
   },
   {
    "duration": 8,
    "start_time": "2022-01-08T16:34:45.309Z"
   },
   {
    "duration": 1022,
    "start_time": "2022-01-08T16:36:01.046Z"
   },
   {
    "duration": 12,
    "start_time": "2022-01-08T16:36:02.070Z"
   },
   {
    "duration": 33,
    "start_time": "2022-01-08T16:36:02.084Z"
   },
   {
    "duration": 9,
    "start_time": "2022-01-08T16:36:02.119Z"
   },
   {
    "duration": 23,
    "start_time": "2022-01-08T16:36:02.129Z"
   },
   {
    "duration": 8,
    "start_time": "2022-01-08T16:36:02.154Z"
   },
   {
    "duration": 17,
    "start_time": "2022-01-08T16:36:02.164Z"
   },
   {
    "duration": 32,
    "start_time": "2022-01-08T16:36:02.183Z"
   },
   {
    "duration": 13,
    "start_time": "2022-01-08T16:36:02.217Z"
   },
   {
    "duration": 11,
    "start_time": "2022-01-08T16:36:02.232Z"
   },
   {
    "duration": 12,
    "start_time": "2022-01-08T16:36:02.245Z"
   },
   {
    "duration": 9,
    "start_time": "2022-01-08T16:36:02.259Z"
   },
   {
    "duration": 55,
    "start_time": "2022-01-08T16:36:02.270Z"
   },
   {
    "duration": 25,
    "start_time": "2022-01-08T16:36:02.327Z"
   },
   {
    "duration": 15,
    "start_time": "2022-01-08T16:36:02.353Z"
   },
   {
    "duration": 24,
    "start_time": "2022-01-08T16:36:02.370Z"
   },
   {
    "duration": 14,
    "start_time": "2022-01-08T16:36:02.396Z"
   },
   {
    "duration": 38,
    "start_time": "2022-01-08T16:36:02.412Z"
   },
   {
    "duration": 10,
    "start_time": "2022-01-08T16:36:02.452Z"
   },
   {
    "duration": 40,
    "start_time": "2022-01-08T16:36:02.464Z"
   },
   {
    "duration": 32,
    "start_time": "2022-01-08T16:36:02.506Z"
   },
   {
    "duration": 10,
    "start_time": "2022-01-08T16:36:02.540Z"
   },
   {
    "duration": 57,
    "start_time": "2022-01-08T16:36:02.554Z"
   },
   {
    "duration": 6,
    "start_time": "2022-01-08T16:36:02.613Z"
   },
   {
    "duration": 20,
    "start_time": "2022-01-08T16:36:02.620Z"
   },
   {
    "duration": 11,
    "start_time": "2022-01-08T16:36:02.642Z"
   },
   {
    "duration": 5,
    "start_time": "2022-01-08T16:36:02.655Z"
   },
   {
    "duration": 61,
    "start_time": "2022-01-08T16:36:02.662Z"
   },
   {
    "duration": 24,
    "start_time": "2022-01-08T16:36:02.725Z"
   },
   {
    "duration": 48,
    "start_time": "2022-01-08T16:36:02.752Z"
   },
   {
    "duration": 10,
    "start_time": "2022-01-08T16:36:02.802Z"
   },
   {
    "duration": 61,
    "start_time": "2022-01-08T16:36:02.814Z"
   },
   {
    "duration": 66,
    "start_time": "2022-01-08T16:36:02.876Z"
   },
   {
    "duration": 12,
    "start_time": "2022-01-08T16:36:02.944Z"
   },
   {
    "duration": 67,
    "start_time": "2022-01-08T16:36:02.958Z"
   },
   {
    "duration": 4,
    "start_time": "2022-01-08T16:36:03.027Z"
   },
   {
    "duration": 61,
    "start_time": "2022-01-08T16:36:03.032Z"
   },
   {
    "duration": 9,
    "start_time": "2022-01-08T16:36:03.094Z"
   },
   {
    "duration": 1059,
    "start_time": "2022-01-08T16:38:02.065Z"
   },
   {
    "duration": 11,
    "start_time": "2022-01-08T16:38:03.126Z"
   },
   {
    "duration": 37,
    "start_time": "2022-01-08T16:38:03.139Z"
   },
   {
    "duration": 16,
    "start_time": "2022-01-08T16:38:03.178Z"
   },
   {
    "duration": 32,
    "start_time": "2022-01-08T16:38:03.196Z"
   },
   {
    "duration": 9,
    "start_time": "2022-01-08T16:38:03.230Z"
   },
   {
    "duration": 24,
    "start_time": "2022-01-08T16:38:03.240Z"
   },
   {
    "duration": 29,
    "start_time": "2022-01-08T16:38:03.266Z"
   },
   {
    "duration": 18,
    "start_time": "2022-01-08T16:38:03.297Z"
   },
   {
    "duration": 15,
    "start_time": "2022-01-08T16:38:03.317Z"
   },
   {
    "duration": 16,
    "start_time": "2022-01-08T16:38:03.333Z"
   },
   {
    "duration": 19,
    "start_time": "2022-01-08T16:38:03.351Z"
   },
   {
    "duration": 32,
    "start_time": "2022-01-08T16:38:03.372Z"
   },
   {
    "duration": 17,
    "start_time": "2022-01-08T16:38:03.405Z"
   },
   {
    "duration": 22,
    "start_time": "2022-01-08T16:38:03.424Z"
   },
   {
    "duration": 7,
    "start_time": "2022-01-08T16:38:03.447Z"
   },
   {
    "duration": 21,
    "start_time": "2022-01-08T16:38:03.455Z"
   },
   {
    "duration": 41,
    "start_time": "2022-01-08T16:38:03.478Z"
   },
   {
    "duration": 8,
    "start_time": "2022-01-08T16:38:03.521Z"
   },
   {
    "duration": 17,
    "start_time": "2022-01-08T16:38:03.531Z"
   },
   {
    "duration": 47,
    "start_time": "2022-01-08T16:38:03.549Z"
   },
   {
    "duration": 8,
    "start_time": "2022-01-08T16:38:03.598Z"
   },
   {
    "duration": 27,
    "start_time": "2022-01-08T16:38:03.609Z"
   },
   {
    "duration": 5,
    "start_time": "2022-01-08T16:38:03.638Z"
   },
   {
    "duration": 15,
    "start_time": "2022-01-08T16:38:03.645Z"
   },
   {
    "duration": 38,
    "start_time": "2022-01-08T16:38:03.662Z"
   },
   {
    "duration": 4,
    "start_time": "2022-01-08T16:38:03.701Z"
   },
   {
    "duration": 35,
    "start_time": "2022-01-08T16:38:03.706Z"
   },
   {
    "duration": 23,
    "start_time": "2022-01-08T16:38:03.743Z"
   },
   {
    "duration": 37,
    "start_time": "2022-01-08T16:38:03.768Z"
   },
   {
    "duration": 6,
    "start_time": "2022-01-08T16:38:03.806Z"
   },
   {
    "duration": 56,
    "start_time": "2022-01-08T16:38:03.814Z"
   },
   {
    "duration": 51,
    "start_time": "2022-01-08T16:38:03.872Z"
   },
   {
    "duration": 11,
    "start_time": "2022-01-08T16:38:03.925Z"
   },
   {
    "duration": 53,
    "start_time": "2022-01-08T16:38:03.938Z"
   },
   {
    "duration": 3,
    "start_time": "2022-01-08T16:38:03.993Z"
   },
   {
    "duration": 35,
    "start_time": "2022-01-08T16:38:03.998Z"
   },
   {
    "duration": 7,
    "start_time": "2022-01-08T16:38:04.035Z"
   },
   {
    "duration": 7,
    "start_time": "2022-01-08T16:41:07.132Z"
   },
   {
    "duration": 1024,
    "start_time": "2022-01-08T16:53:59.944Z"
   },
   {
    "duration": 11,
    "start_time": "2022-01-08T16:54:00.971Z"
   },
   {
    "duration": 36,
    "start_time": "2022-01-08T16:54:00.984Z"
   },
   {
    "duration": 10,
    "start_time": "2022-01-08T16:54:01.022Z"
   },
   {
    "duration": 25,
    "start_time": "2022-01-08T16:54:01.034Z"
   },
   {
    "duration": 14,
    "start_time": "2022-01-08T16:54:01.061Z"
   },
   {
    "duration": 31,
    "start_time": "2022-01-08T16:54:01.076Z"
   },
   {
    "duration": 30,
    "start_time": "2022-01-08T16:54:01.110Z"
   },
   {
    "duration": 11,
    "start_time": "2022-01-08T16:54:01.143Z"
   },
   {
    "duration": 29,
    "start_time": "2022-01-08T16:54:01.156Z"
   },
   {
    "duration": 26,
    "start_time": "2022-01-08T16:54:01.187Z"
   },
   {
    "duration": 18,
    "start_time": "2022-01-08T16:54:01.215Z"
   },
   {
    "duration": 47,
    "start_time": "2022-01-08T16:54:01.235Z"
   },
   {
    "duration": 18,
    "start_time": "2022-01-08T16:54:01.283Z"
   },
   {
    "duration": 19,
    "start_time": "2022-01-08T16:54:01.303Z"
   },
   {
    "duration": 13,
    "start_time": "2022-01-08T16:54:01.324Z"
   },
   {
    "duration": 12,
    "start_time": "2022-01-08T16:54:01.338Z"
   },
   {
    "duration": 49,
    "start_time": "2022-01-08T16:54:01.352Z"
   },
   {
    "duration": 8,
    "start_time": "2022-01-08T16:54:01.403Z"
   },
   {
    "duration": 18,
    "start_time": "2022-01-08T16:54:01.412Z"
   },
   {
    "duration": 25,
    "start_time": "2022-01-08T16:54:01.432Z"
   },
   {
    "duration": 32,
    "start_time": "2022-01-08T16:54:01.459Z"
   },
   {
    "duration": 30,
    "start_time": "2022-01-08T16:54:01.496Z"
   },
   {
    "duration": 6,
    "start_time": "2022-01-08T16:54:01.528Z"
   },
   {
    "duration": 21,
    "start_time": "2022-01-08T16:54:01.536Z"
   },
   {
    "duration": 41,
    "start_time": "2022-01-08T16:54:01.559Z"
   },
   {
    "duration": 11,
    "start_time": "2022-01-08T16:54:01.602Z"
   },
   {
    "duration": 42,
    "start_time": "2022-01-08T16:54:01.615Z"
   },
   {
    "duration": 32,
    "start_time": "2022-01-08T16:54:01.659Z"
   },
   {
    "duration": 18,
    "start_time": "2022-01-08T16:54:01.693Z"
   },
   {
    "duration": 6,
    "start_time": "2022-01-08T16:54:01.713Z"
   },
   {
    "duration": 72,
    "start_time": "2022-01-08T16:54:01.721Z"
   },
   {
    "duration": 39,
    "start_time": "2022-01-08T16:54:01.795Z"
   },
   {
    "duration": 10,
    "start_time": "2022-01-08T16:54:01.836Z"
   },
   {
    "duration": 56,
    "start_time": "2022-01-08T16:54:01.847Z"
   },
   {
    "duration": 4,
    "start_time": "2022-01-08T16:54:01.905Z"
   },
   {
    "duration": 53,
    "start_time": "2022-01-08T16:54:01.910Z"
   },
   {
    "duration": 8,
    "start_time": "2022-01-08T16:54:01.965Z"
   },
   {
    "duration": 8,
    "start_time": "2022-01-08T16:58:09.334Z"
   },
   {
    "duration": 6,
    "start_time": "2022-01-08T17:06:38.267Z"
   },
   {
    "duration": 4990,
    "start_time": "2022-01-08T17:06:53.862Z"
   },
   {
    "duration": 15,
    "start_time": "2022-01-08T17:07:04.295Z"
   },
   {
    "duration": 1070,
    "start_time": "2022-01-08T17:21:48.283Z"
   },
   {
    "duration": 11,
    "start_time": "2022-01-08T17:21:49.355Z"
   },
   {
    "duration": 24,
    "start_time": "2022-01-08T17:21:49.368Z"
   },
   {
    "duration": 9,
    "start_time": "2022-01-08T17:21:49.394Z"
   },
   {
    "duration": 18,
    "start_time": "2022-01-08T17:21:49.404Z"
   },
   {
    "duration": 6,
    "start_time": "2022-01-08T17:21:49.424Z"
   },
   {
    "duration": 10,
    "start_time": "2022-01-08T17:21:49.432Z"
   },
   {
    "duration": 14,
    "start_time": "2022-01-08T17:21:49.444Z"
   },
   {
    "duration": 38,
    "start_time": "2022-01-08T17:21:49.460Z"
   },
   {
    "duration": 9,
    "start_time": "2022-01-08T17:21:49.499Z"
   },
   {
    "duration": 13,
    "start_time": "2022-01-08T17:21:49.509Z"
   },
   {
    "duration": 10,
    "start_time": "2022-01-08T17:21:49.523Z"
   },
   {
    "duration": 25,
    "start_time": "2022-01-08T17:21:49.535Z"
   },
   {
    "duration": 37,
    "start_time": "2022-01-08T17:21:49.561Z"
   },
   {
    "duration": 15,
    "start_time": "2022-01-08T17:21:49.599Z"
   },
   {
    "duration": 6,
    "start_time": "2022-01-08T17:21:49.615Z"
   },
   {
    "duration": 8,
    "start_time": "2022-01-08T17:21:49.623Z"
   },
   {
    "duration": 32,
    "start_time": "2022-01-08T17:21:49.633Z"
   },
   {
    "duration": 34,
    "start_time": "2022-01-08T17:21:49.666Z"
   },
   {
    "duration": 14,
    "start_time": "2022-01-08T17:21:49.701Z"
   },
   {
    "duration": 24,
    "start_time": "2022-01-08T17:21:49.716Z"
   },
   {
    "duration": 8,
    "start_time": "2022-01-08T17:21:49.741Z"
   },
   {
    "duration": 62,
    "start_time": "2022-01-08T17:21:49.752Z"
   },
   {
    "duration": 4,
    "start_time": "2022-01-08T17:21:49.816Z"
   },
   {
    "duration": 20,
    "start_time": "2022-01-08T17:21:49.822Z"
   },
   {
    "duration": 12,
    "start_time": "2022-01-08T17:21:49.844Z"
   },
   {
    "duration": 3,
    "start_time": "2022-01-08T17:21:49.857Z"
   },
   {
    "duration": 58,
    "start_time": "2022-01-08T17:21:49.862Z"
   },
   {
    "duration": 24,
    "start_time": "2022-01-08T17:21:49.922Z"
   },
   {
    "duration": 18,
    "start_time": "2022-01-08T17:21:49.948Z"
   },
   {
    "duration": 24,
    "start_time": "2022-01-08T17:21:49.968Z"
   },
   {
    "duration": 68,
    "start_time": "2022-01-08T17:21:49.994Z"
   },
   {
    "duration": 53,
    "start_time": "2022-01-08T17:21:50.063Z"
   },
   {
    "duration": 10,
    "start_time": "2022-01-08T17:21:50.118Z"
   },
   {
    "duration": 38,
    "start_time": "2022-01-08T17:21:50.130Z"
   },
   {
    "duration": 24,
    "start_time": "2022-01-08T17:21:50.169Z"
   },
   {
    "duration": 53,
    "start_time": "2022-01-08T17:21:50.195Z"
   },
   {
    "duration": 8,
    "start_time": "2022-01-08T17:21:50.250Z"
   },
   {
    "duration": 25,
    "start_time": "2022-01-08T17:21:50.260Z"
   },
   {
    "duration": 1035,
    "start_time": "2022-01-08T17:22:57.169Z"
   },
   {
    "duration": 12,
    "start_time": "2022-01-08T17:22:58.205Z"
   },
   {
    "duration": 22,
    "start_time": "2022-01-08T17:22:58.218Z"
   },
   {
    "duration": 9,
    "start_time": "2022-01-08T17:22:58.242Z"
   },
   {
    "duration": 17,
    "start_time": "2022-01-08T17:22:58.252Z"
   },
   {
    "duration": 20,
    "start_time": "2022-01-08T17:22:58.271Z"
   },
   {
    "duration": 6,
    "start_time": "2022-01-08T17:22:58.293Z"
   },
   {
    "duration": 15,
    "start_time": "2022-01-08T17:22:58.302Z"
   },
   {
    "duration": 7,
    "start_time": "2022-01-08T17:22:58.319Z"
   },
   {
    "duration": 7,
    "start_time": "2022-01-08T17:22:58.327Z"
   },
   {
    "duration": 11,
    "start_time": "2022-01-08T17:22:58.335Z"
   },
   {
    "duration": 8,
    "start_time": "2022-01-08T17:22:58.348Z"
   },
   {
    "duration": 53,
    "start_time": "2022-01-08T17:22:58.357Z"
   },
   {
    "duration": 16,
    "start_time": "2022-01-08T17:22:58.412Z"
   },
   {
    "duration": 13,
    "start_time": "2022-01-08T17:22:58.430Z"
   },
   {
    "duration": 9,
    "start_time": "2022-01-08T17:22:58.445Z"
   },
   {
    "duration": 10,
    "start_time": "2022-01-08T17:22:58.455Z"
   },
   {
    "duration": 56,
    "start_time": "2022-01-08T17:22:58.466Z"
   },
   {
    "duration": 7,
    "start_time": "2022-01-08T17:22:58.524Z"
   },
   {
    "duration": 14,
    "start_time": "2022-01-08T17:22:58.533Z"
   },
   {
    "duration": 48,
    "start_time": "2022-01-08T17:22:58.548Z"
   },
   {
    "duration": 8,
    "start_time": "2022-01-08T17:22:58.598Z"
   },
   {
    "duration": 28,
    "start_time": "2022-01-08T17:22:58.609Z"
   },
   {
    "duration": 5,
    "start_time": "2022-01-08T17:22:58.638Z"
   },
   {
    "duration": 16,
    "start_time": "2022-01-08T17:22:58.644Z"
   },
   {
    "duration": 38,
    "start_time": "2022-01-08T17:22:58.661Z"
   },
   {
    "duration": 4,
    "start_time": "2022-01-08T17:22:58.701Z"
   },
   {
    "duration": 34,
    "start_time": "2022-01-08T17:22:58.706Z"
   },
   {
    "duration": 22,
    "start_time": "2022-01-08T17:22:58.742Z"
   },
   {
    "duration": 37,
    "start_time": "2022-01-08T17:22:58.766Z"
   },
   {
    "duration": 6,
    "start_time": "2022-01-08T17:22:58.804Z"
   },
   {
    "duration": 62,
    "start_time": "2022-01-08T17:22:58.813Z"
   },
   {
    "duration": 50,
    "start_time": "2022-01-08T17:22:58.877Z"
   },
   {
    "duration": 10,
    "start_time": "2022-01-08T17:22:58.928Z"
   },
   {
    "duration": 54,
    "start_time": "2022-01-08T17:22:58.940Z"
   },
   {
    "duration": 3,
    "start_time": "2022-01-08T17:22:58.996Z"
   },
   {
    "duration": 42,
    "start_time": "2022-01-08T17:22:59.001Z"
   },
   {
    "duration": 8,
    "start_time": "2022-01-08T17:22:59.045Z"
   },
   {
    "duration": 39,
    "start_time": "2022-01-08T17:22:59.054Z"
   },
   {
    "duration": 5230,
    "start_time": "2022-01-08T17:27:13.688Z"
   },
   {
    "duration": 178,
    "start_time": "2022-01-08T17:27:41.888Z"
   },
   {
    "duration": 5,
    "start_time": "2022-01-08T17:27:55.123Z"
   },
   {
    "duration": 20,
    "start_time": "2022-01-08T17:28:04.460Z"
   },
   {
    "duration": 7,
    "start_time": "2022-01-08T17:28:25.950Z"
   },
   {
    "duration": 1024,
    "start_time": "2022-01-08T17:29:31.545Z"
   },
   {
    "duration": 13,
    "start_time": "2022-01-08T17:29:32.570Z"
   },
   {
    "duration": 21,
    "start_time": "2022-01-08T17:29:32.585Z"
   },
   {
    "duration": 8,
    "start_time": "2022-01-08T17:29:32.608Z"
   },
   {
    "duration": 18,
    "start_time": "2022-01-08T17:29:32.617Z"
   },
   {
    "duration": 9,
    "start_time": "2022-01-08T17:29:32.637Z"
   },
   {
    "duration": 10,
    "start_time": "2022-01-08T17:29:32.647Z"
   },
   {
    "duration": 43,
    "start_time": "2022-01-08T17:29:32.660Z"
   },
   {
    "duration": 8,
    "start_time": "2022-01-08T17:29:32.706Z"
   },
   {
    "duration": 6,
    "start_time": "2022-01-08T17:29:32.716Z"
   },
   {
    "duration": 11,
    "start_time": "2022-01-08T17:29:32.724Z"
   },
   {
    "duration": 8,
    "start_time": "2022-01-08T17:29:32.737Z"
   },
   {
    "duration": 63,
    "start_time": "2022-01-08T17:29:32.747Z"
   },
   {
    "duration": 17,
    "start_time": "2022-01-08T17:29:32.812Z"
   },
   {
    "duration": 14,
    "start_time": "2022-01-08T17:29:32.831Z"
   },
   {
    "duration": 5,
    "start_time": "2022-01-08T17:29:32.847Z"
   },
   {
    "duration": 7,
    "start_time": "2022-01-08T17:29:32.854Z"
   },
   {
    "duration": 32,
    "start_time": "2022-01-08T17:29:32.891Z"
   },
   {
    "duration": 9,
    "start_time": "2022-01-08T17:29:32.925Z"
   },
   {
    "duration": 15,
    "start_time": "2022-01-08T17:29:32.936Z"
   },
   {
    "duration": 51,
    "start_time": "2022-01-08T17:29:32.953Z"
   },
   {
    "duration": 8,
    "start_time": "2022-01-08T17:29:33.006Z"
   },
   {
    "duration": 29,
    "start_time": "2022-01-08T17:29:33.017Z"
   },
   {
    "duration": 4,
    "start_time": "2022-01-08T17:29:33.047Z"
   },
   {
    "duration": 41,
    "start_time": "2022-01-08T17:29:33.053Z"
   },
   {
    "duration": 13,
    "start_time": "2022-01-08T17:29:33.097Z"
   },
   {
    "duration": 4,
    "start_time": "2022-01-08T17:29:33.112Z"
   },
   {
    "duration": 37,
    "start_time": "2022-01-08T17:29:33.119Z"
   },
   {
    "duration": 48,
    "start_time": "2022-01-08T17:29:33.158Z"
   },
   {
    "duration": 18,
    "start_time": "2022-01-08T17:29:33.208Z"
   },
   {
    "duration": 10,
    "start_time": "2022-01-08T17:29:33.228Z"
   },
   {
    "duration": 80,
    "start_time": "2022-01-08T17:29:33.239Z"
   },
   {
    "duration": 39,
    "start_time": "2022-01-08T17:29:33.321Z"
   },
   {
    "duration": 12,
    "start_time": "2022-01-08T17:29:33.361Z"
   },
   {
    "duration": 37,
    "start_time": "2022-01-08T17:29:33.392Z"
   },
   {
    "duration": 3,
    "start_time": "2022-01-08T17:29:33.431Z"
   },
   {
    "duration": 60,
    "start_time": "2022-01-08T17:29:33.436Z"
   },
   {
    "duration": 10,
    "start_time": "2022-01-08T17:29:33.498Z"
   },
   {
    "duration": 16,
    "start_time": "2022-01-08T17:29:33.510Z"
   },
   {
    "duration": 5,
    "start_time": "2022-01-08T17:29:33.528Z"
   },
   {
    "duration": 9,
    "start_time": "2022-01-08T17:29:33.535Z"
   },
   {
    "duration": 26,
    "start_time": "2022-01-08T17:41:16.770Z"
   },
   {
    "duration": 18,
    "start_time": "2022-01-08T17:48:33.096Z"
   },
   {
    "duration": 13,
    "start_time": "2022-01-08T18:05:22.055Z"
   },
   {
    "duration": 222,
    "start_time": "2022-01-08T18:06:09.005Z"
   },
   {
    "duration": 1005,
    "start_time": "2022-01-08T18:09:47.025Z"
   },
   {
    "duration": 11,
    "start_time": "2022-01-08T18:09:48.033Z"
   },
   {
    "duration": 22,
    "start_time": "2022-01-08T18:09:48.047Z"
   },
   {
    "duration": 8,
    "start_time": "2022-01-08T18:09:48.071Z"
   },
   {
    "duration": 19,
    "start_time": "2022-01-08T18:09:48.081Z"
   },
   {
    "duration": 9,
    "start_time": "2022-01-08T18:09:48.102Z"
   },
   {
    "duration": 12,
    "start_time": "2022-01-08T18:09:48.112Z"
   },
   {
    "duration": 16,
    "start_time": "2022-01-08T18:09:48.126Z"
   },
   {
    "duration": 7,
    "start_time": "2022-01-08T18:09:48.145Z"
   },
   {
    "duration": 7,
    "start_time": "2022-01-08T18:09:48.153Z"
   },
   {
    "duration": 36,
    "start_time": "2022-01-08T18:09:48.162Z"
   },
   {
    "duration": 7,
    "start_time": "2022-01-08T18:09:48.200Z"
   },
   {
    "duration": 21,
    "start_time": "2022-01-08T18:09:48.209Z"
   },
   {
    "duration": 16,
    "start_time": "2022-01-08T18:09:48.232Z"
   },
   {
    "duration": 47,
    "start_time": "2022-01-08T18:09:48.249Z"
   },
   {
    "duration": 6,
    "start_time": "2022-01-08T18:09:48.298Z"
   },
   {
    "duration": 12,
    "start_time": "2022-01-08T18:09:48.306Z"
   },
   {
    "duration": 34,
    "start_time": "2022-01-08T18:09:48.319Z"
   },
   {
    "duration": 8,
    "start_time": "2022-01-08T18:09:48.354Z"
   },
   {
    "duration": 41,
    "start_time": "2022-01-08T18:09:48.363Z"
   },
   {
    "duration": 24,
    "start_time": "2022-01-08T18:09:48.406Z"
   },
   {
    "duration": 8,
    "start_time": "2022-01-08T18:09:48.432Z"
   },
   {
    "duration": 49,
    "start_time": "2022-01-08T18:09:48.443Z"
   },
   {
    "duration": 4,
    "start_time": "2022-01-08T18:09:48.495Z"
   },
   {
    "duration": 17,
    "start_time": "2022-01-08T18:09:48.501Z"
   },
   {
    "duration": 10,
    "start_time": "2022-01-08T18:09:48.520Z"
   },
   {
    "duration": 3,
    "start_time": "2022-01-08T18:09:48.531Z"
   },
   {
    "duration": 59,
    "start_time": "2022-01-08T18:09:48.535Z"
   },
   {
    "duration": 25,
    "start_time": "2022-01-08T18:09:48.595Z"
   },
   {
    "duration": 19,
    "start_time": "2022-01-08T18:09:48.621Z"
   },
   {
    "duration": 7,
    "start_time": "2022-01-08T18:09:48.642Z"
   },
   {
    "duration": 93,
    "start_time": "2022-01-08T18:09:48.651Z"
   },
   {
    "duration": 48,
    "start_time": "2022-01-08T18:09:48.746Z"
   },
   {
    "duration": 11,
    "start_time": "2022-01-08T18:09:48.796Z"
   },
   {
    "duration": 35,
    "start_time": "2022-01-08T18:09:48.809Z"
   },
   {
    "duration": 4,
    "start_time": "2022-01-08T18:09:48.846Z"
   },
   {
    "duration": 73,
    "start_time": "2022-01-08T18:09:48.852Z"
   },
   {
    "duration": 10,
    "start_time": "2022-01-08T18:09:48.927Z"
   },
   {
    "duration": 15,
    "start_time": "2022-01-08T18:09:48.939Z"
   },
   {
    "duration": 5,
    "start_time": "2022-01-08T18:09:48.956Z"
   },
   {
    "duration": 30,
    "start_time": "2022-01-08T18:09:48.963Z"
   },
   {
    "duration": 23,
    "start_time": "2022-01-08T18:09:48.995Z"
   },
   {
    "duration": 15,
    "start_time": "2022-01-08T18:09:49.020Z"
   },
   {
    "duration": 60,
    "start_time": "2022-01-08T18:09:49.037Z"
   },
   {
    "duration": 1039,
    "start_time": "2022-01-08T18:17:18.304Z"
   },
   {
    "duration": 11,
    "start_time": "2022-01-08T18:17:19.345Z"
   },
   {
    "duration": 21,
    "start_time": "2022-01-08T18:17:19.358Z"
   },
   {
    "duration": 9,
    "start_time": "2022-01-08T18:17:19.381Z"
   },
   {
    "duration": 17,
    "start_time": "2022-01-08T18:17:19.392Z"
   },
   {
    "duration": 8,
    "start_time": "2022-01-08T18:17:19.411Z"
   },
   {
    "duration": 10,
    "start_time": "2022-01-08T18:17:19.420Z"
   },
   {
    "duration": 14,
    "start_time": "2022-01-08T18:17:19.432Z"
   },
   {
    "duration": 10,
    "start_time": "2022-01-08T18:17:19.448Z"
   },
   {
    "duration": 36,
    "start_time": "2022-01-08T18:17:19.459Z"
   },
   {
    "duration": 9,
    "start_time": "2022-01-08T18:17:19.496Z"
   },
   {
    "duration": 7,
    "start_time": "2022-01-08T18:17:19.507Z"
   },
   {
    "duration": 22,
    "start_time": "2022-01-08T18:17:19.516Z"
   },
   {
    "duration": 16,
    "start_time": "2022-01-08T18:17:19.540Z"
   },
   {
    "duration": 38,
    "start_time": "2022-01-08T18:17:19.558Z"
   },
   {
    "duration": 6,
    "start_time": "2022-01-08T18:17:19.597Z"
   },
   {
    "duration": 10,
    "start_time": "2022-01-08T18:17:19.605Z"
   },
   {
    "duration": 31,
    "start_time": "2022-01-08T18:17:19.616Z"
   },
   {
    "duration": 8,
    "start_time": "2022-01-08T18:17:19.649Z"
   },
   {
    "duration": 42,
    "start_time": "2022-01-08T18:17:19.659Z"
   },
   {
    "duration": 26,
    "start_time": "2022-01-08T18:17:19.702Z"
   },
   {
    "duration": 8,
    "start_time": "2022-01-08T18:17:19.731Z"
   },
   {
    "duration": 61,
    "start_time": "2022-01-08T18:17:19.744Z"
   },
   {
    "duration": 5,
    "start_time": "2022-01-08T18:17:19.808Z"
   },
   {
    "duration": 15,
    "start_time": "2022-01-08T18:17:19.814Z"
   },
   {
    "duration": 8,
    "start_time": "2022-01-08T18:17:19.831Z"
   },
   {
    "duration": 3,
    "start_time": "2022-01-08T18:17:19.841Z"
   },
   {
    "duration": 58,
    "start_time": "2022-01-08T18:17:19.845Z"
   },
   {
    "duration": 23,
    "start_time": "2022-01-08T18:17:19.905Z"
   },
   {
    "duration": 17,
    "start_time": "2022-01-08T18:17:19.930Z"
   },
   {
    "duration": 6,
    "start_time": "2022-01-08T18:17:19.949Z"
   },
   {
    "duration": 82,
    "start_time": "2022-01-08T18:17:19.956Z"
   },
   {
    "duration": 38,
    "start_time": "2022-01-08T18:17:20.040Z"
   },
   {
    "duration": 10,
    "start_time": "2022-01-08T18:17:20.092Z"
   },
   {
    "duration": 35,
    "start_time": "2022-01-08T18:17:20.104Z"
   },
   {
    "duration": 3,
    "start_time": "2022-01-08T18:17:20.141Z"
   },
   {
    "duration": 61,
    "start_time": "2022-01-08T18:17:20.145Z"
   },
   {
    "duration": 8,
    "start_time": "2022-01-08T18:17:20.208Z"
   },
   {
    "duration": 17,
    "start_time": "2022-01-08T18:17:20.218Z"
   },
   {
    "duration": 7,
    "start_time": "2022-01-08T18:17:20.236Z"
   },
   {
    "duration": 8,
    "start_time": "2022-01-08T18:17:20.244Z"
   },
   {
    "duration": 51,
    "start_time": "2022-01-08T18:17:20.253Z"
   },
   {
    "duration": 14,
    "start_time": "2022-01-08T18:17:20.306Z"
   },
   {
    "duration": 21,
    "start_time": "2022-01-08T18:17:20.322Z"
   },
   {
    "duration": 19,
    "start_time": "2022-01-08T18:40:42.540Z"
   },
   {
    "duration": 299,
    "start_time": "2022-01-08T18:44:08.316Z"
   },
   {
    "duration": 4,
    "start_time": "2022-01-08T18:44:12.119Z"
   },
   {
    "duration": 15,
    "start_time": "2022-01-08T18:44:14.504Z"
   },
   {
    "duration": 13,
    "start_time": "2022-01-08T18:46:32.399Z"
   },
   {
    "duration": 217,
    "start_time": "2022-01-08T18:58:27.385Z"
   },
   {
    "duration": 454,
    "start_time": "2022-01-08T19:01:38.001Z"
   },
   {
    "duration": 515,
    "start_time": "2022-01-08T19:02:02.568Z"
   },
   {
    "duration": 271,
    "start_time": "2022-01-08T19:02:20.810Z"
   },
   {
    "duration": 263,
    "start_time": "2022-01-08T19:03:47.900Z"
   },
   {
    "duration": 274,
    "start_time": "2022-01-08T19:04:16.400Z"
   },
   {
    "duration": 335,
    "start_time": "2022-01-08T19:04:48.520Z"
   },
   {
    "duration": 1062,
    "start_time": "2022-01-08T19:11:51.485Z"
   },
   {
    "duration": 13,
    "start_time": "2022-01-08T19:11:52.548Z"
   },
   {
    "duration": 26,
    "start_time": "2022-01-08T19:11:52.563Z"
   },
   {
    "duration": 8,
    "start_time": "2022-01-08T19:11:52.591Z"
   },
   {
    "duration": 18,
    "start_time": "2022-01-08T19:11:52.600Z"
   },
   {
    "duration": 8,
    "start_time": "2022-01-08T19:11:52.619Z"
   },
   {
    "duration": 17,
    "start_time": "2022-01-08T19:11:52.629Z"
   },
   {
    "duration": 14,
    "start_time": "2022-01-08T19:11:52.649Z"
   },
   {
    "duration": 28,
    "start_time": "2022-01-08T19:11:52.665Z"
   },
   {
    "duration": 9,
    "start_time": "2022-01-08T19:11:52.695Z"
   },
   {
    "duration": 12,
    "start_time": "2022-01-08T19:11:52.706Z"
   },
   {
    "duration": 11,
    "start_time": "2022-01-08T19:11:52.719Z"
   },
   {
    "duration": 31,
    "start_time": "2022-01-08T19:11:52.732Z"
   },
   {
    "duration": 33,
    "start_time": "2022-01-08T19:11:52.764Z"
   },
   {
    "duration": 14,
    "start_time": "2022-01-08T19:11:52.798Z"
   },
   {
    "duration": 24,
    "start_time": "2022-01-08T19:11:52.814Z"
   },
   {
    "duration": 10,
    "start_time": "2022-01-08T19:11:52.839Z"
   },
   {
    "duration": 50,
    "start_time": "2022-01-08T19:11:52.850Z"
   },
   {
    "duration": 8,
    "start_time": "2022-01-08T19:11:52.902Z"
   },
   {
    "duration": 24,
    "start_time": "2022-01-08T19:11:52.912Z"
   },
   {
    "duration": 32,
    "start_time": "2022-01-08T19:11:52.938Z"
   },
   {
    "duration": 9,
    "start_time": "2022-01-08T19:11:52.972Z"
   },
   {
    "duration": 39,
    "start_time": "2022-01-08T19:11:52.984Z"
   },
   {
    "duration": 4,
    "start_time": "2022-01-08T19:11:53.025Z"
   },
   {
    "duration": 25,
    "start_time": "2022-01-08T19:11:53.031Z"
   },
   {
    "duration": 20,
    "start_time": "2022-01-08T19:11:53.058Z"
   },
   {
    "duration": 5,
    "start_time": "2022-01-08T19:11:53.080Z"
   },
   {
    "duration": 48,
    "start_time": "2022-01-08T19:11:53.087Z"
   },
   {
    "duration": 22,
    "start_time": "2022-01-08T19:11:53.136Z"
   },
   {
    "duration": 17,
    "start_time": "2022-01-08T19:11:53.160Z"
   },
   {
    "duration": 13,
    "start_time": "2022-01-08T19:11:53.179Z"
   },
   {
    "duration": 85,
    "start_time": "2022-01-08T19:11:53.193Z"
   },
   {
    "duration": 39,
    "start_time": "2022-01-08T19:11:53.280Z"
   },
   {
    "duration": 9,
    "start_time": "2022-01-08T19:11:53.321Z"
   },
   {
    "duration": 40,
    "start_time": "2022-01-08T19:11:53.332Z"
   },
   {
    "duration": 19,
    "start_time": "2022-01-08T19:11:53.373Z"
   },
   {
    "duration": 43,
    "start_time": "2022-01-08T19:11:53.393Z"
   },
   {
    "duration": 8,
    "start_time": "2022-01-08T19:11:53.437Z"
   },
   {
    "duration": 16,
    "start_time": "2022-01-08T19:11:53.446Z"
   },
   {
    "duration": 21,
    "start_time": "2022-01-08T19:11:53.464Z"
   },
   {
    "duration": 13,
    "start_time": "2022-01-08T19:11:53.487Z"
   },
   {
    "duration": 32,
    "start_time": "2022-01-08T19:11:53.501Z"
   },
   {
    "duration": 14,
    "start_time": "2022-01-08T19:11:53.534Z"
   },
   {
    "duration": 32,
    "start_time": "2022-01-08T19:11:53.549Z"
   },
   {
    "duration": 33,
    "start_time": "2022-01-08T19:11:53.582Z"
   },
   {
    "duration": 19,
    "start_time": "2022-01-08T19:11:53.616Z"
   },
   {
    "duration": 333,
    "start_time": "2022-01-08T19:11:53.636Z"
   },
   {
    "duration": 21,
    "start_time": "2022-01-08T19:11:53.971Z"
   },
   {
    "duration": 383,
    "start_time": "2022-01-08T19:11:53.993Z"
   },
   {
    "duration": 22,
    "start_time": "2022-01-08T19:11:54.378Z"
   },
   {
    "duration": 346,
    "start_time": "2022-01-08T19:11:54.402Z"
   },
   {
    "duration": 333,
    "start_time": "2022-01-08T19:14:43.997Z"
   },
   {
    "duration": 347,
    "start_time": "2022-01-08T19:14:58.507Z"
   },
   {
    "duration": 372,
    "start_time": "2022-01-08T19:15:09.840Z"
   },
   {
    "duration": 356,
    "start_time": "2022-01-08T19:15:46.338Z"
   },
   {
    "duration": 415,
    "start_time": "2022-01-08T19:16:05.485Z"
   },
   {
    "duration": 8,
    "start_time": "2022-01-08T19:16:32.362Z"
   },
   {
    "duration": 347,
    "start_time": "2022-01-08T19:16:44.817Z"
   },
   {
    "duration": 10,
    "start_time": "2022-01-08T19:17:03.266Z"
   },
   {
    "duration": 351,
    "start_time": "2022-01-08T19:17:21.424Z"
   },
   {
    "duration": 9,
    "start_time": "2022-01-08T19:17:39.607Z"
   },
   {
    "duration": 338,
    "start_time": "2022-01-08T19:18:11.069Z"
   },
   {
    "duration": 331,
    "start_time": "2022-01-08T19:19:56.409Z"
   },
   {
    "duration": 451,
    "start_time": "2022-01-08T19:20:51.003Z"
   },
   {
    "duration": 335,
    "start_time": "2022-01-08T19:20:59.341Z"
   },
   {
    "duration": 358,
    "start_time": "2022-01-08T19:24:09.055Z"
   },
   {
    "duration": 350,
    "start_time": "2022-01-08T19:25:30.691Z"
   },
   {
    "duration": 344,
    "start_time": "2022-01-08T19:25:44.073Z"
   },
   {
    "duration": 332,
    "start_time": "2022-01-08T19:25:58.579Z"
   },
   {
    "duration": 429,
    "start_time": "2022-01-08T19:28:49.297Z"
   },
   {
    "duration": 320,
    "start_time": "2022-01-08T19:29:46.413Z"
   },
   {
    "duration": 329,
    "start_time": "2022-01-08T19:30:30.530Z"
   },
   {
    "duration": 346,
    "start_time": "2022-01-08T19:30:57.701Z"
   },
   {
    "duration": 320,
    "start_time": "2022-01-08T19:31:11.549Z"
   },
   {
    "duration": 437,
    "start_time": "2022-01-08T19:34:52.503Z"
   },
   {
    "duration": 570,
    "start_time": "2022-01-08T19:35:08.058Z"
   },
   {
    "duration": 416,
    "start_time": "2022-01-08T19:35:20.204Z"
   },
   {
    "duration": 439,
    "start_time": "2022-01-08T19:35:27.861Z"
   },
   {
    "duration": 337,
    "start_time": "2022-01-08T19:36:48.622Z"
   },
   {
    "duration": 346,
    "start_time": "2022-01-08T19:37:07.398Z"
   },
   {
    "duration": 301,
    "start_time": "2022-01-08T19:48:25.479Z"
   },
   {
    "duration": 464,
    "start_time": "2022-01-08T19:48:57.835Z"
   },
   {
    "duration": 308,
    "start_time": "2022-01-08T19:49:03.945Z"
   },
   {
    "duration": 260,
    "start_time": "2022-01-08T19:50:38.704Z"
   },
   {
    "duration": 506,
    "start_time": "2022-01-08T19:51:15.347Z"
   },
   {
    "duration": 307,
    "start_time": "2022-01-08T19:52:26.167Z"
   },
   {
    "duration": 1016,
    "start_time": "2022-01-08T19:52:38.632Z"
   },
   {
    "duration": 11,
    "start_time": "2022-01-08T19:52:39.650Z"
   },
   {
    "duration": 21,
    "start_time": "2022-01-08T19:52:39.664Z"
   },
   {
    "duration": 9,
    "start_time": "2022-01-08T19:52:39.687Z"
   },
   {
    "duration": 19,
    "start_time": "2022-01-08T19:52:39.697Z"
   },
   {
    "duration": 10,
    "start_time": "2022-01-08T19:52:39.718Z"
   },
   {
    "duration": 12,
    "start_time": "2022-01-08T19:52:39.729Z"
   },
   {
    "duration": 14,
    "start_time": "2022-01-08T19:52:39.743Z"
   },
   {
    "duration": 32,
    "start_time": "2022-01-08T19:52:39.760Z"
   },
   {
    "duration": 7,
    "start_time": "2022-01-08T19:52:39.794Z"
   },
   {
    "duration": 10,
    "start_time": "2022-01-08T19:52:39.803Z"
   },
   {
    "duration": 8,
    "start_time": "2022-01-08T19:52:39.815Z"
   },
   {
    "duration": 22,
    "start_time": "2022-01-08T19:52:39.824Z"
   },
   {
    "duration": 50,
    "start_time": "2022-01-08T19:52:39.848Z"
   },
   {
    "duration": 16,
    "start_time": "2022-01-08T19:52:39.900Z"
   },
   {
    "duration": 6,
    "start_time": "2022-01-08T19:52:39.918Z"
   },
   {
    "duration": 8,
    "start_time": "2022-01-08T19:52:39.926Z"
   },
   {
    "duration": 65,
    "start_time": "2022-01-08T19:52:39.936Z"
   },
   {
    "duration": 9,
    "start_time": "2022-01-08T19:52:40.003Z"
   },
   {
    "duration": 20,
    "start_time": "2022-01-08T19:52:40.013Z"
   },
   {
    "duration": 24,
    "start_time": "2022-01-08T19:52:40.034Z"
   },
   {
    "duration": 8,
    "start_time": "2022-01-08T19:52:40.059Z"
   },
   {
    "duration": 29,
    "start_time": "2022-01-08T19:52:40.094Z"
   },
   {
    "duration": 4,
    "start_time": "2022-01-08T19:52:40.125Z"
   },
   {
    "duration": 16,
    "start_time": "2022-01-08T19:52:40.131Z"
   },
   {
    "duration": 10,
    "start_time": "2022-01-08T19:52:40.149Z"
   },
   {
    "duration": 32,
    "start_time": "2022-01-08T19:52:40.161Z"
   },
   {
    "duration": 34,
    "start_time": "2022-01-08T19:52:40.196Z"
   },
   {
    "duration": 25,
    "start_time": "2022-01-08T19:52:40.231Z"
   },
   {
    "duration": 39,
    "start_time": "2022-01-08T19:52:40.257Z"
   },
   {
    "duration": 8,
    "start_time": "2022-01-08T19:52:40.298Z"
   },
   {
    "duration": 66,
    "start_time": "2022-01-08T19:52:40.307Z"
   },
   {
    "duration": 39,
    "start_time": "2022-01-08T19:52:40.392Z"
   },
   {
    "duration": 10,
    "start_time": "2022-01-08T19:52:40.432Z"
   },
   {
    "duration": 58,
    "start_time": "2022-01-08T19:52:40.444Z"
   },
   {
    "duration": 4,
    "start_time": "2022-01-08T19:52:40.504Z"
   },
   {
    "duration": 48,
    "start_time": "2022-01-08T19:52:40.509Z"
   },
   {
    "duration": 8,
    "start_time": "2022-01-08T19:52:40.558Z"
   },
   {
    "duration": 26,
    "start_time": "2022-01-08T19:52:40.567Z"
   },
   {
    "duration": 16,
    "start_time": "2022-01-08T19:52:40.594Z"
   },
   {
    "duration": 20,
    "start_time": "2022-01-08T19:52:40.611Z"
   },
   {
    "duration": 35,
    "start_time": "2022-01-08T19:52:40.633Z"
   },
   {
    "duration": 23,
    "start_time": "2022-01-08T19:52:40.670Z"
   },
   {
    "duration": 31,
    "start_time": "2022-01-08T19:52:40.694Z"
   },
   {
    "duration": 34,
    "start_time": "2022-01-08T19:52:40.727Z"
   },
   {
    "duration": 13,
    "start_time": "2022-01-08T19:52:40.763Z"
   },
   {
    "duration": 290,
    "start_time": "2022-01-08T19:52:40.778Z"
   },
   {
    "duration": 22,
    "start_time": "2022-01-08T19:52:41.070Z"
   },
   {
    "duration": 315,
    "start_time": "2022-01-08T19:52:41.094Z"
   },
   {
    "duration": 13,
    "start_time": "2022-01-08T19:52:41.410Z"
   },
   {
    "duration": 379,
    "start_time": "2022-01-08T19:52:41.425Z"
   },
   {
    "duration": 334,
    "start_time": "2022-01-08T19:53:22.029Z"
   },
   {
    "duration": 148,
    "start_time": "2022-01-08T20:11:20.788Z"
   },
   {
    "duration": 142,
    "start_time": "2022-01-08T20:12:13.703Z"
   },
   {
    "duration": 314,
    "start_time": "2022-01-08T20:25:32.969Z"
   },
   {
    "duration": 14,
    "start_time": "2022-01-08T20:25:36.981Z"
   },
   {
    "duration": 306,
    "start_time": "2022-01-08T20:25:38.768Z"
   },
   {
    "duration": 9,
    "start_time": "2022-01-08T20:26:13.529Z"
   },
   {
    "duration": 386,
    "start_time": "2022-01-08T20:27:04.007Z"
   },
   {
    "duration": 10,
    "start_time": "2022-01-08T20:28:15.966Z"
   },
   {
    "duration": 9,
    "start_time": "2022-01-08T20:28:29.904Z"
   },
   {
    "duration": 30,
    "start_time": "2022-01-08T20:29:33.039Z"
   },
   {
    "duration": 367,
    "start_time": "2022-01-08T20:33:29.795Z"
   },
   {
    "duration": 327,
    "start_time": "2022-01-08T20:34:00.747Z"
   },
   {
    "duration": 319,
    "start_time": "2022-01-08T20:34:39.129Z"
   },
   {
    "duration": 59,
    "start_time": "2022-01-08T20:35:06.092Z"
   },
   {
    "duration": 10,
    "start_time": "2022-01-08T20:35:21.505Z"
   },
   {
    "duration": 10,
    "start_time": "2022-01-08T20:35:41.152Z"
   },
   {
    "duration": 229,
    "start_time": "2022-01-08T20:37:11.510Z"
   },
   {
    "duration": 8,
    "start_time": "2022-01-08T20:37:37.836Z"
   },
   {
    "duration": 4880,
    "start_time": "2022-01-08T20:38:58.312Z"
   },
   {
    "duration": 1084,
    "start_time": "2022-01-08T20:39:20.886Z"
   },
   {
    "duration": 12,
    "start_time": "2022-01-08T20:39:21.972Z"
   },
   {
    "duration": 22,
    "start_time": "2022-01-08T20:39:21.986Z"
   },
   {
    "duration": 10,
    "start_time": "2022-01-08T20:39:22.010Z"
   },
   {
    "duration": 18,
    "start_time": "2022-01-08T20:39:22.022Z"
   },
   {
    "duration": 6,
    "start_time": "2022-01-08T20:39:22.042Z"
   },
   {
    "duration": 7,
    "start_time": "2022-01-08T20:39:22.050Z"
   },
   {
    "duration": 45,
    "start_time": "2022-01-08T20:39:22.059Z"
   },
   {
    "duration": 7,
    "start_time": "2022-01-08T20:39:22.106Z"
   },
   {
    "duration": 7,
    "start_time": "2022-01-08T20:39:22.115Z"
   },
   {
    "duration": 10,
    "start_time": "2022-01-08T20:39:22.124Z"
   },
   {
    "duration": 8,
    "start_time": "2022-01-08T20:39:22.136Z"
   },
   {
    "duration": 53,
    "start_time": "2022-01-08T20:39:22.145Z"
   },
   {
    "duration": 16,
    "start_time": "2022-01-08T20:39:22.200Z"
   },
   {
    "duration": 15,
    "start_time": "2022-01-08T20:39:22.218Z"
   },
   {
    "duration": 6,
    "start_time": "2022-01-08T20:39:22.235Z"
   },
   {
    "duration": 6,
    "start_time": "2022-01-08T20:39:22.243Z"
   },
   {
    "duration": 64,
    "start_time": "2022-01-08T20:39:22.250Z"
   },
   {
    "duration": 8,
    "start_time": "2022-01-08T20:39:22.316Z"
   },
   {
    "duration": 14,
    "start_time": "2022-01-08T20:39:22.325Z"
   },
   {
    "duration": 23,
    "start_time": "2022-01-08T20:39:22.340Z"
   },
   {
    "duration": 32,
    "start_time": "2022-01-08T20:39:22.364Z"
   },
   {
    "duration": 27,
    "start_time": "2022-01-08T20:39:22.400Z"
   },
   {
    "duration": 5,
    "start_time": "2022-01-08T20:39:22.429Z"
   },
   {
    "duration": 17,
    "start_time": "2022-01-08T20:39:22.435Z"
   },
   {
    "duration": 10,
    "start_time": "2022-01-08T20:39:22.453Z"
   },
   {
    "duration": 3,
    "start_time": "2022-01-08T20:39:22.492Z"
   },
   {
    "duration": 34,
    "start_time": "2022-01-08T20:39:22.496Z"
   },
   {
    "duration": 24,
    "start_time": "2022-01-08T20:39:22.532Z"
   },
   {
    "duration": 39,
    "start_time": "2022-01-08T20:39:22.557Z"
   },
   {
    "duration": 6,
    "start_time": "2022-01-08T20:39:22.598Z"
   },
   {
    "duration": 64,
    "start_time": "2022-01-08T20:39:22.605Z"
   },
   {
    "duration": 51,
    "start_time": "2022-01-08T20:39:22.671Z"
   },
   {
    "duration": 10,
    "start_time": "2022-01-08T20:39:22.724Z"
   },
   {
    "duration": 56,
    "start_time": "2022-01-08T20:39:22.736Z"
   },
   {
    "duration": 4,
    "start_time": "2022-01-08T20:39:22.794Z"
   },
   {
    "duration": 37,
    "start_time": "2022-01-08T20:39:22.800Z"
   },
   {
    "duration": 8,
    "start_time": "2022-01-08T20:39:22.839Z"
   },
   {
    "duration": 15,
    "start_time": "2022-01-08T20:39:22.849Z"
   },
   {
    "duration": 28,
    "start_time": "2022-01-08T20:39:22.866Z"
   },
   {
    "duration": 8,
    "start_time": "2022-01-08T20:39:22.896Z"
   },
   {
    "duration": 23,
    "start_time": "2022-01-08T20:39:22.906Z"
   },
   {
    "duration": 13,
    "start_time": "2022-01-08T20:39:22.931Z"
   },
   {
    "duration": 54,
    "start_time": "2022-01-08T20:39:22.945Z"
   },
   {
    "duration": 12,
    "start_time": "2022-01-08T20:39:23.000Z"
   },
   {
    "duration": 13,
    "start_time": "2022-01-08T20:39:23.014Z"
   },
   {
    "duration": 4740,
    "start_time": "2022-01-08T20:39:23.029Z"
   },
   {
    "duration": -242,
    "start_time": "2022-01-08T20:39:28.013Z"
   },
   {
    "duration": -254,
    "start_time": "2022-01-08T20:39:28.026Z"
   },
   {
    "duration": -261,
    "start_time": "2022-01-08T20:39:28.034Z"
   },
   {
    "duration": -268,
    "start_time": "2022-01-08T20:39:28.041Z"
   },
   {
    "duration": -272,
    "start_time": "2022-01-08T20:39:28.047Z"
   },
   {
    "duration": -278,
    "start_time": "2022-01-08T20:39:28.054Z"
   },
   {
    "duration": -284,
    "start_time": "2022-01-08T20:39:28.061Z"
   },
   {
    "duration": -289,
    "start_time": "2022-01-08T20:39:28.066Z"
   },
   {
    "duration": -292,
    "start_time": "2022-01-08T20:39:28.070Z"
   },
   {
    "duration": -295,
    "start_time": "2022-01-08T20:39:28.074Z"
   },
   {
    "duration": 5,
    "start_time": "2022-01-08T20:39:36.144Z"
   },
   {
    "duration": 4376,
    "start_time": "2022-01-08T20:40:05.834Z"
   },
   {
    "duration": 9,
    "start_time": "2022-01-08T20:40:20.330Z"
   },
   {
    "duration": 7,
    "start_time": "2022-01-08T20:41:35.059Z"
   },
   {
    "duration": 8,
    "start_time": "2022-01-08T20:41:50.857Z"
   },
   {
    "duration": 8,
    "start_time": "2022-01-08T20:42:21.071Z"
   },
   {
    "duration": 9,
    "start_time": "2022-01-08T20:42:55.813Z"
   },
   {
    "duration": 8,
    "start_time": "2022-01-08T20:43:17.539Z"
   },
   {
    "duration": 1065,
    "start_time": "2022-01-08T20:43:39.322Z"
   },
   {
    "duration": 12,
    "start_time": "2022-01-08T20:43:40.388Z"
   },
   {
    "duration": 24,
    "start_time": "2022-01-08T20:43:40.402Z"
   },
   {
    "duration": 9,
    "start_time": "2022-01-08T20:43:40.427Z"
   },
   {
    "duration": 18,
    "start_time": "2022-01-08T20:43:40.438Z"
   },
   {
    "duration": 9,
    "start_time": "2022-01-08T20:43:40.458Z"
   },
   {
    "duration": 9,
    "start_time": "2022-01-08T20:43:40.492Z"
   },
   {
    "duration": 16,
    "start_time": "2022-01-08T20:43:40.504Z"
   },
   {
    "duration": 7,
    "start_time": "2022-01-08T20:43:40.523Z"
   },
   {
    "duration": 7,
    "start_time": "2022-01-08T20:43:40.532Z"
   },
   {
    "duration": 11,
    "start_time": "2022-01-08T20:43:40.541Z"
   },
   {
    "duration": 44,
    "start_time": "2022-01-08T20:43:40.554Z"
   },
   {
    "duration": 24,
    "start_time": "2022-01-08T20:43:40.599Z"
   },
   {
    "duration": 17,
    "start_time": "2022-01-08T20:43:40.624Z"
   },
   {
    "duration": 14,
    "start_time": "2022-01-08T20:43:40.642Z"
   },
   {
    "duration": 6,
    "start_time": "2022-01-08T20:43:40.657Z"
   },
   {
    "duration": 7,
    "start_time": "2022-01-08T20:43:40.692Z"
   },
   {
    "duration": 34,
    "start_time": "2022-01-08T20:43:40.701Z"
   },
   {
    "duration": 9,
    "start_time": "2022-01-08T20:43:40.737Z"
   },
   {
    "duration": 14,
    "start_time": "2022-01-08T20:43:40.747Z"
   },
   {
    "duration": 54,
    "start_time": "2022-01-08T20:43:40.762Z"
   },
   {
    "duration": 8,
    "start_time": "2022-01-08T20:43:40.818Z"
   },
   {
    "duration": 32,
    "start_time": "2022-01-08T20:43:40.832Z"
   },
   {
    "duration": 5,
    "start_time": "2022-01-08T20:43:40.892Z"
   },
   {
    "duration": 16,
    "start_time": "2022-01-08T20:43:40.898Z"
   },
   {
    "duration": 9,
    "start_time": "2022-01-08T20:43:40.916Z"
   },
   {
    "duration": 4,
    "start_time": "2022-01-08T20:43:40.926Z"
   },
   {
    "duration": 33,
    "start_time": "2022-01-08T20:43:40.932Z"
   },
   {
    "duration": 24,
    "start_time": "2022-01-08T20:43:40.991Z"
   },
   {
    "duration": 17,
    "start_time": "2022-01-08T20:43:41.017Z"
   },
   {
    "duration": 5,
    "start_time": "2022-01-08T20:43:41.036Z"
   },
   {
    "duration": 82,
    "start_time": "2022-01-08T20:43:41.043Z"
   },
   {
    "duration": 38,
    "start_time": "2022-01-08T20:43:41.127Z"
   },
   {
    "duration": 26,
    "start_time": "2022-01-08T20:43:41.166Z"
   },
   {
    "duration": 34,
    "start_time": "2022-01-08T20:43:41.194Z"
   },
   {
    "duration": 3,
    "start_time": "2022-01-08T20:43:41.230Z"
   },
   {
    "duration": 57,
    "start_time": "2022-01-08T20:43:41.235Z"
   },
   {
    "duration": 9,
    "start_time": "2022-01-08T20:43:41.294Z"
   },
   {
    "duration": 15,
    "start_time": "2022-01-08T20:43:41.305Z"
   },
   {
    "duration": 7,
    "start_time": "2022-01-08T20:43:41.321Z"
   },
   {
    "duration": 8,
    "start_time": "2022-01-08T20:43:41.329Z"
   },
   {
    "duration": 56,
    "start_time": "2022-01-08T20:43:41.338Z"
   },
   {
    "duration": 15,
    "start_time": "2022-01-08T20:43:41.396Z"
   },
   {
    "duration": 28,
    "start_time": "2022-01-08T20:43:41.412Z"
   },
   {
    "duration": 23,
    "start_time": "2022-01-08T20:43:41.443Z"
   },
   {
    "duration": 25,
    "start_time": "2022-01-08T20:43:41.468Z"
   },
   {
    "duration": 6,
    "start_time": "2022-01-08T20:43:41.495Z"
   },
   {
    "duration": 355,
    "start_time": "2022-01-08T20:43:41.503Z"
   },
   {
    "duration": 13,
    "start_time": "2022-01-08T20:43:41.859Z"
   },
   {
    "duration": 19,
    "start_time": "2022-01-08T20:43:41.874Z"
   },
   {
    "duration": 324,
    "start_time": "2022-01-08T20:43:41.894Z"
   },
   {
    "duration": 13,
    "start_time": "2022-01-08T20:43:42.220Z"
   },
   {
    "duration": 7,
    "start_time": "2022-01-08T20:43:42.235Z"
   },
   {
    "duration": 391,
    "start_time": "2022-01-08T20:43:42.244Z"
   },
   {
    "duration": 14,
    "start_time": "2022-01-08T20:43:42.637Z"
   },
   {
    "duration": 9,
    "start_time": "2022-01-08T20:43:42.653Z"
   },
   {
    "duration": 35,
    "start_time": "2022-01-08T20:43:42.663Z"
   },
   {
    "duration": 330,
    "start_time": "2022-01-08T20:43:42.700Z"
   },
   {
    "duration": 30,
    "start_time": "2022-01-08T20:47:47.169Z"
   },
   {
    "duration": 10,
    "start_time": "2022-01-08T20:48:07.252Z"
   },
   {
    "duration": 331,
    "start_time": "2022-01-08T20:54:35.407Z"
   },
   {
    "duration": 313,
    "start_time": "2022-01-08T21:03:38.473Z"
   },
   {
    "duration": 10,
    "start_time": "2022-01-08T21:16:10.105Z"
   },
   {
    "duration": 8,
    "start_time": "2022-01-08T21:16:30.459Z"
   },
   {
    "duration": 338,
    "start_time": "2022-01-08T21:18:50.064Z"
   },
   {
    "duration": 319,
    "start_time": "2022-01-08T21:19:02.023Z"
   },
   {
    "duration": 7,
    "start_time": "2022-01-08T21:33:38.378Z"
   },
   {
    "duration": 1097,
    "start_time": "2022-01-08T21:54:05.475Z"
   },
   {
    "duration": 11,
    "start_time": "2022-01-08T21:54:06.573Z"
   },
   {
    "duration": 43,
    "start_time": "2022-01-08T21:54:06.586Z"
   },
   {
    "duration": 7,
    "start_time": "2022-01-08T21:54:06.631Z"
   },
   {
    "duration": 37,
    "start_time": "2022-01-08T21:54:06.640Z"
   },
   {
    "duration": 7,
    "start_time": "2022-01-08T21:54:06.678Z"
   },
   {
    "duration": 6,
    "start_time": "2022-01-08T21:54:06.687Z"
   },
   {
    "duration": 15,
    "start_time": "2022-01-08T21:54:06.695Z"
   },
   {
    "duration": 7,
    "start_time": "2022-01-08T21:54:06.712Z"
   },
   {
    "duration": 8,
    "start_time": "2022-01-08T21:54:06.721Z"
   },
   {
    "duration": 11,
    "start_time": "2022-01-08T21:54:06.731Z"
   },
   {
    "duration": 7,
    "start_time": "2022-01-08T21:54:06.744Z"
   },
   {
    "duration": 47,
    "start_time": "2022-01-08T21:54:06.752Z"
   },
   {
    "duration": 16,
    "start_time": "2022-01-08T21:54:06.801Z"
   },
   {
    "duration": 14,
    "start_time": "2022-01-08T21:54:06.819Z"
   },
   {
    "duration": 6,
    "start_time": "2022-01-08T21:54:06.835Z"
   },
   {
    "duration": 8,
    "start_time": "2022-01-08T21:54:06.842Z"
   },
   {
    "duration": 62,
    "start_time": "2022-01-08T21:54:06.852Z"
   },
   {
    "duration": 8,
    "start_time": "2022-01-08T21:54:06.915Z"
   },
   {
    "duration": 15,
    "start_time": "2022-01-08T21:54:06.925Z"
   },
   {
    "duration": 24,
    "start_time": "2022-01-08T21:54:06.942Z"
   },
   {
    "duration": 30,
    "start_time": "2022-01-08T21:54:06.967Z"
   },
   {
    "duration": 28,
    "start_time": "2022-01-08T21:54:07.001Z"
   },
   {
    "duration": 4,
    "start_time": "2022-01-08T21:54:07.031Z"
   },
   {
    "duration": 17,
    "start_time": "2022-01-08T21:54:07.037Z"
   },
   {
    "duration": 40,
    "start_time": "2022-01-08T21:54:07.055Z"
   },
   {
    "duration": 4,
    "start_time": "2022-01-08T21:54:07.097Z"
   },
   {
    "duration": 35,
    "start_time": "2022-01-08T21:54:07.103Z"
   },
   {
    "duration": 25,
    "start_time": "2022-01-08T21:54:07.140Z"
   },
   {
    "duration": 40,
    "start_time": "2022-01-08T21:54:07.167Z"
   },
   {
    "duration": 7,
    "start_time": "2022-01-08T21:54:07.208Z"
   },
   {
    "duration": 82,
    "start_time": "2022-01-08T21:54:07.217Z"
   },
   {
    "duration": 39,
    "start_time": "2022-01-08T21:54:07.301Z"
   },
   {
    "duration": 10,
    "start_time": "2022-01-08T21:54:07.341Z"
   },
   {
    "duration": 60,
    "start_time": "2022-01-08T21:54:07.353Z"
   },
   {
    "duration": 4,
    "start_time": "2022-01-08T21:54:07.414Z"
   },
   {
    "duration": 37,
    "start_time": "2022-01-08T21:54:07.419Z"
   },
   {
    "duration": 10,
    "start_time": "2022-01-08T21:54:07.458Z"
   },
   {
    "duration": 36,
    "start_time": "2022-01-08T21:54:07.470Z"
   },
   {
    "duration": 6,
    "start_time": "2022-01-08T21:54:07.508Z"
   },
   {
    "duration": 9,
    "start_time": "2022-01-08T21:54:07.516Z"
   },
   {
    "duration": 22,
    "start_time": "2022-01-08T21:54:07.527Z"
   },
   {
    "duration": 42,
    "start_time": "2022-01-08T21:54:07.551Z"
   },
   {
    "duration": 23,
    "start_time": "2022-01-08T21:54:07.595Z"
   },
   {
    "duration": 15,
    "start_time": "2022-01-08T21:54:07.620Z"
   },
   {
    "duration": 13,
    "start_time": "2022-01-08T21:54:07.637Z"
   },
   {
    "duration": 40,
    "start_time": "2022-01-08T21:54:07.652Z"
   },
   {
    "duration": 341,
    "start_time": "2022-01-08T21:54:07.694Z"
   },
   {
    "duration": 13,
    "start_time": "2022-01-08T21:54:08.037Z"
   },
   {
    "duration": 6,
    "start_time": "2022-01-08T21:54:08.052Z"
   },
   {
    "duration": 335,
    "start_time": "2022-01-08T21:54:08.060Z"
   },
   {
    "duration": 14,
    "start_time": "2022-01-08T21:54:08.396Z"
   },
   {
    "duration": 11,
    "start_time": "2022-01-08T21:54:08.412Z"
   },
   {
    "duration": 379,
    "start_time": "2022-01-08T21:54:08.424Z"
   },
   {
    "duration": 13,
    "start_time": "2022-01-08T21:54:08.805Z"
   },
   {
    "duration": 8,
    "start_time": "2022-01-08T21:54:08.820Z"
   },
   {
    "duration": 9,
    "start_time": "2022-01-08T21:54:08.829Z"
   },
   {
    "duration": 347,
    "start_time": "2022-01-08T21:54:08.839Z"
   },
   {
    "duration": 296,
    "start_time": "2022-01-08T22:28:15.509Z"
   },
   {
    "duration": 1463,
    "start_time": "2022-01-08T22:29:18.376Z"
   },
   {
    "duration": 11,
    "start_time": "2022-01-08T22:29:19.841Z"
   },
   {
    "duration": 25,
    "start_time": "2022-01-08T22:29:19.853Z"
   },
   {
    "duration": 8,
    "start_time": "2022-01-08T22:29:19.879Z"
   },
   {
    "duration": 23,
    "start_time": "2022-01-08T22:29:19.889Z"
   },
   {
    "duration": 8,
    "start_time": "2022-01-08T22:29:19.913Z"
   },
   {
    "duration": 9,
    "start_time": "2022-01-08T22:29:19.922Z"
   },
   {
    "duration": 14,
    "start_time": "2022-01-08T22:29:19.933Z"
   },
   {
    "duration": 7,
    "start_time": "2022-01-08T22:29:19.949Z"
   },
   {
    "duration": 6,
    "start_time": "2022-01-08T22:29:19.958Z"
   },
   {
    "duration": 33,
    "start_time": "2022-01-08T22:29:19.966Z"
   },
   {
    "duration": 12,
    "start_time": "2022-01-08T22:29:20.001Z"
   },
   {
    "duration": 24,
    "start_time": "2022-01-08T22:29:20.014Z"
   },
   {
    "duration": 17,
    "start_time": "2022-01-08T22:29:20.040Z"
   },
   {
    "duration": 34,
    "start_time": "2022-01-08T22:29:20.059Z"
   },
   {
    "duration": 6,
    "start_time": "2022-01-08T22:29:20.095Z"
   },
   {
    "duration": 8,
    "start_time": "2022-01-08T22:29:20.103Z"
   },
   {
    "duration": 32,
    "start_time": "2022-01-08T22:29:20.112Z"
   },
   {
    "duration": 8,
    "start_time": "2022-01-08T22:29:20.145Z"
   },
   {
    "duration": 42,
    "start_time": "2022-01-08T22:29:20.155Z"
   },
   {
    "duration": 24,
    "start_time": "2022-01-08T22:29:20.199Z"
   },
   {
    "duration": 8,
    "start_time": "2022-01-08T22:29:20.225Z"
   },
   {
    "duration": 56,
    "start_time": "2022-01-08T22:29:20.237Z"
   },
   {
    "duration": 5,
    "start_time": "2022-01-08T22:29:20.295Z"
   },
   {
    "duration": 17,
    "start_time": "2022-01-08T22:29:20.301Z"
   },
   {
    "duration": 11,
    "start_time": "2022-01-08T22:29:20.319Z"
   },
   {
    "duration": 4,
    "start_time": "2022-01-08T22:29:20.331Z"
   },
   {
    "duration": 58,
    "start_time": "2022-01-08T22:29:20.336Z"
   },
   {
    "duration": 24,
    "start_time": "2022-01-08T22:29:20.396Z"
   },
   {
    "duration": 20,
    "start_time": "2022-01-08T22:29:20.421Z"
   },
   {
    "duration": 6,
    "start_time": "2022-01-08T22:29:20.442Z"
   },
   {
    "duration": 91,
    "start_time": "2022-01-08T22:29:20.450Z"
   },
   {
    "duration": 51,
    "start_time": "2022-01-08T22:29:20.542Z"
   },
   {
    "duration": 10,
    "start_time": "2022-01-08T22:29:20.595Z"
   },
   {
    "duration": 41,
    "start_time": "2022-01-08T22:29:20.606Z"
   },
   {
    "duration": 4,
    "start_time": "2022-01-08T22:29:20.648Z"
   },
   {
    "duration": 61,
    "start_time": "2022-01-08T22:29:20.654Z"
   },
   {
    "duration": 9,
    "start_time": "2022-01-08T22:29:20.717Z"
   },
   {
    "duration": 16,
    "start_time": "2022-01-08T22:29:20.727Z"
   },
   {
    "duration": 6,
    "start_time": "2022-01-08T22:29:20.744Z"
   },
   {
    "duration": 9,
    "start_time": "2022-01-08T22:29:20.751Z"
   },
   {
    "duration": 53,
    "start_time": "2022-01-08T22:29:20.762Z"
   },
   {
    "duration": 15,
    "start_time": "2022-01-08T22:29:20.817Z"
   },
   {
    "duration": 22,
    "start_time": "2022-01-08T22:29:20.834Z"
   },
   {
    "duration": 45,
    "start_time": "2022-01-08T22:29:20.858Z"
   },
   {
    "duration": 14,
    "start_time": "2022-01-08T22:29:20.905Z"
   },
   {
    "duration": 6,
    "start_time": "2022-01-08T22:29:20.921Z"
   },
   {
    "duration": 356,
    "start_time": "2022-01-08T22:29:20.929Z"
   },
   {
    "duration": 18,
    "start_time": "2022-01-08T22:29:21.286Z"
   },
   {
    "duration": 7,
    "start_time": "2022-01-08T22:29:21.305Z"
   },
   {
    "duration": 345,
    "start_time": "2022-01-08T22:29:21.313Z"
   },
   {
    "duration": 13,
    "start_time": "2022-01-08T22:29:21.659Z"
   },
   {
    "duration": 23,
    "start_time": "2022-01-08T22:29:21.674Z"
   },
   {
    "duration": 323,
    "start_time": "2022-01-08T22:29:21.699Z"
   },
   {
    "duration": 14,
    "start_time": "2022-01-08T22:29:22.024Z"
   },
   {
    "duration": 9,
    "start_time": "2022-01-08T22:29:22.039Z"
   },
   {
    "duration": 6,
    "start_time": "2022-01-08T22:29:22.050Z"
   },
   {
    "duration": 327,
    "start_time": "2022-01-08T22:29:22.058Z"
   },
   {
    "duration": 8,
    "start_time": "2022-01-08T22:29:22.386Z"
   },
   {
    "duration": 8,
    "start_time": "2022-01-08T22:32:25.066Z"
   },
   {
    "duration": 8,
    "start_time": "2022-01-08T22:39:47.045Z"
   },
   {
    "duration": 1449,
    "start_time": "2022-01-08T23:01:57.526Z"
   },
   {
    "duration": 11,
    "start_time": "2022-01-08T23:01:58.977Z"
   },
   {
    "duration": 21,
    "start_time": "2022-01-08T23:01:58.990Z"
   },
   {
    "duration": 8,
    "start_time": "2022-01-08T23:01:59.013Z"
   },
   {
    "duration": 18,
    "start_time": "2022-01-08T23:01:59.022Z"
   },
   {
    "duration": 7,
    "start_time": "2022-01-08T23:01:59.042Z"
   },
   {
    "duration": 9,
    "start_time": "2022-01-08T23:01:59.051Z"
   },
   {
    "duration": 43,
    "start_time": "2022-01-08T23:01:59.063Z"
   },
   {
    "duration": 8,
    "start_time": "2022-01-08T23:01:59.109Z"
   },
   {
    "duration": 9,
    "start_time": "2022-01-08T23:01:59.119Z"
   },
   {
    "duration": 11,
    "start_time": "2022-01-08T23:01:59.130Z"
   },
   {
    "duration": 8,
    "start_time": "2022-01-08T23:01:59.143Z"
   },
   {
    "duration": 57,
    "start_time": "2022-01-08T23:01:59.153Z"
   },
   {
    "duration": 17,
    "start_time": "2022-01-08T23:01:59.212Z"
   },
   {
    "duration": 14,
    "start_time": "2022-01-08T23:01:59.231Z"
   },
   {
    "duration": 6,
    "start_time": "2022-01-08T23:01:59.247Z"
   },
   {
    "duration": 38,
    "start_time": "2022-01-08T23:01:59.256Z"
   },
   {
    "duration": 29,
    "start_time": "2022-01-08T23:01:59.296Z"
   },
   {
    "duration": 8,
    "start_time": "2022-01-08T23:01:59.327Z"
   },
   {
    "duration": 17,
    "start_time": "2022-01-08T23:01:59.336Z"
   },
   {
    "duration": 51,
    "start_time": "2022-01-08T23:01:59.355Z"
   },
   {
    "duration": 8,
    "start_time": "2022-01-08T23:01:59.408Z"
   },
   {
    "duration": 27,
    "start_time": "2022-01-08T23:01:59.420Z"
   },
   {
    "duration": 4,
    "start_time": "2022-01-08T23:01:59.449Z"
   },
   {
    "duration": 40,
    "start_time": "2022-01-08T23:01:59.455Z"
   },
   {
    "duration": 11,
    "start_time": "2022-01-08T23:01:59.496Z"
   },
   {
    "duration": 5,
    "start_time": "2022-01-08T23:01:59.508Z"
   },
   {
    "duration": 33,
    "start_time": "2022-01-08T23:01:59.515Z"
   },
   {
    "duration": 43,
    "start_time": "2022-01-08T23:01:59.550Z"
   },
   {
    "duration": 21,
    "start_time": "2022-01-08T23:01:59.595Z"
   },
   {
    "duration": 7,
    "start_time": "2022-01-08T23:01:59.618Z"
   },
   {
    "duration": 92,
    "start_time": "2022-01-08T23:01:59.627Z"
   },
   {
    "duration": 44,
    "start_time": "2022-01-08T23:01:59.721Z"
   },
   {
    "duration": 28,
    "start_time": "2022-01-08T23:01:59.767Z"
   },
   {
    "duration": 37,
    "start_time": "2022-01-08T23:01:59.797Z"
   },
   {
    "duration": 4,
    "start_time": "2022-01-08T23:01:59.836Z"
   },
   {
    "duration": 70,
    "start_time": "2022-01-08T23:01:59.842Z"
   },
   {
    "duration": 9,
    "start_time": "2022-01-08T23:01:59.914Z"
   },
   {
    "duration": 16,
    "start_time": "2022-01-08T23:01:59.925Z"
   },
   {
    "duration": 4,
    "start_time": "2022-01-08T23:01:59.943Z"
   },
   {
    "duration": 7,
    "start_time": "2022-01-08T23:01:59.949Z"
   },
   {
    "duration": 51,
    "start_time": "2022-01-08T23:01:59.966Z"
   },
   {
    "duration": 17,
    "start_time": "2022-01-08T23:02:00.019Z"
   },
   {
    "duration": 24,
    "start_time": "2022-01-08T23:02:00.037Z"
   },
   {
    "duration": 29,
    "start_time": "2022-01-08T23:02:00.063Z"
   },
   {
    "duration": 14,
    "start_time": "2022-01-08T23:02:00.094Z"
   },
   {
    "duration": 13,
    "start_time": "2022-01-08T23:02:00.110Z"
   },
   {
    "duration": 7,
    "start_time": "2022-01-08T23:02:00.124Z"
   },
   {
    "duration": 376,
    "start_time": "2022-01-08T23:02:00.133Z"
   },
   {
    "duration": 15,
    "start_time": "2022-01-08T23:02:00.510Z"
   },
   {
    "duration": 16,
    "start_time": "2022-01-08T23:02:00.526Z"
   },
   {
    "duration": 337,
    "start_time": "2022-01-08T23:02:00.543Z"
   },
   {
    "duration": 19,
    "start_time": "2022-01-08T23:02:00.882Z"
   },
   {
    "duration": 16,
    "start_time": "2022-01-08T23:02:00.902Z"
   },
   {
    "duration": 344,
    "start_time": "2022-01-08T23:02:00.920Z"
   },
   {
    "duration": 26,
    "start_time": "2022-01-08T23:02:01.267Z"
   },
   {
    "duration": 15,
    "start_time": "2022-01-08T23:02:01.295Z"
   },
   {
    "duration": 13,
    "start_time": "2022-01-08T23:02:01.313Z"
   },
   {
    "duration": 351,
    "start_time": "2022-01-08T23:02:01.328Z"
   },
   {
    "duration": 18,
    "start_time": "2022-01-08T23:02:01.682Z"
   },
   {
    "duration": 9,
    "start_time": "2022-01-08T23:09:56.376Z"
   },
   {
    "duration": 15,
    "start_time": "2022-01-08T23:10:50.991Z"
   },
   {
    "duration": 10,
    "start_time": "2022-01-08T23:15:37.419Z"
   },
   {
    "duration": 9,
    "start_time": "2022-01-08T23:15:44.198Z"
   },
   {
    "duration": 8,
    "start_time": "2022-01-08T23:15:49.968Z"
   },
   {
    "duration": 9,
    "start_time": "2022-01-08T23:16:11.581Z"
   },
   {
    "duration": 331,
    "start_time": "2022-01-08T23:38:05.990Z"
   },
   {
    "duration": 384,
    "start_time": "2022-01-08T23:41:00.038Z"
   },
   {
    "duration": 1438,
    "start_time": "2022-01-08T23:52:13.706Z"
   },
   {
    "duration": 14,
    "start_time": "2022-01-08T23:52:15.146Z"
   },
   {
    "duration": 20,
    "start_time": "2022-01-08T23:52:15.162Z"
   },
   {
    "duration": 8,
    "start_time": "2022-01-08T23:52:15.184Z"
   },
   {
    "duration": 18,
    "start_time": "2022-01-08T23:52:15.194Z"
   },
   {
    "duration": 9,
    "start_time": "2022-01-08T23:52:15.213Z"
   },
   {
    "duration": 9,
    "start_time": "2022-01-08T23:52:15.224Z"
   },
   {
    "duration": 14,
    "start_time": "2022-01-08T23:52:15.236Z"
   },
   {
    "duration": 40,
    "start_time": "2022-01-08T23:52:15.252Z"
   },
   {
    "duration": 6,
    "start_time": "2022-01-08T23:52:15.294Z"
   },
   {
    "duration": 11,
    "start_time": "2022-01-08T23:52:15.301Z"
   },
   {
    "duration": 7,
    "start_time": "2022-01-08T23:52:15.313Z"
   },
   {
    "duration": 21,
    "start_time": "2022-01-08T23:52:15.322Z"
   },
   {
    "duration": 15,
    "start_time": "2022-01-08T23:52:15.345Z"
   },
   {
    "duration": 43,
    "start_time": "2022-01-08T23:52:15.362Z"
   },
   {
    "duration": 5,
    "start_time": "2022-01-08T23:52:15.407Z"
   },
   {
    "duration": 9,
    "start_time": "2022-01-08T23:52:15.414Z"
   },
   {
    "duration": 32,
    "start_time": "2022-01-08T23:52:15.424Z"
   },
   {
    "duration": 34,
    "start_time": "2022-01-08T23:52:15.457Z"
   },
   {
    "duration": 12,
    "start_time": "2022-01-08T23:52:15.493Z"
   },
   {
    "duration": 22,
    "start_time": "2022-01-08T23:52:15.507Z"
   },
   {
    "duration": 8,
    "start_time": "2022-01-08T23:52:15.531Z"
   },
   {
    "duration": 53,
    "start_time": "2022-01-08T23:52:15.543Z"
   },
   {
    "duration": 4,
    "start_time": "2022-01-08T23:52:15.598Z"
   },
   {
    "duration": 18,
    "start_time": "2022-01-08T23:52:15.604Z"
   },
   {
    "duration": 10,
    "start_time": "2022-01-08T23:52:15.624Z"
   },
   {
    "duration": 3,
    "start_time": "2022-01-08T23:52:15.635Z"
   },
   {
    "duration": 54,
    "start_time": "2022-01-08T23:52:15.640Z"
   },
   {
    "duration": 22,
    "start_time": "2022-01-08T23:52:15.696Z"
   },
   {
    "duration": 18,
    "start_time": "2022-01-08T23:52:15.720Z"
   },
   {
    "duration": 5,
    "start_time": "2022-01-08T23:52:15.740Z"
   },
   {
    "duration": 83,
    "start_time": "2022-01-08T23:52:15.747Z"
   },
   {
    "duration": 40,
    "start_time": "2022-01-08T23:52:15.832Z"
   },
   {
    "duration": 23,
    "start_time": "2022-01-08T23:52:15.874Z"
   },
   {
    "duration": 34,
    "start_time": "2022-01-08T23:52:15.898Z"
   },
   {
    "duration": 3,
    "start_time": "2022-01-08T23:52:15.933Z"
   },
   {
    "duration": 57,
    "start_time": "2022-01-08T23:52:15.938Z"
   },
   {
    "duration": 8,
    "start_time": "2022-01-08T23:52:15.997Z"
   },
   {
    "duration": 15,
    "start_time": "2022-01-08T23:52:16.007Z"
   },
   {
    "duration": 5,
    "start_time": "2022-01-08T23:52:16.024Z"
   },
   {
    "duration": 7,
    "start_time": "2022-01-08T23:52:16.030Z"
   },
   {
    "duration": 54,
    "start_time": "2022-01-08T23:52:16.039Z"
   },
   {
    "duration": 15,
    "start_time": "2022-01-08T23:52:16.094Z"
   },
   {
    "duration": 22,
    "start_time": "2022-01-08T23:52:16.110Z"
   },
   {
    "duration": 4,
    "start_time": "2022-01-08T23:52:16.133Z"
   },
   {
    "duration": 16,
    "start_time": "2022-01-08T23:52:16.139Z"
   },
   {
    "duration": 41,
    "start_time": "2022-01-08T23:52:16.157Z"
   },
   {
    "duration": 6,
    "start_time": "2022-01-08T23:52:16.200Z"
   },
   {
    "duration": 337,
    "start_time": "2022-01-08T23:52:16.208Z"
   },
   {
    "duration": 13,
    "start_time": "2022-01-08T23:52:16.547Z"
   },
   {
    "duration": 6,
    "start_time": "2022-01-08T23:52:16.561Z"
   },
   {
    "duration": 327,
    "start_time": "2022-01-08T23:52:16.569Z"
   },
   {
    "duration": 13,
    "start_time": "2022-01-08T23:52:16.898Z"
   },
   {
    "duration": 10,
    "start_time": "2022-01-08T23:52:16.913Z"
   },
   {
    "duration": 329,
    "start_time": "2022-01-08T23:52:16.924Z"
   },
   {
    "duration": 13,
    "start_time": "2022-01-08T23:52:17.255Z"
   },
   {
    "duration": 7,
    "start_time": "2022-01-08T23:52:17.270Z"
   },
   {
    "duration": 6,
    "start_time": "2022-01-08T23:52:17.292Z"
   },
   {
    "duration": 328,
    "start_time": "2022-01-08T23:52:17.300Z"
   },
   {
    "duration": 8,
    "start_time": "2022-01-08T23:52:17.630Z"
   },
   {
    "duration": 8,
    "start_time": "2022-01-08T23:52:17.639Z"
   },
   {
    "duration": 2223,
    "start_time": "2022-01-10T10:23:55.730Z"
   },
   {
    "duration": 17,
    "start_time": "2022-01-10T10:23:57.957Z"
   },
   {
    "duration": 29,
    "start_time": "2022-01-10T10:23:57.980Z"
   },
   {
    "duration": 10,
    "start_time": "2022-01-10T10:23:58.013Z"
   },
   {
    "duration": 26,
    "start_time": "2022-01-10T10:23:58.027Z"
   },
   {
    "duration": 13,
    "start_time": "2022-01-10T10:23:58.055Z"
   },
   {
    "duration": 48,
    "start_time": "2022-01-10T10:23:58.071Z"
   },
   {
    "duration": 20,
    "start_time": "2022-01-10T10:23:58.124Z"
   },
   {
    "duration": 12,
    "start_time": "2022-01-10T10:23:58.148Z"
   },
   {
    "duration": 11,
    "start_time": "2022-01-10T10:23:58.162Z"
   },
   {
    "duration": 15,
    "start_time": "2022-01-10T10:23:58.216Z"
   },
   {
    "duration": 13,
    "start_time": "2022-01-10T10:23:58.234Z"
   },
   {
    "duration": 69,
    "start_time": "2022-01-10T10:23:58.250Z"
   },
   {
    "duration": 23,
    "start_time": "2022-01-10T10:23:58.322Z"
   },
   {
    "duration": 21,
    "start_time": "2022-01-10T10:23:58.348Z"
   },
   {
    "duration": 46,
    "start_time": "2022-01-10T10:23:58.372Z"
   },
   {
    "duration": 13,
    "start_time": "2022-01-10T10:23:58.421Z"
   },
   {
    "duration": 43,
    "start_time": "2022-01-10T10:23:58.438Z"
   },
   {
    "duration": 13,
    "start_time": "2022-01-10T10:23:58.516Z"
   },
   {
    "duration": 18,
    "start_time": "2022-01-10T10:23:58.531Z"
   },
   {
    "duration": 66,
    "start_time": "2022-01-10T10:23:58.551Z"
   },
   {
    "duration": 13,
    "start_time": "2022-01-10T10:23:58.619Z"
   },
   {
    "duration": 76,
    "start_time": "2022-01-10T10:23:58.641Z"
   },
   {
    "duration": 6,
    "start_time": "2022-01-10T10:23:58.720Z"
   },
   {
    "duration": 24,
    "start_time": "2022-01-10T10:23:58.729Z"
   },
   {
    "duration": 17,
    "start_time": "2022-01-10T10:23:58.758Z"
   },
   {
    "duration": 42,
    "start_time": "2022-01-10T10:23:58.777Z"
   },
   {
    "duration": 47,
    "start_time": "2022-01-10T10:23:58.822Z"
   },
   {
    "duration": 57,
    "start_time": "2022-01-10T10:23:58.872Z"
   },
   {
    "duration": 27,
    "start_time": "2022-01-10T10:23:58.933Z"
   },
   {
    "duration": 9,
    "start_time": "2022-01-10T10:23:58.963Z"
   },
   {
    "duration": 122,
    "start_time": "2022-01-10T10:23:58.974Z"
   },
   {
    "duration": 73,
    "start_time": "2022-01-10T10:23:59.099Z"
   },
   {
    "duration": 18,
    "start_time": "2022-01-10T10:23:59.174Z"
   },
   {
    "duration": 77,
    "start_time": "2022-01-10T10:23:59.195Z"
   },
   {
    "duration": 5,
    "start_time": "2022-01-10T10:23:59.274Z"
   },
   {
    "duration": 82,
    "start_time": "2022-01-10T10:23:59.282Z"
   },
   {
    "duration": 13,
    "start_time": "2022-01-10T10:23:59.367Z"
   },
   {
    "duration": 45,
    "start_time": "2022-01-10T10:23:59.383Z"
   },
   {
    "duration": 8,
    "start_time": "2022-01-10T10:23:59.432Z"
   },
   {
    "duration": 15,
    "start_time": "2022-01-10T10:23:59.442Z"
   },
   {
    "duration": 70,
    "start_time": "2022-01-10T10:23:59.460Z"
   },
   {
    "duration": 26,
    "start_time": "2022-01-10T10:23:59.532Z"
   },
   {
    "duration": 67,
    "start_time": "2022-01-10T10:23:59.561Z"
   },
   {
    "duration": 12,
    "start_time": "2022-01-10T10:23:59.631Z"
   },
   {
    "duration": 31,
    "start_time": "2022-01-10T10:23:59.646Z"
   },
   {
    "duration": 50,
    "start_time": "2022-01-10T10:23:59.680Z"
   },
   {
    "duration": 12,
    "start_time": "2022-01-10T10:23:59.733Z"
   },
   {
    "duration": 617,
    "start_time": "2022-01-10T10:23:59.748Z"
   },
   {
    "duration": 20,
    "start_time": "2022-01-10T10:24:00.367Z"
   },
   {
    "duration": 33,
    "start_time": "2022-01-10T10:24:00.389Z"
   },
   {
    "duration": 548,
    "start_time": "2022-01-10T10:24:00.425Z"
   },
   {
    "duration": 20,
    "start_time": "2022-01-10T10:24:00.976Z"
   },
   {
    "duration": 32,
    "start_time": "2022-01-10T10:24:00.998Z"
   },
   {
    "duration": 629,
    "start_time": "2022-01-10T10:24:01.033Z"
   },
   {
    "duration": 19,
    "start_time": "2022-01-10T10:24:01.664Z"
   },
   {
    "duration": 39,
    "start_time": "2022-01-10T10:24:01.686Z"
   },
   {
    "duration": 22,
    "start_time": "2022-01-10T10:24:01.729Z"
   },
   {
    "duration": 591,
    "start_time": "2022-01-10T10:24:01.754Z"
   },
   {
    "duration": 15,
    "start_time": "2022-01-10T10:24:02.348Z"
   },
   {
    "duration": 18,
    "start_time": "2022-01-10T10:24:02.366Z"
   },
   {
    "duration": 1408,
    "start_time": "2022-01-10T19:29:08.818Z"
   },
   {
    "duration": 1962,
    "start_time": "2022-01-14T16:25:52.524Z"
   },
   {
    "duration": 17,
    "start_time": "2022-01-14T16:25:54.488Z"
   },
   {
    "duration": 32,
    "start_time": "2022-01-14T16:25:54.508Z"
   },
   {
    "duration": 23,
    "start_time": "2022-01-14T16:25:54.543Z"
   },
   {
    "duration": 23,
    "start_time": "2022-01-14T16:25:54.568Z"
   },
   {
    "duration": 12,
    "start_time": "2022-01-14T16:25:54.594Z"
   },
   {
    "duration": 14,
    "start_time": "2022-01-14T16:25:54.608Z"
   },
   {
    "duration": 52,
    "start_time": "2022-01-14T16:25:54.625Z"
   },
   {
    "duration": 11,
    "start_time": "2022-01-14T16:25:54.681Z"
   },
   {
    "duration": 9,
    "start_time": "2022-01-14T16:25:54.695Z"
   },
   {
    "duration": 22,
    "start_time": "2022-01-14T16:25:54.706Z"
   },
   {
    "duration": 41,
    "start_time": "2022-01-14T16:25:54.731Z"
   },
   {
    "duration": 35,
    "start_time": "2022-01-14T16:25:54.774Z"
   },
   {
    "duration": 25,
    "start_time": "2022-01-14T16:25:54.811Z"
   },
   {
    "duration": 20,
    "start_time": "2022-01-14T16:25:54.867Z"
   },
   {
    "duration": 13,
    "start_time": "2022-01-14T16:25:54.889Z"
   },
   {
    "duration": 12,
    "start_time": "2022-01-14T16:25:54.904Z"
   },
   {
    "duration": 79,
    "start_time": "2022-01-14T16:25:54.919Z"
   },
   {
    "duration": 12,
    "start_time": "2022-01-14T16:25:55.000Z"
   },
   {
    "duration": 20,
    "start_time": "2022-01-14T16:25:55.015Z"
   },
   {
    "duration": 58,
    "start_time": "2022-01-14T16:25:55.039Z"
   },
   {
    "duration": 12,
    "start_time": "2022-01-14T16:25:55.099Z"
   },
   {
    "duration": 82,
    "start_time": "2022-01-14T16:25:55.118Z"
   },
   {
    "duration": 9,
    "start_time": "2022-01-14T16:25:55.205Z"
   },
   {
    "duration": 53,
    "start_time": "2022-01-14T16:25:55.217Z"
   },
   {
    "duration": 19,
    "start_time": "2022-01-14T16:25:55.272Z"
   },
   {
    "duration": 4,
    "start_time": "2022-01-14T16:25:55.293Z"
   },
   {
    "duration": 76,
    "start_time": "2022-01-14T16:25:55.299Z"
   },
   {
    "duration": 30,
    "start_time": "2022-01-14T16:25:55.378Z"
   },
   {
    "duration": 26,
    "start_time": "2022-01-14T16:25:55.411Z"
   },
   {
    "duration": 30,
    "start_time": "2022-01-14T16:25:55.439Z"
   },
   {
    "duration": 103,
    "start_time": "2022-01-14T16:25:55.472Z"
   },
   {
    "duration": 57,
    "start_time": "2022-01-14T16:25:55.577Z"
   },
   {
    "duration": 37,
    "start_time": "2022-01-14T16:25:55.637Z"
   },
   {
    "duration": 53,
    "start_time": "2022-01-14T16:25:55.676Z"
   },
   {
    "duration": 5,
    "start_time": "2022-01-14T16:25:55.731Z"
   },
   {
    "duration": 84,
    "start_time": "2022-01-14T16:25:55.738Z"
   },
   {
    "duration": 14,
    "start_time": "2022-01-14T16:25:55.824Z"
   },
   {
    "duration": 48,
    "start_time": "2022-01-14T16:25:55.840Z"
   },
   {
    "duration": 10,
    "start_time": "2022-01-14T16:25:55.890Z"
   },
   {
    "duration": 11,
    "start_time": "2022-01-14T16:25:55.902Z"
   },
   {
    "duration": 72,
    "start_time": "2022-01-14T16:25:55.915Z"
   },
   {
    "duration": 21,
    "start_time": "2022-01-14T16:25:55.990Z"
   },
   {
    "duration": 59,
    "start_time": "2022-01-14T16:25:56.013Z"
   },
   {
    "duration": 7,
    "start_time": "2022-01-14T16:25:56.075Z"
   },
   {
    "duration": 25,
    "start_time": "2022-01-14T16:25:56.085Z"
   },
   {
    "duration": 19,
    "start_time": "2022-01-14T16:25:56.112Z"
   },
   {
    "duration": 43,
    "start_time": "2022-01-14T16:25:56.133Z"
   },
   {
    "duration": 573,
    "start_time": "2022-01-14T16:25:56.179Z"
   },
   {
    "duration": 29,
    "start_time": "2022-01-14T16:25:56.755Z"
   },
   {
    "duration": 10,
    "start_time": "2022-01-14T16:25:56.787Z"
   },
   {
    "duration": 549,
    "start_time": "2022-01-14T16:25:56.800Z"
   },
   {
    "duration": 31,
    "start_time": "2022-01-14T16:25:57.352Z"
   },
   {
    "duration": 16,
    "start_time": "2022-01-14T16:25:57.385Z"
   },
   {
    "duration": 553,
    "start_time": "2022-01-14T16:25:57.404Z"
   },
   {
    "duration": 21,
    "start_time": "2022-01-14T16:25:57.967Z"
   },
   {
    "duration": 11,
    "start_time": "2022-01-14T16:25:57.990Z"
   },
   {
    "duration": 9,
    "start_time": "2022-01-14T16:25:58.003Z"
   },
   {
    "duration": 560,
    "start_time": "2022-01-14T16:25:58.014Z"
   },
   {
    "duration": 12,
    "start_time": "2022-01-14T16:25:58.577Z"
   },
   {
    "duration": 14,
    "start_time": "2022-01-14T16:25:58.592Z"
   },
   {
    "duration": 78,
    "start_time": "2022-01-14T16:25:58.609Z"
   },
   {
    "duration": 3068,
    "start_time": "2022-05-24T18:08:09.994Z"
   },
   {
    "duration": 34,
    "start_time": "2022-05-24T18:08:13.065Z"
   },
   {
    "duration": 113,
    "start_time": "2022-05-24T18:08:13.101Z"
   },
   {
    "duration": 13,
    "start_time": "2022-05-24T18:08:13.217Z"
   },
   {
    "duration": 33,
    "start_time": "2022-05-24T18:08:13.232Z"
   },
   {
    "duration": 11,
    "start_time": "2022-05-24T18:08:13.267Z"
   },
   {
    "duration": 41,
    "start_time": "2022-05-24T18:08:13.280Z"
   },
   {
    "duration": 31,
    "start_time": "2022-05-24T18:08:13.323Z"
   },
   {
    "duration": 144,
    "start_time": "2022-05-24T18:08:13.357Z"
   },
   {
    "duration": 43,
    "start_time": "2022-05-24T18:08:13.506Z"
   },
   {
    "duration": 81,
    "start_time": "2022-05-24T18:08:13.551Z"
   },
   {
    "duration": 31,
    "start_time": "2022-05-24T18:08:13.637Z"
   },
   {
    "duration": 91,
    "start_time": "2022-05-24T18:08:13.670Z"
   },
   {
    "duration": 72,
    "start_time": "2022-05-24T18:08:13.763Z"
   },
   {
    "duration": 19,
    "start_time": "2022-05-24T18:08:13.837Z"
   },
   {
    "duration": 52,
    "start_time": "2022-05-24T18:08:13.858Z"
   },
   {
    "duration": 25,
    "start_time": "2022-05-24T18:08:13.917Z"
   },
   {
    "duration": 58,
    "start_time": "2022-05-24T18:08:13.944Z"
   },
   {
    "duration": 35,
    "start_time": "2022-05-24T18:08:14.004Z"
   },
   {
    "duration": 15,
    "start_time": "2022-05-24T18:08:14.041Z"
   },
   {
    "duration": 47,
    "start_time": "2022-05-24T18:08:14.057Z"
   },
   {
    "duration": 23,
    "start_time": "2022-05-24T18:08:14.106Z"
   },
   {
    "duration": 26,
    "start_time": "2022-05-24T18:08:14.131Z"
   },
   {
    "duration": 19,
    "start_time": "2022-05-24T18:08:14.172Z"
   },
   {
    "duration": 32,
    "start_time": "2022-05-24T18:08:14.193Z"
   },
   {
    "duration": 10,
    "start_time": "2022-05-24T18:08:14.226Z"
   },
   {
    "duration": 6,
    "start_time": "2022-05-24T18:08:14.238Z"
   },
   {
    "duration": 60,
    "start_time": "2022-05-24T18:08:14.248Z"
   },
   {
    "duration": 26,
    "start_time": "2022-05-24T18:08:14.310Z"
   },
   {
    "duration": 30,
    "start_time": "2022-05-24T18:08:14.337Z"
   },
   {
    "duration": 8,
    "start_time": "2022-05-24T18:08:14.370Z"
   },
   {
    "duration": 94,
    "start_time": "2022-05-24T18:08:14.381Z"
   },
   {
    "duration": 52,
    "start_time": "2022-05-24T18:08:14.477Z"
   },
   {
    "duration": 10,
    "start_time": "2022-05-24T18:08:14.532Z"
   },
   {
    "duration": 74,
    "start_time": "2022-05-24T18:08:14.544Z"
   },
   {
    "duration": 3,
    "start_time": "2022-05-24T18:08:14.620Z"
   },
   {
    "duration": 70,
    "start_time": "2022-05-24T18:08:14.624Z"
   },
   {
    "duration": 17,
    "start_time": "2022-05-24T18:08:14.703Z"
   },
   {
    "duration": 18,
    "start_time": "2022-05-24T18:08:14.722Z"
   },
   {
    "duration": 5,
    "start_time": "2022-05-24T18:08:14.741Z"
   },
   {
    "duration": 61,
    "start_time": "2022-05-24T18:08:14.747Z"
   },
   {
    "duration": 24,
    "start_time": "2022-05-24T18:08:14.810Z"
   },
   {
    "duration": 11,
    "start_time": "2022-05-24T18:08:14.835Z"
   },
   {
    "duration": 40,
    "start_time": "2022-05-24T18:08:14.847Z"
   },
   {
    "duration": 23,
    "start_time": "2022-05-24T18:08:14.890Z"
   },
   {
    "duration": 24,
    "start_time": "2022-05-24T18:08:14.916Z"
   },
   {
    "duration": 27,
    "start_time": "2022-05-24T18:08:14.942Z"
   },
   {
    "duration": 13,
    "start_time": "2022-05-24T18:08:14.972Z"
   },
   {
    "duration": 374,
    "start_time": "2022-05-24T18:08:14.988Z"
   },
   {
    "duration": 30,
    "start_time": "2022-05-24T18:08:15.364Z"
   },
   {
    "duration": 12,
    "start_time": "2022-05-24T18:08:15.402Z"
   },
   {
    "duration": 420,
    "start_time": "2022-05-24T18:08:15.416Z"
   },
   {
    "duration": 13,
    "start_time": "2022-05-24T18:08:15.838Z"
   },
   {
    "duration": 15,
    "start_time": "2022-05-24T18:08:15.853Z"
   },
   {
    "duration": 349,
    "start_time": "2022-05-24T18:08:15.870Z"
   },
   {
    "duration": 16,
    "start_time": "2022-05-24T18:08:16.221Z"
   },
   {
    "duration": 63,
    "start_time": "2022-05-24T18:08:16.238Z"
   },
   {
    "duration": 21,
    "start_time": "2022-05-24T18:08:16.303Z"
   },
   {
    "duration": 288,
    "start_time": "2022-05-24T18:08:16.326Z"
   },
   {
    "duration": 9,
    "start_time": "2022-05-24T18:08:16.616Z"
   },
   {
    "duration": 21,
    "start_time": "2022-05-24T18:08:16.626Z"
   }
  ],
  "kernelspec": {
   "display_name": "Python 3 (ipykernel)",
   "language": "python",
   "name": "python3"
  },
  "language_info": {
   "codemirror_mode": {
    "name": "ipython",
    "version": 3
   },
   "file_extension": ".py",
   "mimetype": "text/x-python",
   "name": "python",
   "nbconvert_exporter": "python",
   "pygments_lexer": "ipython3",
   "version": "3.7.8"
  },
  "toc": {
   "base_numbering": 1,
   "nav_menu": {
    "height": "366px",
    "width": "369px"
   },
   "number_sections": true,
   "sideBar": true,
   "skip_h1_title": true,
   "title_cell": "Содержание",
   "title_sidebar": "Contents",
   "toc_cell": true,
   "toc_position": {},
   "toc_section_display": true,
   "toc_window_display": true
  }
 },
 "nbformat": 4,
 "nbformat_minor": 2
}
