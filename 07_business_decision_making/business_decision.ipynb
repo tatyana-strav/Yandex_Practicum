{
 "cells": [
  {
   "cell_type": "markdown",
   "id": "63ef24b5",
   "metadata": {
    "toc": true
   },
   "source": [
    "<h1>Содержание<span class=\"tocSkip\"></span></h1>\n",
    "<div class=\"toc\"><ul class=\"toc-item\"><li><span><a href=\"#Импорт-данных\" data-toc-modified-id=\"Импорт-данных-1\"><span class=\"toc-item-num\">1&nbsp;&nbsp;</span>Импорт данных</a></span></li><li><span><a href=\"#Изучение-общей-информации\" data-toc-modified-id=\"Изучение-общей-информации-2\"><span class=\"toc-item-num\">2&nbsp;&nbsp;</span>Изучение общей информации</a></span><ul class=\"toc-item\"><li><span><a href=\"#Изучим-таблицу-orders.\" data-toc-modified-id=\"Изучим-таблицу-orders.-2.1\"><span class=\"toc-item-num\">2.1&nbsp;&nbsp;</span>Изучим таблицу <code>orders</code>.</a></span></li><li><span><a href=\"#Изучим-таблицу-visitors.\" data-toc-modified-id=\"Изучим-таблицу-visitors.-2.2\"><span class=\"toc-item-num\">2.2&nbsp;&nbsp;</span>Изучим таблицу <code>visitors</code>.</a></span></li><li><span><a href=\"#Изучим-таблицу-hypothesis.\" data-toc-modified-id=\"Изучим-таблицу-hypothesis.-2.3\"><span class=\"toc-item-num\">2.3&nbsp;&nbsp;</span>Изучим таблицу <code>hypothesis</code>.</a></span></li></ul></li><li><span><a href=\"#Подготовка-данных\" data-toc-modified-id=\"Подготовка-данных-3\"><span class=\"toc-item-num\">3&nbsp;&nbsp;</span>Подготовка данных</a></span><ul class=\"toc-item\"><li><span><a href=\"#Стиль-заголовков\" data-toc-modified-id=\"Стиль-заголовков-3.1\"><span class=\"toc-item-num\">3.1&nbsp;&nbsp;</span>Стиль заголовков</a></span></li><li><span><a href=\"#Изменение-типов-данных\" data-toc-modified-id=\"Изменение-типов-данных-3.2\"><span class=\"toc-item-num\">3.2&nbsp;&nbsp;</span>Изменение типов данных</a></span></li><li><span><a href=\"#Дубликаты\" data-toc-modified-id=\"Дубликаты-3.3\"><span class=\"toc-item-num\">3.3&nbsp;&nbsp;</span>Дубликаты</a></span></li></ul></li><li><span><a href=\"#Приоритизация-гипотез\" data-toc-modified-id=\"Приоритизация-гипотез-4\"><span class=\"toc-item-num\">4&nbsp;&nbsp;</span>Приоритизация гипотез</a></span><ul class=\"toc-item\"><li><span><a href=\"#Фреймворк-ICE-для-приоритизации-гипотез\" data-toc-modified-id=\"Фреймворк-ICE-для-приоритизации-гипотез-4.1\"><span class=\"toc-item-num\">4.1&nbsp;&nbsp;</span>Фреймворк ICE для приоритизации гипотез</a></span></li><li><span><a href=\"#Фреймворк-RICE-для-приоритизации-гипотез\" data-toc-modified-id=\"Фреймворк-RICE-для-приоритизации-гипотез-4.2\"><span class=\"toc-item-num\">4.2&nbsp;&nbsp;</span>Фреймворк RICE для приоритизации гипотез</a></span></li></ul></li><li><span><a href=\"#Анализ-A/B-теста\" data-toc-modified-id=\"Анализ-A/B-теста-5\"><span class=\"toc-item-num\">5&nbsp;&nbsp;</span>Анализ A/B-теста</a></span><ul class=\"toc-item\"><li><span><a href=\"#График-кумулятивной-выручки-по-группам\" data-toc-modified-id=\"График-кумулятивной-выручки-по-группам-5.1\"><span class=\"toc-item-num\">5.1&nbsp;&nbsp;</span>График кумулятивной выручки по группам</a></span></li><li><span><a href=\"#График-кумулятивного-среднего-чека-по-группам\" data-toc-modified-id=\"График-кумулятивного-среднего-чека-по-группам-5.2\"><span class=\"toc-item-num\">5.2&nbsp;&nbsp;</span>График кумулятивного среднего чека по группам</a></span></li><li><span><a href=\"#График-относительного-изменения-кумулятивного-среднего-чека-группы-В-к-группе-А\" data-toc-modified-id=\"График-относительного-изменения-кумулятивного-среднего-чека-группы-В-к-группе-А-5.3\"><span class=\"toc-item-num\">5.3&nbsp;&nbsp;</span>График относительного изменения кумулятивного среднего чека группы В к группе А</a></span></li><li><span><a href=\"#График-кумулятивной-конверсии-по-группам\" data-toc-modified-id=\"График-кумулятивной-конверсии-по-группам-5.4\"><span class=\"toc-item-num\">5.4&nbsp;&nbsp;</span>График кумулятивной конверсии по группам</a></span></li><li><span><a href=\"#График-относительного-изменения-кумулятивной-конверсии-группы-В-к-группе-А\" data-toc-modified-id=\"График-относительного-изменения-кумулятивной-конверсии-группы-В-к-группе-А-5.5\"><span class=\"toc-item-num\">5.5&nbsp;&nbsp;</span>График относительного изменения кумулятивной конверсии группы В к группе А</a></span></li><li><span><a href=\"#Точечный-график-количества-заказов-по-пользователям\" data-toc-modified-id=\"Точечный-график-количества-заказов-по-пользователям-5.6\"><span class=\"toc-item-num\">5.6&nbsp;&nbsp;</span>Точечный график количества заказов по пользователям</a></span></li><li><span><a href=\"#95-й-и-99-й-перцентили-количества-заказов-на-пользователя\" data-toc-modified-id=\"95-й-и-99-й-перцентили-количества-заказов-на-пользователя-5.7\"><span class=\"toc-item-num\">5.7&nbsp;&nbsp;</span>95-й и 99-й перцентили количества заказов на пользователя</a></span></li><li><span><a href=\"#Точечный-график-стоимостей-заказов\" data-toc-modified-id=\"Точечный-график-стоимостей-заказов-5.8\"><span class=\"toc-item-num\">5.8&nbsp;&nbsp;</span>Точечный график стоимостей заказов</a></span></li><li><span><a href=\"#95-й-и-99-й-перцентили-стоимости-заказов\" data-toc-modified-id=\"95-й-и-99-й-перцентили-стоимости-заказов-5.9\"><span class=\"toc-item-num\">5.9&nbsp;&nbsp;</span>95-й и 99-й перцентили стоимости заказов</a></span></li><li><span><a href=\"#Статистическая-значимость-различий-в-конверсии-между-группами-по-&quot;сырым&quot;-данным\" data-toc-modified-id=\"Статистическая-значимость-различий-в-конверсии-между-группами-по-&quot;сырым&quot;-данным-5.10\"><span class=\"toc-item-num\">5.10&nbsp;&nbsp;</span>Статистическая значимость различий в конверсии между группами по \"сырым\" данным</a></span></li><li><span><a href=\"#Статистическая-значимость-различий-в-среднем-чеке-между-группами-по-&quot;сырым&quot;-данным\" data-toc-modified-id=\"Статистическая-значимость-различий-в-среднем-чеке-между-группами-по-&quot;сырым&quot;-данным-5.11\"><span class=\"toc-item-num\">5.11&nbsp;&nbsp;</span>Статистическая значимость различий в среднем чеке между группами по \"сырым\" данным</a></span></li><li><span><a href=\"#Статистическая-значимость-различий-в-конверсии-между-группами-по-&quot;очищенным&quot;-данным\" data-toc-modified-id=\"Статистическая-значимость-различий-в-конверсии-между-группами-по-&quot;очищенным&quot;-данным-5.12\"><span class=\"toc-item-num\">5.12&nbsp;&nbsp;</span>Статистическая значимость различий в конверсии между группами по \"очищенным\" данным</a></span></li><li><span><a href=\"#Статистическая-значимость-различий-в-среднем-чеке-заказа-между-группами-по-&quot;очищенным&quot;-данным\" data-toc-modified-id=\"Статистическая-значимость-различий-в-среднем-чеке-заказа-между-группами-по-&quot;очищенным&quot;-данным-5.13\"><span class=\"toc-item-num\">5.13&nbsp;&nbsp;</span>Статистическая значимость различий в среднем чеке заказа между группами по \"очищенным\" данным</a></span></li><li><span><a href=\"#Принятие-решения-по-результатам-теста\" data-toc-modified-id=\"Принятие-решения-по-результатам-теста-5.14\"><span class=\"toc-item-num\">5.14&nbsp;&nbsp;</span>Принятие решения по результатам теста</a></span></li></ul></li></ul></div>"
   ]
  },
  {
   "cell_type": "markdown",
   "id": "ef70dafc",
   "metadata": {},
   "source": [
    "# ПРИНЯТИЕ РЕШЕНИЙ В БИЗНЕСЕ"
   ]
  },
  {
   "cell_type": "markdown",
   "id": "f8222acf",
   "metadata": {},
   "source": [
    "Для увеличения выручки одного крупного интернет-магазина был подготовлен список гипотез. Необходимо приоретизировать гипотезы, запустить А/В-тест и проанализировать результаты.\n",
    "\n",
    "**Цель** - принять по результатам теста одно из трех решений:\n",
    "1. Остановить тест, зафиксировать победу одной из групп.\n",
    "2. Остановить тест, зафиксировать отсутствие различий между группами.\n",
    "3. Продолжить тест.\n",
    "\n",
    "В нашем распоряжении имеется:\n",
    "1. Информация о гипотезах: краткое описание, охват пользователей, влияние на пользователей, уверенность в гипотезе, затраты ресурсов на проверку гипотезы (по 10-бальной шкале).\n",
    "2. Информация о заказах: идентификатор заказа, идентификатор пользователя, совершившего заказ, дата, когда был совершён заказ, выручка, а также группа A/B-теста, в которую попал заказ.\n",
    "\n",
    "Для того, чтобы принять решение по результатам теста необходимо:\n",
    "1. Осуществить приоретизацию гипотез.\n",
    "2. Проанализировать А/В-тест."
   ]
  },
  {
   "cell_type": "markdown",
   "id": "1da7e49c",
   "metadata": {},
   "source": [
    "## Импорт данных"
   ]
  },
  {
   "cell_type": "code",
   "execution_count": 1,
   "id": "0f4a30cf",
   "metadata": {},
   "outputs": [],
   "source": [
    "# импорт библиотек \n",
    "import pandas as pd\n",
    "import numpy as np\n",
    "import matplotlib.pyplot as plt\n",
    "from scipy import stats as stats"
   ]
  },
  {
   "cell_type": "code",
   "execution_count": 2,
   "id": "35788082",
   "metadata": {},
   "outputs": [],
   "source": [
    "# чтение файов с данными и сохранение в orders, visitors, hypothesis\n",
    "orders = pd.read_csv(r'C:\\Users\\Ignat\\Desktop\\Tatyana\\projects\\github\\07_business_decision_making\\orders.csv')\n",
    "visitors = pd.read_csv(r'C:\\Users\\Ignat\\Desktop\\Tatyana\\projects\\github\\07_business_decision_making\\visitors.csv')\n",
    "hypothesis = pd.read_csv(r'C:\\Users\\Ignat\\Desktop\\Tatyana\\projects\\github\\07_business_decision_making\\hypothesis.csv')"
   ]
  },
  {
   "cell_type": "markdown",
   "id": "7021ae8e",
   "metadata": {},
   "source": [
    "## Изучение общей информации"
   ]
  },
  {
   "cell_type": "markdown",
   "id": "b1b5b230",
   "metadata": {},
   "source": [
    "### Изучим таблицу `orders`."
   ]
  },
  {
   "cell_type": "markdown",
   "id": "1379be00",
   "metadata": {},
   "source": [
    "Выведем первые 5 строк, а также общую информацию:"
   ]
  },
  {
   "cell_type": "code",
   "execution_count": 3,
   "id": "f3dfb7b7",
   "metadata": {},
   "outputs": [
    {
     "data": {
      "text/html": [
       "<div>\n",
       "<style scoped>\n",
       "    .dataframe tbody tr th:only-of-type {\n",
       "        vertical-align: middle;\n",
       "    }\n",
       "\n",
       "    .dataframe tbody tr th {\n",
       "        vertical-align: top;\n",
       "    }\n",
       "\n",
       "    .dataframe thead th {\n",
       "        text-align: right;\n",
       "    }\n",
       "</style>\n",
       "<table border=\"1\" class=\"dataframe\">\n",
       "  <thead>\n",
       "    <tr style=\"text-align: right;\">\n",
       "      <th></th>\n",
       "      <th>transactionId</th>\n",
       "      <th>visitorId</th>\n",
       "      <th>date</th>\n",
       "      <th>revenue</th>\n",
       "      <th>group</th>\n",
       "    </tr>\n",
       "  </thead>\n",
       "  <tbody>\n",
       "    <tr>\n",
       "      <td>0</td>\n",
       "      <td>3667963787</td>\n",
       "      <td>3312258926</td>\n",
       "      <td>2019-08-15</td>\n",
       "      <td>1650</td>\n",
       "      <td>B</td>\n",
       "    </tr>\n",
       "    <tr>\n",
       "      <td>1</td>\n",
       "      <td>2804400009</td>\n",
       "      <td>3642806036</td>\n",
       "      <td>2019-08-15</td>\n",
       "      <td>730</td>\n",
       "      <td>B</td>\n",
       "    </tr>\n",
       "    <tr>\n",
       "      <td>2</td>\n",
       "      <td>2961555356</td>\n",
       "      <td>4069496402</td>\n",
       "      <td>2019-08-15</td>\n",
       "      <td>400</td>\n",
       "      <td>A</td>\n",
       "    </tr>\n",
       "    <tr>\n",
       "      <td>3</td>\n",
       "      <td>3797467345</td>\n",
       "      <td>1196621759</td>\n",
       "      <td>2019-08-15</td>\n",
       "      <td>9759</td>\n",
       "      <td>B</td>\n",
       "    </tr>\n",
       "    <tr>\n",
       "      <td>4</td>\n",
       "      <td>2282983706</td>\n",
       "      <td>2322279887</td>\n",
       "      <td>2019-08-15</td>\n",
       "      <td>2308</td>\n",
       "      <td>B</td>\n",
       "    </tr>\n",
       "  </tbody>\n",
       "</table>\n",
       "</div>"
      ],
      "text/plain": [
       "   transactionId   visitorId        date  revenue group\n",
       "0     3667963787  3312258926  2019-08-15     1650     B\n",
       "1     2804400009  3642806036  2019-08-15      730     B\n",
       "2     2961555356  4069496402  2019-08-15      400     A\n",
       "3     3797467345  1196621759  2019-08-15     9759     B\n",
       "4     2282983706  2322279887  2019-08-15     2308     B"
      ]
     },
     "execution_count": 3,
     "metadata": {},
     "output_type": "execute_result"
    }
   ],
   "source": [
    "# первые пять строк таблицы orders\n",
    "orders.head()"
   ]
  },
  {
   "cell_type": "code",
   "execution_count": 4,
   "id": "1d3a62c0",
   "metadata": {},
   "outputs": [
    {
     "name": "stdout",
     "output_type": "stream",
     "text": [
      "<class 'pandas.core.frame.DataFrame'>\n",
      "RangeIndex: 1197 entries, 0 to 1196\n",
      "Data columns (total 5 columns):\n",
      "transactionId    1197 non-null int64\n",
      "visitorId        1197 non-null int64\n",
      "date             1197 non-null object\n",
      "revenue          1197 non-null int64\n",
      "group            1197 non-null object\n",
      "dtypes: int64(3), object(2)\n",
      "memory usage: 46.9+ KB\n"
     ]
    }
   ],
   "source": [
    "# основная информация\n",
    "orders.info()"
   ]
  },
  {
   "cell_type": "markdown",
   "id": "6a6d0d16",
   "metadata": {},
   "source": [
    "В таблице `orders` 5 столбцов:\n",
    "* `transactionId` - идентификатор заказа (тип данных - **int64**);\n",
    "* `visitorId` - идентификатор пользователя, совершившего заказ (тип данных - **int64**);\n",
    "* `date` - дата, когда был совершён заказ (тип данных - **object**);\n",
    "* `revenue` - выручка заказа (тип данных - **int64**);\n",
    "* `group` - группа A/B-теста, в которую попал заказ (тип данных - **object**).\n",
    "\n",
    "Сразу бросается в глаза нарушение стиля в заголовках.\n",
    "\n",
    "Количество значений в столбцах одинаковое, следовательно, в данных нет пропущенных значений.\n",
    "\n",
    "Также неверен тип данных в столбе совершения заказа - **object**."
   ]
  },
  {
   "cell_type": "markdown",
   "id": "52494360",
   "metadata": {},
   "source": [
    "### Изучим таблицу `visitors`."
   ]
  },
  {
   "cell_type": "markdown",
   "id": "0edf1e37",
   "metadata": {},
   "source": [
    "Выведем первые 5 строк, а также общую информацию:"
   ]
  },
  {
   "cell_type": "code",
   "execution_count": 5,
   "id": "fd0115d6",
   "metadata": {
    "scrolled": true
   },
   "outputs": [
    {
     "data": {
      "text/html": [
       "<div>\n",
       "<style scoped>\n",
       "    .dataframe tbody tr th:only-of-type {\n",
       "        vertical-align: middle;\n",
       "    }\n",
       "\n",
       "    .dataframe tbody tr th {\n",
       "        vertical-align: top;\n",
       "    }\n",
       "\n",
       "    .dataframe thead th {\n",
       "        text-align: right;\n",
       "    }\n",
       "</style>\n",
       "<table border=\"1\" class=\"dataframe\">\n",
       "  <thead>\n",
       "    <tr style=\"text-align: right;\">\n",
       "      <th></th>\n",
       "      <th>date</th>\n",
       "      <th>group</th>\n",
       "      <th>visitors</th>\n",
       "    </tr>\n",
       "  </thead>\n",
       "  <tbody>\n",
       "    <tr>\n",
       "      <td>0</td>\n",
       "      <td>2019-08-01</td>\n",
       "      <td>A</td>\n",
       "      <td>719</td>\n",
       "    </tr>\n",
       "    <tr>\n",
       "      <td>1</td>\n",
       "      <td>2019-08-02</td>\n",
       "      <td>A</td>\n",
       "      <td>619</td>\n",
       "    </tr>\n",
       "    <tr>\n",
       "      <td>2</td>\n",
       "      <td>2019-08-03</td>\n",
       "      <td>A</td>\n",
       "      <td>507</td>\n",
       "    </tr>\n",
       "    <tr>\n",
       "      <td>3</td>\n",
       "      <td>2019-08-04</td>\n",
       "      <td>A</td>\n",
       "      <td>717</td>\n",
       "    </tr>\n",
       "    <tr>\n",
       "      <td>4</td>\n",
       "      <td>2019-08-05</td>\n",
       "      <td>A</td>\n",
       "      <td>756</td>\n",
       "    </tr>\n",
       "  </tbody>\n",
       "</table>\n",
       "</div>"
      ],
      "text/plain": [
       "         date group  visitors\n",
       "0  2019-08-01     A       719\n",
       "1  2019-08-02     A       619\n",
       "2  2019-08-03     A       507\n",
       "3  2019-08-04     A       717\n",
       "4  2019-08-05     A       756"
      ]
     },
     "execution_count": 5,
     "metadata": {},
     "output_type": "execute_result"
    }
   ],
   "source": [
    "# первые пять строк таблицы visitors\n",
    "visitors.head()"
   ]
  },
  {
   "cell_type": "code",
   "execution_count": 6,
   "id": "764e7a4c",
   "metadata": {
    "scrolled": true
   },
   "outputs": [
    {
     "name": "stdout",
     "output_type": "stream",
     "text": [
      "<class 'pandas.core.frame.DataFrame'>\n",
      "RangeIndex: 62 entries, 0 to 61\n",
      "Data columns (total 3 columns):\n",
      "date        62 non-null object\n",
      "group       62 non-null object\n",
      "visitors    62 non-null int64\n",
      "dtypes: int64(1), object(2)\n",
      "memory usage: 1.6+ KB\n"
     ]
    }
   ],
   "source": [
    "# основная информация\n",
    "visitors.info()"
   ]
  },
  {
   "cell_type": "markdown",
   "id": "da96218a",
   "metadata": {},
   "source": [
    "В таблице `visitors` 3 столбца:\n",
    "* `date` - дата (тип данных - **object**);\n",
    "* `group` - группа A/B-теста (тип данных - **object**);\n",
    "* `visitors` - количество пользователей в указанную дату в указанной группе A/B-теста (тип данных - **int64**).\n",
    "\n",
    "Столбец `date` имеет неправильный тип. Одинаковое количество записей в столбцах свидетельствует о том, что пропуски отсутствуют."
   ]
  },
  {
   "cell_type": "markdown",
   "id": "8831a16a",
   "metadata": {},
   "source": [
    "### Изучим таблицу `hypothesis`."
   ]
  },
  {
   "cell_type": "markdown",
   "id": "3af520c2",
   "metadata": {},
   "source": [
    "Выведем полностью таблицу, а также общую информацию:"
   ]
  },
  {
   "cell_type": "code",
   "execution_count": 7,
   "id": "d8a93a7c",
   "metadata": {
    "scrolled": true
   },
   "outputs": [
    {
     "data": {
      "text/html": [
       "<div>\n",
       "<style scoped>\n",
       "    .dataframe tbody tr th:only-of-type {\n",
       "        vertical-align: middle;\n",
       "    }\n",
       "\n",
       "    .dataframe tbody tr th {\n",
       "        vertical-align: top;\n",
       "    }\n",
       "\n",
       "    .dataframe thead th {\n",
       "        text-align: right;\n",
       "    }\n",
       "</style>\n",
       "<table border=\"1\" class=\"dataframe\">\n",
       "  <thead>\n",
       "    <tr style=\"text-align: right;\">\n",
       "      <th></th>\n",
       "      <th>Hypothesis</th>\n",
       "      <th>Reach</th>\n",
       "      <th>Impact</th>\n",
       "      <th>Confidence</th>\n",
       "      <th>Efforts</th>\n",
       "    </tr>\n",
       "  </thead>\n",
       "  <tbody>\n",
       "    <tr>\n",
       "      <td>0</td>\n",
       "      <td>Добавить два новых канала привлечения трафика,...</td>\n",
       "      <td>3</td>\n",
       "      <td>10</td>\n",
       "      <td>8</td>\n",
       "      <td>6</td>\n",
       "    </tr>\n",
       "    <tr>\n",
       "      <td>1</td>\n",
       "      <td>Запустить собственную службу доставки, что сок...</td>\n",
       "      <td>2</td>\n",
       "      <td>5</td>\n",
       "      <td>4</td>\n",
       "      <td>10</td>\n",
       "    </tr>\n",
       "    <tr>\n",
       "      <td>2</td>\n",
       "      <td>Добавить блоки рекомендаций товаров на сайт ин...</td>\n",
       "      <td>8</td>\n",
       "      <td>3</td>\n",
       "      <td>7</td>\n",
       "      <td>3</td>\n",
       "    </tr>\n",
       "    <tr>\n",
       "      <td>3</td>\n",
       "      <td>Изменить структура категорий, что увеличит кон...</td>\n",
       "      <td>8</td>\n",
       "      <td>3</td>\n",
       "      <td>3</td>\n",
       "      <td>8</td>\n",
       "    </tr>\n",
       "    <tr>\n",
       "      <td>4</td>\n",
       "      <td>Изменить цвет фона главной страницы, чтобы уве...</td>\n",
       "      <td>3</td>\n",
       "      <td>1</td>\n",
       "      <td>1</td>\n",
       "      <td>1</td>\n",
       "    </tr>\n",
       "    <tr>\n",
       "      <td>5</td>\n",
       "      <td>Добавить страницу отзывов клиентов о магазине,...</td>\n",
       "      <td>3</td>\n",
       "      <td>2</td>\n",
       "      <td>2</td>\n",
       "      <td>3</td>\n",
       "    </tr>\n",
       "    <tr>\n",
       "      <td>6</td>\n",
       "      <td>Показать на главной странице баннеры с актуаль...</td>\n",
       "      <td>5</td>\n",
       "      <td>3</td>\n",
       "      <td>8</td>\n",
       "      <td>3</td>\n",
       "    </tr>\n",
       "    <tr>\n",
       "      <td>7</td>\n",
       "      <td>Добавить форму подписки на все основные страни...</td>\n",
       "      <td>10</td>\n",
       "      <td>7</td>\n",
       "      <td>8</td>\n",
       "      <td>5</td>\n",
       "    </tr>\n",
       "    <tr>\n",
       "      <td>8</td>\n",
       "      <td>Запустить акцию, дающую скидку на товар в день...</td>\n",
       "      <td>1</td>\n",
       "      <td>9</td>\n",
       "      <td>9</td>\n",
       "      <td>5</td>\n",
       "    </tr>\n",
       "  </tbody>\n",
       "</table>\n",
       "</div>"
      ],
      "text/plain": [
       "                                          Hypothesis  Reach  Impact  \\\n",
       "0  Добавить два новых канала привлечения трафика,...      3      10   \n",
       "1  Запустить собственную службу доставки, что сок...      2       5   \n",
       "2  Добавить блоки рекомендаций товаров на сайт ин...      8       3   \n",
       "3  Изменить структура категорий, что увеличит кон...      8       3   \n",
       "4  Изменить цвет фона главной страницы, чтобы уве...      3       1   \n",
       "5  Добавить страницу отзывов клиентов о магазине,...      3       2   \n",
       "6  Показать на главной странице баннеры с актуаль...      5       3   \n",
       "7  Добавить форму подписки на все основные страни...     10       7   \n",
       "8  Запустить акцию, дающую скидку на товар в день...      1       9   \n",
       "\n",
       "   Confidence  Efforts  \n",
       "0           8        6  \n",
       "1           4       10  \n",
       "2           7        3  \n",
       "3           3        8  \n",
       "4           1        1  \n",
       "5           2        3  \n",
       "6           8        3  \n",
       "7           8        5  \n",
       "8           9        5  "
      ]
     },
     "metadata": {},
     "output_type": "display_data"
    }
   ],
   "source": [
    "display(hypothesis)\n",
    "pd.options.display.max_colwidth = 1000"
   ]
  },
  {
   "cell_type": "code",
   "execution_count": 8,
   "id": "49e2b530",
   "metadata": {},
   "outputs": [
    {
     "name": "stdout",
     "output_type": "stream",
     "text": [
      "<class 'pandas.core.frame.DataFrame'>\n",
      "RangeIndex: 9 entries, 0 to 8\n",
      "Data columns (total 5 columns):\n",
      "Hypothesis    9 non-null object\n",
      "Reach         9 non-null int64\n",
      "Impact        9 non-null int64\n",
      "Confidence    9 non-null int64\n",
      "Efforts       9 non-null int64\n",
      "dtypes: int64(4), object(1)\n",
      "memory usage: 488.0+ bytes\n"
     ]
    }
   ],
   "source": [
    "# общая информация\n",
    "hypothesis.info()"
   ]
  },
  {
   "cell_type": "markdown",
   "id": "62818ce7",
   "metadata": {},
   "source": [
    "В таблице `hypothesis` 5 столбцов:\n",
    "* `hypothesis` - краткое описание гипотезы (тип данных - **object**);\n",
    "* `reach` - охват пользователей по 10-балльной шкале (тип данных - **int64**);\n",
    "* `impact` - влияние на пользователей по 10-балльной шкале (тип данных - **int64**);\n",
    "* `confidence` - уверенность в гипотезе по 10-балльной шкале (тип данных - **int64**);\n",
    "* `efforts` - затраты ресурсов на проверку гипотезы по 10-балльной шкале (тип данных - **int64**).\n",
    "\n",
    "Сразу бросается в глаза то, что названия столбцов приведены в верблюжьем регистре.\n",
    "\n",
    "Количество значений в столбцах одинаковое, следовательно, в данных нет пропущенных значений.\n"
   ]
  },
  {
   "cell_type": "markdown",
   "id": "abdfee84",
   "metadata": {},
   "source": [
    "## Подготовка данных"
   ]
  },
  {
   "cell_type": "markdown",
   "id": "9807c450",
   "metadata": {},
   "source": [
    "### Стиль заголовков"
   ]
  },
  {
   "cell_type": "markdown",
   "id": "917fc71e",
   "metadata": {},
   "source": [
    "Выведем еще раз на экран названия столбцов таблицы `orders` и `hypothesis`:"
   ]
  },
  {
   "cell_type": "code",
   "execution_count": 9,
   "id": "e20291a1",
   "metadata": {},
   "outputs": [
    {
     "data": {
      "text/plain": [
       "Index(['transactionId', 'visitorId', 'date', 'revenue', 'group'], dtype='object')"
      ]
     },
     "execution_count": 9,
     "metadata": {},
     "output_type": "execute_result"
    }
   ],
   "source": [
    "orders.columns"
   ]
  },
  {
   "cell_type": "code",
   "execution_count": 10,
   "id": "a0ff3dd5",
   "metadata": {},
   "outputs": [
    {
     "data": {
      "text/plain": [
       "Index(['Hypothesis', 'Reach', 'Impact', 'Confidence', 'Efforts'], dtype='object')"
      ]
     },
     "execution_count": 10,
     "metadata": {},
     "output_type": "execute_result"
    }
   ],
   "source": [
    "hypothesis.columns"
   ]
  },
  {
   "cell_type": "markdown",
   "id": "2d1d7d02",
   "metadata": {},
   "source": [
    "Сделаем все символы строчными, а также избавимся от слитного написания следующим образом:\n",
    "* `transactionId` → `transaction_id`;\n",
    "* `visitorId` → `visitor_id`.\n",
    "* `Hypothesis` → `hypothesis`\n",
    "* `Reach` → `reach`\n",
    "* `Impact` → `impact`\n",
    "* `Confidence` → `confidence`\n",
    "* `Efforts` → `efforts`"
   ]
  },
  {
   "cell_type": "code",
   "execution_count": 11,
   "id": "e8895d5e",
   "metadata": {},
   "outputs": [
    {
     "data": {
      "text/plain": [
       "Index(['transaction_id', 'visitor_id', 'date', 'revenue', 'group'], dtype='object')"
      ]
     },
     "execution_count": 11,
     "metadata": {},
     "output_type": "execute_result"
    }
   ],
   "source": [
    "# таблица orders\n",
    "orders = orders.rename(columns={'transactionId': 'transaction_id',\n",
    "                               'visitorId': 'visitor_id'})\n",
    "# проверяем\n",
    "orders.columns"
   ]
  },
  {
   "cell_type": "code",
   "execution_count": 12,
   "id": "9237e541",
   "metadata": {},
   "outputs": [
    {
     "data": {
      "text/plain": [
       "Index(['hypothesis', 'reach', 'impact', 'confidence', 'efforts'], dtype='object')"
      ]
     },
     "execution_count": 12,
     "metadata": {},
     "output_type": "execute_result"
    }
   ],
   "source": [
    "# таблица hypothesis\n",
    "hypothesis.columns = [x.lower() for x in hypothesis.columns.values]\n",
    "\n",
    "# проверяем\n",
    "hypothesis.columns"
   ]
  },
  {
   "cell_type": "markdown",
   "id": "5347dade",
   "metadata": {},
   "source": [
    "Замена отработала корректно."
   ]
  },
  {
   "cell_type": "markdown",
   "id": "7d10149c",
   "metadata": {},
   "source": [
    "### Изменение типов данных"
   ]
  },
  {
   "cell_type": "markdown",
   "id": "243863a7",
   "metadata": {},
   "source": [
    "Ранее было замечено, что поля, содержащие даты в таблицах `orders` и `visitors`, имеют тип данных **object**. Преобразуем данные о времени:"
   ]
  },
  {
   "cell_type": "code",
   "execution_count": 13,
   "id": "be676685",
   "metadata": {},
   "outputs": [
    {
     "name": "stdout",
     "output_type": "stream",
     "text": [
      "ORDERS\n",
      "Тип данных столбца date: datetime64[ns]\n",
      "--------------------------------------------------\n",
      "VISITORS\n",
      "Тип данных столбца date: datetime64[ns]\n",
      "--------------------------------------------------\n"
     ]
    }
   ],
   "source": [
    "orders['date'] = pd.to_datetime(orders['date'])\n",
    "visitors['date'] = pd.to_datetime(visitors['date'])\n",
    "\n",
    "# проверим, отработала ли замена\n",
    "print('ORDERS')\n",
    "print('Тип данных столбца date:', orders['date'].dtypes)\n",
    "print(50*'-')\n",
    "print('VISITORS')\n",
    "print('Тип данных столбца date:', visitors['date'].dtypes)\n",
    "print(50*'-')"
   ]
  },
  {
   "cell_type": "markdown",
   "id": "05f2372f",
   "metadata": {},
   "source": [
    "Тип данных успешно изменен."
   ]
  },
  {
   "cell_type": "markdown",
   "id": "ec594366",
   "metadata": {},
   "source": [
    "### Дубликаты"
   ]
  },
  {
   "cell_type": "markdown",
   "id": "198c5cdf",
   "metadata": {},
   "source": [
    "Проверим, есть ли в таблицах строки, полностью ублирующие друг друга:"
   ]
  },
  {
   "cell_type": "code",
   "execution_count": 14,
   "id": "843300fe",
   "metadata": {},
   "outputs": [
    {
     "data": {
      "text/html": [
       "<div>\n",
       "<style scoped>\n",
       "    .dataframe tbody tr th:only-of-type {\n",
       "        vertical-align: middle;\n",
       "    }\n",
       "\n",
       "    .dataframe tbody tr th {\n",
       "        vertical-align: top;\n",
       "    }\n",
       "\n",
       "    .dataframe thead th {\n",
       "        text-align: right;\n",
       "    }\n",
       "</style>\n",
       "<table border=\"1\" class=\"dataframe\">\n",
       "  <thead>\n",
       "    <tr style=\"text-align: right;\">\n",
       "      <th></th>\n",
       "      <th>transaction_id</th>\n",
       "      <th>visitor_id</th>\n",
       "      <th>date</th>\n",
       "      <th>revenue</th>\n",
       "      <th>group</th>\n",
       "    </tr>\n",
       "  </thead>\n",
       "  <tbody>\n",
       "  </tbody>\n",
       "</table>\n",
       "</div>"
      ],
      "text/plain": [
       "Empty DataFrame\n",
       "Columns: [transaction_id, visitor_id, date, revenue, group]\n",
       "Index: []"
      ]
     },
     "execution_count": 14,
     "metadata": {},
     "output_type": "execute_result"
    }
   ],
   "source": [
    "# таблица orders\n",
    "orders[orders.duplicated(keep = False)].sort_values(by = list(orders.columns))"
   ]
  },
  {
   "cell_type": "code",
   "execution_count": 15,
   "id": "27b94e04",
   "metadata": {},
   "outputs": [
    {
     "data": {
      "text/html": [
       "<div>\n",
       "<style scoped>\n",
       "    .dataframe tbody tr th:only-of-type {\n",
       "        vertical-align: middle;\n",
       "    }\n",
       "\n",
       "    .dataframe tbody tr th {\n",
       "        vertical-align: top;\n",
       "    }\n",
       "\n",
       "    .dataframe thead th {\n",
       "        text-align: right;\n",
       "    }\n",
       "</style>\n",
       "<table border=\"1\" class=\"dataframe\">\n",
       "  <thead>\n",
       "    <tr style=\"text-align: right;\">\n",
       "      <th></th>\n",
       "      <th>date</th>\n",
       "      <th>group</th>\n",
       "      <th>visitors</th>\n",
       "    </tr>\n",
       "  </thead>\n",
       "  <tbody>\n",
       "  </tbody>\n",
       "</table>\n",
       "</div>"
      ],
      "text/plain": [
       "Empty DataFrame\n",
       "Columns: [date, group, visitors]\n",
       "Index: []"
      ]
     },
     "execution_count": 15,
     "metadata": {},
     "output_type": "execute_result"
    }
   ],
   "source": [
    "# таблица visitors\n",
    "visitors[visitors.duplicated(keep = False)].sort_values(by = list(visitors.columns))"
   ]
  },
  {
   "cell_type": "code",
   "execution_count": 16,
   "id": "8d55ffa3",
   "metadata": {},
   "outputs": [
    {
     "data": {
      "text/html": [
       "<div>\n",
       "<style scoped>\n",
       "    .dataframe tbody tr th:only-of-type {\n",
       "        vertical-align: middle;\n",
       "    }\n",
       "\n",
       "    .dataframe tbody tr th {\n",
       "        vertical-align: top;\n",
       "    }\n",
       "\n",
       "    .dataframe thead th {\n",
       "        text-align: right;\n",
       "    }\n",
       "</style>\n",
       "<table border=\"1\" class=\"dataframe\">\n",
       "  <thead>\n",
       "    <tr style=\"text-align: right;\">\n",
       "      <th></th>\n",
       "      <th>hypothesis</th>\n",
       "      <th>reach</th>\n",
       "      <th>impact</th>\n",
       "      <th>confidence</th>\n",
       "      <th>efforts</th>\n",
       "    </tr>\n",
       "  </thead>\n",
       "  <tbody>\n",
       "  </tbody>\n",
       "</table>\n",
       "</div>"
      ],
      "text/plain": [
       "Empty DataFrame\n",
       "Columns: [hypothesis, reach, impact, confidence, efforts]\n",
       "Index: []"
      ]
     },
     "execution_count": 16,
     "metadata": {},
     "output_type": "execute_result"
    }
   ],
   "source": [
    "# таблица hypothesis\n",
    "hypothesis[hypothesis.duplicated(keep = False)].sort_values(by = list(hypothesis.columns))"
   ]
  },
  {
   "cell_type": "markdown",
   "id": "098a5735",
   "metadata": {},
   "source": [
    "Ни в одной из таблиц информация не задвоилась. \n",
    "\n",
    "**ВЫВОД**\n",
    "\n",
    "Предобработка обнаружила две проблемы:\n",
    "* нарушение в стиле заголовков столбцов;\n",
    "* неверный тип данных.\n",
    "\n",
    "Заголовки были исправлены, тип данных приведен в соответствие.\n",
    "\n",
    "Теперь можно переходить к дальнейшему анализу."
   ]
  },
  {
   "cell_type": "markdown",
   "id": "fd9b5d0d",
   "metadata": {},
   "source": [
    "## Приоритизация гипотез"
   ]
  },
  {
   "cell_type": "markdown",
   "id": "b4fd0908",
   "metadata": {},
   "source": [
    "### Фреймворк ICE для приоритизации гипотез"
   ]
  },
  {
   "cell_type": "code",
   "execution_count": 17,
   "id": "265101da",
   "metadata": {
    "scrolled": true
   },
   "outputs": [
    {
     "data": {
      "text/html": [
       "<div>\n",
       "<style scoped>\n",
       "    .dataframe tbody tr th:only-of-type {\n",
       "        vertical-align: middle;\n",
       "    }\n",
       "\n",
       "    .dataframe tbody tr th {\n",
       "        vertical-align: top;\n",
       "    }\n",
       "\n",
       "    .dataframe thead th {\n",
       "        text-align: right;\n",
       "    }\n",
       "</style>\n",
       "<table border=\"1\" class=\"dataframe\">\n",
       "  <thead>\n",
       "    <tr style=\"text-align: right;\">\n",
       "      <th></th>\n",
       "      <th>hypothesis</th>\n",
       "      <th>ice</th>\n",
       "    </tr>\n",
       "  </thead>\n",
       "  <tbody>\n",
       "    <tr>\n",
       "      <td>8</td>\n",
       "      <td>Запустить акцию, дающую скидку на товар в день рождения</td>\n",
       "      <td>16.20</td>\n",
       "    </tr>\n",
       "    <tr>\n",
       "      <td>0</td>\n",
       "      <td>Добавить два новых канала привлечения трафика, что позволит привлекать на 30% больше пользователей</td>\n",
       "      <td>13.33</td>\n",
       "    </tr>\n",
       "    <tr>\n",
       "      <td>7</td>\n",
       "      <td>Добавить форму подписки на все основные страницы, чтобы собрать базу клиентов для email-рассылок</td>\n",
       "      <td>11.20</td>\n",
       "    </tr>\n",
       "    <tr>\n",
       "      <td>6</td>\n",
       "      <td>Показать на главной странице баннеры с актуальными акциями и распродажами, чтобы увеличить конверсию</td>\n",
       "      <td>8.00</td>\n",
       "    </tr>\n",
       "    <tr>\n",
       "      <td>2</td>\n",
       "      <td>Добавить блоки рекомендаций товаров на сайт интернет магазина, чтобы повысить конверсию и средний чек заказа</td>\n",
       "      <td>7.00</td>\n",
       "    </tr>\n",
       "    <tr>\n",
       "      <td>1</td>\n",
       "      <td>Запустить собственную службу доставки, что сократит срок доставки заказов</td>\n",
       "      <td>2.00</td>\n",
       "    </tr>\n",
       "    <tr>\n",
       "      <td>5</td>\n",
       "      <td>Добавить страницу отзывов клиентов о магазине, что позволит увеличить количество заказов</td>\n",
       "      <td>1.33</td>\n",
       "    </tr>\n",
       "    <tr>\n",
       "      <td>3</td>\n",
       "      <td>Изменить структура категорий, что увеличит конверсию, т.к. пользователи быстрее найдут нужный товар</td>\n",
       "      <td>1.12</td>\n",
       "    </tr>\n",
       "    <tr>\n",
       "      <td>4</td>\n",
       "      <td>Изменить цвет фона главной страницы, чтобы увеличить вовлеченность пользователей</td>\n",
       "      <td>1.00</td>\n",
       "    </tr>\n",
       "  </tbody>\n",
       "</table>\n",
       "</div>"
      ],
      "text/plain": [
       "                                                                                                     hypothesis  \\\n",
       "8                                                       Запустить акцию, дающую скидку на товар в день рождения   \n",
       "0            Добавить два новых канала привлечения трафика, что позволит привлекать на 30% больше пользователей   \n",
       "7              Добавить форму подписки на все основные страницы, чтобы собрать базу клиентов для email-рассылок   \n",
       "6          Показать на главной странице баннеры с актуальными акциями и распродажами, чтобы увеличить конверсию   \n",
       "2  Добавить блоки рекомендаций товаров на сайт интернет магазина, чтобы повысить конверсию и средний чек заказа   \n",
       "1                                     Запустить собственную службу доставки, что сократит срок доставки заказов   \n",
       "5                      Добавить страницу отзывов клиентов о магазине, что позволит увеличить количество заказов   \n",
       "3           Изменить структура категорий, что увеличит конверсию, т.к. пользователи быстрее найдут нужный товар   \n",
       "4                              Изменить цвет фона главной страницы, чтобы увеличить вовлеченность пользователей   \n",
       "\n",
       "     ice  \n",
       "8  16.20  \n",
       "0  13.33  \n",
       "7  11.20  \n",
       "6   8.00  \n",
       "2   7.00  \n",
       "1   2.00  \n",
       "5   1.33  \n",
       "3   1.12  \n",
       "4   1.00  "
      ]
     },
     "execution_count": 17,
     "metadata": {},
     "output_type": "execute_result"
    }
   ],
   "source": [
    "hypothesis['ice'] = round((hypothesis['impact'] * hypothesis['confidence']) / hypothesis['efforts'], 2)\n",
    "hypothesis[['hypothesis', 'ice']].sort_values(by='ice', ascending=False)"
   ]
  },
  {
   "cell_type": "markdown",
   "id": "6c63d4e9",
   "metadata": {},
   "source": [
    "Наиболее перспективные гипотезы по ICE: **8, 0, 7, 6, 2**."
   ]
  },
  {
   "cell_type": "markdown",
   "id": "cce797cc",
   "metadata": {},
   "source": [
    "### Фреймворк RICE для приоритизации гипотез"
   ]
  },
  {
   "cell_type": "code",
   "execution_count": 18,
   "id": "58724931",
   "metadata": {},
   "outputs": [
    {
     "data": {
      "text/html": [
       "<div>\n",
       "<style scoped>\n",
       "    .dataframe tbody tr th:only-of-type {\n",
       "        vertical-align: middle;\n",
       "    }\n",
       "\n",
       "    .dataframe tbody tr th {\n",
       "        vertical-align: top;\n",
       "    }\n",
       "\n",
       "    .dataframe thead th {\n",
       "        text-align: right;\n",
       "    }\n",
       "</style>\n",
       "<table border=\"1\" class=\"dataframe\">\n",
       "  <thead>\n",
       "    <tr style=\"text-align: right;\">\n",
       "      <th></th>\n",
       "      <th>hypothesis</th>\n",
       "      <th>rice</th>\n",
       "      <th>reach</th>\n",
       "    </tr>\n",
       "  </thead>\n",
       "  <tbody>\n",
       "    <tr>\n",
       "      <td>7</td>\n",
       "      <td>Добавить форму подписки на все основные страницы, чтобы собрать базу клиентов для email-рассылок</td>\n",
       "      <td>112.0</td>\n",
       "      <td>10</td>\n",
       "    </tr>\n",
       "    <tr>\n",
       "      <td>2</td>\n",
       "      <td>Добавить блоки рекомендаций товаров на сайт интернет магазина, чтобы повысить конверсию и средний чек заказа</td>\n",
       "      <td>56.0</td>\n",
       "      <td>8</td>\n",
       "    </tr>\n",
       "    <tr>\n",
       "      <td>0</td>\n",
       "      <td>Добавить два новых канала привлечения трафика, что позволит привлекать на 30% больше пользователей</td>\n",
       "      <td>40.0</td>\n",
       "      <td>3</td>\n",
       "    </tr>\n",
       "    <tr>\n",
       "      <td>6</td>\n",
       "      <td>Показать на главной странице баннеры с актуальными акциями и распродажами, чтобы увеличить конверсию</td>\n",
       "      <td>40.0</td>\n",
       "      <td>5</td>\n",
       "    </tr>\n",
       "    <tr>\n",
       "      <td>8</td>\n",
       "      <td>Запустить акцию, дающую скидку на товар в день рождения</td>\n",
       "      <td>16.2</td>\n",
       "      <td>1</td>\n",
       "    </tr>\n",
       "    <tr>\n",
       "      <td>3</td>\n",
       "      <td>Изменить структура категорий, что увеличит конверсию, т.к. пользователи быстрее найдут нужный товар</td>\n",
       "      <td>9.0</td>\n",
       "      <td>8</td>\n",
       "    </tr>\n",
       "    <tr>\n",
       "      <td>1</td>\n",
       "      <td>Запустить собственную службу доставки, что сократит срок доставки заказов</td>\n",
       "      <td>4.0</td>\n",
       "      <td>2</td>\n",
       "    </tr>\n",
       "    <tr>\n",
       "      <td>5</td>\n",
       "      <td>Добавить страницу отзывов клиентов о магазине, что позволит увеличить количество заказов</td>\n",
       "      <td>4.0</td>\n",
       "      <td>3</td>\n",
       "    </tr>\n",
       "    <tr>\n",
       "      <td>4</td>\n",
       "      <td>Изменить цвет фона главной страницы, чтобы увеличить вовлеченность пользователей</td>\n",
       "      <td>3.0</td>\n",
       "      <td>3</td>\n",
       "    </tr>\n",
       "  </tbody>\n",
       "</table>\n",
       "</div>"
      ],
      "text/plain": [
       "                                                                                                     hypothesis  \\\n",
       "7              Добавить форму подписки на все основные страницы, чтобы собрать базу клиентов для email-рассылок   \n",
       "2  Добавить блоки рекомендаций товаров на сайт интернет магазина, чтобы повысить конверсию и средний чек заказа   \n",
       "0            Добавить два новых канала привлечения трафика, что позволит привлекать на 30% больше пользователей   \n",
       "6          Показать на главной странице баннеры с актуальными акциями и распродажами, чтобы увеличить конверсию   \n",
       "8                                                       Запустить акцию, дающую скидку на товар в день рождения   \n",
       "3           Изменить структура категорий, что увеличит конверсию, т.к. пользователи быстрее найдут нужный товар   \n",
       "1                                     Запустить собственную службу доставки, что сократит срок доставки заказов   \n",
       "5                      Добавить страницу отзывов клиентов о магазине, что позволит увеличить количество заказов   \n",
       "4                              Изменить цвет фона главной страницы, чтобы увеличить вовлеченность пользователей   \n",
       "\n",
       "    rice  reach  \n",
       "7  112.0     10  \n",
       "2   56.0      8  \n",
       "0   40.0      3  \n",
       "6   40.0      5  \n",
       "8   16.2      1  \n",
       "3    9.0      8  \n",
       "1    4.0      2  \n",
       "5    4.0      3  \n",
       "4    3.0      3  "
      ]
     },
     "execution_count": 18,
     "metadata": {},
     "output_type": "execute_result"
    }
   ],
   "source": [
    "hypothesis['rice'] = (hypothesis['reach'] * hypothesis['impact'] * hypothesis['confidence']) / hypothesis['efforts']\n",
    "hypothesis[['hypothesis', 'rice', 'reach']].sort_values(by='rice', ascending=False)"
   ]
  },
  {
   "cell_type": "markdown",
   "id": "89cd011a",
   "metadata": {},
   "source": [
    "Наиболее перспективные гипотезы по RICE: **7, 2, 0, 6, 8**. "
   ]
  },
  {
   "cell_type": "markdown",
   "id": "ea49ba39",
   "metadata": {},
   "source": [
    "**ЧТО МЫ ВИДИМ?**\n",
    "\n",
    "Наиболее перспективные гипотезы, что по ICE, что по RICE совпадают. Однако порядок их приоретизации в каждом методе разный. Например, 8 гипотеза, которая оказалась наиболее приоритетной при использовании метода ICE, является последней наиболее перспективной гипотезой по RICE. Так получилось потому, что ее параметр Reach, указывающий на то, скольких посльзователей затронет изменение, равен 1, тогда как у гипотезы 7 - 10. По такому же принципу заняли свое место в приоритезации по RICE гипотезы 2, 0, 6."
   ]
  },
  {
   "cell_type": "markdown",
   "id": "bfaf8a85",
   "metadata": {},
   "source": [
    "## Анализ A/B-теста"
   ]
  },
  {
   "cell_type": "markdown",
   "id": "2996855f",
   "metadata": {},
   "source": [
    "### График кумулятивной выручки по группам"
   ]
  },
  {
   "cell_type": "markdown",
   "id": "22308fa6",
   "metadata": {},
   "source": [
    "Прежде чем строить графики, необходимо собрать кумулятивные данные. Подготовим все необходимое:"
   ]
  },
  {
   "cell_type": "code",
   "execution_count": 19,
   "id": "7a7b0dd8",
   "metadata": {},
   "outputs": [
    {
     "data": {
      "text/html": [
       "<div>\n",
       "<style scoped>\n",
       "    .dataframe tbody tr th:only-of-type {\n",
       "        vertical-align: middle;\n",
       "    }\n",
       "\n",
       "    .dataframe tbody tr th {\n",
       "        vertical-align: top;\n",
       "    }\n",
       "\n",
       "    .dataframe thead th {\n",
       "        text-align: right;\n",
       "    }\n",
       "</style>\n",
       "<table border=\"1\" class=\"dataframe\">\n",
       "  <thead>\n",
       "    <tr style=\"text-align: right;\">\n",
       "      <th></th>\n",
       "      <th>date</th>\n",
       "      <th>group</th>\n",
       "      <th>orders</th>\n",
       "      <th>buyers</th>\n",
       "      <th>revenue</th>\n",
       "      <th>visitors</th>\n",
       "    </tr>\n",
       "  </thead>\n",
       "  <tbody>\n",
       "    <tr>\n",
       "      <td>0</td>\n",
       "      <td>2019-08-01</td>\n",
       "      <td>A</td>\n",
       "      <td>24</td>\n",
       "      <td>20</td>\n",
       "      <td>148579</td>\n",
       "      <td>719</td>\n",
       "    </tr>\n",
       "    <tr>\n",
       "      <td>1</td>\n",
       "      <td>2019-08-01</td>\n",
       "      <td>B</td>\n",
       "      <td>21</td>\n",
       "      <td>20</td>\n",
       "      <td>101217</td>\n",
       "      <td>713</td>\n",
       "    </tr>\n",
       "    <tr>\n",
       "      <td>2</td>\n",
       "      <td>2019-08-02</td>\n",
       "      <td>A</td>\n",
       "      <td>44</td>\n",
       "      <td>38</td>\n",
       "      <td>242401</td>\n",
       "      <td>1338</td>\n",
       "    </tr>\n",
       "    <tr>\n",
       "      <td>3</td>\n",
       "      <td>2019-08-02</td>\n",
       "      <td>B</td>\n",
       "      <td>45</td>\n",
       "      <td>43</td>\n",
       "      <td>266748</td>\n",
       "      <td>1294</td>\n",
       "    </tr>\n",
       "    <tr>\n",
       "      <td>4</td>\n",
       "      <td>2019-08-03</td>\n",
       "      <td>A</td>\n",
       "      <td>68</td>\n",
       "      <td>62</td>\n",
       "      <td>354874</td>\n",
       "      <td>1845</td>\n",
       "    </tr>\n",
       "  </tbody>\n",
       "</table>\n",
       "</div>"
      ],
      "text/plain": [
       "        date group  orders  buyers  revenue  visitors\n",
       "0 2019-08-01     A      24      20   148579       719\n",
       "1 2019-08-01     B      21      20   101217       713\n",
       "2 2019-08-02     A      44      38   242401      1338\n",
       "3 2019-08-02     B      45      43   266748      1294\n",
       "4 2019-08-03     A      68      62   354874      1845"
      ]
     },
     "execution_count": 19,
     "metadata": {},
     "output_type": "execute_result"
    }
   ],
   "source": [
    "# создадим массив уникальных пар значений дат и групп теста\n",
    "dates_groups = orders[['date', 'group']].drop_duplicates()\n",
    "\n",
    "# соберем агрегированные кумулятивные по дням данные о заказах \n",
    "orders_aggregated = (dates_groups.apply(lambda x: orders[np.logical_and(orders['date'] <= x['date'], orders['group'] == x['group'])]\n",
    "                                      .agg({'date' : 'max', \n",
    "                                            'group' : 'max', \n",
    "                                            'transaction_id' : 'nunique', \n",
    "                                            'visitor_id' : 'nunique', \n",
    "                                            'revenue' : 'sum'}), axis=1)\n",
    "                    .sort_values(by=['date','group']))\n",
    "\n",
    "# соберем агрегированные кумулятивные по дням данные о посетителях интернет-магазина\n",
    "visitors_aggregated = (dates_groups.apply(lambda x: visitors[np.logical_and(visitors['date'] <= x['date'], visitors['group'] == x['group'])]\n",
    "                                        .agg({'date' : 'max', \n",
    "                                              'group' : 'max', \n",
    "                                              'visitors' : 'sum'}), axis=1)\n",
    "                      .sort_values(by=['date','group']))\n",
    "\n",
    "# объединим кумулятивные данные в одной таблице и присвоим ее столбцам понятные названия\n",
    "cumulative_data = orders_aggregated.merge(visitors_aggregated, left_on=['date', 'group'], right_on=['date', 'group'])\n",
    "cumulative_data.columns = ['date', 'group', 'orders', 'buyers', 'revenue', 'visitors']\n",
    "\n",
    "# посмотрим, что получилось\n",
    "cumulative_data.head()"
   ]
  },
  {
   "cell_type": "markdown",
   "id": "0c9674a1",
   "metadata": {},
   "source": [
    "Построим график кумулятивной выручки по дням по группам А/В-тестирования:"
   ]
  },
  {
   "cell_type": "code",
   "execution_count": 20,
   "id": "87dcd2cf",
   "metadata": {},
   "outputs": [
    {
     "name": "stderr",
     "output_type": "stream",
     "text": [
      "C:\\Users\\Ignat\\miniconda3\\envs\\praktikum_new\\lib\\site-packages\\pandas\\plotting\\_matplotlib\\converter.py:103: FutureWarning: Using an implicitly registered datetime converter for a matplotlib plotting method. The converter was registered by pandas on import. Future versions of pandas will require you to explicitly register matplotlib converters.\n",
      "\n",
      "To register the converters:\n",
      "\t>>> from pandas.plotting import register_matplotlib_converters\n",
      "\t>>> register_matplotlib_converters()\n",
      "  warnings.warn(msg, FutureWarning)\n"
     ]
    },
    {
     "data": {
      "image/png": "[encoded data removed]",
      "text/plain": [
       "<Figure size 720x216 with 1 Axes>"
      ]
     },
     "metadata": {
      "needs_background": "light"
     },
     "output_type": "display_data"
    }
   ],
   "source": [
    "# датафрейм с кумулятивным количеством заказов и кумулятивной выручкой по дням в группе А\n",
    "cumulative_revenue_a = cumulative_data[cumulative_data['group']=='A'][['date','revenue', 'orders']]\n",
    "\n",
    "# датафрейм с кумулятивным количеством заказов и кумулятивной выручкой по дням в группе B\n",
    "cumulative_revenue_b = cumulative_data[cumulative_data['group']=='B'][['date','revenue', 'orders']]\n",
    "\n",
    "# зададим размер будущего графика\n",
    "plt.figure(figsize=(10, 3))\n",
    "\n",
    "# Строим график выручки группы А\n",
    "plt.plot(cumulative_revenue_a['date'], cumulative_revenue_a['revenue'], label='A')\n",
    "\n",
    "# Строим график выручки группы B\n",
    "plt.plot(cumulative_revenue_b['date'], cumulative_revenue_b['revenue'], label='B')\n",
    "\n",
    "plt.legend() \n",
    "plt.xlabel('Дата')\n",
    "plt.ylabel('Выручка')\n",
    "plt.title('Кумулятивная выручка по дням по группам')\n",
    "plt.xticks(rotation=45)\n",
    "\n",
    "\n",
    "import warnings\n",
    "warnings.filterwarnings('ignore');"
   ]
  },
  {
   "cell_type": "markdown",
   "id": "e5c03fee",
   "metadata": {},
   "source": [
    "Выручка увеличивается в течение всего теста. Сегмент В лидирует на постоянной основе, однако можно заметить, он в определенный момент резко вырвался вперед. Вероятнее всего это аномально большие заказы, которые нужно будет удалить при заключительном анализе."
   ]
  },
  {
   "cell_type": "markdown",
   "id": "89349c42",
   "metadata": {},
   "source": [
    "### График кумулятивного среднего чека по группам"
   ]
  },
  {
   "cell_type": "code",
   "execution_count": 21,
   "id": "19c24b79",
   "metadata": {},
   "outputs": [
    {
     "data": {
      "image/png": "[encoded data removed]",
      "text/plain": [
       "<Figure size 720x216 with 1 Axes>"
      ]
     },
     "metadata": {
      "needs_background": "light"
     },
     "output_type": "display_data"
    }
   ],
   "source": [
    "# зададим размер будущего графика\n",
    "plt.figure(figsize=(10, 3))\n",
    "\n",
    "plt.plot(cumulative_revenue_a['date'], cumulative_revenue_a['revenue']/cumulative_revenue_a['orders'], label='A')\n",
    "plt.plot(cumulative_revenue_b['date'], cumulative_revenue_b['revenue']/cumulative_revenue_b['orders'], label='B')\n",
    "plt.legend()\n",
    "plt.xlabel('Дата')\n",
    "plt.ylabel('Средняя выручка')\n",
    "plt.title('Кумулятивный средний чек по группам')\n",
    "plt.xticks(rotation=45);"
   ]
  },
  {
   "cell_type": "markdown",
   "id": "a93109cd",
   "metadata": {},
   "source": [
    "Кумулятивное значение среднего чека по сегментам колеблется. Видно, что в анализируемых данных присутствуют выбросы (крупные заказы в группе В), поэтому, скорее всего принимать решение по этой метрике слишком рано."
   ]
  },
  {
   "cell_type": "markdown",
   "id": "1b304f14",
   "metadata": {},
   "source": [
    "### График относительного изменения кумулятивного среднего чека группы В к группе А"
   ]
  },
  {
   "cell_type": "code",
   "execution_count": 22,
   "id": "eb5acafe",
   "metadata": {},
   "outputs": [
    {
     "data": {
      "image/png": "[encoded data removed]",
      "text/plain": [
       "<Figure size 720x216 with 1 Axes>"
      ]
     },
     "metadata": {
      "needs_background": "light"
     },
     "output_type": "display_data"
    }
   ],
   "source": [
    "# собираем данные в одном датафрейме\n",
    "merged_cumulative_revenue = cumulative_revenue_a.merge(cumulative_revenue_b, left_on='date', right_on='date', how='left', suffixes=['_a', '_b'])\n",
    "\n",
    "# зададим размер будущего графика\n",
    "plt.figure(figsize=(10, 3))\n",
    "\n",
    "# cтроим отношение средних чеков\n",
    "plt.plot(merged_cumulative_revenue['date'], (merged_cumulative_revenue['revenue_b']/merged_cumulative_revenue['orders_b'])/(merged_cumulative_revenue['revenue_a']/merged_cumulative_revenue['orders_a'])-1)\n",
    "\n",
    "# добавляем ось X\n",
    "plt.axhline(y=0, color='black', linestyle='--')\n",
    "plt.xlabel('Дата')\n",
    "plt.ylabel('Относительное различие')\n",
    "plt.title('Относительное изменение кумулятивного среднего чека группы В к группе А')\n",
    "plt.xticks(rotation=45);"
   ]
  },
  {
   "cell_type": "markdown",
   "id": "1ab90e7d",
   "metadata": {},
   "source": [
    "На графике видно, что результаты теста значительно и резко менялись в несколько дат. Скорее всего именно тогда были совершены аномальные заказы."
   ]
  },
  {
   "cell_type": "markdown",
   "id": "d35f32f1",
   "metadata": {},
   "source": [
    "### График кумулятивной конверсии по группам"
   ]
  },
  {
   "cell_type": "markdown",
   "id": "ca460855",
   "metadata": {},
   "source": [
    "Для построения данного графика необходимо будет задать масштаб осей методом `plt.axis()`. Для этого необходимо найти минимальное и максимальное значения по оси *х*:\n",
    "\n",
    "* `cumulative_data['date'].min()`;\n",
    "* `cumulative_data['date'].max()`."
   ]
  },
  {
   "cell_type": "code",
   "execution_count": 23,
   "id": "97c8bf5f",
   "metadata": {},
   "outputs": [
    {
     "data": {
      "image/png": "[encoded data removed]",
      "text/plain": [
       "<Figure size 720x216 with 1 Axes>"
      ]
     },
     "metadata": {
      "needs_background": "light"
     },
     "output_type": "display_data"
    }
   ],
   "source": [
    "# считаем кумулятивную конверсию\n",
    "cumulative_data['conversion'] = cumulative_data['orders']/cumulative_data['visitors']\n",
    "\n",
    "# отделяем данные по группе A\n",
    "cumulative_data_a = cumulative_data[cumulative_data['group']=='A']\n",
    "\n",
    "# отделяем данные по группе B\n",
    "cumulative_data_b = cumulative_data[cumulative_data['group']=='B']\n",
    "\n",
    "# зададим размер будущего графика\n",
    "plt.figure(figsize=(10, 3))\n",
    "\n",
    "# строим графики\n",
    "plt.plot(cumulative_data_a['date'], cumulative_data_a['conversion'], label='A')\n",
    "plt.plot(cumulative_data_b['date'], cumulative_data_b['conversion'], label='B')\n",
    "plt.legend()\n",
    "\n",
    "# задаем масштаб осей\n",
    "plt.axis([cumulative_data['date'].min(), cumulative_data['date'].max(), 0, 0.05])\n",
    "plt.xlabel('Дата')\n",
    "plt.ylabel('Кумулятивная конверсия')\n",
    "plt.title('Кумулятивная конверсия по группам')\n",
    "plt.xticks(rotation=45);"
   ]
  },
  {
   "cell_type": "markdown",
   "id": "e9aa50bd",
   "metadata": {},
   "source": [
    "В самом начале теста сегмент А имел большую конверсию, но постепенно сегмент В выровнялся и зафиксировался примерно около одного значения, котрое больше значения сегмента А."
   ]
  },
  {
   "cell_type": "markdown",
   "id": "fd147a14",
   "metadata": {},
   "source": [
    "### График относительного изменения кумулятивной конверсии группы В к группе А"
   ]
  },
  {
   "cell_type": "markdown",
   "id": "fa456ff5",
   "metadata": {},
   "source": [
    "Прежде чем перейти к построению графика посчитаем относительную разницу между средними конверсиями в группах (по ней будет проходить серая пунктирная лини на графике). Для этого воспользуемся непараметрическим тестом Уилкоксона-Манна-Уитни:"
   ]
  },
  {
   "cell_type": "code",
   "execution_count": 24,
   "id": "b728abb4",
   "metadata": {},
   "outputs": [
    {
     "name": "stdout",
     "output_type": "stream",
     "text": [
      "Относительная разница равна 0.102\n"
     ]
    }
   ],
   "source": [
    "# собираем данные в одном датафрейме\n",
    "merged_cumulative_conversions = cumulative_data_a[['date','conversion']].merge(cumulative_data_b[['date','conversion']], left_on='date', right_on='date', how='left', suffixes=['_a', '_b'])\n",
    "\n",
    "# вычисляем относительную разницу между средними конверсиями\n",
    "'{0:.10f}'.format(stats.mannwhitneyu(merged_cumulative_conversions['conversion_b'], merged_cumulative_conversions['conversion_a'])[1])\n",
    "print('Относительная разница равна', '{0:.3f}'.format(merged_cumulative_conversions['conversion_b'].mean()/merged_cumulative_conversions['conversion_a'].mean()-1))"
   ]
  },
  {
   "cell_type": "markdown",
   "id": "e7fa1d91",
   "metadata": {},
   "source": [
    "Построим график относительного различия кумулятивных конверсий:"
   ]
  },
  {
   "cell_type": "code",
   "execution_count": 25,
   "id": "a1a0d568",
   "metadata": {
    "scrolled": true
   },
   "outputs": [
    {
     "data": {
      "image/png": "[encoded data removed]",
      "text/plain": [
       "<Figure size 720x216 with 1 Axes>"
      ]
     },
     "metadata": {
      "needs_background": "light"
     },
     "output_type": "display_data"
    }
   ],
   "source": [
    "# зададим размер будущего графика\n",
    "plt.figure(figsize=(10, 3))\n",
    "\n",
    "# cтроим отношение кумулятивной конверсии\n",
    "plt.plot(merged_cumulative_conversions['date'], merged_cumulative_conversions['conversion_b']/merged_cumulative_conversions['conversion_a']-1, label=\"Относительный прирост конверсии группы B относительно группы A\")\n",
    "plt.legend()\n",
    "\n",
    "# добавляем ось X\n",
    "plt.axhline(y=0, color='black', linestyle='--')\n",
    "plt.axhline(y=0.102, color='grey', linestyle='--')\n",
    "plt.axis(['2019-08-01', '2019-08-31', -0.2, 0.25])\n",
    "plt.xlabel('Дата')\n",
    "plt.ylabel('Относительное различие')\n",
    "plt.title('Относительное изменение кумулятивной конверсии группы В к группе А')\n",
    "plt.xticks(rotation=45);"
   ]
  },
  {
   "cell_type": "markdown",
   "id": "77be60fc",
   "metadata": {},
   "source": [
    "В начале теста группа В проигрывала группе А, затем вырвалась вперед. Затем ее конверсия вновь упала, но после выросла, благодаря чему группа В лидирует до конца теста."
   ]
  },
  {
   "cell_type": "markdown",
   "id": "728ee7c1",
   "metadata": {},
   "source": [
    "### Точечный график количества заказов по пользователям"
   ]
  },
  {
   "cell_type": "markdown",
   "id": "a041aad6",
   "metadata": {},
   "source": [
    "Построим точечный график количества заказов по пользователям:"
   ]
  },
  {
   "cell_type": "code",
   "execution_count": 26,
   "id": "0dc18509",
   "metadata": {},
   "outputs": [
    {
     "data": {
      "image/png": "[encoded data removed]",
      "text/plain": [
       "<Figure size 504x360 with 1 Axes>"
      ]
     },
     "metadata": {
      "needs_background": "light"
     },
     "output_type": "display_data"
    }
   ],
   "source": [
    "orders_by_users = (\n",
    "    orders.groupby('visitor_id', as_index=False)\n",
    "    .agg({'transaction_id': pd.Series.nunique})\n",
    ")\n",
    "\n",
    "orders_by_users.columns = ['visitor_id', 'transactions']\n",
    "\n",
    "# серия из чисел от 0 до количества наблюдений в ordersByUsers\n",
    "x_values = pd.Series(range(0, len(orders_by_users)))\n",
    "\n",
    "# зададим размер будущего графика\n",
    "plt.figure(figsize=(7, 5))\n",
    "\n",
    "plt.scatter(x_values, orders_by_users['transactions']) \n",
    "plt.xlabel('Количество пользователей')\n",
    "plt.ylabel('Количество заказов')\n",
    "plt.title('Количество заказов по пользователям');"
   ]
  },
  {
   "cell_type": "markdown",
   "id": "388f52c2",
   "metadata": {},
   "source": [
    "Пользователей, заказавших более двух раз не так уж и много. Они вполне могут быть аномальными. Для того, чтобы определить, 2 заказа - нормально или много, посчитаем выборочные перцентили."
   ]
  },
  {
   "cell_type": "markdown",
   "id": "8ba009cf",
   "metadata": {},
   "source": [
    "### 95-й и 99-й перцентили количества заказов на пользователя"
   ]
  },
  {
   "cell_type": "markdown",
   "id": "b502624c",
   "metadata": {},
   "source": [
    "Для подсчета перцентилей применим метод `percentile()`."
   ]
  },
  {
   "cell_type": "code",
   "execution_count": 27,
   "id": "99b48360",
   "metadata": {},
   "outputs": [
    {
     "name": "stdout",
     "output_type": "stream",
     "text": [
      "[2. 4.]\n"
     ]
    }
   ],
   "source": [
    "# Метод np.percentile('column', [percentile1, percentile2, percentile3]) находит перцентили.\n",
    "print(np.percentile(orders_by_users['transactions'], [95, 99])) "
   ]
  },
  {
   "cell_type": "markdown",
   "id": "58b62562",
   "metadata": {},
   "source": [
    "Какой вывод можно сделать:\n",
    "* не более 5% пользователей совершали больше двух заказов;\n",
    "* не более 1% пользователей совершали больше четырех заказов.\n",
    "\n",
    "Примем за аномальных пользователей тех, кто совершил от 3 заказов. Так мы уберем 5 % пользователей с небольшим числом заказов."
   ]
  },
  {
   "cell_type": "markdown",
   "id": "c27197da",
   "metadata": {},
   "source": [
    "### Точечный график стоимостей заказов"
   ]
  },
  {
   "cell_type": "code",
   "execution_count": 28,
   "id": "8bc56f27",
   "metadata": {},
   "outputs": [
    {
     "data": {
      "image/png": "[encoded data removed]",
      "text/plain": [
       "<Figure size 504x360 with 1 Axes>"
      ]
     },
     "metadata": {
      "needs_background": "light"
     },
     "output_type": "display_data"
    }
   ],
   "source": [
    "# зададим размер будущего графика\n",
    "plt.figure(figsize=(7, 5))\n",
    "\n",
    "x_values = pd.Series(range(0, len(orders['revenue'])))\n",
    "plt.scatter(x_values, orders['revenue']) \n",
    "plt.xlabel('Количество заказов')\n",
    "plt.ylabel('Сумма заказа')\n",
    "plt.title('Стоимости заказов');"
   ]
  },
  {
   "cell_type": "markdown",
   "id": "11e946bd",
   "metadata": {},
   "source": [
    "В основном стоимость заказов в находится в перделах 100 тыс. руб. Есть выбросы в районе 200 тыс. руб. и 1 300 тыс. руб. Заказ практически на полтора миллиона выглядит подозрительно. \n",
    "\n",
    "Найдем выборочные перцентили."
   ]
  },
  {
   "cell_type": "markdown",
   "id": "3e81db41",
   "metadata": {},
   "source": [
    "### 95-й и 99-й перцентили стоимости заказов"
   ]
  },
  {
   "cell_type": "markdown",
   "id": "818eb402",
   "metadata": {},
   "source": [
    "Обратимся к ранее использовавшемуся методу `percentile()`:"
   ]
  },
  {
   "cell_type": "code",
   "execution_count": 29,
   "id": "10c1d44f",
   "metadata": {},
   "outputs": [
    {
     "name": "stdout",
     "output_type": "stream",
     "text": [
      "[28000.  58233.2]\n"
     ]
    }
   ],
   "source": [
    "# Метод np.percentile('column', [percentile1, percentile2, percentile3]) находит перцентили.\n",
    "print(np.percentile(orders['revenue'], [95, 99])) "
   ]
  },
  {
   "cell_type": "markdown",
   "id": "6c202239",
   "metadata": {},
   "source": [
    "Какой вывод можно сделать:\n",
    "* не более, чем у 5% заказов чек дороже 28 000 рублей;\n",
    "* не более, чем у 1% заказов чек дороже 58 233 рублей.\n",
    "\n",
    "Примем за аномальных пользователей тех, кто совершил заказ дороже 35 000 рублей. Так мы уберем от 1% до 5% пользователей с дорогими заказами."
   ]
  },
  {
   "cell_type": "markdown",
   "id": "00f9d116",
   "metadata": {},
   "source": [
    "### Статистическая значимость различий в конверсии между группами по \"сырым\" данным"
   ]
  },
  {
   "cell_type": "markdown",
   "id": "a67d4b18",
   "metadata": {},
   "source": [
    "Прежде чем производить расчеты, необходимо подготовить данные:"
   ]
  },
  {
   "cell_type": "code",
   "execution_count": 30,
   "id": "6eb59811",
   "metadata": {
    "scrolled": true
   },
   "outputs": [
    {
     "data": {
      "text/html": [
       "<div>\n",
       "<style scoped>\n",
       "    .dataframe tbody tr th:only-of-type {\n",
       "        vertical-align: middle;\n",
       "    }\n",
       "\n",
       "    .dataframe tbody tr th {\n",
       "        vertical-align: top;\n",
       "    }\n",
       "\n",
       "    .dataframe thead th {\n",
       "        text-align: right;\n",
       "    }\n",
       "</style>\n",
       "<table border=\"1\" class=\"dataframe\">\n",
       "  <thead>\n",
       "    <tr style=\"text-align: right;\">\n",
       "      <th></th>\n",
       "      <th>date</th>\n",
       "      <th>orders_per_date_a</th>\n",
       "      <th>revenue_per_date_a</th>\n",
       "      <th>orders_per_date_b</th>\n",
       "      <th>revenue_per_date_b</th>\n",
       "      <th>orders_cummulative_a</th>\n",
       "      <th>revenue_cummulative_a</th>\n",
       "      <th>orders_cummulative_b</th>\n",
       "      <th>revenue_cummulative_b</th>\n",
       "      <th>visitors_per_date_a</th>\n",
       "      <th>visitors_per_date_b</th>\n",
       "      <th>visitors_cummulative_a</th>\n",
       "      <th>visitors_cummulative_b</th>\n",
       "    </tr>\n",
       "  </thead>\n",
       "  <tbody>\n",
       "    <tr>\n",
       "      <td>0</td>\n",
       "      <td>2019-08-01</td>\n",
       "      <td>24</td>\n",
       "      <td>148579</td>\n",
       "      <td>21</td>\n",
       "      <td>101217</td>\n",
       "      <td>24</td>\n",
       "      <td>148579</td>\n",
       "      <td>21</td>\n",
       "      <td>101217</td>\n",
       "      <td>719</td>\n",
       "      <td>713</td>\n",
       "      <td>719</td>\n",
       "      <td>713</td>\n",
       "    </tr>\n",
       "    <tr>\n",
       "      <td>1</td>\n",
       "      <td>2019-08-02</td>\n",
       "      <td>20</td>\n",
       "      <td>93822</td>\n",
       "      <td>24</td>\n",
       "      <td>165531</td>\n",
       "      <td>44</td>\n",
       "      <td>242401</td>\n",
       "      <td>45</td>\n",
       "      <td>266748</td>\n",
       "      <td>619</td>\n",
       "      <td>581</td>\n",
       "      <td>1338</td>\n",
       "      <td>1294</td>\n",
       "    </tr>\n",
       "    <tr>\n",
       "      <td>2</td>\n",
       "      <td>2019-08-03</td>\n",
       "      <td>24</td>\n",
       "      <td>112473</td>\n",
       "      <td>16</td>\n",
       "      <td>114248</td>\n",
       "      <td>68</td>\n",
       "      <td>354874</td>\n",
       "      <td>61</td>\n",
       "      <td>380996</td>\n",
       "      <td>507</td>\n",
       "      <td>509</td>\n",
       "      <td>1845</td>\n",
       "      <td>1803</td>\n",
       "    </tr>\n",
       "    <tr>\n",
       "      <td>3</td>\n",
       "      <td>2019-08-04</td>\n",
       "      <td>16</td>\n",
       "      <td>70825</td>\n",
       "      <td>17</td>\n",
       "      <td>108571</td>\n",
       "      <td>84</td>\n",
       "      <td>425699</td>\n",
       "      <td>78</td>\n",
       "      <td>489567</td>\n",
       "      <td>717</td>\n",
       "      <td>770</td>\n",
       "      <td>2562</td>\n",
       "      <td>2573</td>\n",
       "    </tr>\n",
       "    <tr>\n",
       "      <td>4</td>\n",
       "      <td>2019-08-05</td>\n",
       "      <td>25</td>\n",
       "      <td>124218</td>\n",
       "      <td>23</td>\n",
       "      <td>92428</td>\n",
       "      <td>109</td>\n",
       "      <td>549917</td>\n",
       "      <td>101</td>\n",
       "      <td>581995</td>\n",
       "      <td>756</td>\n",
       "      <td>707</td>\n",
       "      <td>3318</td>\n",
       "      <td>3280</td>\n",
       "    </tr>\n",
       "  </tbody>\n",
       "</table>\n",
       "</div>"
      ],
      "text/plain": [
       "        date  orders_per_date_a  revenue_per_date_a  orders_per_date_b  \\\n",
       "0 2019-08-01                 24              148579                 21   \n",
       "1 2019-08-02                 20               93822                 24   \n",
       "2 2019-08-03                 24              112473                 16   \n",
       "3 2019-08-04                 16               70825                 17   \n",
       "4 2019-08-05                 25              124218                 23   \n",
       "\n",
       "   revenue_per_date_b  orders_cummulative_a  revenue_cummulative_a  \\\n",
       "0              101217                    24                 148579   \n",
       "1              165531                    44                 242401   \n",
       "2              114248                    68                 354874   \n",
       "3              108571                    84                 425699   \n",
       "4               92428                   109                 549917   \n",
       "\n",
       "   orders_cummulative_b  revenue_cummulative_b  visitors_per_date_a  \\\n",
       "0                    21                 101217                  719   \n",
       "1                    45                 266748                  619   \n",
       "2                    61                 380996                  507   \n",
       "3                    78                 489567                  717   \n",
       "4                   101                 581995                  756   \n",
       "\n",
       "   visitors_per_date_b  visitors_cummulative_a  visitors_cummulative_b  \n",
       "0                  713                     719                     713  \n",
       "1                  581                    1338                    1294  \n",
       "2                  509                    1845                    1803  \n",
       "3                  770                    2562                    2573  \n",
       "4                  707                    3318                    3280  "
      ]
     },
     "metadata": {},
     "output_type": "display_data"
    }
   ],
   "source": [
    "visitors_a_daily = visitors[visitors['group'] == 'A'][['date', 'visitors']]\n",
    "visitors_a_daily.columns = ['date', 'visitors_per_date_a']\n",
    "\n",
    "visitors_a_cummulative = visitors_a_daily.apply(\n",
    "    lambda x: visitors_a_daily[visitors_a_daily['date'] <= x['date']].agg(\n",
    "        {'date': 'max', 'visitors_per_date_a': 'sum'}\n",
    "    ),\n",
    "    axis=1,\n",
    ")\n",
    "visitors_a_cummulative.columns = ['date', 'visitors_cummulative_a']\n",
    "\n",
    "visitors_b_daily = visitors[visitors['group'] == 'B'][['date', 'visitors']]\n",
    "visitors_b_daily.columns = ['date', 'visitors_per_date_b']\n",
    "\n",
    "visitors_b_cummulative = visitors_b_daily.apply(\n",
    "    lambda x: visitors_b_daily[visitors_b_daily['date'] <= x['date']].agg(\n",
    "        {'date': 'max', 'visitors_per_date_b': 'sum'}\n",
    "    ),\n",
    "    axis=1,\n",
    ")\n",
    "visitors_b_cummulative.columns = ['date', 'visitors_cummulative_b']\n",
    "\n",
    "orders_a_daily = (\n",
    "    orders[orders['group'] == 'A'][['date', 'transaction_id', 'visitor_id', 'revenue']]\n",
    "    .groupby('date', as_index=False)\n",
    "    .agg({'transaction_id': pd.Series.nunique, 'revenue': 'sum'})\n",
    ")\n",
    "orders_a_daily.columns = ['date', 'orders_per_date_a', 'revenue_per_date_a']\n",
    "\n",
    "orders_a_cummulative = orders_a_daily.apply(\n",
    "    lambda x: orders_a_daily[orders_a_daily['date'] <= x['date']].agg(\n",
    "        {'date': 'max', 'orders_per_date_a': 'sum', 'revenue_per_date_a': 'sum'}\n",
    "    ),\n",
    "    axis=1,\n",
    ").sort_values(by=['date'])\n",
    "orders_a_cummulative.columns = [\n",
    "    'date',\n",
    "    'orders_cummulative_a',\n",
    "    'revenue_cummulative_a',\n",
    "]\n",
    "\n",
    "orders_b_daily = (\n",
    "    orders[orders['group'] == 'B'][['date', 'transaction_id', 'visitor_id', 'revenue']]\n",
    "    .groupby('date', as_index=False)\n",
    "    .agg({'transaction_id': pd.Series.nunique, 'revenue': 'sum'})\n",
    ")\n",
    "orders_b_daily.columns = ['date', 'orders_per_date_b', 'revenue_per_date_b']\n",
    "\n",
    "orders_b_cummulative = orders_b_daily.apply(\n",
    "    lambda x: orders_b_daily[orders_b_daily['date'] <= x['date']].agg(\n",
    "        {'date': 'max', 'orders_per_date_b': 'sum', 'revenue_per_date_b': 'sum'}\n",
    "    ),\n",
    "    axis=1,\n",
    ").sort_values(by=['date'])\n",
    "orders_b_cummulative.columns = [\n",
    "    'date',\n",
    "    'orders_cummulative_b',\n",
    "    'revenue_cummulative_b',\n",
    "]\n",
    "\n",
    "data = (\n",
    "    orders_a_daily.merge(\n",
    "        orders_b_daily, left_on='date', right_on='date', how='left'\n",
    "    )\n",
    "    .merge(orders_a_cummulative, left_on='date', right_on='date', how='left')\n",
    "    .merge(orders_b_cummulative, left_on='date', right_on='date', how='left')\n",
    "    .merge(visitors_a_daily, left_on='date', right_on='date', how='left')\n",
    "    .merge(visitors_b_daily, left_on='date', right_on='date', how='left')\n",
    "    .merge(visitors_a_cummulative, left_on='date', right_on='date', how='left')\n",
    "    .merge(visitors_b_cummulative, left_on='date', right_on='date', how='left')\n",
    ")\n",
    "\n",
    "display(data.head()) "
   ]
  },
  {
   "cell_type": "markdown",
   "id": "f927181d",
   "metadata": {},
   "source": [
    "Таблица `data` содержит следующие столбцы:\n",
    "* `date` — дата;\n",
    "* `orders_per_date_a` — количество заказов в выбранную дату в группе A;\n",
    "* `revenue_per_date_a` — суммарная выручка в выбранную дату в группе A;\n",
    "* `orders_per_date_b` — количество заказов в выбранную дату в группе B;\n",
    "* `revenue_per_date_b` — суммарная выручка в выбранную дату в группе B;\n",
    "* `orders_cummulative_a` — суммарное число заказов до выбранной даты включительно в группе A;\n",
    "* `revenue_cummulative_a` — суммарная выручка до выбранной даты включительно в группе A;\n",
    "* `orders_cummulative_b` — суммарное количество заказов до выбранной даты включительно в группе B;\n",
    "* `revenue_cummulative_b` — суммарная выручка до выбранной даты включительно в группе B;\n",
    "* `visitors_per_date_a` — количество пользователей в выбранную дату в группе A;\n",
    "* `visitors_per_date_b` — количество пользователей в выбранную дату в группе B;\n",
    "* `visitors_cummulative_a` — количество пользователей до выбранной даты включительно в группе A;\n",
    "* `visitors_cummulative_b` — количество пользователей до выбранной даты включительно в группе B."
   ]
  },
  {
   "cell_type": "markdown",
   "id": "a0e827db",
   "metadata": {},
   "source": [
    "* **Нулевая гипотеза** - статистически значимых различий в конверсии между группами нет;\n",
    "* **Альтернативная гипотеза** - статистически значимые различия в конверсии между группами есть."
   ]
  },
  {
   "cell_type": "markdown",
   "id": "c5bebb4d",
   "metadata": {},
   "source": [
    "Посчитаем статистическу значимость различия в конверсии между группами.\n",
    "\n",
    "Создадим переменные ordersByUsersA и ordersByUsersB со столбцами `['visitor_id', 'transactions']`. В них для пользователей, которые заказывали хотя бы 1 раз, укажем число совершённых заказов.\n",
    "\n",
    "Затем объявим переменные `sample_a` и `sample_b`, в которых пользователям из разных групп будет соответствовать количество заказов. Тем, кто ничего не заказал, будут соответствовать нули. Это нужно, чтобы подготовить выборки к проверке критерием Манна-Уитни.\n",
    "\n",
    "В `sample_a` сохраним выборку, где каждый элемент — число заказов определённого пользователя, в том числе ноль. Значит, число элементов `sample_a` — это количество пользователей, сумма всех элементов — количество заказов. Чтобы получить конверсию в группе, поделим сумму заказов на число пользователей — найдём среднее в выборке `sample_a` методом `mean()`. Аналогично найдём конверсию группы B: `sample_b.mean()`.\n",
    "\n",
    "Выведем относительный прирост конверсии группы B: конверсия группы B / конверсия группы A - 1. Округлим до трёх знаков после запятой."
   ]
  },
  {
   "cell_type": "code",
   "execution_count": 31,
   "id": "9b436672",
   "metadata": {},
   "outputs": [
    {
     "name": "stdout",
     "output_type": "stream",
     "text": [
      "p-value =  0.008\n",
      "0.138\n"
     ]
    }
   ],
   "source": [
    "orders_by_users_a = (\n",
    "    orders[orders['group'] == 'A']\n",
    "    .groupby('visitor_id', as_index=False)\n",
    "    .agg({'transaction_id': pd.Series.nunique})\n",
    ")\n",
    "orders_by_users_a.columns = ['visitor_id', 'transactions']\n",
    "\n",
    "orders_by_users_b = (\n",
    "    orders[orders['group'] == 'B']\n",
    "    .groupby('visitor_id', as_index=False)\n",
    "    .agg({'transaction_id': pd.Series.nunique})\n",
    ")\n",
    "orders_by_users_b.columns = ['visitor_id', 'transactions']\n",
    "\n",
    "sample_a = pd.concat(\n",
    "    [\n",
    "        orders_by_users_a['transactions'],\n",
    "        pd.Series(\n",
    "            0,\n",
    "            index=np.arange(\n",
    "                data['visitors_per_date_a'].sum() - len(orders_by_users_a['transactions'])\n",
    "            ),\n",
    "            name='transactions',\n",
    "        ),\n",
    "    ],\n",
    "    axis=0,\n",
    ")\n",
    "\n",
    "sample_b = pd.concat(\n",
    "    [\n",
    "        orders_by_users_b['transactions'],\n",
    "        pd.Series(\n",
    "            0,\n",
    "            index=np.arange(\n",
    "                data['visitors_per_date_b'].sum() - len(orders_by_users_b['transactions'])\n",
    "            ),\n",
    "            name='transactions',\n",
    "        ),\n",
    "    ],\n",
    "    axis=0,\n",
    ")\n",
    "\n",
    "print('p-value = ', \"{0:.3f}\".format(stats.mannwhitneyu(sample_a, sample_b)[1]))\n",
    "\n",
    "print(\"{0:.3f}\".format(sample_b.mean() / sample_a.mean() - 1))\n"
   ]
  },
  {
   "cell_type": "markdown",
   "id": "55420e8d",
   "metadata": {},
   "source": [
    "P-value меньше 0.05, значит, нулевую гипотезу о том, что статистически значимых различий в конверсии между группами нет, отвергаем. Анализ \"сырых даных\" говорит о том, что в конверсии между группами есть статистически значимые различия. Относительный прирост конверсии группы В к конверсии группы А равен 13.8%."
   ]
  },
  {
   "cell_type": "markdown",
   "id": "d6314ddb",
   "metadata": {},
   "source": [
    "### Статистическая значимость различий в среднем чеке между группами по \"сырым\" данным"
   ]
  },
  {
   "cell_type": "markdown",
   "id": "19f499fa",
   "metadata": {},
   "source": [
    "\n",
    "Сперва сформулируем гипотезы:\n",
    "\n"
   ]
  },
  {
   "cell_type": "markdown",
   "id": "1645e1cf",
   "metadata": {},
   "source": [
    "* **Нулевая гипотеза** - статистически значимых различий в конверсии между группами нет;\n",
    "* **Альтернативная гипотеза** - статистически значимые различия в конверсии между группами есть."
   ]
  },
  {
   "cell_type": "markdown",
   "id": "f79f23e1",
   "metadata": {},
   "source": [
    "Чтобы рассчитать статистическую значимость различий в среднем чеке между сегментами, передадим критерию `mannwhitneyu()` данные о выручке с заказов. также найдём относительные различия в среднем чеке между группами."
   ]
  },
  {
   "cell_type": "code",
   "execution_count": 32,
   "id": "70d27f20",
   "metadata": {},
   "outputs": [
    {
     "name": "stdout",
     "output_type": "stream",
     "text": [
      "p-value = 0.365\n",
      "0.259\n"
     ]
    }
   ],
   "source": [
    "print('p-value =', '{0:.3f}'.format(stats.mannwhitneyu(orders[orders['group']=='A']['revenue'], orders[orders['group']=='B']['revenue'])[1]))\n",
    "print('{0:.3f}'.format(orders[orders['group']=='B']['revenue'].mean()/orders[orders['group']=='A']['revenue'].mean()-1))"
   ]
  },
  {
   "cell_type": "markdown",
   "id": "10d452d7",
   "metadata": {},
   "source": [
    "P-value значительно больше 0.05 - статистически значимых отличий в среднем чеке между группами нет (принимаем нулевую гипотезу). Впрочем, средний чек группы В значительно выше среднего чека группы А - на 25.9%."
   ]
  },
  {
   "cell_type": "markdown",
   "id": "e09819fc",
   "metadata": {},
   "source": [
    "### Статистическая значимость различий в конверсии между группами по \"очищенным\" данным"
   ]
  },
  {
   "cell_type": "markdown",
   "id": "899cd4de",
   "metadata": {},
   "source": [
    "Найденные ранее 95-й и 99-й перцентили средних чеков равны 28 000 и 58 233.2 рублям. А 95-й и 99-й перцентили количества заказов на одного пользователя равны 2 и 4 заказа на пользователя.\n",
    "\n",
    "Также ранее было определено, что за аномальных пользователей примем тех, кто совершил от 3 заказов или совершил заказ дороже 35 000 рублей.\n",
    "\n",
    "Исходя из этого, узнаем, сколько всего аномальных пользователей, используя метод `shape()`:"
   ]
  },
  {
   "cell_type": "code",
   "execution_count": 33,
   "id": "874101de",
   "metadata": {},
   "outputs": [
    {
     "name": "stdout",
     "output_type": "stream",
     "text": [
      "1099    148427295\n",
      "18      199603092\n",
      "23      237748145\n",
      "37      249864742\n",
      "684     358944393\n",
      "Name: visitor_id, dtype: int64\n",
      "(53,)\n"
     ]
    }
   ],
   "source": [
    "users_with_many_orders = pd.concat(\n",
    "    [\n",
    "        orders_by_users_a[orders_by_users_a['transactions'] > 2]['visitor_id'],\n",
    "        orders_by_users_b[orders_by_users_b['transactions'] > 2]['visitor_id'],\n",
    "    ],\n",
    "    axis=0,\n",
    ")\n",
    "users_with_expensive_orders = orders[orders['revenue'] > 35000]['visitor_id']\n",
    "abnormal_users = (\n",
    "    pd.concat([users_with_many_orders, users_with_expensive_orders], axis=0)\n",
    "    .drop_duplicates()\n",
    "    .sort_values()\n",
    ")\n",
    "print(abnormal_users.head(5))\n",
    "print(abnormal_users.shape)"
   ]
  },
  {
   "cell_type": "markdown",
   "id": "c0b6ea84",
   "metadata": {},
   "source": [
    "Всего 53 аномальных пользователя."
   ]
  },
  {
   "cell_type": "markdown",
   "id": "6b968ac0",
   "metadata": {},
   "source": [
    "\n",
    "\n",
    "Сперва сформулируем гипотезы:\n"
   ]
  },
  {
   "cell_type": "markdown",
   "id": "da58052c",
   "metadata": {},
   "source": [
    "* **Нулевая гипотеза** - статистически значимых различий в конверсии между группами нет;\n",
    "* **Альтернативная гипотеза** - статистически значимые различия в конверсии между группами есть."
   ]
  },
  {
   "cell_type": "markdown",
   "id": "95cef9a4",
   "metadata": {},
   "source": [
    "Узнаем, как их действия повлияли на результаты теста. Посчитаем статистическую значимость различий в конверсии между группами теста по очищенным данным. Сначала подготовим выборки количества заказов по пользователям по группам теста:"
   ]
  },
  {
   "cell_type": "code",
   "execution_count": 34,
   "id": "3f8bff36",
   "metadata": {},
   "outputs": [],
   "source": [
    "sample_a_filtered = pd.concat(\n",
    "    [\n",
    "        orders_by_users_a[\n",
    "            np.logical_not(orders_by_users_a['visitor_id'].isin(abnormal_users))\n",
    "        ]['transactions'],\n",
    "        pd.Series(\n",
    "            0,\n",
    "            index=np.arange(\n",
    "                data['visitors_per_date_a'].sum() - len(orders_by_users_a['transactions'])\n",
    "            ),\n",
    "            name='transactions',\n",
    "        ),\n",
    "    ],\n",
    "    axis=0,\n",
    ")\n",
    "\n",
    "sample_b_filtered = pd.concat(\n",
    "    [\n",
    "        orders_by_users_b[\n",
    "            np.logical_not(orders_by_users_b['visitor_id'].isin(abnormal_users))\n",
    "        ]['transactions'],\n",
    "        pd.Series(\n",
    "            0,\n",
    "            index=np.arange(\n",
    "                data['visitors_per_date_b'].sum() - len(orders_by_users_b['transactions'])\n",
    "            ),\n",
    "            name='transactions',\n",
    "        ),\n",
    "    ],\n",
    "    axis=0,\n",
    ")"
   ]
  },
  {
   "cell_type": "markdown",
   "id": "1e25a0c1",
   "metadata": {},
   "source": [
    "Применим статистический критерий Манна-Уитни к полученным выборкам:"
   ]
  },
  {
   "cell_type": "code",
   "execution_count": 35,
   "id": "02e3a658",
   "metadata": {},
   "outputs": [
    {
     "name": "stdout",
     "output_type": "stream",
     "text": [
      "p-value =  0.005\n",
      "0.179\n"
     ]
    }
   ],
   "source": [
    "print('p-value = ', '{0:.3f}'.format(stats.mannwhitneyu(sample_a_filtered, sample_b_filtered)[1]))\n",
    "print('{0:.3f}'.format(sample_b_filtered.mean()/sample_a_filtered.mean()-1))"
   ]
  },
  {
   "cell_type": "markdown",
   "id": "231a47c9",
   "metadata": {},
   "source": [
    "Как и в случае с сырыми данными, статистическая значимость достигнута (отвергаем нулевую гипотезу). Сегмент В значительно лучше сегмента А (p-value < 0.05). "
   ]
  },
  {
   "cell_type": "markdown",
   "id": "75a024ce",
   "metadata": {},
   "source": [
    "### Статистическая значимость различий в среднем чеке заказа между группами по \"очищенным\" данным"
   ]
  },
  {
   "cell_type": "markdown",
   "id": "6c94fa49",
   "metadata": {},
   "source": [
    "Произошло ли что-нибудь с результатами по среднему чеку?"
   ]
  },
  {
   "cell_type": "markdown",
   "id": "2b21c413",
   "metadata": {},
   "source": [
    "\n",
    "Сперва сформулируем гипотезы:\n"
   ]
  },
  {
   "cell_type": "markdown",
   "id": "77ad791c",
   "metadata": {},
   "source": [
    "* **Нулевая гипотеза** - статистически значимых различий в конверсии между группами нет;\n",
    "* **Альтернативная гипотеза** - статистически значимые различия в конверсии между группами есть."
   ]
  },
  {
   "cell_type": "code",
   "execution_count": 36,
   "id": "67acfb58",
   "metadata": {},
   "outputs": [
    {
     "name": "stdout",
     "output_type": "stream",
     "text": [
      "p-value = 0.442\n",
      "0.022\n"
     ]
    }
   ],
   "source": [
    "print('p-value =',\n",
    "    '{0:.3f}'.format(\n",
    "        stats.mannwhitneyu(\n",
    "            orders[\n",
    "                np.logical_and(\n",
    "                    orders['group'] == 'A',\n",
    "                    np.logical_not(orders['visitor_id'].isin(abnormal_users)),\n",
    "                )\n",
    "            ]['revenue'],\n",
    "            orders[\n",
    "                np.logical_and(\n",
    "                    orders['group'] == 'B',\n",
    "                    np.logical_not(orders['visitor_id'].isin(abnormal_users)),\n",
    "                )\n",
    "            ]['revenue'],\n",
    "        )[1]\n",
    "    )\n",
    ")\n",
    "\n",
    "print(\n",
    "    \"{0:.3f}\".format(\n",
    "        orders[\n",
    "            np.logical_and(\n",
    "                orders['group'] == 'B',\n",
    "                np.logical_not(orders['visitor_id'].isin(abnormal_users)),\n",
    "            )\n",
    "        ]['revenue'].mean()\n",
    "        / orders[\n",
    "            np.logical_and(\n",
    "                orders['group'] == 'A',\n",
    "                np.logical_not(orders['visitor_id'].isin(abnormal_users)),\n",
    "            )\n",
    "        ]['revenue'].mean()\n",
    "        - 1\n",
    "    )\n",
    ")"
   ]
  },
  {
   "cell_type": "markdown",
   "id": "edf68407",
   "metadata": {},
   "source": [
    "P-value увеличился, но и разница между сегментами сократилась с 25.9% до 2.2%. Статистически значимых отличий в среднем чеке между группами нет (принимаем нулевую гипотезу)."
   ]
  },
  {
   "cell_type": "markdown",
   "id": "7cbd573b",
   "metadata": {},
   "source": [
    "### Принятие решения по результатам теста"
   ]
  },
  {
   "cell_type": "markdown",
   "id": "b2aaf6eb",
   "metadata": {},
   "source": [
    "Какие выводы по тесту можно сделать?\n",
    "\n",
    "Что мы имеем:\n",
    "* статистически значимое различие по конверсии между группами присутствует как по \"сырым данным\", так и по данным после фильтрации аномалий;\n",
    "* нет статистически значимого различия по среднему чеку между группами ни по \"сырым данным\", ни по данным после фильтрации аномалий;\n",
    "* график различия конверсии между группами сообщает, что результаты группы В лучше группы А ( в данный момент практически на 15%):"
   ]
  },
  {
   "cell_type": "code",
   "execution_count": 37,
   "id": "1af19b74",
   "metadata": {},
   "outputs": [
    {
     "data": {
      "image/png": "[encoded data removed]",
      "text/plain": [
       "<Figure size 720x216 with 1 Axes>"
      ]
     },
     "metadata": {
      "needs_background": "light"
     },
     "output_type": "display_data"
    }
   ],
   "source": [
    "# визуализируем полученный ранее график еще раз\n",
    "\n",
    "# зададим размер будущего графика\n",
    "plt.figure(figsize=(10, 3))\n",
    "\n",
    "# cтроим отношение кумулятивной конверсии\n",
    "plt.plot(merged_cumulative_conversions['date'], merged_cumulative_conversions['conversion_b']/merged_cumulative_conversions['conversion_a']-1, label=\"Относительный прирост конверсии группы B относительно группы A\")\n",
    "plt.legend()\n",
    "# добавляем ось X\n",
    "plt.axhline(y=0, color='black', linestyle='--')\n",
    "plt.axhline(y=0.102, color='grey', linestyle='--')\n",
    "plt.axis(['2019-08-01', '2019-08-31', -0.2, 0.25])\n",
    "plt.xlabel('Дата')\n",
    "plt.ylabel('Относительное различие')\n",
    "plt.title('Относительное изменение кумулятивной конверсии группы В к группе А')\n",
    "plt.xticks(rotation=45);"
   ]
  },
  {
   "cell_type": "markdown",
   "id": "6d51a2ec",
   "metadata": {},
   "source": [
    "* график различия среднего чека колеблется, по нему сложно сделать определенные выводы. Однако на данный момент результаты группы В лучше группы А более чем на 25%:"
   ]
  },
  {
   "cell_type": "code",
   "execution_count": 38,
   "id": "a30752d9",
   "metadata": {
    "scrolled": true
   },
   "outputs": [
    {
     "data": {
      "image/png": "[encoded data removed]",
      "text/plain": [
       "<Figure size 720x216 with 1 Axes>"
      ]
     },
     "metadata": {
      "needs_background": "light"
     },
     "output_type": "display_data"
    }
   ],
   "source": [
    "# визуализируем полученный ранее график еще раз\n",
    "\n",
    "# зададим размер будущего графика\n",
    "plt.figure(figsize=(10, 3))\n",
    "\n",
    "# собираем данные в одном датафрейме\n",
    "merged_cumulative_revenue = cumulative_revenue_a.merge(cumulative_revenue_b, left_on='date', right_on='date', how='left', suffixes=['_a', '_b'])\n",
    "# cтроим отношение средних чеков\n",
    "plt.plot(merged_cumulative_revenue['date'], (merged_cumulative_revenue['revenue_b']/merged_cumulative_revenue['orders_b'])/(merged_cumulative_revenue['revenue_a']/merged_cumulative_revenue['orders_a'])-1)\n",
    "# добавляем ось X\n",
    "plt.axhline(y=0, color='black', linestyle='--')\n",
    "plt.xlabel('Дата')\n",
    "plt.ylabel('Относительное различие')\n",
    "plt.title('Относительное изменение кумулятивного среднего чека группы В к группе А')\n",
    "plt.xticks(rotation=45);"
   ]
  },
  {
   "cell_type": "markdown",
   "id": "a9d86a7e",
   "metadata": {},
   "source": [
    "Исходя из приведенных фактов, можно принять следующее решение:\n",
    "\n",
    "**Остановить тест, зафиксировать победу группы В**, поскольку:\n",
    "* группа В объективно статистически значимо лучше группы А;\n",
    "* конверсия группы В явно выше группы А;\n",
    "* в последние дни показатели стабилизировались."
   ]
  }
 ],
 "metadata": {
  "ExecuteTimeLog": [
   {
    "duration": 1062,
    "start_time": "2022-03-13T16:10:09.393Z"
   },
   {
    "duration": 50,
    "start_time": "2022-03-13T16:10:10.457Z"
   },
   {
    "duration": 10,
    "start_time": "2022-03-13T16:10:10.510Z"
   },
   {
    "duration": 3,
    "start_time": "2022-03-13T16:10:10.522Z"
   },
   {
    "duration": 4,
    "start_time": "2022-03-13T16:10:10.527Z"
   },
   {
    "duration": 11,
    "start_time": "2022-03-13T16:10:10.533Z"
   },
   {
    "duration": 9,
    "start_time": "2022-03-13T16:10:10.547Z"
   },
   {
    "duration": 114,
    "start_time": "2022-03-13T16:10:10.558Z"
   },
   {
    "duration": 9,
    "start_time": "2022-03-13T16:10:10.674Z"
   },
   {
    "duration": 8,
    "start_time": "2022-03-13T16:10:10.685Z"
   },
   {
    "duration": 6,
    "start_time": "2022-03-13T16:10:10.695Z"
   },
   {
    "duration": 419,
    "start_time": "2022-03-13T16:10:10.703Z"
   },
   {
    "duration": 484,
    "start_time": "2022-03-13T16:10:11.124Z"
   },
   {
    "duration": 372,
    "start_time": "2022-03-13T16:10:11.610Z"
   },
   {
    "duration": 488,
    "start_time": "2022-03-13T16:10:11.984Z"
   },
   {
    "duration": 4,
    "start_time": "2022-03-13T16:10:12.474Z"
   },
   {
    "duration": 369,
    "start_time": "2022-03-13T16:10:12.480Z"
   },
   {
    "duration": 12,
    "start_time": "2022-03-13T16:10:12.852Z"
   },
   {
    "duration": 525,
    "start_time": "2022-03-13T16:10:12.866Z"
   },
   {
    "duration": 411,
    "start_time": "2022-03-13T16:10:13.392Z"
   },
   {
    "duration": 3,
    "start_time": "2022-03-13T16:10:13.805Z"
   },
   {
    "duration": 302,
    "start_time": "2022-03-13T16:10:13.812Z"
   },
   {
    "duration": 4,
    "start_time": "2022-03-13T16:10:14.116Z"
   },
   {
    "duration": 248,
    "start_time": "2022-03-13T16:10:14.122Z"
   },
   {
    "duration": 122,
    "start_time": "2022-03-13T16:10:14.372Z"
   },
   {
    "duration": 10,
    "start_time": "2022-03-13T16:10:14.501Z"
   },
   {
    "duration": 8,
    "start_time": "2022-03-13T16:10:14.513Z"
   },
   {
    "duration": 7,
    "start_time": "2022-03-13T16:10:14.523Z"
   },
   {
    "duration": 8,
    "start_time": "2022-03-13T16:10:14.531Z"
   },
   {
    "duration": 12,
    "start_time": "2022-03-13T16:10:14.540Z"
   },
   {
    "duration": 547,
    "start_time": "2022-03-13T16:10:14.554Z"
   },
   {
    "duration": 567,
    "start_time": "2022-03-13T16:10:15.103Z"
   },
   {
    "duration": 1306,
    "start_time": "2022-03-16T07:47:29.200Z"
   },
   {
    "duration": 47,
    "start_time": "2022-03-16T07:47:30.509Z"
   },
   {
    "duration": 27,
    "start_time": "2022-03-16T07:47:30.559Z"
   },
   {
    "duration": 10,
    "start_time": "2022-03-16T07:47:30.588Z"
   },
   {
    "duration": 16,
    "start_time": "2022-03-16T07:47:30.601Z"
   },
   {
    "duration": 28,
    "start_time": "2022-03-16T07:47:30.619Z"
   },
   {
    "duration": 19,
    "start_time": "2022-03-16T07:47:30.650Z"
   },
   {
    "duration": 12,
    "start_time": "2022-03-16T07:47:30.673Z"
   },
   {
    "duration": 10,
    "start_time": "2022-03-16T07:47:30.688Z"
   },
   {
    "duration": 11,
    "start_time": "2022-03-16T07:47:30.700Z"
   },
   {
    "duration": 9,
    "start_time": "2022-03-16T07:47:30.713Z"
   },
   {
    "duration": 32,
    "start_time": "2022-03-16T07:47:30.724Z"
   },
   {
    "duration": 18,
    "start_time": "2022-03-16T07:47:30.758Z"
   },
   {
    "duration": 18,
    "start_time": "2022-03-16T07:47:30.779Z"
   },
   {
    "duration": 53,
    "start_time": "2022-03-16T07:47:30.800Z"
   },
   {
    "duration": 17,
    "start_time": "2022-03-16T07:47:30.856Z"
   },
   {
    "duration": 27,
    "start_time": "2022-03-16T07:47:30.876Z"
   },
   {
    "duration": 22,
    "start_time": "2022-03-16T07:47:30.906Z"
   },
   {
    "duration": 577,
    "start_time": "2022-03-16T07:47:30.953Z"
   },
   {
    "duration": 385,
    "start_time": "2022-03-16T07:47:31.532Z"
   },
   {
    "duration": 361,
    "start_time": "2022-03-16T07:47:31.919Z"
   },
   {
    "duration": 438,
    "start_time": "2022-03-16T07:47:32.283Z"
   },
   {
    "duration": 339,
    "start_time": "2022-03-16T07:47:32.726Z"
   },
   {
    "duration": 17,
    "start_time": "2022-03-16T07:47:33.067Z"
   },
   {
    "duration": 508,
    "start_time": "2022-03-16T07:47:33.086Z"
   },
   {
    "duration": 591,
    "start_time": "2022-03-16T07:47:33.597Z"
   },
   {
    "duration": 6,
    "start_time": "2022-03-16T07:47:34.190Z"
   },
   {
    "duration": 467,
    "start_time": "2022-03-16T07:47:34.198Z"
   },
   {
    "duration": 6,
    "start_time": "2022-03-16T07:47:34.667Z"
   },
   {
    "duration": 462,
    "start_time": "2022-03-16T07:47:34.676Z"
   },
   {
    "duration": 264,
    "start_time": "2022-03-16T07:47:35.152Z"
   },
   {
    "duration": 33,
    "start_time": "2022-03-16T07:47:35.418Z"
   },
   {
    "duration": 14,
    "start_time": "2022-03-16T07:47:35.454Z"
   },
   {
    "duration": 11,
    "start_time": "2022-03-16T07:47:35.470Z"
   },
   {
    "duration": 14,
    "start_time": "2022-03-16T07:47:35.483Z"
   },
   {
    "duration": 63,
    "start_time": "2022-03-16T07:47:35.499Z"
   },
   {
    "duration": 446,
    "start_time": "2022-03-16T07:47:35.565Z"
   },
   {
    "duration": 474,
    "start_time": "2022-03-16T07:47:36.014Z"
   },
   {
    "duration": 1053,
    "start_time": "2022-03-16T16:20:50.790Z"
   },
   {
    "duration": 142,
    "start_time": "2022-03-16T16:20:51.845Z"
   },
   {
    "duration": 10,
    "start_time": "2022-03-16T16:20:51.989Z"
   },
   {
    "duration": 7,
    "start_time": "2022-03-16T16:20:52.001Z"
   },
   {
    "duration": 9,
    "start_time": "2022-03-16T16:20:52.010Z"
   },
   {
    "duration": 9,
    "start_time": "2022-03-16T16:20:52.021Z"
   },
   {
    "duration": 13,
    "start_time": "2022-03-16T16:20:52.032Z"
   },
   {
    "duration": 11,
    "start_time": "2022-03-16T16:20:52.048Z"
   },
   {
    "duration": 4,
    "start_time": "2022-03-16T16:20:52.061Z"
   },
   {
    "duration": 4,
    "start_time": "2022-03-16T16:20:52.067Z"
   },
   {
    "duration": 7,
    "start_time": "2022-03-16T16:20:52.073Z"
   },
   {
    "duration": 6,
    "start_time": "2022-03-16T16:20:52.081Z"
   },
   {
    "duration": 9,
    "start_time": "2022-03-16T16:20:52.088Z"
   },
   {
    "duration": 11,
    "start_time": "2022-03-16T16:20:52.099Z"
   },
   {
    "duration": 55,
    "start_time": "2022-03-16T16:20:52.112Z"
   },
   {
    "duration": 16,
    "start_time": "2022-03-16T16:20:52.169Z"
   },
   {
    "duration": 13,
    "start_time": "2022-03-16T16:20:52.187Z"
   },
   {
    "duration": 16,
    "start_time": "2022-03-16T16:20:52.202Z"
   },
   {
    "duration": 418,
    "start_time": "2022-03-16T16:20:52.220Z"
   },
   {
    "duration": 282,
    "start_time": "2022-03-16T16:20:52.641Z"
   },
   {
    "duration": 250,
    "start_time": "2022-03-16T16:20:52.925Z"
   },
   {
    "duration": 366,
    "start_time": "2022-03-16T16:20:53.177Z"
   },
   {
    "duration": 277,
    "start_time": "2022-03-16T16:20:53.548Z"
   },
   {
    "duration": 12,
    "start_time": "2022-03-16T16:20:53.827Z"
   },
   {
    "duration": 390,
    "start_time": "2022-03-16T16:20:53.841Z"
   },
   {
    "duration": 452,
    "start_time": "2022-03-16T16:20:54.233Z"
   },
   {
    "duration": 5,
    "start_time": "2022-03-16T16:20:54.689Z"
   },
   {
    "duration": 366,
    "start_time": "2022-03-16T16:20:54.696Z"
   },
   {
    "duration": 5,
    "start_time": "2022-03-16T16:20:55.064Z"
   },
   {
    "duration": 304,
    "start_time": "2022-03-16T16:20:55.071Z"
   },
   {
    "duration": 149,
    "start_time": "2022-03-16T16:20:55.376Z"
   },
   {
    "duration": 12,
    "start_time": "2022-03-16T16:20:55.527Z"
   },
   {
    "duration": 24,
    "start_time": "2022-03-16T16:20:55.541Z"
   },
   {
    "duration": 12,
    "start_time": "2022-03-16T16:20:55.567Z"
   },
   {
    "duration": 9,
    "start_time": "2022-03-16T16:20:55.581Z"
   },
   {
    "duration": 14,
    "start_time": "2022-03-16T16:20:55.592Z"
   },
   {
    "duration": 405,
    "start_time": "2022-03-16T16:20:55.607Z"
   },
   {
    "duration": 348,
    "start_time": "2022-03-16T16:20:56.014Z"
   },
   {
    "duration": 10,
    "start_time": "2022-03-16T16:23:43.880Z"
   }
  ],
  "kernelspec": {
   "display_name": "Python 3 (ipykernel)",
   "language": "python",
   "name": "python3"
  },
  "language_info": {
   "codemirror_mode": {
    "name": "ipython",
    "version": 3
   },
   "file_extension": ".py",
   "mimetype": "text/x-python",
   "name": "python",
   "nbconvert_exporter": "python",
   "pygments_lexer": "ipython3",
   "version": "3.7.8"
  },
  "toc": {
   "base_numbering": 1,
   "nav_menu": {},
   "number_sections": true,
   "sideBar": true,
   "skip_h1_title": true,
   "title_cell": "Содержание",
   "title_sidebar": "Contents",
   "toc_cell": true,
   "toc_position": {
    "height": "calc(100% - 180px)",
    "left": "10px",
    "top": "150px",
    "width": "283.73px"
   },
   "toc_section_display": true,
   "toc_window_display": true
  }
 },
 "nbformat": 4,
 "nbformat_minor": 5
}
